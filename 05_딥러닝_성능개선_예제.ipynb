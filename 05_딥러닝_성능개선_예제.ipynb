{
 "cells": [
  {
   "cell_type": "code",
   "execution_count": null,
   "id": "f4a7f42a",
   "metadata": {
    "ExecuteTime": {
     "end_time": "2023-07-11T08:31:13.107604Z",
     "start_time": "2023-07-11T08:31:03.457665Z"
    }
   },
   "outputs": [],
   "source": [
    "import tensorflow as tf\n",
    "from tensorflow import keras\n",
    "from tensorflow.keras import layers, models, optimizers\n",
    "\n",
    "import numpy as np\n",
    "import matplotlib.pyplot as plt\n",
    "import random\n",
    "\n",
    "random.seed(0)\n",
    "np.random.seed(0)\n",
    "tf.random.set_seed(0)"
   ]
  },
  {
   "cell_type": "code",
   "execution_count": null,
   "id": "50c5e566",
   "metadata": {
    "ExecuteTime": {
     "end_time": "2023-07-11T08:31:13.990576Z",
     "start_time": "2023-07-11T08:31:13.975389Z"
    }
   },
   "outputs": [],
   "source": [
    "def plot_result(hist, loss_min=None, loss_max=None):\n",
    "    \n",
    "    plt.figure(figsize=(10, 5))\n",
    "    plt.subplot(1, 2, 1)\n",
    "    plt.plot(hist.epoch, hist.history['loss'], label=\"train\")\n",
    "    plt.plot(hist.epoch, hist.history['val_loss'], label='validation')\n",
    "    plt.title('Loss')\n",
    "    if loss_min!=None and loss_max!=None:\n",
    "        plt.ylim(loss_min, loss_max)\n",
    "        \n",
    "    plt.xlabel('에폭수')\n",
    "    plt.ylabel('loss')\n",
    "    plt.legend()\n",
    "\n",
    "    plt.subplot(1, 2, 2)\n",
    "    plt.plot(hist.epoch, hist.history['accuracy'], label='train')\n",
    "    plt.plot(hist.epoch, hist.history['val_accuracy'], label='validation')\n",
    "    plt.title('Accuracy')\n",
    "    plt.xlabel('에폭수')\n",
    "    plt.ylabel('accuracy')\n",
    "    plt.legend()\n",
    "\n",
    "    plt.tight_layout()\n",
    "    plt.show()"
   ]
  },
  {
   "cell_type": "code",
   "execution_count": null,
   "id": "b0ec5b2d",
   "metadata": {
    "ExecuteTime": {
     "end_time": "2023-07-11T08:31:15.101523Z",
     "start_time": "2023-07-11T08:31:14.641362Z"
    }
   },
   "outputs": [],
   "source": [
    "# MNIST 데이터셋 로딩\n",
    "(train_image, train_label), (test_image, test_label)  = keras.datasets.mnist.load_data()\n",
    "\n",
    "# 전처리 - X: scaling, y: one hot encoding 처리\n",
    "y_train = keras.utils.to_categorical(train_label)\n",
    "y_test = keras.utils.to_categorical(test_label)\n",
    "\n",
    "X_train = train_image.astype('float32')/255\n",
    "X_test = test_image.astype('float32')/255\n",
    "\n",
    "print(y_train.shape, y_test.shape)\n",
    "print(X_train.dtype, X_test.dtype)"
   ]
  },
  {
   "cell_type": "code",
   "execution_count": null,
   "id": "4e98a908",
   "metadata": {
    "ExecuteTime": {
     "end_time": "2023-07-11T08:31:16.269477Z",
     "start_time": "2023-07-11T08:31:16.240545Z"
    }
   },
   "outputs": [],
   "source": [
    "# 하이퍼파리미터\n",
    "LEARNING_RATE = 0.001\n",
    "N_EPOCH = 20\n",
    "N_BATCH = 1000"
   ]
  },
  {
   "cell_type": "code",
   "execution_count": null,
   "id": "56e02463",
   "metadata": {
    "ExecuteTime": {
     "end_time": "2023-07-11T08:31:17.674125Z",
     "start_time": "2023-07-11T08:31:17.474110Z"
    }
   },
   "outputs": [],
   "source": [
    "# Dataset 생성\n",
    "train_dataset = tf.data.Dataset.from_tensor_slices((X_train, y_train))\\\n",
    "                               .shuffle(60000).batch(N_BATCH, drop_remainder=True)\n",
    "test_dataset = tf.data.Dataset.from_tensor_slices((X_test, y_test)).batch(N_BATCH)\n",
    "\n",
    "print(len(train_dataset), len(test_dataset))"
   ]
  },
  {
   "cell_type": "markdown",
   "id": "f6b71a5f",
   "metadata": {},
   "source": [
    "# 모델의 크기 변경 -> 성능 확인"
   ]
  },
  {
   "cell_type": "code",
   "execution_count": null,
   "id": "7bfacdc2",
   "metadata": {
    "ExecuteTime": {
     "end_time": "2023-07-11T08:31:20.623957Z",
     "start_time": "2023-07-11T08:31:20.592408Z"
    }
   },
   "outputs": [],
   "source": [
    "def get_small_model():\n",
    "    model = keras.Sequential()\n",
    "    model.add(layers.Flatten(input_shape=(28,28))) \n",
    "    model.add(layers.Dense(10, activation='softmax', name='output_layer'))\n",
    "    \n",
    "    model.compile(optimizer=optimizers.Adam(learning_rate=LEARNING_RATE), \n",
    "                  loss='categorical_crossentropy', metrics=['accuracy'])\n",
    "    return model    "
   ]
  },
  {
   "cell_type": "code",
   "execution_count": null,
   "id": "0c722215",
   "metadata": {
    "ExecuteTime": {
     "end_time": "2023-07-11T08:32:01.608888Z",
     "start_time": "2023-07-11T08:32:01.549420Z"
    }
   },
   "outputs": [],
   "source": [
    "small_model = get_small_model()\n",
    "small_model.summary()"
   ]
  },
  {
   "cell_type": "code",
   "execution_count": null,
   "id": "f1d030fd",
   "metadata": {
    "ExecuteTime": {
     "end_time": "2023-07-11T08:32:11.892148Z",
     "start_time": "2023-07-11T08:32:03.792895Z"
    }
   },
   "outputs": [],
   "source": [
    "hist = small_model.fit(train_dataset, epochs=N_EPOCH, validation_data=test_dataset)"
   ]
  },
  {
   "cell_type": "code",
   "execution_count": null,
   "id": "f5049ab1",
   "metadata": {
    "ExecuteTime": {
     "end_time": "2023-07-11T08:32:14.387059Z",
     "start_time": "2023-07-11T08:32:13.742294Z"
    }
   },
   "outputs": [],
   "source": [
    "# 시각화\n",
    "plot_result(hist)#, 0.25, 0.5)"
   ]
  },
  {
   "cell_type": "code",
   "execution_count": null,
   "id": "bc3176b2",
   "metadata": {
    "ExecuteTime": {
     "end_time": "2023-07-11T08:32:30.325895Z",
     "start_time": "2023-07-11T08:32:30.288089Z"
    }
   },
   "outputs": [],
   "source": [
    "def get_big_model():\n",
    "    model = keras.Sequential()\n",
    "    model.add(layers.Flatten(input_shape=(28,28)))\n",
    "    \n",
    "    model.add(layers.Dense(512, activation='relu'))\n",
    "    model.add(layers.Dense(512, activation='relu'))\n",
    "    model.add(layers.Dense(256, activation='relu'))\n",
    "    model.add(layers.Dense(256, activation='relu'))\n",
    "    model.add(layers.Dense(128, activation='relu'))\n",
    "    model.add(layers.Dense(128, activation='relu'))\n",
    "    model.add(layers.Dense(64, activation='relu'))\n",
    "    model.add(layers.Dense(64, activation='relu'))\n",
    "    \n",
    "    model.add(layers.Dense(10, activation='softmax', name='output_layer'))\n",
    "    \n",
    "    model.compile(optimizer=optimizers.Adam(learning_rate=LEARNING_RATE), \n",
    "                  loss='categorical_crossentropy', metrics=['accuracy'])\n",
    "    return model    "
   ]
  },
  {
   "cell_type": "code",
   "execution_count": null,
   "id": "a635f70a",
   "metadata": {
    "ExecuteTime": {
     "end_time": "2023-07-11T08:32:31.259205Z",
     "start_time": "2023-07-11T08:32:31.042756Z"
    }
   },
   "outputs": [],
   "source": [
    "big_model = get_big_model()\n",
    "big_model.summary()"
   ]
  },
  {
   "cell_type": "code",
   "execution_count": null,
   "id": "9911faf7",
   "metadata": {
    "ExecuteTime": {
     "end_time": "2023-07-11T08:33:25.144868Z",
     "start_time": "2023-07-11T08:32:34.635402Z"
    }
   },
   "outputs": [],
   "source": [
    "hist = big_model.fit(train_dataset, epochs=N_EPOCH, validation_data=test_dataset)"
   ]
  },
  {
   "cell_type": "code",
   "execution_count": null,
   "id": "96dceb00",
   "metadata": {
    "ExecuteTime": {
     "end_time": "2023-07-11T08:33:29.694718Z",
     "start_time": "2023-07-11T08:33:28.994390Z"
    }
   },
   "outputs": [],
   "source": [
    "plot_result(hist, 0.05, 0.15)"
   ]
  },
  {
   "cell_type": "code",
   "execution_count": null,
   "id": "08463639",
   "metadata": {
    "ExecuteTime": {
     "end_time": "2023-07-11T08:33:34.776685Z",
     "start_time": "2023-07-11T08:33:34.435825Z"
    }
   },
   "outputs": [],
   "source": [
    "print(small_model.evaluate(test_dataset))\n",
    "print(big_model.evaluate(test_dataset))"
   ]
  },
  {
   "cell_type": "markdown",
   "id": "c7170b74",
   "metadata": {},
   "source": [
    "# Dropout Layer"
   ]
  },
  {
   "cell_type": "code",
   "execution_count": null,
   "id": "ade6cce4",
   "metadata": {
    "ExecuteTime": {
     "end_time": "2023-07-11T08:44:11.063075Z",
     "start_time": "2023-07-11T08:44:11.028544Z"
    }
   },
   "outputs": [],
   "source": [
    "# Dropout Layer는 Dropout을 적용하려는 Layer 앞에 정의한다.\n",
    "def get_dropout_model():\n",
    "    model = keras.Sequential()\n",
    "    model.add(layers.Flatten(input_shape=(28,28)))\n",
    "    \n",
    "    model.add(layers.Dropout(rate=0.3))\n",
    "    model.add(layers.Dense(512, activation='relu'))    \n",
    "    model.add(layers.Dropout(0.3))\n",
    "    model.add(layers.Dense(512, activation='relu'))    \n",
    "    model.add(layers.Dropout(0.3))\n",
    "    \n",
    "    model.add(layers.Dense(256, activation='relu'))    \n",
    "    model.add(layers.Dropout(0.3))\n",
    "    model.add(layers.Dense(256, activation='relu'))    \n",
    "    model.add(layers.Dropout(0.3))\n",
    "    \n",
    "    model.add(layers.Dense(128, activation='relu'))    \n",
    "    model.add(layers.Dropout(0.3))\n",
    "    model.add(layers.Dense(128, activation='relu'))\n",
    "    model.add(layers.Dropout(0.3))\n",
    "    \n",
    "    model.add(layers.Dense(64, activation='relu'))    \n",
    "    model.add(layers.Dropout(0.3))\n",
    "    model.add(layers.Dense(64, activation='relu'))\n",
    "    model.add(layers.Dropout(0.3))\n",
    "    \n",
    "    model.add(layers.Dense(10, activation='softmax', name='output_layer')) # output layer\n",
    "    \n",
    "    model.compile(optimizer=optimizers.Adam(learning_rate=LEARNING_RATE), \n",
    "                  loss='categorical_crossentropy', metrics=['accuracy'])\n",
    "    return model    "
   ]
  },
  {
   "cell_type": "code",
   "execution_count": null,
   "id": "d82efcfb",
   "metadata": {
    "ExecuteTime": {
     "end_time": "2023-07-11T08:44:12.244616Z",
     "start_time": "2023-07-11T08:44:11.962055Z"
    }
   },
   "outputs": [],
   "source": [
    "dropout_model = get_dropout_model()\n",
    "dropout_model.summary()"
   ]
  },
  {
   "cell_type": "code",
   "execution_count": null,
   "id": "dec74d32",
   "metadata": {
    "ExecuteTime": {
     "end_time": "2023-07-11T08:45:35.596796Z",
     "start_time": "2023-07-11T08:44:15.596384Z"
    }
   },
   "outputs": [],
   "source": [
    "# Dropout Layer를 사용하면 사용하지 않았을 때 보다 epoch을 더 늘려야 한다.\n",
    "hist = dropout_model.fit(train_dataset, epochs=N_EPOCH, validation_data=test_dataset)"
   ]
  },
  {
   "cell_type": "code",
   "execution_count": null,
   "id": "9432294d",
   "metadata": {
    "ExecuteTime": {
     "end_time": "2023-02-21T08:40:13.478489Z",
     "start_time": "2023-02-21T08:40:12.998512Z"
    }
   },
   "outputs": [],
   "source": [
    "plot_result(hist)"
   ]
  },
  {
   "cell_type": "markdown",
   "id": "976893a2",
   "metadata": {},
   "source": [
    "# Batch Normalization 예제"
   ]
  },
  {
   "cell_type": "code",
   "execution_count": null,
   "id": "3a96fa75",
   "metadata": {
    "ExecuteTime": {
     "end_time": "2023-07-11T08:46:12.348158Z",
     "start_time": "2023-07-11T08:46:12.335112Z"
    }
   },
   "outputs": [],
   "source": [
    "def get_model_bn(lr=0.01):\n",
    "    \n",
    "    model = keras.Sequential()\n",
    "    model.add(layers.Flatten(input_shape=(28,28)))\n",
    "    \n",
    "    \n",
    "    # (Dropout Layer ->) Dense Layer -> Batch Normalization -> ReLU(Activation)\n",
    "    model.add(layers.Dense(256))\n",
    "    model.add(layers.BatchNormalization())\n",
    "    model.add(layers.ReLU())\n",
    "    \n",
    "    model.add(layers.Dense(256))\n",
    "    model.add(layers.BatchNormalization())\n",
    "    model.add(layers.ReLU())\n",
    "    \n",
    "    model.add(layers.Dense(128))\n",
    "    model.add(layers.BatchNormalization())\n",
    "    model.add(layers.ReLU())\n",
    "    \n",
    "    model.add(layers.Dense(128))\n",
    "    model.add(layers.BatchNormalization())\n",
    "    model.add(layers.ReLU())\n",
    "    \n",
    "    model.add(layers.Dense(64))\n",
    "    model.add(layers.BatchNormalization())\n",
    "    model.add(layers.ReLU())\n",
    "    \n",
    "    model.add(layers.Dense(64))\n",
    "    model.add(layers.BatchNormalization())\n",
    "    model.add(layers.ReLU())\n",
    "    \n",
    "    # output layer\n",
    "    model.add(layers.Dense(10))\n",
    "    model.add(layers.Softmax())\n",
    "    \n",
    "    model.compile(optimizer=optimizers.Adam(learning_rate=lr), \n",
    "                  loss='categorical_crossentropy', metrics=['accuracy'])\n",
    "    return model    "
   ]
  },
  {
   "cell_type": "code",
   "execution_count": null,
   "id": "5e44f0e3",
   "metadata": {
    "ExecuteTime": {
     "end_time": "2023-07-11T08:46:14.314460Z",
     "start_time": "2023-07-11T08:46:13.933806Z"
    }
   },
   "outputs": [],
   "source": [
    "model_bn = get_model_bn(LEARNING_RATE)\n",
    "model_bn.summary()"
   ]
  },
  {
   "cell_type": "code",
   "execution_count": null,
   "id": "4c78c908",
   "metadata": {
    "ExecuteTime": {
     "end_time": "2023-07-11T08:46:50.665888Z",
     "start_time": "2023-07-11T08:46:19.381985Z"
    }
   },
   "outputs": [],
   "source": [
    "hist = model_bn.fit(train_dataset, epochs=N_EPOCH, validation_data=test_dataset)"
   ]
  },
  {
   "cell_type": "code",
   "execution_count": null,
   "id": "dd159e40",
   "metadata": {
    "ExecuteTime": {
     "end_time": "2023-02-22T02:03:55.827225Z",
     "start_time": "2023-02-22T02:03:55.241212Z"
    }
   },
   "outputs": [],
   "source": [
    "plot_result(hist)"
   ]
  },
  {
   "cell_type": "markdown",
   "id": "167dd99f",
   "metadata": {},
   "source": [
    "# Learning Rate 변화를 통한 성능개선\n",
    "\n",
    "## Learning Rate scheduler 를 이용\n",
    "- 특정 step 마다 learning rate를 변경"
   ]
  },
  {
   "cell_type": "code",
   "execution_count": null,
   "id": "f0f9fe21",
   "metadata": {},
   "outputs": [],
   "source": [
    "lr_scheduler = optimizers.schedules.ExponentialDecay(\n",
    "    initial_learning_rate=LEARNING_RATE,\n",
    "    decay_step=len(train_dataset)*5,\n",
    "    decay_rate=0.5,\n",
    "    staircase=True\n",
    ")\n"
   ]
  },
  {
   "cell_type": "code",
   "execution_count": null,
   "id": "2d33ce3b",
   "metadata": {
    "ExecuteTime": {
     "end_time": "2023-02-22T02:47:30.300438Z",
     "start_time": "2023-02-22T02:47:30.287010Z"
    }
   },
   "outputs": [],
   "source": [
    "def get_model_lr(initial_lr=0.01):\n",
    "    model = keras.Sequential()\n",
    "    model.add(layers.Flatten(input_shape=(28,28)))\n",
    "    model.add(layers.Dense(256, activation='relu'))\n",
    "    model.add(layers.Dense(128, activation='relu'))\n",
    "    model.add(layers.Dense(64, activation='relu'))\n",
    "    model.add(layers.Dense(10, activation='softmax', name='output_layer'))\n",
    "    \n",
    "    lr_sch = optimizers.schedules.ExponentialDecay(initial_learning_rate=initial_lr, \n",
    "                                                   decay_steps=len(train_dataset) * 5, \n",
    "                                                   decay_rate=0.5, \n",
    "                                                   staircase=True)\n",
    "    \n",
    "    model.compile(optimizer=optimizers.Adam(learning_rate=lr_sch),\n",
    "                  loss='categorical_crossentropy', metrics=['accuracy'])\n",
    "    \n",
    "    return model"
   ]
  },
  {
   "cell_type": "code",
   "execution_count": null,
   "id": "ab5e3436",
   "metadata": {
    "ExecuteTime": {
     "end_time": "2023-02-22T02:48:52.838966Z",
     "start_time": "2023-02-22T02:48:29.400420Z"
    },
    "scrolled": true
   },
   "outputs": [],
   "source": [
    "model_lr = get_model_lr(LEARNING_RATE)\n",
    "hist = model_lr.fit(train_dataset, epochs=N_EPOCH, validation_data=test_dataset)"
   ]
  },
  {
   "cell_type": "markdown",
   "id": "64ea9b5f",
   "metadata": {},
   "source": [
    "## callback 을 이용해 학습률 변경\n",
    "- ReduceLROnPlateau callback을 이용"
   ]
  },
  {
   "cell_type": "code",
   "execution_count": null,
   "id": "91b2a407",
   "metadata": {
    "ExecuteTime": {
     "end_time": "2023-02-22T03:27:19.206159Z",
     "start_time": "2023-02-22T03:27:19.198043Z"
    }
   },
   "outputs": [],
   "source": [
    "def get_model_lr2(initial_lr=0.01):\n",
    "    model = keras.Sequential()\n",
    "    model.add(layers.Flatten(input_shape=(28,28)))\n",
    "    model.add(layers.Dense(256, activation='relu'))\n",
    "    model.add(layers.Dense(128, activation='relu'))\n",
    "    model.add(layers.Dense(64, activation='relu'))\n",
    "    model.add(layers.Dense(10, activation='softmax', name='output_layer'))\n",
    "    \n",
    "    model.compile(optimizer=optimizers.Adam(learning_rate=initial_lr),\n",
    "                  loss='categorical_crossentropy', metrics=['accuracy'])\n",
    "    \n",
    "    return model"
   ]
  },
  {
   "cell_type": "code",
   "execution_count": null,
   "id": "b401e266",
   "metadata": {
    "ExecuteTime": {
     "end_time": "2023-02-22T03:27:57.532586Z",
     "start_time": "2023-02-22T03:27:57.438685Z"
    }
   },
   "outputs": [],
   "source": [
    "model_lr2 = get_model_lr2(LEARNING_RATE)"
   ]
  },
  {
   "cell_type": "code",
   "execution_count": null,
   "id": "dd9bcae6",
   "metadata": {
    "ExecuteTime": {
     "end_time": "2023-02-22T03:33:11.067426Z",
     "start_time": "2023-02-22T03:32:28.895971Z"
    },
    "scrolled": true
   },
   "outputs": [],
   "source": [
    "lr_callback = keras.callbacks.ReduceLROnPlateau(monitor='val_loss', \n",
    "                                                factor=0.5, \n",
    "                                                patience=3, \n",
    "                                                verbose=2\n",
    "                                               )\n",
    "\n",
    "hist = model_lr2.fit(train_dataset, epochs=N_EPOCH+10, validation_data=test_dataset, \n",
    "                    callbacks=[lr_callback])"
   ]
  },
  {
   "cell_type": "code",
   "execution_count": null,
   "id": "faadef74",
   "metadata": {},
   "outputs": [],
   "source": []
  }
 ],
 "metadata": {
  "kernelspec": {
   "display_name": "Python 3 (ipykernel)",
   "language": "python",
   "name": "python3"
  },
  "language_info": {
   "codemirror_mode": {
    "name": "ipython",
    "version": 3
   },
   "file_extension": ".py",
   "mimetype": "text/x-python",
   "name": "python",
   "nbconvert_exporter": "python",
   "pygments_lexer": "ipython3",
   "version": "3.10.12"
  },
  "toc": {
   "base_numbering": 1,
   "nav_menu": {},
   "number_sections": true,
   "sideBar": true,
   "skip_h1_title": false,
   "title_cell": "Table of Contents",
   "title_sidebar": "Contents",
   "toc_cell": false,
   "toc_position": {},
   "toc_section_display": true,
   "toc_window_display": false
  },
  "varInspector": {
   "cols": {
    "lenName": 16,
    "lenType": 16,
    "lenVar": 40
   },
   "kernels_config": {
    "python": {
     "delete_cmd_postfix": "",
     "delete_cmd_prefix": "del ",
     "library": "var_list.py",
     "varRefreshCmd": "print(var_dic_list())"
    },
    "r": {
     "delete_cmd_postfix": ") ",
     "delete_cmd_prefix": "rm(",
     "library": "var_list.r",
     "varRefreshCmd": "cat(var_dic_list()) "
    }
   },
   "types_to_exclude": [
    "module",
    "function",
    "builtin_function_or_method",
    "instance",
    "_Feature"
   ],
   "window_display": false
  }
 },
 "nbformat": 4,
 "nbformat_minor": 5
}
