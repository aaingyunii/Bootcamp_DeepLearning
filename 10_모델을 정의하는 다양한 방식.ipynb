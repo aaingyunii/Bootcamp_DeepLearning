{
 "cells": [
  {
   "cell_type": "markdown",
   "metadata": {
    "slideshow": {
     "slide_type": "slide"
    }
   },
   "source": [
    "# \\_\\_call\\_\\_() magic method\n",
    "- 객체를 함수처럼 호출 할 수 있도록 한다.\n",
    "- `객체()` 로 호출 할 때 __call__ 메소드가 호출되어 실행된다."
   ]
  },
  {
   "cell_type": "code",
   "execution_count": 1,
   "metadata": {},
   "outputs": [],
   "source": [
    "class Person:\n",
    "    def __init__(self, name):\n",
    "        print(\"__init__() 실행\")\n",
    "        self.name = name\n",
    "        \n",
    "    def __str__(self):\n",
    "        print(\"__str__() 실행\")\n",
    "        return f\"이름은 {self.name} 입니다.\"\n",
    "    \n",
    "    def __call__(self):\n",
    "        print(f\"call 함수실행 : {self.name}\")\n",
    "        "
   ]
  },
  {
   "cell_type": "code",
   "execution_count": 2,
   "metadata": {},
   "outputs": [
    {
     "name": "stdout",
     "output_type": "stream",
     "text": [
      "__init__() 실행\n"
     ]
    }
   ],
   "source": [
    "p = Person(\"홍길동\") # __init__() 함수가 호출"
   ]
  },
  {
   "cell_type": "code",
   "execution_count": 3,
   "metadata": {},
   "outputs": [
    {
     "name": "stdout",
     "output_type": "stream",
     "text": [
      "__str__() 실행\n"
     ]
    }
   ],
   "source": [
    "s = str(p) # p 객체를 str(문자열)로 변환. ==> __str__()"
   ]
  },
  {
   "cell_type": "code",
   "execution_count": 4,
   "metadata": {},
   "outputs": [
    {
     "data": {
      "text/plain": [
       "'이름은 홍길동 입니다.'"
      ]
     },
     "execution_count": 4,
     "metadata": {},
     "output_type": "execute_result"
    }
   ],
   "source": [
    "s"
   ]
  },
  {
   "cell_type": "code",
   "execution_count": 5,
   "metadata": {},
   "outputs": [
    {
     "name": "stdout",
     "output_type": "stream",
     "text": [
      "call 함수실행 : 홍길동\n"
     ]
    }
   ],
   "source": [
    "p()"
   ]
  },
  {
   "cell_type": "code",
   "execution_count": 14,
   "metadata": {},
   "outputs": [],
   "source": [
    "class Nums:\n",
    "    def __init__(self, num):\n",
    "        self.num = num\n",
    "        \n",
    "    def __call__(self, append_num):\n",
    "        print(\"__call__() 실행\")\n",
    "        self.num = self.num+append_num\n",
    "        \n",
    "    def __str__(self):\n",
    "        print(\"__str__() 실행\")\n",
    "        return f\"num: {self.num}\""
   ]
  },
  {
   "cell_type": "code",
   "execution_count": 7,
   "metadata": {},
   "outputs": [
    {
     "name": "stdout",
     "output_type": "stream",
     "text": [
      "__str__() 실행\n",
      "num: 10\n"
     ]
    }
   ],
   "source": [
    "n = Nums(10)\n",
    "print(n) # print(값) : str(값)을 이용해 문자열로 변환 후 출력"
   ]
  },
  {
   "cell_type": "code",
   "execution_count": 8,
   "metadata": {},
   "outputs": [
    {
     "name": "stdout",
     "output_type": "stream",
     "text": [
      "__call__() 실행\n"
     ]
    }
   ],
   "source": [
    "n(20) # __call__(append_num <= 20)"
   ]
  },
  {
   "cell_type": "code",
   "execution_count": 9,
   "metadata": {},
   "outputs": [
    {
     "name": "stdout",
     "output_type": "stream",
     "text": [
      "__str__() 실행\n",
      "num: 30\n"
     ]
    }
   ],
   "source": [
    "print(n)"
   ]
  },
  {
   "cell_type": "code",
   "execution_count": 13,
   "metadata": {},
   "outputs": [
    {
     "name": "stdout",
     "output_type": "stream",
     "text": [
      "<__main__.Nums object at 0x000001DB5C2B7A30>\n"
     ]
    }
   ],
   "source": [
    "### __str__() 이 정의되지 않았을 때.\n",
    "n = Nums(10)\n",
    "print(n)"
   ]
  },
  {
   "cell_type": "code",
   "execution_count": null,
   "metadata": {},
   "outputs": [],
   "source": []
  },
  {
   "cell_type": "markdown",
   "metadata": {
    "slideshow": {
     "slide_type": "slide"
    }
   },
   "source": [
    "# Functional API\n",
    "- Sequential 모델은 각 Layer들의 입력과 출력이 하나라고 가정한다. 그리고 각각의 Layer(입력층, 은닉층, 출력층)들을 차례대로 쌓아 구성한다. 그래서 다양한 구조의 네트워크를 만드는데 한계가 있다.\n",
    "- 함수형 API를 사용하면 **다중입력, 다중출력, 그래프 형태**의 다양한 형태의 레이어들을 유연하게 구성할 수 있다.\n",
    "\n",
    "- Functional API는 직접 텐서들의 입출력을 다룬다. \n",
    "- 함수호출 처럼 Layer를 이용하여 입력 텐서(Input Tensor)를 입력 받고 그 결과를 출력 텐서(Output Tensor)로 반환하는 형식으로 모델을 구현한다.\n",
    "\n",
    "```python\n",
    "input_tensor = Input(shape=(16,))\n",
    "dense = layers.Dense(32, activation='relu')(input_tensor)\n",
    "output_tensor = layers.Dense(32, activation='sigmoid')(dense)\n",
    "\n",
    "model = models.Model(input_tensor, output_tensor)\n",
    "```"
   ]
  },
  {
   "cell_type": "markdown",
   "metadata": {
    "slideshow": {
     "slide_type": "slide"
    }
   },
   "source": [
    "## Sequential, Functional API "
   ]
  },
  {
   "cell_type": "markdown",
   "metadata": {
    "slideshow": {
     "slide_type": "slide"
    }
   },
   "source": [
    "### Sequential"
   ]
  },
  {
   "cell_type": "code",
   "execution_count": 15,
   "metadata": {
    "ExecuteTime": {
     "end_time": "2023-03-03T00:28:00.692111Z",
     "start_time": "2023-03-03T00:27:54.189839Z"
    },
    "slideshow": {
     "slide_type": "fragment"
    }
   },
   "outputs": [],
   "source": [
    "import tensorflow as tf\n",
    "from tensorflow import keras\n",
    "from tensorflow.keras import applications\n",
    "from tensorflow.keras import layers, models"
   ]
  },
  {
   "cell_type": "code",
   "execution_count": 16,
   "metadata": {
    "ExecuteTime": {
     "end_time": "2023-03-02T07:30:51.000622Z",
     "start_time": "2023-03-02T07:30:50.811078Z"
    },
    "scrolled": false,
    "slideshow": {
     "slide_type": "fragment"
    }
   },
   "outputs": [
    {
     "name": "stdout",
     "output_type": "stream",
     "text": [
      "Model: \"sequential\"\n",
      "_________________________________________________________________\n",
      " Layer (type)                Output Shape              Param #   \n",
      "=================================================================\n",
      " conv2d (Conv2D)             (None, 32, 32, 64)        1792      \n",
      "                                                                 \n",
      " max_pooling2d (MaxPooling2  (None, 16, 16, 64)        0         \n",
      " D)                                                              \n",
      "                                                                 \n",
      " flatten (Flatten)           (None, 16384)             0         \n",
      "                                                                 \n",
      " dense (Dense)               (None, 256)               4194560   \n",
      "                                                                 \n",
      " output_layer (Dense)        (None, 10)                2570      \n",
      "                                                                 \n",
      "=================================================================\n",
      "Total params: 4198922 (16.02 MB)\n",
      "Trainable params: 4198922 (16.02 MB)\n",
      "Non-trainable params: 0 (0.00 Byte)\n",
      "_________________________________________________________________\n"
     ]
    }
   ],
   "source": [
    "seq_model = keras.Sequential()\n",
    "seq_model.add(layers.Input(shape=(32,32,3)))\n",
    "\n",
    "seq_model.add(layers.Conv2D(filters=64, kernel_size=3, padding='same', activation='relu'))\n",
    "seq_model.add(layers.MaxPooling2D(padding=\"same\"))\n",
    "seq_model.add(layers.Flatten())\n",
    "\n",
    "seq_model.add(layers.Dense(units=256, activation='relu'))\n",
    "seq_model.add(layers.Dense(units=10, activation='softmax', name='output_layer'))\n",
    "seq_model.summary()"
   ]
  },
  {
   "cell_type": "markdown",
   "metadata": {
    "slideshow": {
     "slide_type": "slide"
    }
   },
   "source": [
    "### Functional API"
   ]
  },
  {
   "cell_type": "code",
   "execution_count": 17,
   "metadata": {
    "ExecuteTime": {
     "end_time": "2023-03-02T07:52:41.348138Z",
     "start_time": "2023-03-02T07:52:41.261603Z"
    }
   },
   "outputs": [],
   "source": [
    "# 레이어의 흐름 구조를 구현\n",
    "## Sequential 에서 자동으로 구현되는 레이어의 흐름을 직접 그 구조를 만든 과정.\n",
    "\n",
    "# InputLayer를 생성하면 안됨 => Input: 입력 값을 표현, 입력값을 저장할 변수의 역할.\n",
    "input_tensor = layers.Input(shape=(32, 32, 3))\n",
    "\n",
    "conv_tensor = layers.Conv2D(filters=64, kernel_size=3, padding='same', activation='relu')(input_tensor)\n",
    "conv_tensor2 = layers.Conv2D(filters=64, kernel_size=3, padding='same', activation='relu')(conv_tensor)\n",
    "pool_tensor = layers.MaxPooling2D(padding='same')(conv_tensor)\n",
    "flatten_tensor = layers.Flatten()(pool_tensor)\n",
    "dense_tensor = layers.Dense(256, activation='relu')(flatten_tensor)\n",
    "\n",
    "output_tensor = layers.Dense(10, activation='softmax')(dense_tensor)\n",
    "\n",
    "# 모델 생성-> input들과 output들을 넣어서 생성. => \n",
    "##     input들/output들 : 학습/추론할때 실제 생성될 입력값, 출력값을 표현하는 tensor 객체.\n",
    "##     여러개값으로 구성된 경우 일 경우 리스트로 묶어서 전달.\n",
    "fn_model = models.Model(input_tensor, output_tensor)"
   ]
  },
  {
   "cell_type": "code",
   "execution_count": 18,
   "metadata": {
    "ExecuteTime": {
     "end_time": "2023-03-02T07:50:13.907108Z",
     "start_time": "2023-03-02T07:50:13.866727Z"
    }
   },
   "outputs": [
    {
     "name": "stdout",
     "output_type": "stream",
     "text": [
      "Model: \"model\"\n",
      "_________________________________________________________________\n",
      " Layer (type)                Output Shape              Param #   \n",
      "=================================================================\n",
      " input_2 (InputLayer)        [(None, 32, 32, 3)]       0         \n",
      "                                                                 \n",
      " conv2d_1 (Conv2D)           (None, 32, 32, 64)        1792      \n",
      "                                                                 \n",
      " max_pooling2d_1 (MaxPoolin  (None, 16, 16, 64)        0         \n",
      " g2D)                                                            \n",
      "                                                                 \n",
      " flatten_1 (Flatten)         (None, 16384)             0         \n",
      "                                                                 \n",
      " dense_1 (Dense)             (None, 256)               4194560   \n",
      "                                                                 \n",
      " dense_2 (Dense)             (None, 10)                2570      \n",
      "                                                                 \n",
      "=================================================================\n",
      "Total params: 4198922 (16.02 MB)\n",
      "Trainable params: 4198922 (16.02 MB)\n",
      "Non-trainable params: 0 (0.00 Byte)\n",
      "_________________________________________________________________\n"
     ]
    }
   ],
   "source": [
    "fn_model.summary()"
   ]
  },
  {
   "cell_type": "markdown",
   "metadata": {
    "collapsed": true,
    "slideshow": {
     "slide_type": "slide"
    }
   },
   "source": [
    "##### 각 Layer의 출력 변수들 통일. \n",
    "- 일반적으로 block 단위로 동일한 변수명을 사용.\n",
    "- hidden layer들의 출력결과는 모두 동일한 변수명을 사용"
   ]
  },
  {
   "cell_type": "code",
   "execution_count": 19,
   "metadata": {
    "ExecuteTime": {
     "end_time": "2023-03-02T08:17:34.430259Z",
     "start_time": "2023-03-02T08:17:34.318210Z"
    },
    "scrolled": true
   },
   "outputs": [
    {
     "name": "stdout",
     "output_type": "stream",
     "text": [
      "Model: \"model_1\"\n",
      "_________________________________________________________________\n",
      " Layer (type)                Output Shape              Param #   \n",
      "=================================================================\n",
      " input_3 (InputLayer)        [(None, 32, 32, 3)]       0         \n",
      "                                                                 \n",
      " conv2d_3 (Conv2D)           (None, 32, 32, 16)        448       \n",
      "                                                                 \n",
      " max_pooling2d_2 (MaxPoolin  (None, 16, 16, 16)        0         \n",
      " g2D)                                                            \n",
      "                                                                 \n",
      " conv2d_4 (Conv2D)           (None, 16, 16, 16)        2320      \n",
      "                                                                 \n",
      " max_pooling2d_3 (MaxPoolin  (None, 8, 8, 16)          0         \n",
      " g2D)                                                            \n",
      "                                                                 \n",
      " conv2d_5 (Conv2D)           (None, 8, 8, 16)          2320      \n",
      "                                                                 \n",
      " conv2d_6 (Conv2D)           (None, 8, 8, 16)          2320      \n",
      "                                                                 \n",
      " max_pooling2d_4 (MaxPoolin  (None, 4, 4, 16)          0         \n",
      " g2D)                                                            \n",
      "                                                                 \n",
      " flatten_2 (Flatten)         (None, 256)               0         \n",
      "                                                                 \n",
      " dense_3 (Dense)             (None, 10)                2570      \n",
      "                                                                 \n",
      "=================================================================\n",
      "Total params: 9978 (38.98 KB)\n",
      "Trainable params: 9978 (38.98 KB)\n",
      "Non-trainable params: 0 (0.00 Byte)\n",
      "_________________________________________________________________\n"
     ]
    }
   ],
   "source": [
    "input_tensor = layers.Input(shape=(32,32,3))\n",
    "\n",
    "x1 = layers.Conv2D(filters=16, kernel_size=3, padding='same', activation='relu')(input_tensor)\n",
    "x1 = layers.MaxPooling2D(padding='same')(x1)\n",
    "\n",
    "x2 = layers.Conv2D(filters=16, kernel_size=3, padding='same', activation='relu')(x1)\n",
    "x2 = layers.MaxPooling2D(padding='same')(x2)\n",
    "\n",
    "x3 = layers.Conv2D(filters=16, kernel_size=3, padding='same', activation='relu')(x2)\n",
    "x3 = layers.Conv2D(filters=16, kernel_size=3, padding='same', activation='relu')(x3)\n",
    "x3 = layers.MaxPooling2D(padding='same')(x3)\n",
    "\n",
    "x4 = layers.Flatten()(x3)\n",
    "output_tensor = layers.Dense(10, activation='softmax')(x4)\n",
    "\n",
    "model3 = models.Model(input_tensor, output_tensor)\n",
    "\n",
    "model3.summary()"
   ]
  },
  {
   "cell_type": "markdown",
   "metadata": {
    "slideshow": {
     "slide_type": "slide"
    }
   },
   "source": [
    "##### trainable 설정"
   ]
  },
  {
   "cell_type": "code",
   "execution_count": 20,
   "metadata": {
    "ExecuteTime": {
     "end_time": "2023-03-02T08:21:06.004874Z",
     "start_time": "2023-03-02T08:21:05.862452Z"
    },
    "scrolled": true
   },
   "outputs": [
    {
     "name": "stdout",
     "output_type": "stream",
     "text": [
      "Model: \"model_2\"\n",
      "_________________________________________________________________\n",
      " Layer (type)                Output Shape              Param #   \n",
      "=================================================================\n",
      " input_4 (InputLayer)        [(None, 32, 32, 3)]       0         \n",
      "                                                                 \n",
      " conv2d_7 (Conv2D)           (None, 32, 32, 16)        448       \n",
      "                                                                 \n",
      " max_pooling2d_5 (MaxPoolin  (None, 16, 16, 16)        0         \n",
      " g2D)                                                            \n",
      "                                                                 \n",
      " conv2d_8 (Conv2D)           (None, 16, 16, 16)        2320      \n",
      "                                                                 \n",
      " max_pooling2d_6 (MaxPoolin  (None, 8, 8, 16)          0         \n",
      " g2D)                                                            \n",
      "                                                                 \n",
      " conv2d_9 (Conv2D)           (None, 8, 8, 16)          2320      \n",
      "                                                                 \n",
      " conv2d_10 (Conv2D)          (None, 8, 8, 16)          2320      \n",
      "                                                                 \n",
      " max_pooling2d_7 (MaxPoolin  (None, 4, 4, 16)          0         \n",
      " g2D)                                                            \n",
      "                                                                 \n",
      " flatten_3 (Flatten)         (None, 256)               0         \n",
      "                                                                 \n",
      " dense_4 (Dense)             (None, 10)                2570      \n",
      "                                                                 \n",
      "=================================================================\n",
      "Total params: 9978 (38.98 KB)\n",
      "Trainable params: 9530 (37.23 KB)\n",
      "Non-trainable params: 448 (1.75 KB)\n",
      "_________________________________________________________________\n"
     ]
    }
   ],
   "source": [
    "input_tensor = layers.Input(shape=(32,32,3))\n",
    "\n",
    "c1 = layers.Conv2D(filters=16, kernel_size=3, padding='same', activation='relu')\n",
    "c1.trainable = False\n",
    "x1 = c1(input_tensor)\n",
    "\n",
    "x1 = layers.MaxPooling2D(padding='same')(x1)\n",
    "\n",
    "x2 = layers.Conv2D(filters=16, kernel_size=3, padding='same', activation='relu')(x1)\n",
    "x2 = layers.MaxPooling2D(padding='same')(x2)\n",
    "\n",
    "x3 = layers.Conv2D(filters=16, kernel_size=3, padding='same', activation='relu')(x2)\n",
    "x3 = layers.Conv2D(filters=16, kernel_size=3, padding='same', activation='relu')(x3)\n",
    "x3 = layers.MaxPooling2D(padding='same')(x3)\n",
    "\n",
    "x4 = layers.Flatten()(x3)\n",
    "output_tensor = layers.Dense(10, activation='softmax')(x4)\n",
    "\n",
    "model3 = models.Model(input_tensor, output_tensor)\n",
    "\n",
    "model3.summary()"
   ]
  },
  {
   "cell_type": "markdown",
   "metadata": {
    "slideshow": {
     "slide_type": "slide"
    }
   },
   "source": [
    "##### Transfer learning"
   ]
  },
  {
   "cell_type": "code",
   "execution_count": 23,
   "metadata": {
    "ExecuteTime": {
     "end_time": "2023-03-02T08:30:23.324361Z",
     "start_time": "2023-03-02T08:30:22.749357Z"
    },
    "scrolled": false
   },
   "outputs": [
    {
     "name": "stdout",
     "output_type": "stream",
     "text": [
      "Model: \"model_4\"\n",
      "__________________________________________________________________________________________________\n",
      " Layer (type)                Output Shape                 Param #   Connected to                  \n",
      "==================================================================================================\n",
      " input_8 (InputLayer)        [(None, 224, 224, 3)]        0         []                            \n",
      "                                                                                                  \n",
      " vgg16 (Functional)          (None, None, None, 512)      1471468   ['input_8[0][0]']             \n",
      "                                                          8                                       \n",
      "                                                                                                  \n",
      " global_average_pooling2d_1  (None, 512)                  0         ['vgg16[0][0]']               \n",
      "  (GlobalAveragePooling2D)                                                                        \n",
      "                                                                                                  \n",
      " dropout_1 (Dropout)         (None, 512)                  0         ['global_average_pooling2d_1[0\n",
      "                                                                    ][0]']                        \n",
      "                                                                                                  \n",
      " dense_8 (Dense)             (None, 512)                  262656    ['dropout_1[0][0]']           \n",
      "                                                                                                  \n",
      " dense_9 (Dense)             (None, 1)                    513       ['dense_8[0][0]']             \n",
      "                                                                                                  \n",
      " dense_10 (Dense)            (None, 10)                   5130      ['dense_8[0][0]']             \n",
      "                                                                                                  \n",
      " dense_11 (Dense)            (None, 5)                    2565      ['dense_8[0][0]']             \n",
      "                                                                                                  \n",
      "==================================================================================================\n",
      "Total params: 14985552 (57.17 MB)\n",
      "Trainable params: 270864 (1.03 MB)\n",
      "Non-trainable params: 14714688 (56.13 MB)\n",
      "__________________________________________________________________________________________________\n"
     ]
    }
   ],
   "source": [
    "# Pre-trained 모델을 backbone에 할당.\n",
    "## conv base(Feature Extractor) 부분을 이용해 transfer learning\n",
    "backbone = applications.VGG16(include_top=False)\n",
    "backbone.trainable = False\n",
    "\n",
    "input_tensor = layers.Input(shape=(224,224,3))\n",
    "x = backbone(input_tensor)\n",
    "x = layers.GlobalAveragePooling2D()(x)\n",
    "x = layers.Dropout(0.3)(x)\n",
    "x = layers.Dense(512, activation='relu')(x)\n",
    "output_tensor = layers.Dense(1, activation='sigmoid')(x) \n",
    "output_tensor2 = layers.Dense(10, activation='softmax')(x)\n",
    "output_tensor3 = layers.Dense(5, activation='softmax')(x) # 테스트로 넣은 layer\n",
    "\n",
    "model4 = models.Model(input_tensor, [output_tensor, output_tensor2, output_tensor3])\n",
    "model4.summary()"
   ]
  },
  {
   "cell_type": "code",
   "execution_count": 24,
   "metadata": {
    "ExecuteTime": {
     "end_time": "2023-03-02T08:30:53.377693Z",
     "start_time": "2023-03-02T08:30:53.165295Z"
    }
   },
   "outputs": [
    {
     "data": {
      "image/png": "[encoded data removed]",
      "text/plain": [
       "<IPython.core.display.Image object>"
      ]
     },
     "execution_count": 24,
     "metadata": {},
     "output_type": "execute_result"
    }
   ],
   "source": [
    "keras.utils.plot_model(model4, show_shapes=True)"
   ]
  },
  {
   "cell_type": "markdown",
   "metadata": {
    "slideshow": {
     "slide_type": "slide"
    }
   },
   "source": [
    "## 여러개의 출력결과를  합치는 Layer\n",
    "\n",
    "- 앞 레이어들에서 출력된 값이 여러개이고 이것을 하나의 Layer의 입력으로 넣어 줄 경우 **여러개의 출력값을 합쳐 줘야 한다.** 이때 단순이 합치거나 element wise 연산을 통해 합칠 수 있다. \n",
    "- 함수와 Layer class 두가지 방식을 제공한다.\n",
    "    - tensorflow.keras.layers 모듈로 제공\n",
    "- **concatenate(list, axis=-1)/Concatenate(axis=-1)([list])**\n",
    "    - 레이어들을 단순히 합친다. (붙이는 처리)\n",
    "    - list: 합칠 레이어들을 리스트에 묶어 전달\n",
    "    - axis: 합칠 기준축. (기본값: -1 : 마지막 축기준)\n",
    "- **add(list)/Add()(list), substract(list)/Subtract()(list), multiply(list)/Multiply()(list)**\n",
    "    - 같은 index의 값들을 계산해서(더하기, 빼기, 곱하기) 하나의 레이어로 만든다.\n",
    "    - list: 합칠 레이어들을 리스트에 묶어 전달"
   ]
  },
  {
   "cell_type": "code",
   "execution_count": 32,
   "metadata": {
    "ExecuteTime": {
     "end_time": "2023-03-03T00:57:05.687603Z",
     "start_time": "2023-03-03T00:57:05.563813Z"
    }
   },
   "outputs": [],
   "source": [
    "#ResNet의 Residual Block을 구현.\n",
    "input_tensor = layers.Input(shape=(32,32,3))\n",
    "x = layers.Conv2D(filters=64, kernel_size=7, padding='same', activation='relu')(input_tensor)\n",
    "x = layers.MaxPooling2D(padding='same')(x)\n",
    "\n",
    "# Residual 부분 구현.\n",
    "x1 = layers.Conv2D(filters=64, kernel_size=3, padding='same')(x)\n",
    "x1 = layers.BatchNormalization()(x1)\n",
    "x1 = layers.ReLU()(x1)\n",
    "x1 = layers.Conv2D(filters=128, kernel_size=3, padding='same')(x1) # shape 달라 Add 연산이 안된다.\n",
    "x1 = layers.BatchNormalization()(x1)\n",
    "x1 = layers.Conv2D(filters=64, kernel_size=1, padding='same')(x1) # filter size 조정을 위한 conv layer\n",
    "                                                    ## => filter 크기: 1x1, filter 개수: channel 수 동일하게\n",
    "                                                ### => bottleneck 구조 ==> \"Pointwise Conv layer\" !!\n",
    "## x1 => residual.\n",
    "\n",
    "x1 = layers.Add()([x, x1])   # x1 = layers.add([x, x1]) / input-x와 residual-x1 의 합산.\n",
    "\n",
    "output_tensor = layers.ReLU()(x1)\n",
    "\n",
    "rb_model = models.Model(input_tensor, output_tensor)"
   ]
  },
  {
   "cell_type": "code",
   "execution_count": 33,
   "metadata": {
    "ExecuteTime": {
     "end_time": "2023-03-03T00:58:41.230237Z",
     "start_time": "2023-03-03T00:58:41.186911Z"
    }
   },
   "outputs": [
    {
     "name": "stdout",
     "output_type": "stream",
     "text": [
      "Model: \"model_8\"\n",
      "__________________________________________________________________________________________________\n",
      " Layer (type)                Output Shape                 Param #   Connected to                  \n",
      "==================================================================================================\n",
      " input_13 (InputLayer)       [(None, 32, 32, 3)]          0         []                            \n",
      "                                                                                                  \n",
      " conv2d_27 (Conv2D)          (None, 32, 32, 64)           9472      ['input_13[0][0]']            \n",
      "                                                                                                  \n",
      " max_pooling2d_12 (MaxPooli  (None, 16, 16, 64)           0         ['conv2d_27[0][0]']           \n",
      " ng2D)                                                                                            \n",
      "                                                                                                  \n",
      " conv2d_28 (Conv2D)          (None, 16, 16, 64)           36928     ['max_pooling2d_12[0][0]']    \n",
      "                                                                                                  \n",
      " batch_normalization_8 (Bat  (None, 16, 16, 64)           256       ['conv2d_28[0][0]']           \n",
      " chNormalization)                                                                                 \n",
      "                                                                                                  \n",
      " re_lu_7 (ReLU)              (None, 16, 16, 64)           0         ['batch_normalization_8[0][0]'\n",
      "                                                                    ]                             \n",
      "                                                                                                  \n",
      " conv2d_29 (Conv2D)          (None, 16, 16, 128)          73856     ['re_lu_7[0][0]']             \n",
      "                                                                                                  \n",
      " batch_normalization_9 (Bat  (None, 16, 16, 128)          512       ['conv2d_29[0][0]']           \n",
      " chNormalization)                                                                                 \n",
      "                                                                                                  \n",
      " conv2d_30 (Conv2D)          (None, 16, 16, 64)           8256      ['batch_normalization_9[0][0]'\n",
      "                                                                    ]                             \n",
      "                                                                                                  \n",
      " add_4 (Add)                 (None, 16, 16, 64)           0         ['max_pooling2d_12[0][0]',    \n",
      "                                                                     'conv2d_30[0][0]']           \n",
      "                                                                                                  \n",
      " re_lu_8 (ReLU)              (None, 16, 16, 64)           0         ['add_4[0][0]']               \n",
      "                                                                                                  \n",
      "==================================================================================================\n",
      "Total params: 129280 (505.00 KB)\n",
      "Trainable params: 128896 (503.50 KB)\n",
      "Non-trainable params: 384 (1.50 KB)\n",
      "__________________________________________________________________________________________________\n"
     ]
    }
   ],
   "source": [
    "rb_model.summary()"
   ]
  },
  {
   "cell_type": "code",
   "execution_count": 27,
   "metadata": {
    "ExecuteTime": {
     "end_time": "2023-03-03T00:58:45.600315Z",
     "start_time": "2023-03-03T00:58:45.370232Z"
    },
    "scrolled": false
   },
   "outputs": [
    {
     "data": {
      "image/png": "[encoded data removed]",
      "text/plain": [
       "<IPython.core.display.Image object>"
      ]
     },
     "execution_count": 27,
     "metadata": {},
     "output_type": "execute_result"
    }
   ],
   "source": [
    "keras.utils.plot_model(rb_model, show_shapes=True,to_file=\"Residual_block_model.png\")"
   ]
  },
  {
   "cell_type": "markdown",
   "metadata": {
    "slideshow": {
     "slide_type": "slide"
    }
   },
   "source": [
    "### 다중 출력 모델\n",
    "- 가정\n",
    "    - iris 데이터셋에서 꽃받침의 너비와 높이로 꽃잎의 너비, 높이, 꽃 종류를 예측하는 모델\n",
    "    - 출력결과가 3개가 나와야 한다.\n",
    "- X: 꽃받침 너비, 높이\n",
    "- y: 꽃잎 너비, 높이, 꽃 종류"
   ]
  },
  {
   "cell_type": "code",
   "execution_count": 60,
   "metadata": {
    "ExecuteTime": {
     "end_time": "2023-03-03T01:26:04.068585Z",
     "start_time": "2023-03-03T01:26:04.058946Z"
    }
   },
   "outputs": [
    {
     "data": {
      "text/plain": [
       "(150, 4)"
      ]
     },
     "execution_count": 60,
     "metadata": {},
     "output_type": "execute_result"
    }
   ],
   "source": [
    "from sklearn.datasets import load_iris\n",
    "\n",
    "X, y = load_iris(return_X_y=True)\n",
    "X.shape"
   ]
  },
  {
   "cell_type": "code",
   "execution_count": 62,
   "metadata": {},
   "outputs": [
    {
     "data": {
      "text/plain": [
       "array([0, 0, 0, 0, 0, 0, 0, 0, 0, 0, 0, 0, 0, 0, 0, 0, 0, 0, 0, 0, 0, 0,\n",
       "       0, 0, 0, 0, 0, 0, 0, 0, 0, 0, 0, 0, 0, 0, 0, 0, 0, 0, 0, 0, 0, 0,\n",
       "       0, 0, 0, 0, 0, 0, 1, 1, 1, 1, 1, 1, 1, 1, 1, 1, 1, 1, 1, 1, 1, 1,\n",
       "       1, 1, 1, 1, 1, 1, 1, 1, 1, 1, 1, 1, 1, 1, 1, 1, 1, 1, 1, 1, 1, 1,\n",
       "       1, 1, 1, 1, 1, 1, 1, 1, 1, 1, 1, 1, 2, 2, 2, 2, 2, 2, 2, 2, 2, 2,\n",
       "       2, 2, 2, 2, 2, 2, 2, 2, 2, 2, 2, 2, 2, 2, 2, 2, 2, 2, 2, 2, 2, 2,\n",
       "       2, 2, 2, 2, 2, 2, 2, 2, 2, 2, 2, 2, 2, 2, 2, 2, 2, 2])"
      ]
     },
     "execution_count": 62,
     "metadata": {},
     "output_type": "execute_result"
    }
   ],
   "source": [
    "y"
   ]
  },
  {
   "cell_type": "code",
   "execution_count": 37,
   "metadata": {
    "ExecuteTime": {
     "end_time": "2023-03-03T01:28:14.603901Z",
     "start_time": "2023-03-03T01:28:14.588849Z"
    }
   },
   "outputs": [
    {
     "data": {
      "text/plain": [
       "((150, 2), (150,), (150,), (150,))"
      ]
     },
     "execution_count": 37,
     "metadata": {},
     "output_type": "execute_result"
    }
   ],
   "source": [
    "# X, y의 형태를 변환 \n",
    "# y1: petal length, y2: petal width, y3: target(품종)\n",
    "y1 = X[:, 2] # 꽃잎의 길이\n",
    "y2 = X[:, 3] # 꽃잎의 너비\n",
    "y3 = y      # 꽃의 품종\n",
    "\n",
    "# X: sepal length, width\n",
    "X = X[:, [0, 1]]\n",
    "X.shape, y1.shape, y2.shape, y3.shape"
   ]
  },
  {
   "cell_type": "markdown",
   "metadata": {
    "slideshow": {
     "slide_type": "fragment"
    }
   },
   "source": [
    "##### 모델 정의 및 컴파일"
   ]
  },
  {
   "cell_type": "code",
   "execution_count": 38,
   "metadata": {
    "ExecuteTime": {
     "end_time": "2023-03-03T01:36:40.355048Z",
     "start_time": "2023-03-03T01:36:40.268047Z"
    }
   },
   "outputs": [],
   "source": [
    "# 모델정의 - 입력: X, 출력: y1, y2, y3 (다중출력)\n",
    "input_tensor = layers.Input(shape=(2, )) # (150, **2**)\n",
    "\n",
    "# hidden layer\n",
    "x = layers.Dense(units=16, activation='relu')(input_tensor)\n",
    "x = layers.Dense(units=8, activation='relu')(x)\n",
    "\n",
    "# output layer\n",
    "output_tensor1 = layers.Dense(1, name='petal_length_output')(x) # 회귀\n",
    "output_tensor2 = layers.Dense(1, name='petal_width_output')(x)  # 회귀\n",
    "output_tensor3 = layers.Dense(3, activation='softmax', name='species_output')(x) # 다중분류\n",
    "\n",
    "# input이나 output이 여러개일 경우 List로 묶어서 전달.\n",
    "model = models.Model(input_tensor, [output_tensor1, output_tensor2, output_tensor3])"
   ]
  },
  {
   "cell_type": "code",
   "execution_count": 39,
   "metadata": {
    "ExecuteTime": {
     "end_time": "2023-03-03T01:36:50.078401Z",
     "start_time": "2023-03-03T01:36:50.050619Z"
    },
    "scrolled": false
   },
   "outputs": [
    {
     "name": "stdout",
     "output_type": "stream",
     "text": [
      "Model: \"model_9\"\n",
      "__________________________________________________________________________________________________\n",
      " Layer (type)                Output Shape                 Param #   Connected to                  \n",
      "==================================================================================================\n",
      " input_14 (InputLayer)       [(None, 2)]                  0         []                            \n",
      "                                                                                                  \n",
      " dense_12 (Dense)            (None, 16)                   48        ['input_14[0][0]']            \n",
      "                                                                                                  \n",
      " dense_13 (Dense)            (None, 8)                    136       ['dense_12[0][0]']            \n",
      "                                                                                                  \n",
      " petal_length_output (Dense  (None, 1)                    9         ['dense_13[0][0]']            \n",
      " )                                                                                                \n",
      "                                                                                                  \n",
      " petal_width_output (Dense)  (None, 1)                    9         ['dense_13[0][0]']            \n",
      "                                                                                                  \n",
      " species_output (Dense)      (None, 3)                    27        ['dense_13[0][0]']            \n",
      "                                                                                                  \n",
      "==================================================================================================\n",
      "Total params: 229 (916.00 Byte)\n",
      "Trainable params: 229 (916.00 Byte)\n",
      "Non-trainable params: 0 (0.00 Byte)\n",
      "__________________________________________________________________________________________________\n"
     ]
    }
   ],
   "source": [
    "model.summary()"
   ]
  },
  {
   "cell_type": "code",
   "execution_count": 73,
   "metadata": {
    "ExecuteTime": {
     "end_time": "2023-03-03T01:37:26.707697Z",
     "start_time": "2023-03-03T01:37:26.491670Z"
    }
   },
   "outputs": [
    {
     "data": {
      "image/png": "[encoded data removed]",
      "text/plain": [
       "<IPython.core.display.Image object>"
      ]
     },
     "execution_count": 73,
     "metadata": {},
     "output_type": "execute_result"
    }
   ],
   "source": [
    "keras.utils.plot_model(model, show_shapes=True, to_file=\"model_iris_multi_output.png\")"
   ]
  },
  {
   "cell_type": "code",
   "execution_count": 41,
   "metadata": {
    "ExecuteTime": {
     "end_time": "2023-03-03T01:43:19.777294Z",
     "start_time": "2023-03-03T01:43:19.748296Z"
    }
   },
   "outputs": [],
   "source": [
    "# compile\n",
    "model.compile(optimizer='adam', \n",
    "              loss=[\"mse\", \"mse\", \"sparse_categorical_crossentropy\"])\n",
    "             # 출력 결과 순서별로 loss를 구해서 모두 더한 Total Loss 를 이용해 최적화작업을 수행한다."
   ]
  },
  {
   "cell_type": "code",
   "execution_count": 42,
   "metadata": {
    "ExecuteTime": {
     "end_time": "2023-03-03T01:53:06.316871Z",
     "start_time": "2023-03-03T01:53:06.293241Z"
    }
   },
   "outputs": [
    {
     "data": {
      "text/plain": [
       "<_TensorSliceDataset element_spec=(TensorSpec(shape=(2,), dtype=tf.float64, name=None), (TensorSpec(shape=(), dtype=tf.float64, name=None), TensorSpec(shape=(), dtype=tf.float64, name=None), TensorSpec(shape=(), dtype=tf.int32, name=None)))>"
      ]
     },
     "execution_count": 42,
     "metadata": {},
     "output_type": "execute_result"
    }
   ],
   "source": [
    "tf.data.Dataset.from_tensor_slices((X, (y1, y2, y3)))"
   ]
  },
  {
   "cell_type": "code",
   "execution_count": 49,
   "metadata": {
    "ExecuteTime": {
     "end_time": "2023-03-03T01:43:29.343158Z",
     "start_time": "2023-03-03T01:43:20.523691Z"
    },
    "scrolled": true
   },
   "outputs": [
    {
     "name": "stdout",
     "output_type": "stream",
     "text": [
      "Epoch 1/100\n",
      "4/4 [==============================] - 0s 21ms/step - loss: 1.4926 - petal_length_output_loss: 0.4580 - petal_width_output_loss: 0.2237 - species_output_loss: 0.8109 - val_loss: 2.6439 - val_petal_length_output_loss: 0.7225 - val_petal_width_output_loss: 0.5247 - val_species_output_loss: 1.3967\n",
      "Epoch 2/100\n",
      "4/4 [==============================] - 0s 13ms/step - loss: 1.4811 - petal_length_output_loss: 0.4537 - petal_width_output_loss: 0.2202 - species_output_loss: 0.8071 - val_loss: 2.6781 - val_petal_length_output_loss: 0.7589 - val_petal_width_output_loss: 0.5202 - val_species_output_loss: 1.3990\n",
      "Epoch 3/100\n",
      "4/4 [==============================] - 0s 12ms/step - loss: 1.4690 - petal_length_output_loss: 0.4491 - petal_width_output_loss: 0.2166 - species_output_loss: 0.8034 - val_loss: 2.7162 - val_petal_length_output_loss: 0.7882 - val_petal_width_output_loss: 0.5182 - val_species_output_loss: 1.4098\n",
      "Epoch 4/100\n",
      "4/4 [==============================] - 0s 12ms/step - loss: 1.4630 - petal_length_output_loss: 0.4495 - petal_width_output_loss: 0.2134 - species_output_loss: 0.8001 - val_loss: 2.7583 - val_petal_length_output_loss: 0.8178 - val_petal_width_output_loss: 0.5224 - val_species_output_loss: 1.4181\n",
      "Epoch 5/100\n",
      "4/4 [==============================] - 0s 12ms/step - loss: 1.4528 - petal_length_output_loss: 0.4466 - petal_width_output_loss: 0.2100 - species_output_loss: 0.7962 - val_loss: 2.7051 - val_petal_length_output_loss: 0.7738 - val_petal_width_output_loss: 0.5212 - val_species_output_loss: 1.4100\n",
      "Epoch 6/100\n",
      "4/4 [==============================] - 0s 11ms/step - loss: 1.4430 - petal_length_output_loss: 0.4429 - petal_width_output_loss: 0.2069 - species_output_loss: 0.7932 - val_loss: 2.6532 - val_petal_length_output_loss: 0.7399 - val_petal_width_output_loss: 0.5179 - val_species_output_loss: 1.3954\n",
      "Epoch 7/100\n",
      "4/4 [==============================] - 0s 11ms/step - loss: 1.4340 - petal_length_output_loss: 0.4404 - petal_width_output_loss: 0.2038 - species_output_loss: 0.7898 - val_loss: 2.6327 - val_petal_length_output_loss: 0.7227 - val_petal_width_output_loss: 0.5141 - val_species_output_loss: 1.3959\n",
      "Epoch 8/100\n",
      "4/4 [==============================] - 0s 11ms/step - loss: 1.4258 - petal_length_output_loss: 0.4386 - petal_width_output_loss: 0.2010 - species_output_loss: 0.7862 - val_loss: 2.6552 - val_petal_length_output_loss: 0.7492 - val_petal_width_output_loss: 0.5099 - val_species_output_loss: 1.3962\n",
      "Epoch 9/100\n",
      "4/4 [==============================] - 0s 12ms/step - loss: 1.4155 - petal_length_output_loss: 0.4352 - petal_width_output_loss: 0.1978 - species_output_loss: 0.7825 - val_loss: 2.6293 - val_petal_length_output_loss: 0.7383 - val_petal_width_output_loss: 0.4988 - val_species_output_loss: 1.3922\n",
      "Epoch 10/100\n",
      "4/4 [==============================] - 0s 11ms/step - loss: 1.4092 - petal_length_output_loss: 0.4346 - petal_width_output_loss: 0.1952 - species_output_loss: 0.7794 - val_loss: 2.6357 - val_petal_length_output_loss: 0.7486 - val_petal_width_output_loss: 0.4945 - val_species_output_loss: 1.3925\n",
      "Epoch 11/100\n",
      "4/4 [==============================] - 0s 11ms/step - loss: 1.3987 - petal_length_output_loss: 0.4308 - petal_width_output_loss: 0.1922 - species_output_loss: 0.7757 - val_loss: 2.6055 - val_petal_length_output_loss: 0.7332 - val_petal_width_output_loss: 0.4871 - val_species_output_loss: 1.3852\n",
      "Epoch 12/100\n",
      "4/4 [==============================] - 0s 7ms/step - loss: 1.3905 - petal_length_output_loss: 0.4288 - petal_width_output_loss: 0.1895 - species_output_loss: 0.7722 - val_loss: 2.5807 - val_petal_length_output_loss: 0.7144 - val_petal_width_output_loss: 0.4832 - val_species_output_loss: 1.3831\n",
      "Epoch 13/100\n",
      "4/4 [==============================] - 0s 11ms/step - loss: 1.3827 - petal_length_output_loss: 0.4270 - petal_width_output_loss: 0.1869 - species_output_loss: 0.7688 - val_loss: 2.5723 - val_petal_length_output_loss: 0.7069 - val_petal_width_output_loss: 0.4807 - val_species_output_loss: 1.3848\n",
      "Epoch 14/100\n",
      "4/4 [==============================] - 0s 13ms/step - loss: 1.3752 - petal_length_output_loss: 0.4254 - petal_width_output_loss: 0.1843 - species_output_loss: 0.7654 - val_loss: 2.5787 - val_petal_length_output_loss: 0.7146 - val_petal_width_output_loss: 0.4764 - val_species_output_loss: 1.3877\n",
      "Epoch 15/100\n",
      "4/4 [==============================] - 0s 11ms/step - loss: 1.3677 - petal_length_output_loss: 0.4238 - petal_width_output_loss: 0.1820 - species_output_loss: 0.7619 - val_loss: 2.5690 - val_petal_length_output_loss: 0.7117 - val_petal_width_output_loss: 0.4710 - val_species_output_loss: 1.3864\n",
      "Epoch 16/100\n",
      "4/4 [==============================] - 0s 8ms/step - loss: 1.3604 - petal_length_output_loss: 0.4220 - petal_width_output_loss: 0.1796 - species_output_loss: 0.7588 - val_loss: 2.5677 - val_petal_length_output_loss: 0.7179 - val_petal_width_output_loss: 0.4668 - val_species_output_loss: 1.3831\n",
      "Epoch 17/100\n",
      "4/4 [==============================] - 0s 7ms/step - loss: 1.3530 - petal_length_output_loss: 0.4206 - petal_width_output_loss: 0.1771 - species_output_loss: 0.7552 - val_loss: 2.5674 - val_petal_length_output_loss: 0.7191 - val_petal_width_output_loss: 0.4643 - val_species_output_loss: 1.3840\n",
      "Epoch 18/100\n",
      "4/4 [==============================] - 0s 11ms/step - loss: 1.3476 - petal_length_output_loss: 0.4201 - petal_width_output_loss: 0.1752 - species_output_loss: 0.7523 - val_loss: 2.5472 - val_petal_length_output_loss: 0.7097 - val_petal_width_output_loss: 0.4583 - val_species_output_loss: 1.3791\n",
      "Epoch 19/100\n",
      "4/4 [==============================] - 0s 11ms/step - loss: 1.3400 - petal_length_output_loss: 0.4184 - petal_width_output_loss: 0.1728 - species_output_loss: 0.7487 - val_loss: 2.5803 - val_petal_length_output_loss: 0.7305 - val_petal_width_output_loss: 0.4624 - val_species_output_loss: 1.3875\n",
      "Epoch 20/100\n",
      "4/4 [==============================] - 0s 11ms/step - loss: 1.3347 - petal_length_output_loss: 0.4183 - petal_width_output_loss: 0.1707 - species_output_loss: 0.7457 - val_loss: 2.5878 - val_petal_length_output_loss: 0.7361 - val_petal_width_output_loss: 0.4636 - val_species_output_loss: 1.3881\n",
      "Epoch 21/100\n",
      "4/4 [==============================] - 0s 11ms/step - loss: 1.3267 - petal_length_output_loss: 0.4157 - petal_width_output_loss: 0.1687 - species_output_loss: 0.7423 - val_loss: 2.5529 - val_petal_length_output_loss: 0.7069 - val_petal_width_output_loss: 0.4615 - val_species_output_loss: 1.3845\n",
      "Epoch 22/100\n",
      "4/4 [==============================] - 0s 6ms/step - loss: 1.3218 - petal_length_output_loss: 0.4153 - petal_width_output_loss: 0.1671 - species_output_loss: 0.7393 - val_loss: 2.4986 - val_petal_length_output_loss: 0.6741 - val_petal_width_output_loss: 0.4503 - val_species_output_loss: 1.3742\n",
      "Epoch 23/100\n",
      "4/4 [==============================] - 0s 11ms/step - loss: 1.3141 - petal_length_output_loss: 0.4133 - petal_width_output_loss: 0.1650 - species_output_loss: 0.7358 - val_loss: 2.5063 - val_petal_length_output_loss: 0.6821 - val_petal_width_output_loss: 0.4460 - val_species_output_loss: 1.3782\n",
      "Epoch 24/100\n",
      "4/4 [==============================] - 0s 11ms/step - loss: 1.3092 - petal_length_output_loss: 0.4127 - petal_width_output_loss: 0.1633 - species_output_loss: 0.7332 - val_loss: 2.5458 - val_petal_length_output_loss: 0.7061 - val_petal_width_output_loss: 0.4476 - val_species_output_loss: 1.3921\n",
      "Epoch 25/100\n",
      "4/4 [==============================] - 0s 11ms/step - loss: 1.3016 - petal_length_output_loss: 0.4106 - petal_width_output_loss: 0.1612 - species_output_loss: 0.7297 - val_loss: 2.5322 - val_petal_length_output_loss: 0.7018 - val_petal_width_output_loss: 0.4409 - val_species_output_loss: 1.3895\n",
      "Epoch 26/100\n",
      "4/4 [==============================] - 0s 11ms/step - loss: 1.2960 - petal_length_output_loss: 0.4094 - petal_width_output_loss: 0.1596 - species_output_loss: 0.7269 - val_loss: 2.5050 - val_petal_length_output_loss: 0.6850 - val_petal_width_output_loss: 0.4326 - val_species_output_loss: 1.3873\n",
      "Epoch 27/100\n"
     ]
    },
    {
     "name": "stdout",
     "output_type": "stream",
     "text": [
      "4/4 [==============================] - 0s 12ms/step - loss: 1.2916 - petal_length_output_loss: 0.4097 - petal_width_output_loss: 0.1583 - species_output_loss: 0.7236 - val_loss: 2.4618 - val_petal_length_output_loss: 0.6670 - val_petal_width_output_loss: 0.4217 - val_species_output_loss: 1.3731\n",
      "Epoch 28/100\n",
      "4/4 [==============================] - 0s 14ms/step - loss: 1.2856 - petal_length_output_loss: 0.4081 - petal_width_output_loss: 0.1568 - species_output_loss: 0.7206 - val_loss: 2.4652 - val_petal_length_output_loss: 0.6801 - val_petal_width_output_loss: 0.4167 - val_species_output_loss: 1.3684\n",
      "Epoch 29/100\n",
      "4/4 [==============================] - 0s 11ms/step - loss: 1.2819 - petal_length_output_loss: 0.4087 - petal_width_output_loss: 0.1554 - species_output_loss: 0.7178 - val_loss: 2.5002 - val_petal_length_output_loss: 0.7068 - val_petal_width_output_loss: 0.4199 - val_species_output_loss: 1.3735\n",
      "Epoch 30/100\n",
      "4/4 [==============================] - 0s 10ms/step - loss: 1.2756 - petal_length_output_loss: 0.4069 - petal_width_output_loss: 0.1539 - species_output_loss: 0.7147 - val_loss: 2.4573 - val_petal_length_output_loss: 0.6819 - val_petal_width_output_loss: 0.4145 - val_species_output_loss: 1.3609\n",
      "Epoch 31/100\n",
      "4/4 [==============================] - 0s 10ms/step - loss: 1.2698 - petal_length_output_loss: 0.4056 - petal_width_output_loss: 0.1527 - species_output_loss: 0.7115 - val_loss: 2.4405 - val_petal_length_output_loss: 0.6725 - val_petal_width_output_loss: 0.4128 - val_species_output_loss: 1.3553\n",
      "Epoch 32/100\n",
      "4/4 [==============================] - 0s 11ms/step - loss: 1.2661 - petal_length_output_loss: 0.4056 - petal_width_output_loss: 0.1515 - species_output_loss: 0.7089 - val_loss: 2.4774 - val_petal_length_output_loss: 0.6965 - val_petal_width_output_loss: 0.4183 - val_species_output_loss: 1.3626\n",
      "Epoch 33/100\n",
      "4/4 [==============================] - 0s 10ms/step - loss: 1.2597 - petal_length_output_loss: 0.4039 - petal_width_output_loss: 0.1501 - species_output_loss: 0.7057 - val_loss: 2.4620 - val_petal_length_output_loss: 0.6879 - val_petal_width_output_loss: 0.4167 - val_species_output_loss: 1.3574\n",
      "Epoch 34/100\n",
      "4/4 [==============================] - 0s 10ms/step - loss: 1.2541 - petal_length_output_loss: 0.4026 - petal_width_output_loss: 0.1489 - species_output_loss: 0.7027 - val_loss: 2.4241 - val_petal_length_output_loss: 0.6682 - val_petal_width_output_loss: 0.4109 - val_species_output_loss: 1.3449\n",
      "Epoch 35/100\n",
      "4/4 [==============================] - 0s 10ms/step - loss: 1.2542 - petal_length_output_loss: 0.4055 - petal_width_output_loss: 0.1484 - species_output_loss: 0.7003 - val_loss: 2.3735 - val_petal_length_output_loss: 0.6437 - val_petal_width_output_loss: 0.4011 - val_species_output_loss: 1.3286\n",
      "Epoch 36/100\n",
      "4/4 [==============================] - 0s 7ms/step - loss: 1.2488 - petal_length_output_loss: 0.4046 - petal_width_output_loss: 0.1469 - species_output_loss: 0.6972 - val_loss: 2.4366 - val_petal_length_output_loss: 0.6911 - val_petal_width_output_loss: 0.4066 - val_species_output_loss: 1.3389\n",
      "Epoch 37/100\n",
      "4/4 [==============================] - 0s 11ms/step - loss: 1.2414 - petal_length_output_loss: 0.4012 - petal_width_output_loss: 0.1458 - species_output_loss: 0.6944 - val_loss: 2.4354 - val_petal_length_output_loss: 0.6880 - val_petal_width_output_loss: 0.4063 - val_species_output_loss: 1.3412\n",
      "Epoch 38/100\n",
      "4/4 [==============================] - 0s 10ms/step - loss: 1.2385 - petal_length_output_loss: 0.4017 - petal_width_output_loss: 0.1450 - species_output_loss: 0.6918 - val_loss: 2.4036 - val_petal_length_output_loss: 0.6696 - val_petal_width_output_loss: 0.4010 - val_species_output_loss: 1.3330\n",
      "Epoch 39/100\n",
      "4/4 [==============================] - 0s 11ms/step - loss: 1.2331 - petal_length_output_loss: 0.4000 - petal_width_output_loss: 0.1440 - species_output_loss: 0.6891 - val_loss: 2.4101 - val_petal_length_output_loss: 0.6768 - val_petal_width_output_loss: 0.4014 - val_species_output_loss: 1.3319\n",
      "Epoch 40/100\n",
      "4/4 [==============================] - 0s 11ms/step - loss: 1.2292 - petal_length_output_loss: 0.3998 - petal_width_output_loss: 0.1432 - species_output_loss: 0.6862 - val_loss: 2.4264 - val_petal_length_output_loss: 0.6848 - val_petal_width_output_loss: 0.4035 - val_species_output_loss: 1.3381\n",
      "Epoch 41/100\n",
      "4/4 [==============================] - 0s 8ms/step - loss: 1.2257 - petal_length_output_loss: 0.3993 - petal_width_output_loss: 0.1426 - species_output_loss: 0.6838 - val_loss: 2.3905 - val_petal_length_output_loss: 0.6638 - val_petal_width_output_loss: 0.3953 - val_species_output_loss: 1.3314\n",
      "Epoch 42/100\n",
      "4/4 [==============================] - 0s 12ms/step - loss: 1.2227 - petal_length_output_loss: 0.3994 - petal_width_output_loss: 0.1420 - species_output_loss: 0.6812 - val_loss: 2.3709 - val_petal_length_output_loss: 0.6547 - val_petal_width_output_loss: 0.3894 - val_species_output_loss: 1.3267\n",
      "Epoch 43/100\n",
      "4/4 [==============================] - 0s 11ms/step - loss: 1.2179 - petal_length_output_loss: 0.3985 - petal_width_output_loss: 0.1410 - species_output_loss: 0.6785 - val_loss: 2.3866 - val_petal_length_output_loss: 0.6656 - val_petal_width_output_loss: 0.3907 - val_species_output_loss: 1.3304\n",
      "Epoch 44/100\n",
      "4/4 [==============================] - 0s 11ms/step - loss: 1.2140 - petal_length_output_loss: 0.3975 - petal_width_output_loss: 0.1402 - species_output_loss: 0.6763 - val_loss: 2.4175 - val_petal_length_output_loss: 0.6832 - val_petal_width_output_loss: 0.3939 - val_species_output_loss: 1.3404\n",
      "Epoch 45/100\n",
      "4/4 [==============================] - 0s 7ms/step - loss: 1.2109 - petal_length_output_loss: 0.3975 - petal_width_output_loss: 0.1396 - species_output_loss: 0.6739 - val_loss: 2.4200 - val_petal_length_output_loss: 0.6862 - val_petal_width_output_loss: 0.3932 - val_species_output_loss: 1.3405\n",
      "Epoch 46/100\n",
      "4/4 [==============================] - 0s 11ms/step - loss: 1.2083 - petal_length_output_loss: 0.3976 - petal_width_output_loss: 0.1392 - species_output_loss: 0.6715 - val_loss: 2.3850 - val_petal_length_output_loss: 0.6685 - val_petal_width_output_loss: 0.3870 - val_species_output_loss: 1.3295\n",
      "Epoch 47/100\n",
      "4/4 [==============================] - 0s 11ms/step - loss: 1.2039 - petal_length_output_loss: 0.3965 - petal_width_output_loss: 0.1384 - species_output_loss: 0.6689 - val_loss: 2.3755 - val_petal_length_output_loss: 0.6638 - val_petal_width_output_loss: 0.3854 - val_species_output_loss: 1.3263\n",
      "Epoch 48/100\n",
      "4/4 [==============================] - 0s 11ms/step - loss: 1.2015 - petal_length_output_loss: 0.3971 - petal_width_output_loss: 0.1380 - species_output_loss: 0.6664 - val_loss: 2.3330 - val_petal_length_output_loss: 0.6391 - val_petal_width_output_loss: 0.3777 - val_species_output_loss: 1.3162\n",
      "Epoch 49/100\n",
      "4/4 [==============================] - 0s 8ms/step - loss: 1.1981 - petal_length_output_loss: 0.3962 - petal_width_output_loss: 0.1376 - species_output_loss: 0.6643 - val_loss: 2.3470 - val_petal_length_output_loss: 0.6544 - val_petal_width_output_loss: 0.3797 - val_species_output_loss: 1.3129\n",
      "Epoch 50/100\n",
      "4/4 [==============================] - 0s 7ms/step - loss: 1.1966 - petal_length_output_loss: 0.3974 - petal_width_output_loss: 0.1371 - species_output_loss: 0.6620 - val_loss: 2.3758 - val_petal_length_output_loss: 0.6802 - val_petal_width_output_loss: 0.3818 - val_species_output_loss: 1.3138\n",
      "Epoch 51/100\n",
      "4/4 [==============================] - 0s 10ms/step - loss: 1.1919 - petal_length_output_loss: 0.3957 - petal_width_output_loss: 0.1364 - species_output_loss: 0.6599 - val_loss: 2.3574 - val_petal_length_output_loss: 0.6696 - val_petal_width_output_loss: 0.3752 - val_species_output_loss: 1.3127\n",
      "Epoch 52/100\n",
      "4/4 [==============================] - 0s 10ms/step - loss: 1.1905 - petal_length_output_loss: 0.3968 - petal_width_output_loss: 0.1362 - species_output_loss: 0.6576 - val_loss: 2.3026 - val_petal_length_output_loss: 0.6362 - val_petal_width_output_loss: 0.3678 - val_species_output_loss: 1.2987\n",
      "Epoch 53/100\n",
      "4/4 [==============================] - 0s 11ms/step - loss: 1.1858 - petal_length_output_loss: 0.3949 - petal_width_output_loss: 0.1357 - species_output_loss: 0.6551 - val_loss: 2.3157 - val_petal_length_output_loss: 0.6488 - val_petal_width_output_loss: 0.3667 - val_species_output_loss: 1.3002\n"
     ]
    },
    {
     "name": "stdout",
     "output_type": "stream",
     "text": [
      "Epoch 54/100\n",
      "4/4 [==============================] - 0s 11ms/step - loss: 1.1833 - petal_length_output_loss: 0.3948 - petal_width_output_loss: 0.1352 - species_output_loss: 0.6533 - val_loss: 2.3511 - val_petal_length_output_loss: 0.6750 - val_petal_width_output_loss: 0.3718 - val_species_output_loss: 1.3043\n",
      "Epoch 55/100\n",
      "4/4 [==============================] - 0s 8ms/step - loss: 1.1823 - petal_length_output_loss: 0.3955 - petal_width_output_loss: 0.1350 - species_output_loss: 0.6518 - val_loss: 2.3275 - val_petal_length_output_loss: 0.6628 - val_petal_width_output_loss: 0.3682 - val_species_output_loss: 1.2965\n",
      "Epoch 56/100\n",
      "4/4 [==============================] - 0s 11ms/step - loss: 1.1782 - petal_length_output_loss: 0.3944 - petal_width_output_loss: 0.1346 - species_output_loss: 0.6492 - val_loss: 2.3241 - val_petal_length_output_loss: 0.6623 - val_petal_width_output_loss: 0.3682 - val_species_output_loss: 1.2936\n",
      "Epoch 57/100\n",
      "4/4 [==============================] - 0s 10ms/step - loss: 1.1752 - petal_length_output_loss: 0.3937 - petal_width_output_loss: 0.1341 - species_output_loss: 0.6474 - val_loss: 2.3506 - val_petal_length_output_loss: 0.6771 - val_petal_width_output_loss: 0.3737 - val_species_output_loss: 1.2998\n",
      "Epoch 58/100\n",
      "4/4 [==============================] - 0s 10ms/step - loss: 1.1745 - petal_length_output_loss: 0.3950 - petal_width_output_loss: 0.1339 - species_output_loss: 0.6457 - val_loss: 2.3808 - val_petal_length_output_loss: 0.6975 - val_petal_width_output_loss: 0.3787 - val_species_output_loss: 1.3046\n",
      "Epoch 59/100\n",
      "4/4 [==============================] - 0s 10ms/step - loss: 1.1715 - petal_length_output_loss: 0.3941 - petal_width_output_loss: 0.1336 - species_output_loss: 0.6438 - val_loss: 2.3301 - val_petal_length_output_loss: 0.6624 - val_petal_width_output_loss: 0.3729 - val_species_output_loss: 1.2948\n",
      "Epoch 60/100\n",
      "4/4 [==============================] - 0s 10ms/step - loss: 1.1697 - petal_length_output_loss: 0.3948 - petal_width_output_loss: 0.1334 - species_output_loss: 0.6414 - val_loss: 2.2968 - val_petal_length_output_loss: 0.6389 - val_petal_width_output_loss: 0.3672 - val_species_output_loss: 1.2907\n",
      "Epoch 61/100\n",
      "4/4 [==============================] - 0s 14ms/step - loss: 1.1657 - petal_length_output_loss: 0.3933 - petal_width_output_loss: 0.1330 - species_output_loss: 0.6394 - val_loss: 2.3129 - val_petal_length_output_loss: 0.6499 - val_petal_width_output_loss: 0.3667 - val_species_output_loss: 1.2964\n",
      "Epoch 62/100\n",
      "4/4 [==============================] - 0s 11ms/step - loss: 1.1633 - petal_length_output_loss: 0.3927 - petal_width_output_loss: 0.1328 - species_output_loss: 0.6378 - val_loss: 2.3171 - val_petal_length_output_loss: 0.6571 - val_petal_width_output_loss: 0.3643 - val_species_output_loss: 1.2956\n",
      "Epoch 63/100\n",
      "4/4 [==============================] - 0s 10ms/step - loss: 1.1613 - petal_length_output_loss: 0.3926 - petal_width_output_loss: 0.1324 - species_output_loss: 0.6363 - val_loss: 2.3544 - val_petal_length_output_loss: 0.6827 - val_petal_width_output_loss: 0.3663 - val_species_output_loss: 1.3055\n",
      "Epoch 64/100\n",
      "4/4 [==============================] - 0s 10ms/step - loss: 1.1602 - petal_length_output_loss: 0.3932 - petal_width_output_loss: 0.1323 - species_output_loss: 0.6346 - val_loss: 2.3624 - val_petal_length_output_loss: 0.6865 - val_petal_width_output_loss: 0.3703 - val_species_output_loss: 1.3057\n",
      "Epoch 65/100\n",
      "4/4 [==============================] - 0s 11ms/step - loss: 1.1586 - petal_length_output_loss: 0.3933 - petal_width_output_loss: 0.1323 - species_output_loss: 0.6330 - val_loss: 2.3107 - val_petal_length_output_loss: 0.6545 - val_petal_width_output_loss: 0.3633 - val_species_output_loss: 1.2929\n",
      "Epoch 66/100\n",
      "4/4 [==============================] - 0s 10ms/step - loss: 1.1546 - petal_length_output_loss: 0.3920 - petal_width_output_loss: 0.1318 - species_output_loss: 0.6308 - val_loss: 2.3129 - val_petal_length_output_loss: 0.6535 - val_petal_width_output_loss: 0.3651 - val_species_output_loss: 1.2943\n",
      "Epoch 67/100\n",
      "4/4 [==============================] - 0s 7ms/step - loss: 1.1525 - petal_length_output_loss: 0.3919 - petal_width_output_loss: 0.1316 - species_output_loss: 0.6290 - val_loss: 2.3112 - val_petal_length_output_loss: 0.6543 - val_petal_width_output_loss: 0.3654 - val_species_output_loss: 1.2915\n",
      "Epoch 68/100\n",
      "4/4 [==============================] - 0s 10ms/step - loss: 1.1509 - petal_length_output_loss: 0.3919 - petal_width_output_loss: 0.1315 - species_output_loss: 0.6275 - val_loss: 2.3065 - val_petal_length_output_loss: 0.6494 - val_petal_width_output_loss: 0.3648 - val_species_output_loss: 1.2923\n",
      "Epoch 69/100\n",
      "4/4 [==============================] - 0s 11ms/step - loss: 1.1503 - petal_length_output_loss: 0.3932 - petal_width_output_loss: 0.1314 - species_output_loss: 0.6257 - val_loss: 2.2706 - val_petal_length_output_loss: 0.6363 - val_petal_width_output_loss: 0.3568 - val_species_output_loss: 1.2775\n",
      "Epoch 70/100\n",
      "4/4 [==============================] - 0s 11ms/step - loss: 1.1469 - petal_length_output_loss: 0.3917 - petal_width_output_loss: 0.1312 - species_output_loss: 0.6240 - val_loss: 2.2919 - val_petal_length_output_loss: 0.6581 - val_petal_width_output_loss: 0.3580 - val_species_output_loss: 1.2759\n",
      "Epoch 71/100\n",
      "4/4 [==============================] - 0s 11ms/step - loss: 1.1466 - petal_length_output_loss: 0.3925 - petal_width_output_loss: 0.1311 - species_output_loss: 0.6230 - val_loss: 2.3232 - val_petal_length_output_loss: 0.6797 - val_petal_width_output_loss: 0.3597 - val_species_output_loss: 1.2839\n",
      "Epoch 72/100\n",
      "4/4 [==============================] - 0s 7ms/step - loss: 1.1440 - petal_length_output_loss: 0.3920 - petal_width_output_loss: 0.1308 - species_output_loss: 0.6211 - val_loss: 2.2929 - val_petal_length_output_loss: 0.6630 - val_petal_width_output_loss: 0.3532 - val_species_output_loss: 1.2767\n",
      "Epoch 73/100\n",
      "4/4 [==============================] - 0s 11ms/step - loss: 1.1411 - petal_length_output_loss: 0.3910 - petal_width_output_loss: 0.1307 - species_output_loss: 0.6194 - val_loss: 2.2783 - val_petal_length_output_loss: 0.6576 - val_petal_width_output_loss: 0.3510 - val_species_output_loss: 1.2697\n",
      "Epoch 74/100\n",
      "4/4 [==============================] - 0s 13ms/step - loss: 1.1401 - petal_length_output_loss: 0.3915 - petal_width_output_loss: 0.1306 - species_output_loss: 0.6180 - val_loss: 2.2730 - val_petal_length_output_loss: 0.6468 - val_petal_width_output_loss: 0.3516 - val_species_output_loss: 1.2745\n",
      "Epoch 75/100\n",
      "4/4 [==============================] - 0s 11ms/step - loss: 1.1378 - petal_length_output_loss: 0.3911 - petal_width_output_loss: 0.1305 - species_output_loss: 0.6162 - val_loss: 2.2696 - val_petal_length_output_loss: 0.6456 - val_petal_width_output_loss: 0.3547 - val_species_output_loss: 1.2694\n",
      "Epoch 76/100\n",
      "4/4 [==============================] - 0s 7ms/step - loss: 1.1364 - petal_length_output_loss: 0.3913 - petal_width_output_loss: 0.1303 - species_output_loss: 0.6148 - val_loss: 2.2789 - val_petal_length_output_loss: 0.6559 - val_petal_width_output_loss: 0.3553 - val_species_output_loss: 1.2677\n",
      "Epoch 77/100\n",
      "4/4 [==============================] - 0s 11ms/step - loss: 1.1354 - petal_length_output_loss: 0.3915 - petal_width_output_loss: 0.1302 - species_output_loss: 0.6137 - val_loss: 2.2902 - val_petal_length_output_loss: 0.6604 - val_petal_width_output_loss: 0.3571 - val_species_output_loss: 1.2727\n",
      "Epoch 78/100\n",
      "4/4 [==============================] - 0s 11ms/step - loss: 1.1344 - petal_length_output_loss: 0.3923 - petal_width_output_loss: 0.1301 - species_output_loss: 0.6120 - val_loss: 2.2426 - val_petal_length_output_loss: 0.6274 - val_petal_width_output_loss: 0.3499 - val_species_output_loss: 1.2654\n",
      "Epoch 79/100\n",
      "4/4 [==============================] - 0s 12ms/step - loss: 1.1315 - petal_length_output_loss: 0.3913 - petal_width_output_loss: 0.1301 - species_output_loss: 0.6102 - val_loss: 2.2521 - val_petal_length_output_loss: 0.6368 - val_petal_width_output_loss: 0.3493 - val_species_output_loss: 1.2660\n",
      "Epoch 80/100\n"
     ]
    },
    {
     "name": "stdout",
     "output_type": "stream",
     "text": [
      "4/4 [==============================] - 0s 11ms/step - loss: 1.1292 - petal_length_output_loss: 0.3905 - petal_width_output_loss: 0.1298 - species_output_loss: 0.6089 - val_loss: 2.2810 - val_petal_length_output_loss: 0.6589 - val_petal_width_output_loss: 0.3538 - val_species_output_loss: 1.2683\n",
      "Epoch 81/100\n",
      "4/4 [==============================] - 0s 13ms/step - loss: 1.1292 - petal_length_output_loss: 0.3914 - petal_width_output_loss: 0.1298 - species_output_loss: 0.6079 - val_loss: 2.2839 - val_petal_length_output_loss: 0.6653 - val_petal_width_output_loss: 0.3560 - val_species_output_loss: 1.2626\n",
      "Epoch 82/100\n",
      "4/4 [==============================] - 0s 11ms/step - loss: 1.1298 - petal_length_output_loss: 0.3926 - petal_width_output_loss: 0.1299 - species_output_loss: 0.6073 - val_loss: 2.3336 - val_petal_length_output_loss: 0.6960 - val_petal_width_output_loss: 0.3650 - val_species_output_loss: 1.2726\n",
      "Epoch 83/100\n",
      "4/4 [==============================] - 0s 7ms/step - loss: 1.1265 - petal_length_output_loss: 0.3915 - petal_width_output_loss: 0.1296 - species_output_loss: 0.6055 - val_loss: 2.2988 - val_petal_length_output_loss: 0.6715 - val_petal_width_output_loss: 0.3618 - val_species_output_loss: 1.2655\n",
      "Epoch 84/100\n",
      "4/4 [==============================] - 0s 11ms/step - loss: 1.1260 - petal_length_output_loss: 0.3918 - petal_width_output_loss: 0.1298 - species_output_loss: 0.6044 - val_loss: 2.3119 - val_petal_length_output_loss: 0.6717 - val_petal_width_output_loss: 0.3645 - val_species_output_loss: 1.2757\n",
      "Epoch 85/100\n",
      "4/4 [==============================] - 0s 10ms/step - loss: 1.1221 - petal_length_output_loss: 0.3903 - petal_width_output_loss: 0.1294 - species_output_loss: 0.6024 - val_loss: 2.2820 - val_petal_length_output_loss: 0.6506 - val_petal_width_output_loss: 0.3604 - val_species_output_loss: 1.2711\n",
      "Epoch 86/100\n",
      "4/4 [==============================] - 0s 11ms/step - loss: 1.1205 - petal_length_output_loss: 0.3903 - petal_width_output_loss: 0.1293 - species_output_loss: 0.6009 - val_loss: 2.2688 - val_petal_length_output_loss: 0.6447 - val_petal_width_output_loss: 0.3569 - val_species_output_loss: 1.2672\n",
      "Epoch 87/100\n",
      "4/4 [==============================] - 0s 10ms/step - loss: 1.1249 - petal_length_output_loss: 0.3947 - petal_width_output_loss: 0.1300 - species_output_loss: 0.6002 - val_loss: 2.2886 - val_petal_length_output_loss: 0.6576 - val_petal_width_output_loss: 0.3584 - val_species_output_loss: 1.2726\n",
      "Epoch 88/100\n",
      "4/4 [==============================] - 0s 10ms/step - loss: 1.1163 - petal_length_output_loss: 0.3895 - petal_width_output_loss: 0.1291 - species_output_loss: 0.5978 - val_loss: 2.2167 - val_petal_length_output_loss: 0.6187 - val_petal_width_output_loss: 0.3415 - val_species_output_loss: 1.2564\n",
      "Epoch 89/100\n",
      "4/4 [==============================] - 0s 10ms/step - loss: 1.1198 - petal_length_output_loss: 0.3934 - petal_width_output_loss: 0.1297 - species_output_loss: 0.5966 - val_loss: 2.1871 - val_petal_length_output_loss: 0.5983 - val_petal_width_output_loss: 0.3322 - val_species_output_loss: 1.2566\n",
      "Epoch 90/100\n",
      "4/4 [==============================] - 0s 10ms/step - loss: 1.1172 - petal_length_output_loss: 0.3925 - petal_width_output_loss: 0.1298 - species_output_loss: 0.5949 - val_loss: 2.2240 - val_petal_length_output_loss: 0.6282 - val_petal_width_output_loss: 0.3368 - val_species_output_loss: 1.2590\n",
      "Epoch 91/100\n",
      "4/4 [==============================] - 0s 7ms/step - loss: 1.1129 - petal_length_output_loss: 0.3897 - petal_width_output_loss: 0.1292 - species_output_loss: 0.5940 - val_loss: 2.2623 - val_petal_length_output_loss: 0.6604 - val_petal_width_output_loss: 0.3437 - val_species_output_loss: 1.2582\n",
      "Epoch 92/100\n",
      "4/4 [==============================] - 0s 11ms/step - loss: 1.1115 - petal_length_output_loss: 0.3895 - petal_width_output_loss: 0.1289 - species_output_loss: 0.5932 - val_loss: 2.2919 - val_petal_length_output_loss: 0.6791 - val_petal_width_output_loss: 0.3490 - val_species_output_loss: 1.2638\n",
      "Epoch 93/100\n",
      "4/4 [==============================] - 0s 10ms/step - loss: 1.1125 - petal_length_output_loss: 0.3913 - petal_width_output_loss: 0.1288 - species_output_loss: 0.5923 - val_loss: 2.2951 - val_petal_length_output_loss: 0.6829 - val_petal_width_output_loss: 0.3536 - val_species_output_loss: 1.2586\n",
      "Epoch 94/100\n",
      "4/4 [==============================] - 0s 10ms/step - loss: 1.1095 - petal_length_output_loss: 0.3899 - petal_width_output_loss: 0.1287 - species_output_loss: 0.5909 - val_loss: 2.2916 - val_petal_length_output_loss: 0.6765 - val_petal_width_output_loss: 0.3601 - val_species_output_loss: 1.2550\n",
      "Epoch 95/100\n",
      "4/4 [==============================] - 0s 10ms/step - loss: 1.1110 - petal_length_output_loss: 0.3915 - petal_width_output_loss: 0.1292 - species_output_loss: 0.5902 - val_loss: 2.2933 - val_petal_length_output_loss: 0.6728 - val_petal_width_output_loss: 0.3658 - val_species_output_loss: 1.2547\n",
      "Epoch 96/100\n",
      "4/4 [==============================] - 0s 10ms/step - loss: 1.1048 - petal_length_output_loss: 0.3883 - petal_width_output_loss: 0.1284 - species_output_loss: 0.5881 - val_loss: 2.2245 - val_petal_length_output_loss: 0.6271 - val_petal_width_output_loss: 0.3553 - val_species_output_loss: 1.2421\n",
      "Epoch 97/100\n",
      "4/4 [==============================] - 0s 9ms/step - loss: 1.1114 - petal_length_output_loss: 0.3960 - petal_width_output_loss: 0.1292 - species_output_loss: 0.5863 - val_loss: 2.1593 - val_petal_length_output_loss: 0.5842 - val_petal_width_output_loss: 0.3390 - val_species_output_loss: 1.2361\n",
      "Epoch 98/100\n",
      "4/4 [==============================] - 0s 12ms/step - loss: 1.1081 - petal_length_output_loss: 0.3943 - petal_width_output_loss: 0.1291 - species_output_loss: 0.5847 - val_loss: 2.1787 - val_petal_length_output_loss: 0.6018 - val_petal_width_output_loss: 0.3356 - val_species_output_loss: 1.2413\n",
      "Epoch 99/100\n",
      "4/4 [==============================] - 0s 11ms/step - loss: 1.1043 - petal_length_output_loss: 0.3910 - petal_width_output_loss: 0.1289 - species_output_loss: 0.5844 - val_loss: 2.2718 - val_petal_length_output_loss: 0.6683 - val_petal_width_output_loss: 0.3479 - val_species_output_loss: 1.2556\n",
      "Epoch 100/100\n",
      "4/4 [==============================] - 0s 11ms/step - loss: 1.1006 - petal_length_output_loss: 0.3889 - petal_width_output_loss: 0.1282 - species_output_loss: 0.5835 - val_loss: 2.2949 - val_petal_length_output_loss: 0.6911 - val_petal_width_output_loss: 0.3511 - val_species_output_loss: 1.2527\n"
     ]
    }
   ],
   "source": [
    "hist = model.fit(X, \n",
    "                [y1, y2, y3],  # y가 여러개이면 리스트로 묶어준다.\n",
    "                epochs=100,\n",
    "                validation_split=0.2 \n",
    "                )"
   ]
  },
  {
   "cell_type": "code",
   "execution_count": 50,
   "metadata": {},
   "outputs": [
    {
     "data": {
      "text/plain": [
       "2.6439000000000004"
      ]
     },
     "execution_count": 50,
     "metadata": {},
     "output_type": "execute_result"
    }
   ],
   "source": [
    "# val_loss: 2.6439 - val_petal_length_output_loss: 0.7225 - \n",
    "# val_petal_width_output_loss: 0.5247 - val_species_output_loss: 1.3967\n",
    "0.7225+0.5247+1.3967"
   ]
  },
  {
   "cell_type": "markdown",
   "metadata": {},
   "source": [
    "#### 위의 계산에서 <span style=\"background-color:#fff5b1\">val_loss의 값</span>은<br>\"val_petal_length_output_loss\", \"val_petal_width_output_loss\",  \"val_species_output_loss\" 의 값들의 <u>총 합</u>이다."
   ]
  },
  {
   "cell_type": "markdown",
   "metadata": {
    "slideshow": {
     "slide_type": "slide"
    }
   },
   "source": [
    "##### 결과 시각화"
   ]
  },
  {
   "cell_type": "code",
   "execution_count": 51,
   "metadata": {
    "ExecuteTime": {
     "end_time": "2023-03-03T01:46:31.774331Z",
     "start_time": "2023-03-03T01:46:31.756843Z"
    }
   },
   "outputs": [
    {
     "data": {
      "text/plain": [
       "dict_keys(['loss', 'petal_length_output_loss', 'petal_width_output_loss', 'species_output_loss', 'val_loss', 'val_petal_length_output_loss', 'val_petal_width_output_loss', 'val_species_output_loss'])"
      ]
     },
     "execution_count": 51,
     "metadata": {},
     "output_type": "execute_result"
    }
   ],
   "source": [
    "hist.history.keys()"
   ]
  },
  {
   "cell_type": "markdown",
   "metadata": {
    "slideshow": {
     "slide_type": "fragment"
    }
   },
   "source": [
    "##### 새로운 데이터 추론"
   ]
  },
  {
   "cell_type": "code",
   "execution_count": 55,
   "metadata": {
    "ExecuteTime": {
     "end_time": "2023-03-03T01:47:37.884200Z",
     "start_time": "2023-03-03T01:47:37.682906Z"
    }
   },
   "outputs": [
    {
     "name": "stdout",
     "output_type": "stream",
     "text": [
      "1/1 [==============================] - 0s 19ms/step\n"
     ]
    },
    {
     "data": {
      "text/plain": [
       "[array([[1.5843117],\n",
       "        [2.1164398],\n",
       "        [1.4532998]], dtype=float32),\n",
       " array([[0.39173222],\n",
       "        [0.6086936 ],\n",
       "        [0.35439572]], dtype=float32),\n",
       " array([[0.7576973 , 0.20454785, 0.03775486],\n",
       "        [0.5797433 , 0.3333804 , 0.08687624],\n",
       "        [0.7446758 , 0.2111607 , 0.04416352]], dtype=float32)]"
      ]
     },
     "execution_count": 55,
     "metadata": {},
     "output_type": "execute_result"
    }
   ],
   "source": [
    "new_x = X[:3]\n",
    "pred = model.predict(new_x)\n",
    "pred  # 세 layer의 출력결과를 리스트로 묶어서 출력."
   ]
  },
  {
   "cell_type": "code",
   "execution_count": 57,
   "metadata": {},
   "outputs": [
    {
     "data": {
      "text/plain": [
       "((3, 1), (3, 1), (3, 3))"
      ]
     },
     "execution_count": 57,
     "metadata": {},
     "output_type": "execute_result"
    }
   ],
   "source": [
    "pred[0].shape , pred[1].shape , pred[2].shape\n",
    "# [배열1, 배열2, 배열3] ==> 배열1 : y1의 추정결과 (y의 각 class 0,1,2에 대한..)\n",
    "#                      ==> 배열2 : y2의 추정결과\n",
    "#                      ==> 배열3 : y3의 추정결과"
   ]
  },
  {
   "cell_type": "code",
   "execution_count": 53,
   "metadata": {
    "ExecuteTime": {
     "end_time": "2023-03-03T01:50:35.803043Z",
     "start_time": "2023-03-03T01:50:35.780314Z"
    }
   },
   "outputs": [
    {
     "name": "stdout",
     "output_type": "stream",
     "text": [
      "[1.5843117] [0.39173222] [0.7576973  0.20454785 0.03775486] 0\n",
      "[2.1164398] [0.6086936] [0.5797433  0.3333804  0.08687624] 0\n",
      "[1.4532998] [0.35439572] [0.7446758  0.2111607  0.04416352] 0\n"
     ]
    }
   ],
   "source": [
    "for pl, pw, s in zip(pred[0], pred[1], pred[2]):\n",
    "    print(pl, pw, s, s.argmax(-1))"
   ]
  },
  {
   "cell_type": "code",
   "execution_count": 54,
   "metadata": {
    "ExecuteTime": {
     "end_time": "2023-03-03T01:51:15.087061Z",
     "start_time": "2023-03-03T01:51:15.067612Z"
    }
   },
   "outputs": [
    {
     "data": {
      "text/plain": [
       "array([0, 0, 0])"
      ]
     },
     "execution_count": 54,
     "metadata": {},
     "output_type": "execute_result"
    }
   ],
   "source": [
    "y[:3]"
   ]
  },
  {
   "cell_type": "code",
   "execution_count": null,
   "metadata": {},
   "outputs": [],
   "source": []
  },
  {
   "cell_type": "markdown",
   "metadata": {
    "slideshow": {
     "slide_type": "slide"
    }
   },
   "source": [
    "## 다중 입력 모델\n",
    "- 가정 \n",
    "    - IRIS 꽃 데이터 + 꽃의 사진을 입력해서 꽃의 종류를 예측한다.\n",
    "- X: 꽃 데이터, 꽃 사진\n",
    "- y: 꽃 종류"
   ]
  },
  {
   "cell_type": "markdown",
   "metadata": {
    "slideshow": {
     "slide_type": "fragment"
    }
   },
   "source": [
    "##### 데이터 로드"
   ]
  },
  {
   "cell_type": "code",
   "execution_count": 63,
   "metadata": {
    "ExecuteTime": {
     "end_time": "2023-03-03T02:16:20.859486Z",
     "start_time": "2023-03-03T02:16:20.839983Z"
    },
    "slideshow": {
     "slide_type": "fragment"
    }
   },
   "outputs": [
    {
     "data": {
      "text/plain": [
       "((150, 4), (150,))"
      ]
     },
     "execution_count": 63,
     "metadata": {},
     "output_type": "execute_result"
    }
   ],
   "source": [
    "X, y = load_iris(return_X_y=True)\n",
    "X.shape, y.shape"
   ]
  },
  {
   "cell_type": "code",
   "execution_count": 64,
   "metadata": {
    "ExecuteTime": {
     "end_time": "2023-03-03T02:32:14.009534Z",
     "start_time": "2023-03-03T02:32:13.732146Z"
    },
    "slideshow": {
     "slide_type": "fragment"
    }
   },
   "outputs": [
    {
     "data": {
      "text/plain": [
       "((60000, 28, 28), (150, 28, 28))"
      ]
     },
     "execution_count": 64,
     "metadata": {},
     "output_type": "execute_result"
    }
   ],
   "source": [
    "(X_train, _), (_, _) = keras.datasets.mnist.load_data()\n",
    "X_img = X_train[:150]\n",
    "X_train.shape, X_img.shape"
   ]
  },
  {
   "cell_type": "markdown",
   "metadata": {
    "slideshow": {
     "slide_type": "slide"
    }
   },
   "source": [
    "##### 모델생성, 컴파일"
   ]
  },
  {
   "cell_type": "code",
   "execution_count": 78,
   "metadata": {
    "ExecuteTime": {
     "end_time": "2023-03-03T02:32:21.978910Z",
     "start_time": "2023-03-03T02:32:21.830413Z"
    }
   },
   "outputs": [],
   "source": [
    "# table 데이터와 영상데이터 두개를 입력으로 받는 모델.\n",
    "# table 데이터는 Dense Layer를, 영상데이터는 Conv layer를 이용해 Feature Extraction을 처리.\n",
    "# 추출된 두가지 특징을 합쳐서 품종을 추론하는 모델.\n",
    "\n",
    "#### table(표) 데이터 - (4,)\n",
    "iris_info_tensor = layers.Input(shape=(4, ))\n",
    "x1 = layers.Dense(units=32, activation='relu')(iris_info_tensor)\n",
    "x1 = layers.Dense(units=16, activation='relu')(x1)\n",
    "\n",
    "#### 영상(Image) 데이터 (28, 28, 1)\n",
    "iris_img_tensor = layers.Input(shape=(28, 28, 1))\n",
    "x2 = layers.Conv2D(filters=32, kernel_size=3, padding='same', activation='relu')(iris_img_tensor)\n",
    "x2 = layers.Conv2D(filters=32, kernel_size=3, padding='same', activation='relu')(x2)\n",
    "x2 = layers.MaxPooling2D(padding='same')(x2)\n",
    "\n",
    "x2 = layers.Conv2D(filters=64, kernel_size=3, padding='same', activation='relu')(x2)\n",
    "x2 = layers.Conv2D(filters=64, kernel_size=3, padding='same', activation='relu')(x2)\n",
    "x2 = layers.MaxPooling2D(padding='same')(x2)\n",
    "x2 = layers.Flatten()(x2)\n",
    "\n",
    "\n",
    "# x1: 테이블 데이터로부터 추출한 Feature map, x2 : 이미지로부터 추출한 Feature map.\n",
    "# x1과 x2를 합치기 -> 둘다 1차원 배열. ===> info의 특징과 image의 특징을 합친다.\n",
    "x3 = layers.Concatenate()([x1, x2])  # layers.concatenate([x1, x2])\n",
    "\n",
    "# outputlayer - class 개수가 3개인 다중분류 : units=3, activation = softmax\n",
    "output_tensor = layers.Dense(units=3, activation='softmax')(x3)\n",
    "\n",
    "# 모델 생성\n",
    "model2 = models.Model([iris_info_tensor, iris_img_tensor],  output_tensor)\n",
    "\n",
    "model2.compile(optimizer='adam', loss='sparse_categorical_crossentropy', metrics=['accuracy'])"
   ]
  },
  {
   "cell_type": "code",
   "execution_count": 66,
   "metadata": {
    "ExecuteTime": {
     "end_time": "2023-03-03T02:32:28.622307Z",
     "start_time": "2023-03-03T02:32:28.613453Z"
    }
   },
   "outputs": [
    {
     "data": {
      "text/plain": [
       "(150, 28, 28)"
      ]
     },
     "execution_count": 66,
     "metadata": {},
     "output_type": "execute_result"
    }
   ],
   "source": [
    "X_img.shape"
   ]
  },
  {
   "cell_type": "code",
   "execution_count": 81,
   "metadata": {
    "ExecuteTime": {
     "end_time": "2023-03-03T02:33:05.781976Z",
     "start_time": "2023-03-03T02:33:05.775356Z"
    }
   },
   "outputs": [
    {
     "data": {
      "text/plain": [
       "(150, 28, 28, 1)"
      ]
     },
     "execution_count": 81,
     "metadata": {},
     "output_type": "execute_result"
    }
   ],
   "source": [
    "import numpy as np\n",
    "\n",
    "iris_img = X_img[..., np.newaxis] # channel 축 추가.\n",
    "iris_img.shape"
   ]
  },
  {
   "cell_type": "code",
   "execution_count": 80,
   "metadata": {
    "ExecuteTime": {
     "end_time": "2023-03-03T02:34:25.787548Z",
     "start_time": "2023-03-03T02:34:23.381112Z"
    },
    "scrolled": true
   },
   "outputs": [
    {
     "name": "stdout",
     "output_type": "stream",
     "text": [
      "Epoch 1/3\n",
      "4/4 [==============================] - 1s 89ms/step - loss: 14.8687 - accuracy: 0.3667 - val_loss: 14.8051 - val_accuracy: 0.0000e+00\n",
      "Epoch 2/3\n",
      "4/4 [==============================] - 0s 52ms/step - loss: 4.0248 - accuracy: 0.4583 - val_loss: 5.6614 - val_accuracy: 0.0333\n",
      "Epoch 3/3\n",
      "4/4 [==============================] - 0s 45ms/step - loss: 3.0991 - accuracy: 0.4250 - val_loss: 0.7330 - val_accuracy: 0.6000\n"
     ]
    }
   ],
   "source": [
    "hist= model2.fit([X, iris_img], # X : [표데이터, 이미지]\n",
    "                  y, \n",
    "                  epochs=3, \n",
    "                  validation_split=0.2)"
   ]
  },
  {
   "cell_type": "code",
   "execution_count": 74,
   "metadata": {
    "ExecuteTime": {
     "end_time": "2023-03-03T02:36:21.232847Z",
     "start_time": "2023-03-03T02:36:20.748697Z"
    }
   },
   "outputs": [
    {
     "data": {
      "image/png": "[encoded data removed]",
      "text/plain": [
       "<IPython.core.display.Image object>"
      ]
     },
     "execution_count": 74,
     "metadata": {},
     "output_type": "execute_result"
    }
   ],
   "source": [
    "keras.utils.plot_model(model2, show_shapes=True, to_file=\"model_iris_multi_input.png\")"
   ]
  },
  {
   "cell_type": "markdown",
   "metadata": {},
   "source": [
    "## Subclass 방식\n",
    "- 모델을 class로 구현\n",
    "- \\_\\_init\\_\\_() 메소드에서 모델에 필요한 자원들(layer들)을 생성\n",
    "- call() 메소드에서 모델 구조 정의"
   ]
  },
  {
   "cell_type": "code",
   "execution_count": 83,
   "metadata": {
    "ExecuteTime": {
     "end_time": "2023-03-03T02:42:41.000293Z",
     "start_time": "2023-03-03T02:42:40.983946Z"
    }
   },
   "outputs": [],
   "source": [
    "import tensorflow as tf\n",
    "from tensorflow import keras\n",
    "from tensorflow.keras import layers, models"
   ]
  },
  {
   "cell_type": "code",
   "execution_count": 84,
   "metadata": {
    "ExecuteTime": {
     "end_time": "2023-03-03T02:44:34.613656Z",
     "start_time": "2023-03-03T02:44:34.240024Z"
    }
   },
   "outputs": [
    {
     "data": {
      "text/plain": [
       "((60000, 28, 28, 1), (10000, 28, 28, 1))"
      ]
     },
     "execution_count": 84,
     "metadata": {},
     "output_type": "execute_result"
    }
   ],
   "source": [
    "(X_train, y_train), (X_test, y_test) = keras.datasets.mnist.load_data()\n",
    "X_train = X_train.astype('float32')/255\n",
    "X_test = X_test.astype('float32')/255\n",
    "\n",
    "X_train = X_train[..., np.newaxis]\n",
    "X_test = X_test[..., np.newaxis]\n",
    "X_train.shape, X_test.shape"
   ]
  },
  {
   "cell_type": "code",
   "execution_count": 86,
   "metadata": {
    "ExecuteTime": {
     "end_time": "2023-03-03T02:58:23.686554Z",
     "start_time": "2023-03-03T02:58:23.671302Z"
    }
   },
   "outputs": [],
   "source": [
    "# models.Model을 상속 받음.\n",
    "class MnistModel(models.Model):\n",
    "    \n",
    "    def __init__(self):\n",
    "        super().__init__() # 부모 객체를 초기화.\n",
    "        \n",
    "        # 모델 구성 layer들을 생성.\n",
    "        ## 모델 만드는데 필요한 각각의 block들을 생성, 모델 네트워크를 만든 것이 아님.\n",
    "        self.conv_block1 = keras.Sequential([\n",
    "            layers.Conv2D(filters=32, kernel_size=3, padding='same', activation='relu'),\n",
    "            layers.Conv2D(filters=32, kernel_size=3, padding='same', activation='relu'),\n",
    "            layers.MaxPooling2D(padding='same')\n",
    "        ]) # (x)\n",
    "        \n",
    "        self.conv_block2 = keras.Sequential([\n",
    "            layers.Conv2D(filters=64, kernel_size=3, padding='same', activation='relu'),\n",
    "            layers.Conv2D(filters=64, kernel_size=3, padding='same', activation='relu'),\n",
    "            layers.MaxPooling2D(padding='same')\n",
    "        ])\n",
    "        \n",
    "        self.flatten = layers.Flatten()\n",
    "        \n",
    "        self.output_layer = layers.Dense(units=10, activation='softmax')        \n",
    "        \n",
    "        \n",
    "    def call(self, x):  # x : input data.\n",
    "        # input data를 받아서 forward propagation을 처리. 그 추론 결과를 반환\n",
    "        x = self.conv_block1(x)\n",
    "        x = self.conv_block2(x)\n",
    "        x = self.flatten(x)\n",
    "        output_tensor = self.output_layer(x)\n",
    "        return output_tensor\n",
    "        "
   ]
  },
  {
   "cell_type": "code",
   "execution_count": 87,
   "metadata": {
    "ExecuteTime": {
     "end_time": "2023-03-03T03:03:15.372130Z",
     "start_time": "2023-03-03T02:58:28.622040Z"
    }
   },
   "outputs": [
    {
     "name": "stdout",
     "output_type": "stream",
     "text": [
      "Epoch 1/3\n",
      "1407/1407 [==============================] - 66s 46ms/step - loss: 0.1357 - val_loss: 0.0569\n",
      "Epoch 2/3\n",
      "1407/1407 [==============================] - 70s 49ms/step - loss: 0.0422 - val_loss: 0.0447\n",
      "Epoch 3/3\n",
      " 409/1407 [=======>......................] - ETA: 44s - loss: 0.0314"
     ]
    },
    {
     "ename": "KeyboardInterrupt",
     "evalue": "",
     "output_type": "error",
     "traceback": [
      "\u001b[1;31m---------------------------------------------------------------------------\u001b[0m",
      "\u001b[1;31mKeyboardInterrupt\u001b[0m                         Traceback (most recent call last)",
      "Cell \u001b[1;32mIn[87], line 7\u001b[0m\n\u001b[0;32m      5\u001b[0m model\u001b[38;5;241m.\u001b[39mcompile(optimizer\u001b[38;5;241m=\u001b[39m\u001b[38;5;124m'\u001b[39m\u001b[38;5;124madam\u001b[39m\u001b[38;5;124m'\u001b[39m, loss\u001b[38;5;241m=\u001b[39m\u001b[38;5;124m'\u001b[39m\u001b[38;5;124msparse_categorical_crossentropy\u001b[39m\u001b[38;5;124m'\u001b[39m)\n\u001b[0;32m      6\u001b[0m \u001b[38;5;66;03m# 학습\u001b[39;00m\n\u001b[1;32m----> 7\u001b[0m hist \u001b[38;5;241m=\u001b[39m \u001b[43mmodel\u001b[49m\u001b[38;5;241;43m.\u001b[39;49m\u001b[43mfit\u001b[49m\u001b[43m(\u001b[49m\u001b[43mX_train\u001b[49m\u001b[43m,\u001b[49m\u001b[43m \u001b[49m\u001b[43my_train\u001b[49m\u001b[43m,\u001b[49m\u001b[43m \u001b[49m\u001b[43mepochs\u001b[49m\u001b[38;5;241;43m=\u001b[39;49m\u001b[38;5;241;43m3\u001b[39;49m\u001b[43m,\u001b[49m\u001b[43m \u001b[49m\u001b[43mvalidation_split\u001b[49m\u001b[38;5;241;43m=\u001b[39;49m\u001b[38;5;241;43m0.25\u001b[39;49m\u001b[43m)\u001b[49m\n",
      "File \u001b[1;32m~\\anaconda3\\envs\\ml\\lib\\site-packages\\keras\\src\\utils\\traceback_utils.py:65\u001b[0m, in \u001b[0;36mfilter_traceback.<locals>.error_handler\u001b[1;34m(*args, **kwargs)\u001b[0m\n\u001b[0;32m     63\u001b[0m filtered_tb \u001b[38;5;241m=\u001b[39m \u001b[38;5;28;01mNone\u001b[39;00m\n\u001b[0;32m     64\u001b[0m \u001b[38;5;28;01mtry\u001b[39;00m:\n\u001b[1;32m---> 65\u001b[0m     \u001b[38;5;28;01mreturn\u001b[39;00m fn(\u001b[38;5;241m*\u001b[39margs, \u001b[38;5;241m*\u001b[39m\u001b[38;5;241m*\u001b[39mkwargs)\n\u001b[0;32m     66\u001b[0m \u001b[38;5;28;01mexcept\u001b[39;00m \u001b[38;5;167;01mException\u001b[39;00m \u001b[38;5;28;01mas\u001b[39;00m e:\n\u001b[0;32m     67\u001b[0m     filtered_tb \u001b[38;5;241m=\u001b[39m _process_traceback_frames(e\u001b[38;5;241m.\u001b[39m__traceback__)\n",
      "File \u001b[1;32m~\\anaconda3\\envs\\ml\\lib\\site-packages\\keras\\src\\engine\\training.py:1748\u001b[0m, in \u001b[0;36mModel.fit\u001b[1;34m(self, x, y, batch_size, epochs, verbose, callbacks, validation_split, validation_data, shuffle, class_weight, sample_weight, initial_epoch, steps_per_epoch, validation_steps, validation_batch_size, validation_freq, max_queue_size, workers, use_multiprocessing)\u001b[0m\n\u001b[0;32m   1746\u001b[0m logs \u001b[38;5;241m=\u001b[39m tmp_logs\n\u001b[0;32m   1747\u001b[0m end_step \u001b[38;5;241m=\u001b[39m step \u001b[38;5;241m+\u001b[39m data_handler\u001b[38;5;241m.\u001b[39mstep_increment\n\u001b[1;32m-> 1748\u001b[0m \u001b[43mcallbacks\u001b[49m\u001b[38;5;241;43m.\u001b[39;49m\u001b[43mon_train_batch_end\u001b[49m\u001b[43m(\u001b[49m\u001b[43mend_step\u001b[49m\u001b[43m,\u001b[49m\u001b[43m \u001b[49m\u001b[43mlogs\u001b[49m\u001b[43m)\u001b[49m\n\u001b[0;32m   1749\u001b[0m \u001b[38;5;28;01mif\u001b[39;00m \u001b[38;5;28mself\u001b[39m\u001b[38;5;241m.\u001b[39mstop_training:\n\u001b[0;32m   1750\u001b[0m     \u001b[38;5;28;01mbreak\u001b[39;00m\n",
      "File \u001b[1;32m~\\anaconda3\\envs\\ml\\lib\\site-packages\\keras\\src\\callbacks.py:475\u001b[0m, in \u001b[0;36mCallbackList.on_train_batch_end\u001b[1;34m(self, batch, logs)\u001b[0m\n\u001b[0;32m    468\u001b[0m \u001b[38;5;250m\u001b[39m\u001b[38;5;124;03m\"\"\"Calls the `on_train_batch_end` methods of its callbacks.\u001b[39;00m\n\u001b[0;32m    469\u001b[0m \n\u001b[0;32m    470\u001b[0m \u001b[38;5;124;03mArgs:\u001b[39;00m\n\u001b[0;32m    471\u001b[0m \u001b[38;5;124;03m    batch: Integer, index of batch within the current epoch.\u001b[39;00m\n\u001b[0;32m    472\u001b[0m \u001b[38;5;124;03m    logs: Dict. Aggregated metric results up until this batch.\u001b[39;00m\n\u001b[0;32m    473\u001b[0m \u001b[38;5;124;03m\"\"\"\u001b[39;00m\n\u001b[0;32m    474\u001b[0m \u001b[38;5;28;01mif\u001b[39;00m \u001b[38;5;28mself\u001b[39m\u001b[38;5;241m.\u001b[39m_should_call_train_batch_hooks:\n\u001b[1;32m--> 475\u001b[0m     \u001b[38;5;28;43mself\u001b[39;49m\u001b[38;5;241;43m.\u001b[39;49m\u001b[43m_call_batch_hook\u001b[49m\u001b[43m(\u001b[49m\u001b[43mModeKeys\u001b[49m\u001b[38;5;241;43m.\u001b[39;49m\u001b[43mTRAIN\u001b[49m\u001b[43m,\u001b[49m\u001b[43m \u001b[49m\u001b[38;5;124;43m\"\u001b[39;49m\u001b[38;5;124;43mend\u001b[39;49m\u001b[38;5;124;43m\"\u001b[39;49m\u001b[43m,\u001b[49m\u001b[43m \u001b[49m\u001b[43mbatch\u001b[49m\u001b[43m,\u001b[49m\u001b[43m \u001b[49m\u001b[43mlogs\u001b[49m\u001b[38;5;241;43m=\u001b[39;49m\u001b[43mlogs\u001b[49m\u001b[43m)\u001b[49m\n",
      "File \u001b[1;32m~\\anaconda3\\envs\\ml\\lib\\site-packages\\keras\\src\\callbacks.py:322\u001b[0m, in \u001b[0;36mCallbackList._call_batch_hook\u001b[1;34m(self, mode, hook, batch, logs)\u001b[0m\n\u001b[0;32m    320\u001b[0m     \u001b[38;5;28mself\u001b[39m\u001b[38;5;241m.\u001b[39m_call_batch_begin_hook(mode, batch, logs)\n\u001b[0;32m    321\u001b[0m \u001b[38;5;28;01melif\u001b[39;00m hook \u001b[38;5;241m==\u001b[39m \u001b[38;5;124m\"\u001b[39m\u001b[38;5;124mend\u001b[39m\u001b[38;5;124m\"\u001b[39m:\n\u001b[1;32m--> 322\u001b[0m     \u001b[38;5;28;43mself\u001b[39;49m\u001b[38;5;241;43m.\u001b[39;49m\u001b[43m_call_batch_end_hook\u001b[49m\u001b[43m(\u001b[49m\u001b[43mmode\u001b[49m\u001b[43m,\u001b[49m\u001b[43m \u001b[49m\u001b[43mbatch\u001b[49m\u001b[43m,\u001b[49m\u001b[43m \u001b[49m\u001b[43mlogs\u001b[49m\u001b[43m)\u001b[49m\n\u001b[0;32m    323\u001b[0m \u001b[38;5;28;01melse\u001b[39;00m:\n\u001b[0;32m    324\u001b[0m     \u001b[38;5;28;01mraise\u001b[39;00m \u001b[38;5;167;01mValueError\u001b[39;00m(\n\u001b[0;32m    325\u001b[0m         \u001b[38;5;124mf\u001b[39m\u001b[38;5;124m\"\u001b[39m\u001b[38;5;124mUnrecognized hook: \u001b[39m\u001b[38;5;132;01m{\u001b[39;00mhook\u001b[38;5;132;01m}\u001b[39;00m\u001b[38;5;124m. \u001b[39m\u001b[38;5;124m\"\u001b[39m\n\u001b[0;32m    326\u001b[0m         \u001b[38;5;124m'\u001b[39m\u001b[38;5;124mExpected values are [\u001b[39m\u001b[38;5;124m\"\u001b[39m\u001b[38;5;124mbegin\u001b[39m\u001b[38;5;124m\"\u001b[39m\u001b[38;5;124m, \u001b[39m\u001b[38;5;124m\"\u001b[39m\u001b[38;5;124mend\u001b[39m\u001b[38;5;124m\"\u001b[39m\u001b[38;5;124m]\u001b[39m\u001b[38;5;124m'\u001b[39m\n\u001b[0;32m    327\u001b[0m     )\n",
      "File \u001b[1;32m~\\anaconda3\\envs\\ml\\lib\\site-packages\\keras\\src\\callbacks.py:345\u001b[0m, in \u001b[0;36mCallbackList._call_batch_end_hook\u001b[1;34m(self, mode, batch, logs)\u001b[0m\n\u001b[0;32m    342\u001b[0m     batch_time \u001b[38;5;241m=\u001b[39m time\u001b[38;5;241m.\u001b[39mtime() \u001b[38;5;241m-\u001b[39m \u001b[38;5;28mself\u001b[39m\u001b[38;5;241m.\u001b[39m_batch_start_time\n\u001b[0;32m    343\u001b[0m     \u001b[38;5;28mself\u001b[39m\u001b[38;5;241m.\u001b[39m_batch_times\u001b[38;5;241m.\u001b[39mappend(batch_time)\n\u001b[1;32m--> 345\u001b[0m \u001b[38;5;28;43mself\u001b[39;49m\u001b[38;5;241;43m.\u001b[39;49m\u001b[43m_call_batch_hook_helper\u001b[49m\u001b[43m(\u001b[49m\u001b[43mhook_name\u001b[49m\u001b[43m,\u001b[49m\u001b[43m \u001b[49m\u001b[43mbatch\u001b[49m\u001b[43m,\u001b[49m\u001b[43m \u001b[49m\u001b[43mlogs\u001b[49m\u001b[43m)\u001b[49m\n\u001b[0;32m    347\u001b[0m \u001b[38;5;28;01mif\u001b[39;00m \u001b[38;5;28mlen\u001b[39m(\u001b[38;5;28mself\u001b[39m\u001b[38;5;241m.\u001b[39m_batch_times) \u001b[38;5;241m>\u001b[39m\u001b[38;5;241m=\u001b[39m \u001b[38;5;28mself\u001b[39m\u001b[38;5;241m.\u001b[39m_num_batches_for_timing_check:\n\u001b[0;32m    348\u001b[0m     end_hook_name \u001b[38;5;241m=\u001b[39m hook_name\n",
      "File \u001b[1;32m~\\anaconda3\\envs\\ml\\lib\\site-packages\\keras\\src\\callbacks.py:393\u001b[0m, in \u001b[0;36mCallbackList._call_batch_hook_helper\u001b[1;34m(self, hook_name, batch, logs)\u001b[0m\n\u001b[0;32m    391\u001b[0m \u001b[38;5;28;01mfor\u001b[39;00m callback \u001b[38;5;129;01min\u001b[39;00m \u001b[38;5;28mself\u001b[39m\u001b[38;5;241m.\u001b[39mcallbacks:\n\u001b[0;32m    392\u001b[0m     hook \u001b[38;5;241m=\u001b[39m \u001b[38;5;28mgetattr\u001b[39m(callback, hook_name)\n\u001b[1;32m--> 393\u001b[0m     \u001b[43mhook\u001b[49m\u001b[43m(\u001b[49m\u001b[43mbatch\u001b[49m\u001b[43m,\u001b[49m\u001b[43m \u001b[49m\u001b[43mlogs\u001b[49m\u001b[43m)\u001b[49m\n\u001b[0;32m    395\u001b[0m \u001b[38;5;28;01mif\u001b[39;00m \u001b[38;5;28mself\u001b[39m\u001b[38;5;241m.\u001b[39m_check_timing:\n\u001b[0;32m    396\u001b[0m     \u001b[38;5;28;01mif\u001b[39;00m hook_name \u001b[38;5;129;01mnot\u001b[39;00m \u001b[38;5;129;01min\u001b[39;00m \u001b[38;5;28mself\u001b[39m\u001b[38;5;241m.\u001b[39m_hook_times:\n",
      "File \u001b[1;32m~\\anaconda3\\envs\\ml\\lib\\site-packages\\keras\\src\\callbacks.py:1093\u001b[0m, in \u001b[0;36mProgbarLogger.on_train_batch_end\u001b[1;34m(self, batch, logs)\u001b[0m\n\u001b[0;32m   1092\u001b[0m \u001b[38;5;28;01mdef\u001b[39;00m \u001b[38;5;21mon_train_batch_end\u001b[39m(\u001b[38;5;28mself\u001b[39m, batch, logs\u001b[38;5;241m=\u001b[39m\u001b[38;5;28;01mNone\u001b[39;00m):\n\u001b[1;32m-> 1093\u001b[0m     \u001b[38;5;28;43mself\u001b[39;49m\u001b[38;5;241;43m.\u001b[39;49m\u001b[43m_batch_update_progbar\u001b[49m\u001b[43m(\u001b[49m\u001b[43mbatch\u001b[49m\u001b[43m,\u001b[49m\u001b[43m \u001b[49m\u001b[43mlogs\u001b[49m\u001b[43m)\u001b[49m\n",
      "File \u001b[1;32m~\\anaconda3\\envs\\ml\\lib\\site-packages\\keras\\src\\callbacks.py:1170\u001b[0m, in \u001b[0;36mProgbarLogger._batch_update_progbar\u001b[1;34m(self, batch, logs)\u001b[0m\n\u001b[0;32m   1167\u001b[0m \u001b[38;5;28;01mif\u001b[39;00m \u001b[38;5;28mself\u001b[39m\u001b[38;5;241m.\u001b[39mverbose \u001b[38;5;241m==\u001b[39m \u001b[38;5;241m1\u001b[39m:\n\u001b[0;32m   1168\u001b[0m     \u001b[38;5;66;03m# Only block async when verbose = 1.\u001b[39;00m\n\u001b[0;32m   1169\u001b[0m     logs \u001b[38;5;241m=\u001b[39m tf_utils\u001b[38;5;241m.\u001b[39msync_to_numpy_or_python_type(logs)\n\u001b[1;32m-> 1170\u001b[0m     \u001b[38;5;28;43mself\u001b[39;49m\u001b[38;5;241;43m.\u001b[39;49m\u001b[43mprogbar\u001b[49m\u001b[38;5;241;43m.\u001b[39;49m\u001b[43mupdate\u001b[49m\u001b[43m(\u001b[49m\u001b[38;5;28;43mself\u001b[39;49m\u001b[38;5;241;43m.\u001b[39;49m\u001b[43mseen\u001b[49m\u001b[43m,\u001b[49m\u001b[43m \u001b[49m\u001b[38;5;28;43mlist\u001b[39;49m\u001b[43m(\u001b[49m\u001b[43mlogs\u001b[49m\u001b[38;5;241;43m.\u001b[39;49m\u001b[43mitems\u001b[49m\u001b[43m(\u001b[49m\u001b[43m)\u001b[49m\u001b[43m)\u001b[49m\u001b[43m,\u001b[49m\u001b[43m \u001b[49m\u001b[43mfinalize\u001b[49m\u001b[38;5;241;43m=\u001b[39;49m\u001b[38;5;28;43;01mFalse\u001b[39;49;00m\u001b[43m)\u001b[49m\n",
      "File \u001b[1;32m~\\anaconda3\\envs\\ml\\lib\\site-packages\\keras\\src\\utils\\generic_utils.py:296\u001b[0m, in \u001b[0;36mProgbar.update\u001b[1;34m(self, current, values, finalize)\u001b[0m\n\u001b[0;32m    293\u001b[0m         info \u001b[38;5;241m+\u001b[39m\u001b[38;5;241m=\u001b[39m \u001b[38;5;124m\"\u001b[39m\u001b[38;5;130;01m\\n\u001b[39;00m\u001b[38;5;124m\"\u001b[39m\n\u001b[0;32m    295\u001b[0m     message \u001b[38;5;241m+\u001b[39m\u001b[38;5;241m=\u001b[39m info\n\u001b[1;32m--> 296\u001b[0m     \u001b[43mio_utils\u001b[49m\u001b[38;5;241;43m.\u001b[39;49m\u001b[43mprint_msg\u001b[49m\u001b[43m(\u001b[49m\u001b[43mmessage\u001b[49m\u001b[43m,\u001b[49m\u001b[43m \u001b[49m\u001b[43mline_break\u001b[49m\u001b[38;5;241;43m=\u001b[39;49m\u001b[38;5;28;43;01mFalse\u001b[39;49;00m\u001b[43m)\u001b[49m\n\u001b[0;32m    297\u001b[0m     message \u001b[38;5;241m=\u001b[39m \u001b[38;5;124m\"\u001b[39m\u001b[38;5;124m\"\u001b[39m\n\u001b[0;32m    299\u001b[0m \u001b[38;5;28;01melif\u001b[39;00m \u001b[38;5;28mself\u001b[39m\u001b[38;5;241m.\u001b[39mverbose \u001b[38;5;241m==\u001b[39m \u001b[38;5;241m2\u001b[39m:\n",
      "File \u001b[1;32m~\\anaconda3\\envs\\ml\\lib\\site-packages\\keras\\src\\utils\\io_utils.py:79\u001b[0m, in \u001b[0;36mprint_msg\u001b[1;34m(message, line_break)\u001b[0m\n\u001b[0;32m     77\u001b[0m         sys\u001b[38;5;241m.\u001b[39mstdout\u001b[38;5;241m.\u001b[39mwrite(message \u001b[38;5;241m+\u001b[39m \u001b[38;5;124m\"\u001b[39m\u001b[38;5;130;01m\\n\u001b[39;00m\u001b[38;5;124m\"\u001b[39m)\n\u001b[0;32m     78\u001b[0m     \u001b[38;5;28;01melse\u001b[39;00m:\n\u001b[1;32m---> 79\u001b[0m         \u001b[43msys\u001b[49m\u001b[38;5;241;43m.\u001b[39;49m\u001b[43mstdout\u001b[49m\u001b[38;5;241;43m.\u001b[39;49m\u001b[43mwrite\u001b[49m\u001b[43m(\u001b[49m\u001b[43mmessage\u001b[49m\u001b[43m)\u001b[49m\n\u001b[0;32m     80\u001b[0m     sys\u001b[38;5;241m.\u001b[39mstdout\u001b[38;5;241m.\u001b[39mflush()\n\u001b[0;32m     81\u001b[0m \u001b[38;5;28;01melse\u001b[39;00m:\n",
      "File \u001b[1;32m~\\anaconda3\\envs\\ml\\lib\\site-packages\\ipykernel\\iostream.py:646\u001b[0m, in \u001b[0;36mOutStream.write\u001b[1;34m(self, string)\u001b[0m\n\u001b[0;32m    644\u001b[0m         \u001b[38;5;28mself\u001b[39m\u001b[38;5;241m.\u001b[39mpub_thread\u001b[38;5;241m.\u001b[39mschedule(\u001b[38;5;28mself\u001b[39m\u001b[38;5;241m.\u001b[39m_flush)\n\u001b[0;32m    645\u001b[0m     \u001b[38;5;28;01melse\u001b[39;00m:\n\u001b[1;32m--> 646\u001b[0m         \u001b[38;5;28;43mself\u001b[39;49m\u001b[38;5;241;43m.\u001b[39;49m\u001b[43m_schedule_flush\u001b[49m\u001b[43m(\u001b[49m\u001b[43m)\u001b[49m\n\u001b[0;32m    648\u001b[0m \u001b[38;5;28;01mreturn\u001b[39;00m \u001b[38;5;28mlen\u001b[39m(string)\n",
      "File \u001b[1;32m~\\anaconda3\\envs\\ml\\lib\\site-packages\\ipykernel\\iostream.py:543\u001b[0m, in \u001b[0;36mOutStream._schedule_flush\u001b[1;34m(self)\u001b[0m\n\u001b[0;32m    540\u001b[0m \u001b[38;5;28;01mdef\u001b[39;00m \u001b[38;5;21m_schedule_in_thread\u001b[39m():\n\u001b[0;32m    541\u001b[0m     \u001b[38;5;28mself\u001b[39m\u001b[38;5;241m.\u001b[39m_io_loop\u001b[38;5;241m.\u001b[39mcall_later(\u001b[38;5;28mself\u001b[39m\u001b[38;5;241m.\u001b[39mflush_interval, \u001b[38;5;28mself\u001b[39m\u001b[38;5;241m.\u001b[39m_flush)\n\u001b[1;32m--> 543\u001b[0m \u001b[38;5;28;43mself\u001b[39;49m\u001b[38;5;241;43m.\u001b[39;49m\u001b[43mpub_thread\u001b[49m\u001b[38;5;241;43m.\u001b[39;49m\u001b[43mschedule\u001b[49m\u001b[43m(\u001b[49m\u001b[43m_schedule_in_thread\u001b[49m\u001b[43m)\u001b[49m\n",
      "File \u001b[1;32m~\\anaconda3\\envs\\ml\\lib\\site-packages\\ipykernel\\iostream.py:249\u001b[0m, in \u001b[0;36mIOPubThread.schedule\u001b[1;34m(self, f)\u001b[0m\n\u001b[0;32m    247\u001b[0m     \u001b[38;5;28mself\u001b[39m\u001b[38;5;241m.\u001b[39m_events\u001b[38;5;241m.\u001b[39mappend(f)\n\u001b[0;32m    248\u001b[0m     \u001b[38;5;66;03m# wake event thread (message content is ignored)\u001b[39;00m\n\u001b[1;32m--> 249\u001b[0m     \u001b[38;5;28;43mself\u001b[39;49m\u001b[38;5;241;43m.\u001b[39;49m\u001b[43m_event_pipe\u001b[49m\u001b[38;5;241;43m.\u001b[39;49m\u001b[43msend\u001b[49m\u001b[43m(\u001b[49m\u001b[38;5;124;43mb\u001b[39;49m\u001b[38;5;124;43m\"\u001b[39;49m\u001b[38;5;124;43m\"\u001b[39;49m\u001b[43m)\u001b[49m\n\u001b[0;32m    250\u001b[0m \u001b[38;5;28;01melse\u001b[39;00m:\n\u001b[0;32m    251\u001b[0m     f()\n",
      "File \u001b[1;32m~\\anaconda3\\envs\\ml\\lib\\site-packages\\zmq\\sugar\\socket.py:696\u001b[0m, in \u001b[0;36mSocket.send\u001b[1;34m(self, data, flags, copy, track, routing_id, group)\u001b[0m\n\u001b[0;32m    689\u001b[0m         data \u001b[38;5;241m=\u001b[39m zmq\u001b[38;5;241m.\u001b[39mFrame(\n\u001b[0;32m    690\u001b[0m             data,\n\u001b[0;32m    691\u001b[0m             track\u001b[38;5;241m=\u001b[39mtrack,\n\u001b[0;32m    692\u001b[0m             copy\u001b[38;5;241m=\u001b[39mcopy \u001b[38;5;129;01mor\u001b[39;00m \u001b[38;5;28;01mNone\u001b[39;00m,\n\u001b[0;32m    693\u001b[0m             copy_threshold\u001b[38;5;241m=\u001b[39m\u001b[38;5;28mself\u001b[39m\u001b[38;5;241m.\u001b[39mcopy_threshold,\n\u001b[0;32m    694\u001b[0m         )\n\u001b[0;32m    695\u001b[0m     data\u001b[38;5;241m.\u001b[39mgroup \u001b[38;5;241m=\u001b[39m group\n\u001b[1;32m--> 696\u001b[0m \u001b[38;5;28;01mreturn\u001b[39;00m \u001b[38;5;28;43msuper\u001b[39;49m\u001b[43m(\u001b[49m\u001b[43m)\u001b[49m\u001b[38;5;241;43m.\u001b[39;49m\u001b[43msend\u001b[49m\u001b[43m(\u001b[49m\u001b[43mdata\u001b[49m\u001b[43m,\u001b[49m\u001b[43m \u001b[49m\u001b[43mflags\u001b[49m\u001b[38;5;241;43m=\u001b[39;49m\u001b[43mflags\u001b[49m\u001b[43m,\u001b[49m\u001b[43m \u001b[49m\u001b[43mcopy\u001b[49m\u001b[38;5;241;43m=\u001b[39;49m\u001b[43mcopy\u001b[49m\u001b[43m,\u001b[49m\u001b[43m \u001b[49m\u001b[43mtrack\u001b[49m\u001b[38;5;241;43m=\u001b[39;49m\u001b[43mtrack\u001b[49m\u001b[43m)\u001b[49m\n",
      "File \u001b[1;32mzmq\\backend\\cython\\socket.pyx:742\u001b[0m, in \u001b[0;36mzmq.backend.cython.socket.Socket.send\u001b[1;34m()\u001b[0m\n",
      "File \u001b[1;32mzmq\\backend\\cython\\socket.pyx:789\u001b[0m, in \u001b[0;36mzmq.backend.cython.socket.Socket.send\u001b[1;34m()\u001b[0m\n",
      "File \u001b[1;32mzmq\\backend\\cython\\socket.pyx:250\u001b[0m, in \u001b[0;36mzmq.backend.cython.socket._send_copy\u001b[1;34m()\u001b[0m\n",
      "File \u001b[1;32m~\\anaconda3\\envs\\ml\\lib\\site-packages\\zmq\\backend\\cython\\checkrc.pxd:13\u001b[0m, in \u001b[0;36mzmq.backend.cython.checkrc._check_rc\u001b[1;34m()\u001b[0m\n",
      "\u001b[1;31mKeyboardInterrupt\u001b[0m: "
     ]
    }
   ],
   "source": [
    "# 모델생성\n",
    "model = MnistModel()\n",
    "\n",
    "# 컴파일\n",
    "model.compile(optimizer='adam', loss='sparse_categorical_crossentropy')\n",
    "# 학습\n",
    "hist = model.fit(X_train, y_train, epochs=3, validation_split=0.25)"
   ]
  },
  {
   "cell_type": "code",
   "execution_count": null,
   "metadata": {},
   "outputs": [],
   "source": []
  },
  {
   "cell_type": "code",
   "execution_count": null,
   "metadata": {},
   "outputs": [],
   "source": []
  },
  {
   "cell_type": "code",
   "execution_count": null,
   "metadata": {},
   "outputs": [],
   "source": []
  },
  {
   "cell_type": "code",
   "execution_count": null,
   "metadata": {},
   "outputs": [],
   "source": []
  }
 ],
 "metadata": {
  "kernelspec": {
   "display_name": "Python 3 (ipykernel)",
   "language": "python",
   "name": "python3"
  },
  "language_info": {
   "codemirror_mode": {
    "name": "ipython",
    "version": 3
   },
   "file_extension": ".py",
   "mimetype": "text/x-python",
   "name": "python",
   "nbconvert_exporter": "python",
   "pygments_lexer": "ipython3",
   "version": "3.10.11"
  },
  "toc": {
   "base_numbering": 1,
   "nav_menu": {},
   "number_sections": true,
   "sideBar": true,
   "skip_h1_title": false,
   "title_cell": "Table of Contents",
   "title_sidebar": "Contents",
   "toc_cell": false,
   "toc_position": {},
   "toc_section_display": true,
   "toc_window_display": false
  },
  "varInspector": {
   "cols": {
    "lenName": 16,
    "lenType": 16,
    "lenVar": 40
   },
   "kernels_config": {
    "python": {
     "delete_cmd_postfix": "",
     "delete_cmd_prefix": "del ",
     "library": "var_list.py",
     "varRefreshCmd": "print(var_dic_list())"
    },
    "r": {
     "delete_cmd_postfix": ") ",
     "delete_cmd_prefix": "rm(",
     "library": "var_list.r",
     "varRefreshCmd": "cat(var_dic_list()) "
    }
   },
   "types_to_exclude": [
    "module",
    "function",
    "builtin_function_or_method",
    "instance",
    "_Feature"
   ],
   "window_display": false
  }
 },
 "nbformat": 4,
 "nbformat_minor": 4
}
