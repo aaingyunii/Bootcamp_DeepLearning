{
 "cells": [
  {
   "cell_type": "markdown",
   "metadata": {},
   "source": [
    "# Tensorflow 모듈 활용\n",
    "tf 모듈을 활용하는 것을 배우는 단계"
   ]
  },
  {
   "cell_type": "markdown",
   "metadata": {
    "slideshow": {
     "slide_type": "slide"
    }
   },
   "source": [
    "# tf.data 모듈\n",
    "- 데이터 입력 파이프라인을 위한 모듈\n",
    "    - 모델 학습/평가를 위한 데이터셋을 제공(feeding)하기 위한 모듈\n",
    "   - raw dataset 에서 입력을 위한 **전처리**, **배치 크기 조정**, **shuffling**등을 한번에 처리할 수 있게 한다.\n",
    "- tf.data.Dataset 추상클래스에서 상속된 여러가지 클래스들을 제공\n",
    "    - 입력 소스의 제공 형태, 어떤 처리를 하는지에 따라 다양한 하위클래스들이 제공된다.\n",
    "    \n",
    "> 파이프라인의 핵심! : <font size=5><span style=\"background-color:#fff5b1\">**데이터가 흘러가는 것.**</span></font>"
   ]
  },
  {
   "cell_type": "markdown",
   "metadata": {
    "slideshow": {
     "slide_type": "fragment"
    }
   },
   "source": [
    "## Dataset API 사용\n",
    "1. **Dataset 생성**\n",
    "    - raw dataset을 지정 (Loading)\n",
    "    - from_tensor_slices(), from_generator() 클래스 메소드, tf.data.TFRecordDataset 클래스등를 사용해 메모리나 파일에 있는 데이터를 Dataset으로 만든다.\n",
    "    - <font size=5><span style=\"background-color:#fff5b1\">**from_tensor_slices()**</span></font>: 메모리의 리스트, 넘파이배열, 텐서플로 자료형에서 데이터를 생성한다."
   ]
  },
  {
   "cell_type": "markdown",
   "metadata": {
    "slideshow": {
     "slide_type": "fragment"
    }
   },
   "source": [
    "2. **제공 데이터 전처리**\n",
    "    - **map(함수)**: Dataset이 제공하는 원소를 처리해서 변환된 원소를 제공하도록 한다.\n",
    "        - 함수: 원소를 어떻게 변환할 지 정의한 함수를 매개변수로 전달한다.\n",
    "            - 매개변수: Dataset이 제공하는 원소를 받을 변수. \n",
    "            - 반환값: Dataset이 제공한 원소를 변경처리한 값.\n",
    "    - **filter(함수)**: Dataset이 제공하는 원소중 특정 조건을 만족하는(True)인 원소들만 제공한다.\n",
    "        - 함수: 원소가 특정조건을 만족하는지 여부를 확인하는 로직을 정의한 함수를 매개변수로 전달한다.\n",
    "            - 매개변수: Dataset이 제공하는 원소를 받을 변수.\n",
    "            - 반환값: Dataset이 제공한 원소가 특정조건을 만족하는지 여부(bool)"
   ]
  },
  {
   "cell_type": "markdown",
   "metadata": {
    "slideshow": {
     "slide_type": "fragment"
    }
   },
   "source": [
    "3. **데이터 제공 설정 관련**\n",
    "    - **batch(size)**: 학습/평가시 한번에 제공할 batch size 지정\n",
    "        - size: int. batch size 지정\n",
    "        - drop_remainder: bool. True일 경우 마지막 제공시 남은 데이터수가 batch size보다 작으면 제공하지 않는다.\n",
    "    - **shuffle(buffer 크기)**: dataset의 원소들의 순서를 섞는다. \n",
    "        - buffer 크기: int. buffer 크기는 섞는 공간의 크기로  **데이터보다 크거나 같으면** 완전셔플, **적으면 일부만 가져와서 섞어** 완전셔플이 안된다.\n",
    "        - 데이터 사이즈가 너무 커서 메모리가 부족할 경우 버퍼크기를 적게 준다.\n",
    "        - 메모리가 충분하다면 데이터의 개수와 동일하게 주면된다.\n",
    "    - **repeat(count)**: 전체 데이터를 한번 다 제공한 뒤 다시 데이터를 제공한다.\n",
    "        - count: 몇번 제공할지 반복 횟수\n",
    "        - shuffle이 적용된 Dataset의 경우 다음 반복 제공마다 shuffle을 진행한다. (에폭단위)\n",
    "        "
   ]
  },
  {
   "cell_type": "markdown",
   "metadata": {
    "slideshow": {
     "slide_type": "fragment"
    }
   },
   "source": [
    "- 각 tf.data 함수들은 각 기능에 맞게 데이터를 처리하는 Dataset 객체를 반환한다."
   ]
  },
  {
   "cell_type": "markdown",
   "metadata": {
    "slideshow": {
     "slide_type": "fragment"
    }
   },
   "source": [
    "### Dataset 메소드\n",
    "- take(개수): 지정한 개수만큼의 데이터만 제공한다."
   ]
  },
  {
   "cell_type": "code",
   "execution_count": 178,
   "metadata": {},
   "outputs": [],
   "source": [
    "import tensorflow as tf\n",
    "import numpy as np"
   ]
  },
  {
   "cell_type": "markdown",
   "metadata": {
    "slideshow": {
     "slide_type": "fragment"
    }
   },
   "source": [
    "##### Tensor Type\n",
    ">- TensorFlow의 기본 data 자료구조.\n",
    ">- numpy가 ndarray를 이용해 데이터를 관리하듯이 tensorflow를 `Tensor`를 이용해 데이터를 관리한다.\n",
    ">    - Tesorflow의 모델이 학습, 평가할 때 사용하는 데이터 셋(train dataset, validation dataset, test dataset)은 tf.Tensor 타입이어야 한다.\n",
    ">        - 학습/평가(model.fit(), model.evaluate()) 할 때 <u>ndarray를 입력 데이터셋으로 넣어주면 **내부적으로 tf.Tensor로 변형**해서 처리.</u>\n",
    ">        - **tf.Tensor는 데이터셋을 ndarray로 가지고 있다.**"
   ]
  },
  {
   "cell_type": "code",
   "execution_count": 3,
   "metadata": {},
   "outputs": [
    {
     "data": {
      "text/plain": [
       "<tf.Tensor: shape=(3,), dtype=float32, numpy=array([1., 2., 3.], dtype=float32)>"
      ]
     },
     "execution_count": 3,
     "metadata": {},
     "output_type": "execute_result"
    }
   ],
   "source": [
    "t = tf.constant([1,2,3], dtype='float32')\n",
    "t\n",
    "# constant() 메서드로 만듦."
   ]
  },
  {
   "cell_type": "code",
   "execution_count": 4,
   "metadata": {},
   "outputs": [
    {
     "data": {
      "text/plain": [
       "(TensorShape([3]), tf.float32)"
      ]
     },
     "execution_count": 4,
     "metadata": {},
     "output_type": "execute_result"
    }
   ],
   "source": [
    "t.shape, t.dtype"
   ]
  },
  {
   "cell_type": "code",
   "execution_count": 8,
   "metadata": {},
   "outputs": [
    {
     "data": {
      "text/plain": [
       "(array([1., 2., 3.], dtype=float32), numpy.ndarray)"
      ]
     },
     "execution_count": 8,
     "metadata": {},
     "output_type": "execute_result"
    }
   ],
   "source": [
    "# Tensor -> ndarray로 변환\n",
    "a = t.numpy()\n",
    "a, type(a)"
   ]
  },
  {
   "cell_type": "code",
   "execution_count": 18,
   "metadata": {},
   "outputs": [
    {
     "data": {
      "text/plain": [
       "(<tf.Tensor: shape=(10,), dtype=int32, numpy=array([0, 1, 2, 3, 4, 5, 6, 7, 8, 9])>,\n",
       " tensorflow.python.framework.ops.EagerTensor)"
      ]
     },
     "execution_count": 18,
     "metadata": {},
     "output_type": "execute_result"
    }
   ],
   "source": [
    "# ndarray/list => Tensor\n",
    "b=tf.constant(np.arange(10))\n",
    "b, type(b)"
   ]
  },
  {
   "cell_type": "code",
   "execution_count": 19,
   "metadata": {},
   "outputs": [
    {
     "data": {
      "text/plain": [
       "<tf.Tensor: shape=(3,), dtype=float32, numpy=array([1., 2., 3.], dtype=float32)>"
      ]
     },
     "execution_count": 19,
     "metadata": {},
     "output_type": "execute_result"
    }
   ],
   "source": [
    "tf.convert_to_tensor(a)"
   ]
  },
  {
   "cell_type": "markdown",
   "metadata": {
    "slideshow": {
     "slide_type": "slide"
    }
   },
   "source": [
    "## Dataset 예제"
   ]
  },
  {
   "cell_type": "code",
   "execution_count": 98,
   "metadata": {},
   "outputs": [
    {
     "data": {
      "text/plain": [
       "array([0, 1, 2, 3, 4, 5, 6, 7, 8, 9])"
      ]
     },
     "execution_count": 98,
     "metadata": {},
     "output_type": "execute_result"
    }
   ],
   "source": [
    "# 0 ~ 9 정수 => input data\n",
    "raw_data1 = np.arange(10)\n",
    "raw_data1"
   ]
  },
  {
   "cell_type": "code",
   "execution_count": 99,
   "metadata": {},
   "outputs": [
    {
     "name": "stdout",
     "output_type": "stream",
     "text": [
      "<class 'tensorflow.python.data.ops.from_tensor_slices_op._TensorSliceDataset'>\n"
     ]
    }
   ],
   "source": [
    "# DataSet 을 생성 -> 대상 raw dataset이 메모리에 있는 ndarray일 경우\n",
    "# => Raw dataset 으로부터 데이터를 읽어들이는 기능을 제공하는 Dataset 생성.\n",
    "# 원본 데이터(raw data)가 어디에 어떤 식으로 저장되어있는 지에 따라 다르다.\n",
    "## 이번 경우에는 메모리에 ndarray 형식으로 저장되어 있는 데이터를 읽어 들이는 경우로,\n",
    "### tf.data.Dataset.from_tensor_slices()를 통해 읽어 들였다.\n",
    "#### 다른 경우도 살펴 봐야한다.\n",
    "\n",
    "dataset = tf.data.Dataset.from_tensor_slices(raw_data1)\n",
    "print(type(dataset))"
   ]
  },
  {
   "cell_type": "code",
   "execution_count": 29,
   "metadata": {},
   "outputs": [
    {
     "ename": "TypeError",
     "evalue": "'_TensorSliceDataset' object is not subscriptable",
     "output_type": "error",
     "traceback": [
      "\u001b[1;31m---------------------------------------------------------------------------\u001b[0m",
      "\u001b[1;31mTypeError\u001b[0m                                 Traceback (most recent call last)",
      "Cell \u001b[1;32mIn[29], line 1\u001b[0m\n\u001b[1;32m----> 1\u001b[0m \u001b[43mdataset\u001b[49m\u001b[43m[\u001b[49m\u001b[38;5;241;43m0\u001b[39;49m\u001b[43m]\u001b[49m\n",
      "\u001b[1;31mTypeError\u001b[0m: '_TensorSliceDataset' object is not subscriptable"
     ]
    }
   ],
   "source": [
    "dataset[0]"
   ]
  },
  {
   "cell_type": "code",
   "execution_count": 30,
   "metadata": {},
   "outputs": [
    {
     "name": "stdout",
     "output_type": "stream",
     "text": [
      "tf.Tensor(0, shape=(), dtype=int32)\n",
      "tf.Tensor(1, shape=(), dtype=int32)\n",
      "tf.Tensor(2, shape=(), dtype=int32)\n",
      "tf.Tensor(3, shape=(), dtype=int32)\n",
      "tf.Tensor(4, shape=(), dtype=int32)\n",
      "tf.Tensor(5, shape=(), dtype=int32)\n",
      "tf.Tensor(6, shape=(), dtype=int32)\n",
      "tf.Tensor(7, shape=(), dtype=int32)\n",
      "tf.Tensor(8, shape=(), dtype=int32)\n",
      "tf.Tensor(9, shape=(), dtype=int32)\n"
     ]
    }
   ],
   "source": [
    "# Dataset은 Iterable타입\n",
    "## 그러나 Dataset은 subscriptable 이 아니기 때문에 index로 조회는 불가능하다.\n",
    "### 반환 tf.Tensor 타입\n",
    "\n",
    "for data in dataset:\n",
    "    print(data)"
   ]
  },
  {
   "cell_type": "code",
   "execution_count": 35,
   "metadata": {},
   "outputs": [
    {
     "name": "stdout",
     "output_type": "stream",
     "text": [
      "tf.Tensor(0, shape=(), dtype=int32)\n",
      "tf.Tensor(1, shape=(), dtype=int32)\n",
      "tf.Tensor(2, shape=(), dtype=int32)\n",
      "tf.Tensor(3, shape=(), dtype=int32)\n",
      "tf.Tensor(4, shape=(), dtype=int32)\n"
     ]
    }
   ],
   "source": [
    "for data in dataset.take(5):  # dataset에서 5개만 조회\n",
    "    print(data)\n",
    "    \n",
    "# dataset.take() 메서드는 지정한 개수만큼 앞에서부터 가져온다."
   ]
  },
  {
   "cell_type": "markdown",
   "metadata": {},
   "source": [
    "### tf.Tensor 타입으로 선언된 Dataset에는 순서 존재.\n",
    "<br><span style=\"background-color:#fff5b1\">\"tf모듈\" 에서 \"__getitems()__\" 매직 메서드 를 구현하지 않아 **\"not subscriptable\"**</span>\n",
    "- 기본적으로 Tensor는 ndarray타입을 가지고 있기 때문에 순서, index가 존재한다.\n",
    "- 그러나, `tf모듈` 에서 `__getitems()__` 매직 메서드 를 구현되지 않아 [index] 로 조회 시 **\"not subscriptable\"** 에러가 뜬다."
   ]
  },
  {
   "cell_type": "code",
   "execution_count": null,
   "metadata": {},
   "outputs": [],
   "source": []
  },
  {
   "cell_type": "code",
   "execution_count": null,
   "metadata": {},
   "outputs": [],
   "source": []
  },
  {
   "cell_type": "markdown",
   "metadata": {
    "slideshow": {
     "slide_type": "slide"
    }
   },
   "source": [
    "##### x, y 묶어서 제공\n",
    "- 두개 이상의 데이터셋을 묶어서 제공할 경우 Tuple로 묶어준다.\n",
    "    - Dataset이 feeding 할 때는 같은 index의 값들을 tuple로 묶어서 제공 (zip()과 동일)"
   ]
  },
  {
   "cell_type": "code",
   "execution_count": 36,
   "metadata": {},
   "outputs": [
    {
     "name": "stdout",
     "output_type": "stream",
     "text": [
      "[0 1 2 3 4 5 6 7 8 9] 10\n",
      "[10 11 12 13 14 15 16 17 18 19] 10\n"
     ]
    }
   ],
   "source": [
    "raw_data2 = np.arange(10, 20)\n",
    "print(raw_data1, len(raw_data1))   # X\n",
    "print(raw_data2, len(raw_data2))   # y"
   ]
  },
  {
   "cell_type": "code",
   "execution_count": 46,
   "metadata": {},
   "outputs": [
    {
     "name": "stdout",
     "output_type": "stream",
     "text": [
      "(<tf.Tensor: shape=(), dtype=int32, numpy=0>, <tf.Tensor: shape=(), dtype=int32, numpy=10>)\n",
      "(<tf.Tensor: shape=(), dtype=int32, numpy=1>, <tf.Tensor: shape=(), dtype=int32, numpy=11>)\n",
      "(<tf.Tensor: shape=(), dtype=int32, numpy=2>, <tf.Tensor: shape=(), dtype=int32, numpy=12>)\n"
     ]
    }
   ],
   "source": [
    "# 학습 - model.fit(X_train, y_train,...)\n",
    "## Dataset으로 만들기 : 튜플로 묶어서 생성.     \n",
    "### X: 0 -> y: 10\n",
    "### X: 1 -> y: 11\n",
    "### ... X:9 -> y:19 이렇게 튜플로 묶여서 각각의 X,y 가 매칭되어서 Dataset이 생성됨.\n",
    "\n",
    "#                                               (   X           y   )\n",
    "dataset2 = tf.data.Dataset.from_tensor_slices( (raw_data1, raw_data2) )\n",
    "for data in dataset2.take(3):  # 두 dataset(raw_data1, raw_data2)의 같은 index의 값들을 묶어서 튜플로 반환.\n",
    "    print(data)"
   ]
  },
  {
   "cell_type": "code",
   "execution_count": 39,
   "metadata": {},
   "outputs": [
    {
     "name": "stdout",
     "output_type": "stream",
     "text": [
      "tf.Tensor(0, shape=(), dtype=int32) ====== tf.Tensor(10, shape=(), dtype=int32)\n",
      "tf.Tensor(1, shape=(), dtype=int32) ====== tf.Tensor(11, shape=(), dtype=int32)\n",
      "tf.Tensor(2, shape=(), dtype=int32) ====== tf.Tensor(12, shape=(), dtype=int32)\n",
      "tf.Tensor(3, shape=(), dtype=int32) ====== tf.Tensor(13, shape=(), dtype=int32)\n",
      "tf.Tensor(4, shape=(), dtype=int32) ====== tf.Tensor(14, shape=(), dtype=int32)\n",
      "tf.Tensor(5, shape=(), dtype=int32) ====== tf.Tensor(15, shape=(), dtype=int32)\n",
      "tf.Tensor(6, shape=(), dtype=int32) ====== tf.Tensor(16, shape=(), dtype=int32)\n",
      "tf.Tensor(7, shape=(), dtype=int32) ====== tf.Tensor(17, shape=(), dtype=int32)\n",
      "tf.Tensor(8, shape=(), dtype=int32) ====== tf.Tensor(18, shape=(), dtype=int32)\n",
      "tf.Tensor(9, shape=(), dtype=int32) ====== tf.Tensor(19, shape=(), dtype=int32)\n"
     ]
    }
   ],
   "source": [
    "for X, y in dataset2:\n",
    "    print(X, y, sep=' ====== ')"
   ]
  },
  {
   "cell_type": "markdown",
   "metadata": {
    "slideshow": {
     "slide_type": "slide"
    }
   },
   "source": [
    "##### shuffle\n",
    "- 데이터셋을 섞는다."
   ]
  },
  {
   "cell_type": "code",
   "execution_count": 45,
   "metadata": {},
   "outputs": [
    {
     "name": "stdout",
     "output_type": "stream",
     "text": [
      "tf.Tensor(0, shape=(), dtype=int32)\n",
      "tf.Tensor(1, shape=(), dtype=int32)\n",
      "tf.Tensor(2, shape=(), dtype=int32)\n",
      "tf.Tensor(3, shape=(), dtype=int32)\n",
      "tf.Tensor(4, shape=(), dtype=int32)\n",
      "tf.Tensor(5, shape=(), dtype=int32)\n",
      "tf.Tensor(6, shape=(), dtype=int32)\n",
      "tf.Tensor(7, shape=(), dtype=int32)\n",
      "tf.Tensor(8, shape=(), dtype=int32)\n",
      "tf.Tensor(9, shape=(), dtype=int32)\n"
     ]
    }
   ],
   "source": [
    "for data in dataset:\n",
    "    print(data)"
   ]
  },
  {
   "cell_type": "code",
   "execution_count": 131,
   "metadata": {},
   "outputs": [
    {
     "name": "stdout",
     "output_type": "stream",
     "text": [
      "<class 'tensorflow.python.data.ops.shuffle_op._ShuffleDataset'>\n"
     ]
    }
   ],
   "source": [
    "raw_data1 = np.arange(10)\n",
    "dataset = tf.data.Dataset.from_tensor_slices(raw_data1)\n",
    "# 기존 Dataset객체.기능추가메서드() => 기존 데이터 파이프라인에 기능을 추가.\n",
    "\n",
    "dataset3 = dataset.shuffle(10) # shuffle() : 데이터를 제공하기 전에 섞는다. (순서를 랜덤하게 바꿈)\n",
    "                               # shuffle(10), 10: raw data를 섞기 위한 임시 저장소(buffer)의 크기\n",
    "                       # (메모리가 허용한다면) buffer size는 총 데이터 개수에 맞춰주는 것이 제일 좋다.\n",
    "\n",
    "print(type(dataset3))          "
   ]
  },
  {
   "cell_type": "code",
   "execution_count": 129,
   "metadata": {},
   "outputs": [
    {
     "name": "stdout",
     "output_type": "stream",
     "text": [
      "tf.Tensor(6, shape=(), dtype=int32)\n",
      "tf.Tensor(3, shape=(), dtype=int32)\n",
      "tf.Tensor(4, shape=(), dtype=int32)\n",
      "tf.Tensor(5, shape=(), dtype=int32)\n",
      "tf.Tensor(7, shape=(), dtype=int32)\n",
      "tf.Tensor(1, shape=(), dtype=int32)\n",
      "tf.Tensor(9, shape=(), dtype=int32)\n",
      "tf.Tensor(2, shape=(), dtype=int32)\n",
      "tf.Tensor(8, shape=(), dtype=int32)\n",
      "tf.Tensor(0, shape=(), dtype=int32)\n"
     ]
    }
   ],
   "source": [
    "for data in dataset3: # dataset3 -> shuffle로 이루어져 있기 때문에 실행할 때마다 순서가 계속 바뀐다.\n",
    "    print(data)\n",
    "    \n",
    "# 실제로는 Buffer(임시 저장소)를 활용해, shuffle(i), i의 크기 만큼 buffer에 데이터들이 순서대로 저장되고, \n",
    "# 이 안에서 shuffle(섞기) 진행되고 다음 단계로 섞인 데이터를 전달한다.\n",
    "## 원본 데이터로부터 데이터를 읽어 들이고, buffer에서 shuffle을 통해 데이터를 조작하고 모델에 전달한다."
   ]
  },
  {
   "cell_type": "markdown",
   "metadata": {
    "slideshow": {
     "slide_type": "slide"
    }
   },
   "source": [
    "##### batch\n",
    "- drop_remainder: boolean(기본 default-False)\n",
    "    - batch로 제공할 데이터의 개수가 설정한 batch_size 보다 적으면 제공하지 않는다.\n",
    "    - Train dataset을 만들때 True로 설정하여 항상 일정한 batch size로 학습할 수 있도록 한다. drop 되는 데이터는 다른 epoch을 반복할 때 사용된다."
   ]
  },
  {
   "cell_type": "code",
   "execution_count": 137,
   "metadata": {},
   "outputs": [
    {
     "name": "stdout",
     "output_type": "stream",
     "text": [
      "<class 'tensorflow.python.data.ops.batch_op._BatchDataset'>\n",
      "tf.Tensor([0 1 2 3 4], shape=(5,), dtype=int32)\n",
      "tf.Tensor([5 6 7 8 9], shape=(5,), dtype=int32)\n"
     ]
    }
   ],
   "source": [
    "dataset4 = dataset.batch(5)   # batch size 설정 => 반복시 지정한 개수만큼 한번에 제공.\n",
    "# dataset4 = dataset.batch(10)\n",
    "# dataset4 = dataset.batch(7)\n",
    "print(type(dataset4))\n",
    "for data in dataset4:\n",
    "    print(data)"
   ]
  },
  {
   "cell_type": "code",
   "execution_count": 140,
   "metadata": {},
   "outputs": [
    {
     "name": "stdout",
     "output_type": "stream",
     "text": [
      "tf.Tensor([0 1 2], shape=(3,), dtype=int32)\n",
      "tf.Tensor([3 4 5], shape=(3,), dtype=int32)\n",
      "tf.Tensor([6 7 8], shape=(3,), dtype=int32)\n"
     ]
    }
   ],
   "source": [
    "# 읽어올 데이터의 개수가 batch_size보다 적으면 제공하지 않는다.\n",
    "dataset5 = dataset.batch(3, drop_remainder=True) \n",
    "for data in dataset5:\n",
    "    print(data)\n",
    "\n",
    "# 0~9 까지의 dataset 을 batch(3) 통해 3개씩 묶는다면\n",
    "## 012 / 345 / 678 / 9 이렇게 나뉜다.\n",
    "### 그런데 drop_remainder=True를 하면 3보다 작은 데이터에 대해서 제공하지 않는 것이므로\n",
    "#### 마지막 '9'는 drop 시켜 dataset5에 할당된다."
   ]
  },
  {
   "cell_type": "markdown",
   "metadata": {
    "slideshow": {
     "slide_type": "slide"
    }
   },
   "source": [
    "##### repeat"
   ]
  },
  {
   "cell_type": "code",
   "execution_count": 141,
   "metadata": {
    "scrolled": true
   },
   "outputs": [
    {
     "name": "stdout",
     "output_type": "stream",
     "text": [
      "<class 'tensorflow.python.data.ops.repeat_op._RepeatDataset'>\n",
      "tf.Tensor(0, shape=(), dtype=int32)\n",
      "tf.Tensor(1, shape=(), dtype=int32)\n",
      "tf.Tensor(2, shape=(), dtype=int32)\n",
      "tf.Tensor(3, shape=(), dtype=int32)\n",
      "tf.Tensor(4, shape=(), dtype=int32)\n",
      "tf.Tensor(5, shape=(), dtype=int32)\n",
      "tf.Tensor(6, shape=(), dtype=int32)\n",
      "tf.Tensor(7, shape=(), dtype=int32)\n",
      "tf.Tensor(8, shape=(), dtype=int32)\n",
      "tf.Tensor(9, shape=(), dtype=int32)\n",
      "tf.Tensor(0, shape=(), dtype=int32)\n",
      "tf.Tensor(1, shape=(), dtype=int32)\n",
      "tf.Tensor(2, shape=(), dtype=int32)\n",
      "tf.Tensor(3, shape=(), dtype=int32)\n",
      "tf.Tensor(4, shape=(), dtype=int32)\n",
      "tf.Tensor(5, shape=(), dtype=int32)\n",
      "tf.Tensor(6, shape=(), dtype=int32)\n",
      "tf.Tensor(7, shape=(), dtype=int32)\n",
      "tf.Tensor(8, shape=(), dtype=int32)\n",
      "tf.Tensor(9, shape=(), dtype=int32)\n",
      "tf.Tensor(0, shape=(), dtype=int32)\n",
      "tf.Tensor(1, shape=(), dtype=int32)\n",
      "tf.Tensor(2, shape=(), dtype=int32)\n",
      "tf.Tensor(3, shape=(), dtype=int32)\n",
      "tf.Tensor(4, shape=(), dtype=int32)\n",
      "tf.Tensor(5, shape=(), dtype=int32)\n",
      "tf.Tensor(6, shape=(), dtype=int32)\n",
      "tf.Tensor(7, shape=(), dtype=int32)\n",
      "tf.Tensor(8, shape=(), dtype=int32)\n",
      "tf.Tensor(9, shape=(), dtype=int32)\n",
      "tf.Tensor(0, shape=(), dtype=int32)\n",
      "tf.Tensor(1, shape=(), dtype=int32)\n",
      "tf.Tensor(2, shape=(), dtype=int32)\n",
      "tf.Tensor(3, shape=(), dtype=int32)\n",
      "tf.Tensor(4, shape=(), dtype=int32)\n",
      "tf.Tensor(5, shape=(), dtype=int32)\n",
      "tf.Tensor(6, shape=(), dtype=int32)\n",
      "tf.Tensor(7, shape=(), dtype=int32)\n",
      "tf.Tensor(8, shape=(), dtype=int32)\n",
      "tf.Tensor(9, shape=(), dtype=int32)\n",
      "tf.Tensor(0, shape=(), dtype=int32)\n",
      "tf.Tensor(1, shape=(), dtype=int32)\n",
      "tf.Tensor(2, shape=(), dtype=int32)\n",
      "tf.Tensor(3, shape=(), dtype=int32)\n",
      "tf.Tensor(4, shape=(), dtype=int32)\n",
      "tf.Tensor(5, shape=(), dtype=int32)\n",
      "tf.Tensor(6, shape=(), dtype=int32)\n",
      "tf.Tensor(7, shape=(), dtype=int32)\n",
      "tf.Tensor(8, shape=(), dtype=int32)\n",
      "tf.Tensor(9, shape=(), dtype=int32)\n"
     ]
    }
   ],
   "source": [
    "dataset6 = dataset.repeat(5)  # 지정한 횟수만큼 데이터를 반복해서 제공한다. (default: 1 - 한번)\n",
    "print(type(dataset6))\n",
    "for data in dataset6:\n",
    "    print(data)"
   ]
  },
  {
   "cell_type": "code",
   "execution_count": 153,
   "metadata": {},
   "outputs": [
    {
     "name": "stdout",
     "output_type": "stream",
     "text": [
      "tf.Tensor([7 9 0], shape=(3,), dtype=int32)\n",
      "tf.Tensor([4 5 6], shape=(3,), dtype=int32)\n",
      "tf.Tensor([3 2 1], shape=(3,), dtype=int32)\n",
      "tf.Tensor([7 5 1], shape=(3,), dtype=int32)\n",
      "tf.Tensor([2 6 3], shape=(3,), dtype=int32)\n",
      "tf.Tensor([0 9 8], shape=(3,), dtype=int32)\n",
      "tf.Tensor([8 5 4], shape=(3,), dtype=int32)\n",
      "tf.Tensor([2 7 6], shape=(3,), dtype=int32)\n",
      "tf.Tensor([9 0 1], shape=(3,), dtype=int32)\n"
     ]
    }
   ],
   "source": [
    "dataset7 = tf.data.Dataset.from_tensor_slices(raw_data1).shuffle(10).batch(3,drop_remainder=True).repeat(3) \n",
    "                                                # 데이터셋을 반복할때 마다 shuffle\n",
    "for data in dataset7:\n",
    "    print(data)"
   ]
  },
  {
   "cell_type": "markdown",
   "metadata": {
    "slideshow": {
     "slide_type": "slide"
    }
   },
   "source": [
    "##### map"
   ]
  },
  {
   "cell_type": "code",
   "execution_count": 171,
   "metadata": {
    "scrolled": true
   },
   "outputs": [
    {
     "name": "stdout",
     "output_type": "stream",
     "text": [
      "<class 'tensorflow.python.data.ops.map_op._MapDataset'>\n",
      "tf.Tensor(0, shape=(), dtype=int32)\n",
      "tf.Tensor(2, shape=(), dtype=int32)\n",
      "tf.Tensor(4, shape=(), dtype=int32)\n",
      "tf.Tensor(6, shape=(), dtype=int32)\n",
      "tf.Tensor(8, shape=(), dtype=int32)\n",
      "tf.Tensor(10, shape=(), dtype=int32)\n",
      "tf.Tensor(12, shape=(), dtype=int32)\n",
      "tf.Tensor(14, shape=(), dtype=int32)\n",
      "tf.Tensor(16, shape=(), dtype=int32)\n",
      "tf.Tensor(18, shape=(), dtype=int32)\n"
     ]
    }
   ],
   "source": [
    "# map - 값을 변환해서 저장한다.\n",
    "## 함수 구문 : 매개변수-원소 한개를 받는다, 반환: 변환된 값을 반환.\n",
    "\n",
    "dataset8 = dataset.map(lambda x: x * 2)\n",
    "print(type(dataset8))\n",
    "for data in dataset8:\n",
    "    print(data)"
   ]
  },
  {
   "cell_type": "code",
   "execution_count": 159,
   "metadata": {},
   "outputs": [
    {
     "name": "stdout",
     "output_type": "stream",
     "text": [
      "(<tf.Tensor: shape=(), dtype=int32, numpy=0>, <tf.Tensor: shape=(), dtype=int32, numpy=10>)\n",
      "(<tf.Tensor: shape=(), dtype=int32, numpy=1>, <tf.Tensor: shape=(), dtype=int32, numpy=11>)\n",
      "(<tf.Tensor: shape=(), dtype=int32, numpy=2>, <tf.Tensor: shape=(), dtype=int32, numpy=12>)\n",
      "(<tf.Tensor: shape=(), dtype=int32, numpy=3>, <tf.Tensor: shape=(), dtype=int32, numpy=13>)\n",
      "(<tf.Tensor: shape=(), dtype=int32, numpy=4>, <tf.Tensor: shape=(), dtype=int32, numpy=14>)\n",
      "(<tf.Tensor: shape=(), dtype=int32, numpy=5>, <tf.Tensor: shape=(), dtype=int32, numpy=15>)\n",
      "(<tf.Tensor: shape=(), dtype=int32, numpy=6>, <tf.Tensor: shape=(), dtype=int32, numpy=16>)\n",
      "(<tf.Tensor: shape=(), dtype=int32, numpy=7>, <tf.Tensor: shape=(), dtype=int32, numpy=17>)\n",
      "(<tf.Tensor: shape=(), dtype=int32, numpy=8>, <tf.Tensor: shape=(), dtype=int32, numpy=18>)\n",
      "(<tf.Tensor: shape=(), dtype=int32, numpy=9>, <tf.Tensor: shape=(), dtype=int32, numpy=19>)\n"
     ]
    }
   ],
   "source": [
    "for i in dataset2:\n",
    "    print(i)"
   ]
  },
  {
   "cell_type": "code",
   "execution_count": 170,
   "metadata": {},
   "outputs": [
    {
     "name": "stdout",
     "output_type": "stream",
     "text": [
      "tf.Tensor(0, shape=(), dtype=int32) tf.Tensor(20, shape=(), dtype=int32)\n",
      "tf.Tensor(1, shape=(), dtype=int32) tf.Tensor(21, shape=(), dtype=int32)\n",
      "tf.Tensor(4, shape=(), dtype=int32) tf.Tensor(22, shape=(), dtype=int32)\n",
      "tf.Tensor(9, shape=(), dtype=int32) tf.Tensor(23, shape=(), dtype=int32)\n",
      "tf.Tensor(16, shape=(), dtype=int32) tf.Tensor(24, shape=(), dtype=int32)\n",
      "tf.Tensor(25, shape=(), dtype=int32) tf.Tensor(25, shape=(), dtype=int32)\n",
      "tf.Tensor(36, shape=(), dtype=int32) tf.Tensor(26, shape=(), dtype=int32)\n",
      "tf.Tensor(49, shape=(), dtype=int32) tf.Tensor(27, shape=(), dtype=int32)\n",
      "tf.Tensor(64, shape=(), dtype=int32) tf.Tensor(28, shape=(), dtype=int32)\n",
      "tf.Tensor(81, shape=(), dtype=int32) tf.Tensor(29, shape=(), dtype=int32)\n"
     ]
    }
   ],
   "source": [
    "# 두개의 dataset(x,y)을 묶은 Dataset객체\n",
    "def map_func(x, y):\n",
    "    return x**2, y   # X는 제곱, y는 그대로 반환.\n",
    "\n",
    "# dataset9 = dataset2.map(map_func)\n",
    "dataset9 = dataset2.map(lambda i,j: (i**2, j+10)) \n",
    "                            # lambda로 두개이상의 변수를 적용할 경우, 튜플로 묶어서 변환식 적용한다.\n",
    "for x, y in dataset9:\n",
    "    print(x, y)"
   ]
  },
  {
   "cell_type": "markdown",
   "metadata": {
    "slideshow": {
     "slide_type": "slide"
    }
   },
   "source": [
    "##### filter"
   ]
  },
  {
   "cell_type": "code",
   "execution_count": 173,
   "metadata": {},
   "outputs": [
    {
     "name": "stdout",
     "output_type": "stream",
     "text": [
      "<class 'tensorflow.python.data.ops.filter_op._FilterDataset'>\n",
      "tf.Tensor(0, shape=(), dtype=int32)\n",
      "tf.Tensor(2, shape=(), dtype=int32)\n",
      "tf.Tensor(4, shape=(), dtype=int32)\n",
      "tf.Tensor(6, shape=(), dtype=int32)\n",
      "tf.Tensor(8, shape=(), dtype=int32)\n"
     ]
    }
   ],
   "source": [
    "# filter - 특정조건을 만족하는 원소들만 제공\n",
    "## 함수구문 - 매개변수: 원소를 받을 변수, 반환: bool(True인 원소만 제공)\n",
    "def filter_func(x):\n",
    "    return x % 2 == 0  # 2의 배수: True\n",
    "\n",
    "# dataset11 = dataset.filter(filter_func)\n",
    "dataset11 = dataset.filter(lambda x : x%2==0)\n",
    "\n",
    "print(type(dataset11))\n",
    "for data in dataset11:\n",
    "    print(data)"
   ]
  },
  {
   "cell_type": "markdown",
   "metadata": {
    "slideshow": {
     "slide_type": "slide"
    }
   },
   "source": [
    "# 문제 유형별 MLP 네트워크\n",
    "- MLP(Multi Layer Perceptron), ANN(Artificial Neural Network), DNN (Deep Neural Network)\n",
    "    - Fully Connected Layer(Dense)로 구성된 네트워크"
   ]
  },
  {
   "cell_type": "markdown",
   "metadata": {
    "slideshow": {
     "slide_type": "fragment"
    }
   },
   "source": [
    "# Regression(회귀)\n",
    "\n",
    "## Boston Housing Dataset\n",
    "보스턴 주택가격 dataset은 다음과 같은 속성을 바탕으로 해당 타운 주택 가격의 중앙값을 예측하는 문제.\n",
    "- CRIM: 범죄율\n",
    "- ZN: 25,000 평방피트당 주거지역 비율\n",
    "- INDUS: 비소매 상업지구 비율\n",
    "- CHAS: 찰스강에 인접해 있는지 여부(인접:1, 아니면:0)\n",
    "- NOX: 일산화질소 농도(단위: 0.1ppm)\n",
    "- RM: 주택당 방의 수\n",
    "- AGE: 1940년 이전에 건설된 주택의 비율\n",
    "- DIS: 5개의 보스턴 직업고용센터와의 거리(가중 평균)\n",
    "- RAD: 고속도로 접근성\n",
    "- TAX: 재산세율\n",
    "- PTRATIO: 학생/교사 비율\n",
    "- B: 흑인 비율\n",
    "- LSTAT: 하위 계층 비율\n",
    "<br><br>\n",
    "- **Target**\n",
    "    - MEDV: 타운의 주택가격 중앙값(단위: 1,000달러)"
   ]
  },
  {
   "cell_type": "code",
   "execution_count": 1,
   "metadata": {},
   "outputs": [],
   "source": [
    "import tensorflow as tf\n",
    "from tensorflow import keras\n",
    "from tensorflow.keras import layers # layers.Dense()\n",
    "# from tensorflow.keras.layers import Dense, ReLU,...\n",
    "\n",
    "\n",
    "import numpy as np\n",
    "import matplotlib.pyplot as plt\n",
    "\n",
    "from sklearn.preprocessing import StandardScaler\n",
    "## 여러 유형의 X, input data를 각 weight를 곱해, 하나의 값으로 추론하는 과정을 한다.\n",
    "## => 선형회귀, 이는 각 feature 간의 scale이 매우 중요하기 때문에\n",
    "### (Standard)Scaling 과정을 포함시킨다!\n",
    "\n",
    "import random"
   ]
  },
  {
   "cell_type": "code",
   "execution_count": 2,
   "metadata": {},
   "outputs": [],
   "source": [
    "# random seed값 설정\n",
    "tf.random.set_seed(0)\n",
    "np.random.seed(0)\n",
    "random.seed(0)"
   ]
  },
  {
   "cell_type": "markdown",
   "metadata": {
    "slideshow": {
     "slide_type": "slide"
    }
   },
   "source": [
    "##### 데이터 로딩"
   ]
  },
  {
   "cell_type": "code",
   "execution_count": 3,
   "metadata": {},
   "outputs": [
    {
     "name": "stdout",
     "output_type": "stream",
     "text": [
      "(404, 13) (404,)\n",
      "(102, 13) (102,)\n"
     ]
    }
   ],
   "source": [
    "(train_X, y_train), (test_X, y_test) = keras.datasets.boston_housing.load_data()\n",
    "print(train_X.shape, y_train.shape)\n",
    "print(test_X.shape, y_test.shape)"
   ]
  },
  {
   "cell_type": "code",
   "execution_count": 90,
   "metadata": {},
   "outputs": [
    {
     "name": "stdout",
     "output_type": "stream",
     "text": [
      "[  1.23247   0.        8.14      0.        0.538     6.142    91.7\n",
      "   3.9769    4.      307.       21.      396.9      18.72   ]\n",
      "15.2\n"
     ]
    }
   ],
   "source": [
    "print(train_X[0])\n",
    "print(y_train[0])"
   ]
  },
  {
   "cell_type": "markdown",
   "metadata": {
    "slideshow": {
     "slide_type": "slide"
    }
   },
   "source": [
    "##### 하이퍼파라미터, 변수 정의"
   ]
  },
  {
   "cell_type": "code",
   "execution_count": 6,
   "metadata": {},
   "outputs": [],
   "source": [
    "#하이퍼파라미터 변수\n",
    "\n",
    "# 학습율 => 경사하강법에서 구한 gradient(경사-미분계수)에 곱해주는 값으로 0 ~ 1 사이 실수를 지정한다. \n",
    "## optimizer 생성때 설정.\n",
    "\n",
    "LEARNING_RATE = 0.001  \n",
    "N_EPOCH = 200 # 에폭수\n",
    "N_BATCH = 400 # Train 배치사이즈\n",
    "N_BATCH_VAL = 50 # Validation/evaluation 배치 사이즈. ==> 교차검증 폴더 데이터 수."
   ]
  },
  {
   "cell_type": "markdown",
   "metadata": {
    "slideshow": {
     "slide_type": "fragment"
    }
   },
   "source": [
    "##### X, y 전처리\n",
    "- MLP는 선형모델을 기반으로 하므로 Feature scaling을 해준다."
   ]
  },
  {
   "cell_type": "code",
   "execution_count": 7,
   "metadata": {},
   "outputs": [],
   "source": [
    "scaler = StandardScaler()\n",
    "X_train = scaler.fit_transform(train_X)\n",
    "X_test = scaler.transform(test_X)"
   ]
  },
  {
   "cell_type": "markdown",
   "metadata": {
    "slideshow": {
     "slide_type": "slide"
    }
   },
   "source": [
    "##### Dataset 생성\n",
    "\n",
    "- validation/test set의 pipe line은 동일하게 구성한다.\n",
    "- train dataset은 shuffle을 추가하고 batch에 drop_remainder=True를 설정한다.\n",
    "- map, filter 를 pipe line에 추가할 경우 train/validation/test set에 모두 동일하게 적용한다."
   ]
  },
  {
   "cell_type": "code",
   "execution_count": 8,
   "metadata": {},
   "outputs": [
    {
     "data": {
      "text/plain": [
       "404"
      ]
     },
     "execution_count": 8,
     "metadata": {},
     "output_type": "execute_result"
    }
   ],
   "source": [
    "X_train.shape[0]"
   ]
  },
  {
   "cell_type": "code",
   "execution_count": 9,
   "metadata": {},
   "outputs": [],
   "source": [
    "## X_train, y_train ==> ndarray 메모리 저장된 데이터 ==> from_tensor_slices()로 읽어드림.\n",
    "\n",
    "train_dataset = tf.data.Dataset.from_tensor_slices((X_train, y_train)) \\\n",
    "                               .shuffle(X_train.shape[0])\\\n",
    "                               .batch(N_BATCH, drop_remainder=True)\n",
    "\n",
    "# .from_tensor_slices() => 메모리의 nadrray 형태의 원본 데이터를 연결시킴.\n",
    "# .shuffle(X_train.shape[0]) => 에폭별로 데이터를 랜덤하게 순서 섞기\n",
    "# .batch(N_BATCH, drop_remainder=True) => 지정된 개수만큼 한번에 모델에 제공\n",
    "\n",
    "\n",
    "test_dataset = tf.data.Dataset.from_tensor_slices((X_test, y_test)).batch(N_BATCH_VAL)"
   ]
  },
  {
   "cell_type": "code",
   "execution_count": 10,
   "metadata": {},
   "outputs": [
    {
     "name": "stdout",
     "output_type": "stream",
     "text": [
      "에폭당 step수: 1\n",
      "에폭당 step수: 3\n"
     ]
    }
   ],
   "source": [
    "# 에폭(epoch) 당 step 수 : 전체 데이터 셋 한번 학습할 때 파라미터 업데이트를 몇 번 하는지. \n",
    "\n",
    "# drop_remainder = True - 전체 데이터 수 // batch size (몫 연산, 나머지는 버림.)\n",
    "# drop_remainder = False - ceil(전체 데이터 수 / batch size) (나머지 올림, 버리지 않고 업데이트를 한번 더 함.)\n",
    "\n",
    "print('에폭당 step수:', len(train_dataset)) # drop_remainder = True\n",
    "print('에폭당 step수:', len(test_dataset)) # drop_remainder = False"
   ]
  },
  {
   "cell_type": "markdown",
   "metadata": {
    "slideshow": {
     "slide_type": "slide"
    }
   },
   "source": [
    "##### 모델 구현\n",
    "\n",
    "1. 모델 객체 생성 - Sequential\n",
    "2. 모델에 Layer들 추가\n",
    "    - Input Layer 추가\n",
    "        - 입력 데이터의 shape을 지정한다.\n",
    "        1. InputLayer 객체를 생성해서 추가한다.\n",
    "        2. 첫번째 Hidden Layer에 input_shape 매개변수에 shape을 지정하여 추가한다.\n",
    "    - Hidden Layer들 추가\n",
    "        - Layer의 개수와 Layer의 Unit의 개수는 튜닝대상으로 성능에 영향을 준다.\n",
    "        - 활성함수는 ReLU 를 사용한다.\n",
    "        - Layer의 개수와 Unit 개수가 많을 수록 복잡한 모델, 적을 수록 단순한 모델이된다.\n",
    "    - Output Layer 추가\n",
    "        - 풀려는 문제에 따라 unit개수와 활성함수를 지정한다."
   ]
  },
  {
   "cell_type": "code",
   "execution_count": 11,
   "metadata": {},
   "outputs": [
    {
     "name": "stdout",
     "output_type": "stream",
     "text": [
      "Help on class Adam in module keras.src.optimizers.adam:\n",
      "\n",
      "class Adam(keras.src.optimizers.optimizer.Optimizer)\n",
      " |  Adam(learning_rate=0.001, beta_1=0.9, beta_2=0.999, epsilon=1e-07, amsgrad=False, weight_decay=None, clipnorm=None, clipvalue=None, global_clipnorm=None, use_ema=False, ema_momentum=0.99, ema_overwrite_frequency=None, jit_compile=True, name='Adam', **kwargs)\n",
      " |  \n",
      " |  Optimizer that implements the Adam algorithm.\n",
      " |  \n",
      " |  Adam optimization is a stochastic gradient descent method that is based on\n",
      " |  adaptive estimation of first-order and second-order moments.\n",
      " |  \n",
      " |  According to\n",
      " |  [Kingma et al., 2014](http://arxiv.org/abs/1412.6980),\n",
      " |  the method is \"*computationally\n",
      " |  efficient, has little memory requirement, invariant to diagonal rescaling of\n",
      " |  gradients, and is well suited for problems that are large in terms of\n",
      " |  data/parameters*\".\n",
      " |  \n",
      " |  Args:\n",
      " |    learning_rate: A `tf.Tensor`, floating point value, a schedule that is a\n",
      " |      `tf.keras.optimizers.schedules.LearningRateSchedule`, or a callable\n",
      " |      that takes no arguments and returns the actual value to use. The\n",
      " |      learning rate. Defaults to `0.001`.\n",
      " |    beta_1: A float value or a constant float tensor, or a callable\n",
      " |      that takes no arguments and returns the actual value to use. The\n",
      " |      exponential decay rate for the 1st moment estimates. Defaults to `0.9`.\n",
      " |    beta_2: A float value or a constant float tensor, or a callable\n",
      " |      that takes no arguments and returns the actual value to use. The\n",
      " |      exponential decay rate for the 2nd moment estimates. Defaults to\n",
      " |      `0.999`.\n",
      " |    epsilon: A small constant for numerical stability. This epsilon is\n",
      " |      \"epsilon hat\" in the Kingma and Ba paper (in the formula just before\n",
      " |      Section 2.1), not the epsilon in Algorithm 1 of the paper. Defaults to\n",
      " |      `1e-7`.\n",
      " |    amsgrad: Boolean. Whether to apply AMSGrad variant of this algorithm from\n",
      " |      the paper \"On the Convergence of Adam and beyond\". Defaults to `False`.\n",
      " |    name: String. The name to use\n",
      " |        for momentum accumulator weights created by\n",
      " |        the optimizer.\n",
      " |    weight_decay: Float, defaults to None. If set, weight decay is applied.\n",
      " |    clipnorm: Float. If set, the gradient of each weight is individually\n",
      " |        clipped so that its norm is no higher than this value.\n",
      " |    clipvalue: Float. If set, the gradient of each weight is clipped to be no\n",
      " |        higher than this value.\n",
      " |    global_clipnorm: Float. If set, the gradient of all weights is clipped so\n",
      " |        that their global norm is no higher than this value.\n",
      " |    use_ema: Boolean, defaults to False. If True, exponential moving average\n",
      " |        (EMA) is applied. EMA consists of computing an exponential moving\n",
      " |        average of the weights of the model (as the weight values change after\n",
      " |        each training batch), and periodically overwriting the weights with\n",
      " |        their moving average.\n",
      " |    ema_momentum: Float, defaults to 0.99. Only used if `use_ema=True`.\n",
      " |        This is the momentum to use when computing\n",
      " |        the EMA of the model's weights:\n",
      " |        `new_average = ema_momentum * old_average + (1 - ema_momentum) *\n",
      " |        current_variable_value`.\n",
      " |    ema_overwrite_frequency: Int or None, defaults to None. Only used if\n",
      " |        `use_ema=True`. Every `ema_overwrite_frequency` steps of iterations,\n",
      " |        we overwrite the model variable by its moving average.\n",
      " |        If None, the optimizer\n",
      " |        does not overwrite model variables in the middle of training, and you\n",
      " |        need to explicitly overwrite the variables at the end of training\n",
      " |        by calling `optimizer.finalize_variable_values()`\n",
      " |        (which updates the model\n",
      " |        variables in-place). When using the built-in `fit()` training loop,\n",
      " |        this happens automatically after the last epoch,\n",
      " |        and you don't need to do anything.\n",
      " |    jit_compile: Boolean, defaults to True.\n",
      " |        If True, the optimizer will use XLA\n",
      " |        compilation. If no GPU device is found, this flag will be ignored.\n",
      " |    mesh: optional `tf.experimental.dtensor.Mesh` instance. When provided,\n",
      " |        the optimizer will be run in DTensor mode, e.g. state\n",
      " |        tracking variable will be a DVariable, and aggregation/reduction will\n",
      " |        happen in the global DTensor context.\n",
      " |    **kwargs: keyword arguments only used for backward compatibility.\n",
      " |  \n",
      " |  Reference:\n",
      " |    - [Kingma et al., 2014](http://arxiv.org/abs/1412.6980)\n",
      " |    - [Reddi et al., 2018](\n",
      " |        https://openreview.net/pdf?id=ryQu7f-RZ) for `amsgrad`.\n",
      " |  \n",
      " |  Notes:\n",
      " |  \n",
      " |  The default value of 1e-7 for epsilon might not be a good default in\n",
      " |  general. For example, when training an Inception network on ImageNet a\n",
      " |  current good choice is 1.0 or 0.1. Note that since Adam uses the\n",
      " |  formulation just before Section 2.1 of the Kingma and Ba paper rather than\n",
      " |  the formulation in Algorithm 1, the \"epsilon\" referred to here is \"epsilon\n",
      " |  hat\" in the paper.\n",
      " |  \n",
      " |  The sparse implementation of this algorithm (used when the gradient is an\n",
      " |  IndexedSlices object, typically because of `tf.gather` or an embedding\n",
      " |  lookup in the forward pass) does apply momentum to variable slices even if\n",
      " |  they were not used in the forward pass (meaning they have a gradient equal\n",
      " |  to zero). Momentum decay (beta1) is also applied to the entire momentum\n",
      " |  accumulator. This means that the sparse behavior is equivalent to the dense\n",
      " |  behavior (in contrast to some momentum implementations which ignore momentum\n",
      " |  unless a variable slice was actually used).\n",
      " |  \n",
      " |  Method resolution order:\n",
      " |      Adam\n",
      " |      keras.src.optimizers.optimizer.Optimizer\n",
      " |      keras.src.optimizers.optimizer._BaseOptimizer\n",
      " |      tensorflow.python.trackable.autotrackable.AutoTrackable\n",
      " |      tensorflow.python.trackable.base.Trackable\n",
      " |      builtins.object\n",
      " |  \n",
      " |  Methods defined here:\n",
      " |  \n",
      " |  __init__(self, learning_rate=0.001, beta_1=0.9, beta_2=0.999, epsilon=1e-07, amsgrad=False, weight_decay=None, clipnorm=None, clipvalue=None, global_clipnorm=None, use_ema=False, ema_momentum=0.99, ema_overwrite_frequency=None, jit_compile=True, name='Adam', **kwargs)\n",
      " |      Create a new Optimizer.\n",
      " |  \n",
      " |  build(self, var_list)\n",
      " |      Initialize optimizer variables.\n",
      " |      \n",
      " |      Adam optimizer has 3 types of variables: momentums, velocities and\n",
      " |      velocity_hat (only set when amsgrad is applied),\n",
      " |      \n",
      " |      Args:\n",
      " |        var_list: list of model variables to build Adam variables on.\n",
      " |  \n",
      " |  get_config(self)\n",
      " |      Returns the config of the optimizer.\n",
      " |      \n",
      " |      An optimizer config is a Python dictionary (serializable)\n",
      " |      containing the configuration of an optimizer.\n",
      " |      The same optimizer can be reinstantiated later\n",
      " |      (without any saved state) from this configuration.\n",
      " |      \n",
      " |      Subclass optimizer should override this method to include other\n",
      " |      hyperparameters.\n",
      " |      \n",
      " |      Returns:\n",
      " |          Python dictionary.\n",
      " |  \n",
      " |  update_step(self, gradient, variable)\n",
      " |      Update step given gradient and the associated model variable.\n",
      " |  \n",
      " |  ----------------------------------------------------------------------\n",
      " |  Methods inherited from keras.src.optimizers.optimizer.Optimizer:\n",
      " |  \n",
      " |  add_variable_from_reference(self, model_variable, variable_name, shape=None, initial_value=None)\n",
      " |      Create an optimizer variable from model variable.\n",
      " |      \n",
      " |      Create an optimizer variable based on the information of model variable.\n",
      " |      For example, in SGD optimizer momemtum, for each model variable, a\n",
      " |      corresponding momemtum variable is created of the same shape and dtype.\n",
      " |      \n",
      " |      Args:\n",
      " |        model_variable: tf.Variable. The corresponding model variable to the\n",
      " |          optimizer variable to be created.\n",
      " |        variable_name: String. The name prefix of the optimizer variable to be\n",
      " |          created. The create variables name will follow the pattern\n",
      " |          `{variable_name}/{model_variable.name}`, e.g., `momemtum/dense_1`.\n",
      " |        shape: List or Tuple, defaults to None. The shape of the optimizer\n",
      " |          variable to be created. If None, the created variable will have the\n",
      " |          same shape as `model_variable`.\n",
      " |        initial_value: A Tensor, or Python object convertible to a Tensor,\n",
      " |          defaults to None. The initial value of the optimizer variable, if\n",
      " |          None, the initial value will be default to 0.\n",
      " |      \n",
      " |      Returns:\n",
      " |        An optimizer variable.\n",
      " |  \n",
      " |  aggregate_gradients(self, grads_and_vars)\n",
      " |      Aggregate gradients on all devices.\n",
      " |      \n",
      " |      By default, we will perform reduce_sum of gradients across devices.\n",
      " |      Users can implement their own aggregation logic by overriding this\n",
      " |      method.\n",
      " |      \n",
      " |      Args:\n",
      " |        grads_and_vars: List of (gradient, variable) pairs.\n",
      " |      \n",
      " |      Returns:\n",
      " |        List of (gradient, variable) pairs.\n",
      " |  \n",
      " |  apply_gradients(self, grads_and_vars, name=None, skip_gradients_aggregation=False, **kwargs)\n",
      " |      Apply gradients to variables.\n",
      " |      \n",
      " |      Args:\n",
      " |        grads_and_vars: List of `(gradient, variable)` pairs.\n",
      " |        name: string, defaults to None. The name of the namescope to\n",
      " |          use when creating variables. If None, `self.name` will be used.\n",
      " |        skip_gradients_aggregation: If true, gradients aggregation will not be\n",
      " |          performed inside optimizer. Usually this arg is set to True when you\n",
      " |          write custom code aggregating gradients outside the optimizer.\n",
      " |        **kwargs: keyword arguments only used for backward compatibility.\n",
      " |      \n",
      " |      Returns:\n",
      " |        A `tf.Variable`, representing the current iteration.\n",
      " |      \n",
      " |      Raises:\n",
      " |        TypeError: If `grads_and_vars` is malformed.\n",
      " |        RuntimeError: If called in a cross-replica context.\n",
      " |  \n",
      " |  ----------------------------------------------------------------------\n",
      " |  Methods inherited from keras.src.optimizers.optimizer._BaseOptimizer:\n",
      " |  \n",
      " |  add_variable(self, shape, dtype=None, initializer='zeros', name=None)\n",
      " |      Create an optimizer variable.\n",
      " |      \n",
      " |      Args:\n",
      " |        shape: A list of integers, a tuple of integers, or a 1-D Tensor of\n",
      " |          type int32. Defaults to scalar if unspecified.\n",
      " |        dtype: The DType of the optimizer variable to be created. Defaults to\n",
      " |          `tf.keras.backend.floatx` if unspecified.\n",
      " |        initializer: string or callable. Initializer instance.\n",
      " |        name: The name of the optimizer variable to be created.\n",
      " |      \n",
      " |      Returns:\n",
      " |        An optimizer variable, in the format of tf.Variable.\n",
      " |  \n",
      " |  compute_gradients(self, loss, var_list, tape=None)\n",
      " |      Compute gradients of loss on trainable variables.\n",
      " |      \n",
      " |      Args:\n",
      " |        loss: `Tensor` or callable. If a callable, `loss` should take no\n",
      " |          arguments and return the value to minimize.\n",
      " |        var_list: list or tuple of `Variable` objects to update to minimize\n",
      " |          `loss`, or a callable returning the list or tuple of `Variable`\n",
      " |          objects. Use callable when the variable list would otherwise be\n",
      " |          incomplete before `minimize` since the variables are created at the\n",
      " |          first time `loss` is called.\n",
      " |        tape: (Optional) `tf.GradientTape`. If `loss` is provided as a\n",
      " |          `Tensor`, the tape that computed the `loss` must be provided.\n",
      " |      \n",
      " |      Returns:\n",
      " |        A list of (gradient, variable) pairs. Variable is always present, but\n",
      " |        gradient can be `None`.\n",
      " |  \n",
      " |  exclude_from_weight_decay(self, var_list=None, var_names=None)\n",
      " |      Exclude variables from weight decay.\n",
      " |      \n",
      " |      This method must be called before the optimizer's `build` method is\n",
      " |      called. You can set specific variables to exclude out, or set a list of\n",
      " |      strings as the anchor words, if any of which appear in a variable's\n",
      " |      name, then the variable is excluded.\n",
      " |      \n",
      " |      Args:\n",
      " |          var_list: A list of `tf.Variable`s to exclude from weight decay.\n",
      " |          var_names: A list of strings. If any string in `var_names` appear\n",
      " |              in the model variable's name, then this model variable is\n",
      " |              excluded from weight decay. For example, `var_names=['bias']`\n",
      " |              excludes all bias variables from weight decay.\n",
      " |  \n",
      " |  finalize_variable_values(self, var_list)\n",
      " |      Set the final value of model's trainable variables.\n",
      " |      \n",
      " |      Sometimes there are some extra steps before ending the variable updates,\n",
      " |      such as overriding the model variables with its average value.\n",
      " |      \n",
      " |      Args:\n",
      " |        var_list: list of model variables.\n",
      " |  \n",
      " |  load_own_variables(self, store)\n",
      " |      Set the state of this optimizer object.\n",
      " |  \n",
      " |  minimize(self, loss, var_list, tape=None)\n",
      " |      Minimize `loss` by updating `var_list`.\n",
      " |      \n",
      " |      This method simply computes gradient using `tf.GradientTape` and calls\n",
      " |      `apply_gradients()`. If you want to process the gradient before applying\n",
      " |      then call `tf.GradientTape` and `apply_gradients()` explicitly instead\n",
      " |      of using this function.\n",
      " |      \n",
      " |      Args:\n",
      " |        loss: `Tensor` or callable. If a callable, `loss` should take no\n",
      " |          arguments and return the value to minimize.\n",
      " |        var_list: list or tuple of `Variable` objects to update to minimize\n",
      " |          `loss`, or a callable returning the list or tuple of `Variable`\n",
      " |          objects.  Use callable when the variable list would otherwise be\n",
      " |          incomplete before `minimize` since the variables are created at the\n",
      " |          first time `loss` is called.\n",
      " |        tape: (Optional) `tf.GradientTape`.\n",
      " |      \n",
      " |      Returns:\n",
      " |        None\n",
      " |  \n",
      " |  save_own_variables(self, store)\n",
      " |      Get the state of this optimizer object.\n",
      " |  \n",
      " |  set_weights(self, weights)\n",
      " |      Set the weights of the optimizer.\n",
      " |      \n",
      " |      Args:\n",
      " |          weights: a list of `tf.Variable`s or numpy arrays, the target values\n",
      " |              of optimizer variables. It should have the same order as\n",
      " |              `self._variables`.\n",
      " |  \n",
      " |  ----------------------------------------------------------------------\n",
      " |  Class methods inherited from keras.src.optimizers.optimizer._BaseOptimizer:\n",
      " |  \n",
      " |  from_config(config, custom_objects=None) from builtins.type\n",
      " |      Creates an optimizer from its config.\n",
      " |      \n",
      " |      This method is the reverse of `get_config`, capable of instantiating the\n",
      " |      same optimizer from the config dictionary.\n",
      " |      \n",
      " |      Args:\n",
      " |          config: A Python dictionary, typically the output of get_config.\n",
      " |          custom_objects: A Python dictionary mapping names to additional\n",
      " |            user-defined Python objects needed to recreate this optimizer.\n",
      " |      \n",
      " |      Returns:\n",
      " |          An optimizer instance.\n",
      " |  \n",
      " |  ----------------------------------------------------------------------\n",
      " |  Readonly properties inherited from keras.src.optimizers.optimizer._BaseOptimizer:\n",
      " |  \n",
      " |  variables\n",
      " |      Returns variables of this optimizer.\n",
      " |  \n",
      " |  ----------------------------------------------------------------------\n",
      " |  Data descriptors inherited from keras.src.optimizers.optimizer._BaseOptimizer:\n",
      " |  \n",
      " |  iterations\n",
      " |      The number of training steps this `optimizer` has run.\n",
      " |      \n",
      " |      By default, iterations would be incremented by one every time\n",
      " |      `apply_gradients()` is called.\n",
      " |  \n",
      " |  learning_rate\n",
      " |  \n",
      " |  lr\n",
      " |      Alias of `learning_rate()`.\n",
      " |      \n",
      " |      `lr()` is heavily called in workflows using `optimizer_v2.OptimizerV2`,\n",
      " |      so we keep it for backward compabitliy.\n",
      " |  \n",
      " |  ----------------------------------------------------------------------\n",
      " |  Methods inherited from tensorflow.python.trackable.autotrackable.AutoTrackable:\n",
      " |  \n",
      " |  __delattr__(self, name)\n",
      " |      Implement delattr(self, name).\n",
      " |  \n",
      " |  __setattr__(self, name, value)\n",
      " |      Support self.foo = trackable syntax.\n",
      " |  \n",
      " |  ----------------------------------------------------------------------\n",
      " |  Data descriptors inherited from tensorflow.python.trackable.base.Trackable:\n",
      " |  \n",
      " |  __dict__\n",
      " |      dictionary for instance variables (if defined)\n",
      " |  \n",
      " |  __weakref__\n",
      " |      list of weak references to the object (if defined)\n",
      "\n"
     ]
    }
   ],
   "source": [
    "help(keras.optimizers.Adam)\n",
    "\n",
    "## Adam의 learning_rate : default 값이 0.001 임을 확인할 수 있다."
   ]
  },
  {
   "cell_type": "code",
   "execution_count": 10,
   "metadata": {},
   "outputs": [],
   "source": [
    "def get_model_boston(lr=0.01):\n",
    "    model = keras.Sequential() # 빈 모델 생성\n",
    "    \n",
    "    # 다음 과정에서 빈 모델에 레이어들을 추가.\n",
    "    \n",
    "    # input layer => input data 의 shape만 알려주는 것이기 때문에\n",
    "    ## 첫번째 히든 레이어, Dense 의 파라미터에 input_shape()을 지정해서 사용해도 된다.\n",
    "    ### 따로 input layer를 추가하지 않아도 된다.\n",
    "    \n",
    "    # Dense 내에서 activation='relu' 를 통해 활성함수를 추가할 수 있다.\n",
    "##    model.add(keras.layers.ReLU()) 이를 생략하고 파라미터 형식으로 추가가 가능하다.\n",
    "    ### 경우에 따라 Dense와 activation 사이의 동작이 필요하다면 따로 선언해야하는 경우도 있을 수 있다.\n",
    "    \n",
    "    # Dense layer의 경우 : unit의 개수를 줄여 나간다. '32->16->8', 보통 절반 단위로 줄여 나감.\n",
    "    model.add(layers.Dense(units=32, activation='relu', input_shape=(13, )))\n",
    "    model.add(layers.Dense(units=16, activation='relu'))\n",
    "    model.add(layers.Dense(units=8, activation='relu'))\n",
    "    \n",
    "    # output layer\n",
    "    ## unit 개수 : 모델이 추정하려는 값의 개수에 맞춰서 설정. : 현재 문제 - 집 값을 맞춘다 -> 1\n",
    "    ### activation 함수 : 일반적으로 생략 - default : None\n",
    "    ###                 : 예외 - 값의 범위가 정해져 있고 범위 값을 출력하는 함수가 있을 경우 그 함수를 사용\n",
    "    ###                    ex) 0 ~ 1 : sigmoid, -1 ~ 1 : tanh\n",
    "    model.add(layers.Dense(units=1)) # y의 shape이 1이기 때문에 (units = 1)\n",
    "    \n",
    "    # 컴파일 - optimizer, loss function 은 필수! / metrics 선택사항.\n",
    "    model.compile(optimizer=keras.optimizers.Adam(learning_rate=lr),\n",
    "                  ## optimizer를 default값으로 생성할 것을 사용할 경우 문자열로 지정. (\"adam\") => optimizer='adam'\n",
    "    \n",
    "                  loss='mse') # 회귀 문제의 경우, loss를 보통 \"mse\" 사용.\n",
    "\n",
    "    return model"
   ]
  },
  {
   "cell_type": "code",
   "execution_count": 11,
   "metadata": {},
   "outputs": [],
   "source": [
    "def get_model_boston_2(lr=0.01):\n",
    "    model = keras.Sequential([\n",
    "        layers.Dense(32,activation='relu',input_shape=(13,)),\n",
    "        layers.Dense(16,activation='relu'),\n",
    "        layers.Dense(8,activation='relu'),\n",
    "        layers.Dense(1),\n",
    "    ])\n",
    "    ## 위의 함수를 한번에 리스트 형식으로 선언\n",
    "    \n",
    "    model.compile(optimizer = keras.optimizers.Adam(learning_rate=lr), loss=\"mse\")\n",
    "    return model"
   ]
  },
  {
   "cell_type": "code",
   "execution_count": 12,
   "metadata": {},
   "outputs": [
    {
     "name": "stdout",
     "output_type": "stream",
     "text": [
      "Model: \"sequential\"\n",
      "_________________________________________________________________\n",
      " Layer (type)                Output Shape              Param #   \n",
      "=================================================================\n",
      " dense (Dense)               (None, 32)                448       \n",
      "                                                                 \n",
      " dense_1 (Dense)             (None, 16)                528       \n",
      "                                                                 \n",
      " dense_2 (Dense)             (None, 8)                 136       \n",
      "                                                                 \n",
      " dense_3 (Dense)             (None, 1)                 9         \n",
      "                                                                 \n",
      "=================================================================\n",
      "Total params: 1121 (4.38 KB)\n",
      "Trainable params: 1121 (4.38 KB)\n",
      "Non-trainable params: 0 (0.00 Byte)\n",
      "_________________________________________________________________\n"
     ]
    }
   ],
   "source": [
    "model_boston = get_model_boston() # 컴파일된 모델을 반환\n",
    "\n",
    "# 딥러닝 모델의 구조 확인\n",
    "model_boston.summary()\n",
    "\n",
    "## 각 Dense의 output shape가 정해지는 원리를 알아야 한다."
   ]
  },
  {
   "cell_type": "code",
   "execution_count": 64,
   "metadata": {
    "scrolled": true
   },
   "outputs": [
    {
     "data": {
      "image/png": "[encoded data removed]",
      "text/plain": [
       "<IPython.core.display.Image object>"
      ]
     },
     "execution_count": 64,
     "metadata": {},
     "output_type": "execute_result"
    }
   ],
   "source": [
    "keras.utils.plot_model(model_boston, show_shapes=True,to_file='model_boston.png')"
   ]
  },
  {
   "cell_type": "markdown",
   "metadata": {
    "slideshow": {
     "slide_type": "slide"
    }
   },
   "source": [
    "##### 학습(Train)"
   ]
  },
  {
   "cell_type": "code",
   "execution_count": 26,
   "metadata": {},
   "outputs": [
    {
     "name": "stdout",
     "output_type": "stream",
     "text": [
      "Epoch 1/200\n",
      "1/1 [==============================] - 0s 23ms/step - loss: 3.6040 - val_loss: 12.1127\n",
      "Epoch 2/200\n",
      "1/1 [==============================] - 0s 19ms/step - loss: 3.5749 - val_loss: 12.0653\n",
      "Epoch 3/200\n",
      "1/1 [==============================] - 0s 12ms/step - loss: 3.6162 - val_loss: 11.9940\n",
      "Epoch 4/200\n",
      "1/1 [==============================] - 0s 18ms/step - loss: 3.6043 - val_loss: 11.9788\n",
      "Epoch 5/200\n",
      "1/1 [==============================] - 0s 18ms/step - loss: 3.6043 - val_loss: 12.0021\n",
      "Epoch 6/200\n",
      "1/1 [==============================] - 0s 18ms/step - loss: 3.5226 - val_loss: 12.0353\n",
      "Epoch 7/200\n",
      "1/1 [==============================] - 0s 19ms/step - loss: 3.5712 - val_loss: 12.0607\n",
      "Epoch 8/200\n",
      "1/1 [==============================] - 0s 17ms/step - loss: 3.5372 - val_loss: 12.1030\n",
      "Epoch 9/200\n",
      "1/1 [==============================] - 0s 18ms/step - loss: 3.5718 - val_loss: 12.1103\n",
      "Epoch 10/200\n",
      "1/1 [==============================] - 0s 16ms/step - loss: 3.5463 - val_loss: 12.0480\n",
      "Epoch 11/200\n",
      "1/1 [==============================] - 0s 27ms/step - loss: 3.5535 - val_loss: 11.9843\n",
      "Epoch 12/200\n",
      "1/1 [==============================] - 0s 18ms/step - loss: 3.4960 - val_loss: 11.9526\n",
      "Epoch 13/200\n",
      "1/1 [==============================] - 0s 17ms/step - loss: 3.5067 - val_loss: 11.9382\n",
      "Epoch 14/200\n",
      "1/1 [==============================] - 0s 18ms/step - loss: 3.5349 - val_loss: 11.8828\n",
      "Epoch 15/200\n",
      "1/1 [==============================] - 0s 16ms/step - loss: 3.5000 - val_loss: 11.8608\n",
      "Epoch 16/200\n",
      "1/1 [==============================] - 0s 26ms/step - loss: 3.5008 - val_loss: 11.8964\n",
      "Epoch 17/200\n",
      "1/1 [==============================] - 0s 19ms/step - loss: 3.5047 - val_loss: 11.9265\n",
      "Epoch 18/200\n",
      "1/1 [==============================] - 0s 17ms/step - loss: 3.4934 - val_loss: 11.9122\n",
      "Epoch 19/200\n",
      "1/1 [==============================] - 0s 18ms/step - loss: 3.4735 - val_loss: 11.9204\n",
      "Epoch 20/200\n",
      "1/1 [==============================] - 0s 18ms/step - loss: 3.4868 - val_loss: 11.8889\n",
      "Epoch 21/200\n",
      "1/1 [==============================] - 0s 18ms/step - loss: 3.4770 - val_loss: 11.8309\n",
      "Epoch 22/200\n",
      "1/1 [==============================] - 0s 19ms/step - loss: 3.4403 - val_loss: 11.8240\n",
      "Epoch 23/200\n",
      "1/1 [==============================] - 0s 17ms/step - loss: 3.4246 - val_loss: 11.8471\n",
      "Epoch 24/200\n",
      "1/1 [==============================] - 0s 18ms/step - loss: 3.4595 - val_loss: 11.8137\n",
      "Epoch 25/200\n",
      "1/1 [==============================] - 0s 26ms/step - loss: 3.3864 - val_loss: 11.8222\n",
      "Epoch 26/200\n",
      "1/1 [==============================] - 0s 19ms/step - loss: 3.4247 - val_loss: 11.8412\n",
      "Epoch 27/200\n",
      "1/1 [==============================] - 0s 18ms/step - loss: 3.2584 - val_loss: 11.8476\n",
      "Epoch 28/200\n",
      "1/1 [==============================] - 0s 19ms/step - loss: 3.4220 - val_loss: 11.8524\n",
      "Epoch 29/200\n",
      "1/1 [==============================] - 0s 17ms/step - loss: 3.4040 - val_loss: 11.8384\n",
      "Epoch 30/200\n",
      "1/1 [==============================] - 0s 17ms/step - loss: 3.3904 - val_loss: 11.8208\n",
      "Epoch 31/200\n",
      "1/1 [==============================] - 0s 14ms/step - loss: 3.4113 - val_loss: 11.7706\n",
      "Epoch 32/200\n",
      "1/1 [==============================] - 0s 17ms/step - loss: 3.3725 - val_loss: 11.7397\n",
      "Epoch 33/200\n",
      "1/1 [==============================] - 0s 16ms/step - loss: 3.3704 - val_loss: 11.7832\n",
      "Epoch 34/200\n",
      "1/1 [==============================] - 0s 16ms/step - loss: 3.3928 - val_loss: 11.8605\n",
      "Epoch 35/200\n",
      "1/1 [==============================] - 0s 18ms/step - loss: 3.3769 - val_loss: 11.8421\n",
      "Epoch 36/200\n",
      "1/1 [==============================] - 0s 17ms/step - loss: 3.3380 - val_loss: 11.7459\n",
      "Epoch 37/200\n",
      "1/1 [==============================] - 0s 5ms/step - loss: 3.3542 - val_loss: 11.7184\n",
      "Epoch 38/200\n",
      "1/1 [==============================] - 0s 16ms/step - loss: 3.3602 - val_loss: 11.7649\n",
      "Epoch 39/200\n",
      "1/1 [==============================] - 0s 17ms/step - loss: 3.3543 - val_loss: 11.7969\n",
      "Epoch 40/200\n",
      "1/1 [==============================] - 0s 18ms/step - loss: 3.2975 - val_loss: 11.7757\n",
      "Epoch 41/200\n",
      "1/1 [==============================] - 0s 16ms/step - loss: 3.2917 - val_loss: 11.6692\n",
      "Epoch 42/200\n",
      "1/1 [==============================] - 0s 16ms/step - loss: 3.3283 - val_loss: 11.6714\n",
      "Epoch 43/200\n",
      "1/1 [==============================] - 0s 17ms/step - loss: 3.1210 - val_loss: 11.6578\n",
      "Epoch 44/200\n",
      "1/1 [==============================] - 0s 17ms/step - loss: 3.3166 - val_loss: 11.7216\n",
      "Epoch 45/200\n",
      "1/1 [==============================] - 0s 17ms/step - loss: 3.2922 - val_loss: 11.8058\n",
      "Epoch 46/200\n",
      "1/1 [==============================] - 0s 30ms/step - loss: 3.1512 - val_loss: 11.8187\n",
      "Epoch 47/200\n",
      "1/1 [==============================] - 0s 13ms/step - loss: 3.2829 - val_loss: 11.8009\n",
      "Epoch 48/200\n",
      "1/1 [==============================] - 0s 19ms/step - loss: 3.2826 - val_loss: 11.8038\n",
      "Epoch 49/200\n",
      "1/1 [==============================] - 0s 21ms/step - loss: 3.2920 - val_loss: 11.7407\n",
      "Epoch 50/200\n",
      "1/1 [==============================] - 0s 22ms/step - loss: 3.2542 - val_loss: 11.6441\n",
      "Epoch 51/200\n",
      "1/1 [==============================] - 0s 10ms/step - loss: 3.2626 - val_loss: 11.5988\n",
      "Epoch 52/200\n",
      "1/1 [==============================] - 0s 42ms/step - loss: 3.1598 - val_loss: 11.6267\n",
      "Epoch 53/200\n",
      "1/1 [==============================] - 0s 18ms/step - loss: 3.2703 - val_loss: 11.6669\n",
      "Epoch 54/200\n",
      "1/1 [==============================] - 0s 17ms/step - loss: 3.2208 - val_loss: 11.7151\n",
      "Epoch 55/200\n",
      "1/1 [==============================] - 0s 17ms/step - loss: 3.0933 - val_loss: 11.7122\n",
      "Epoch 56/200\n",
      "1/1 [==============================] - 0s 16ms/step - loss: 3.2167 - val_loss: 11.7967\n",
      "Epoch 57/200\n",
      "1/1 [==============================] - 0s 16ms/step - loss: 3.2160 - val_loss: 11.8137\n",
      "Epoch 58/200\n",
      "1/1 [==============================] - 0s 17ms/step - loss: 3.2226 - val_loss: 11.7202\n",
      "Epoch 59/200\n",
      "1/1 [==============================] - 0s 5ms/step - loss: 3.2337 - val_loss: 11.6333\n",
      "Epoch 60/200\n",
      "1/1 [==============================] - 0s 17ms/step - loss: 3.0606 - val_loss: 11.6143\n",
      "Epoch 61/200\n",
      "1/1 [==============================] - 0s 16ms/step - loss: 3.1433 - val_loss: 11.6558\n",
      "Epoch 62/200\n",
      "1/1 [==============================] - 0s 18ms/step - loss: 3.1868 - val_loss: 11.6721\n",
      "Epoch 63/200\n",
      "1/1 [==============================] - 0s 18ms/step - loss: 3.1768 - val_loss: 11.6655\n",
      "Epoch 64/200\n",
      "1/1 [==============================] - 0s 16ms/step - loss: 3.1845 - val_loss: 11.6376\n",
      "Epoch 65/200\n",
      "1/1 [==============================] - 0s 17ms/step - loss: 3.1763 - val_loss: 11.6679\n",
      "Epoch 66/200\n",
      "1/1 [==============================] - 0s 18ms/step - loss: 3.1711 - val_loss: 11.6007\n",
      "Epoch 67/200\n",
      "1/1 [==============================] - 0s 16ms/step - loss: 3.1544 - val_loss: 11.5499\n",
      "Epoch 68/200\n",
      "1/1 [==============================] - 0s 17ms/step - loss: 3.1816 - val_loss: 11.5874\n",
      "Epoch 69/200\n",
      "1/1 [==============================] - 0s 18ms/step - loss: 3.1533 - val_loss: 11.6838\n",
      "Epoch 70/200\n",
      "1/1 [==============================] - 0s 16ms/step - loss: 3.1556 - val_loss: 11.7273\n",
      "Epoch 71/200\n",
      "1/1 [==============================] - 0s 18ms/step - loss: 3.1540 - val_loss: 11.7315\n",
      "Epoch 72/200\n",
      "1/1 [==============================] - 0s 17ms/step - loss: 3.1390 - val_loss: 11.7601\n",
      "Epoch 73/200\n",
      "1/1 [==============================] - 0s 16ms/step - loss: 3.1459 - val_loss: 11.7190\n",
      "Epoch 74/200\n",
      "1/1 [==============================] - 0s 17ms/step - loss: 3.1285 - val_loss: 11.5927\n",
      "Epoch 75/200\n",
      "1/1 [==============================] - 0s 17ms/step - loss: 3.1065 - val_loss: 11.5982\n",
      "Epoch 76/200\n",
      "1/1 [==============================] - 0s 16ms/step - loss: 3.1221 - val_loss: 11.6804\n",
      "Epoch 77/200\n",
      "1/1 [==============================] - 0s 17ms/step - loss: 3.1201 - val_loss: 11.7000\n",
      "Epoch 78/200\n",
      "1/1 [==============================] - 0s 19ms/step - loss: 3.0675 - val_loss: 11.6660\n",
      "Epoch 79/200\n",
      "1/1 [==============================] - 0s 17ms/step - loss: 3.1113 - val_loss: 11.6772\n",
      "Epoch 80/200\n",
      "1/1 [==============================] - 0s 6ms/step - loss: 3.0735 - val_loss: 11.6698\n",
      "Epoch 81/200\n",
      "1/1 [==============================] - 0s 17ms/step - loss: 3.0868 - val_loss: 11.6872\n",
      "Epoch 82/200\n",
      "1/1 [==============================] - 0s 17ms/step - loss: 3.1051 - val_loss: 11.6753\n",
      "Epoch 83/200\n"
     ]
    },
    {
     "name": "stdout",
     "output_type": "stream",
     "text": [
      "1/1 [==============================] - 0s 16ms/step - loss: 3.0950 - val_loss: 11.6560\n",
      "Epoch 84/200\n",
      "1/1 [==============================] - 0s 17ms/step - loss: 3.0238 - val_loss: 11.6158\n",
      "Epoch 85/200\n",
      "1/1 [==============================] - 0s 16ms/step - loss: 3.0811 - val_loss: 11.5991\n",
      "Epoch 86/200\n",
      "1/1 [==============================] - 0s 17ms/step - loss: 3.0616 - val_loss: 11.6059\n",
      "Epoch 87/200\n",
      "1/1 [==============================] - 0s 17ms/step - loss: 3.0560 - val_loss: 11.6686\n",
      "Epoch 88/200\n",
      "1/1 [==============================] - 0s 16ms/step - loss: 3.0144 - val_loss: 11.6721\n",
      "Epoch 89/200\n",
      "1/1 [==============================] - 0s 19ms/step - loss: 3.0354 - val_loss: 11.6089\n",
      "Epoch 90/200\n",
      "1/1 [==============================] - 0s 19ms/step - loss: 3.0081 - val_loss: 11.5802\n",
      "Epoch 91/200\n",
      "1/1 [==============================] - 0s 16ms/step - loss: 3.0455 - val_loss: 11.5871\n",
      "Epoch 92/200\n",
      "1/1 [==============================] - 0s 27ms/step - loss: 3.0226 - val_loss: 11.6533\n",
      "Epoch 93/200\n",
      "1/1 [==============================] - 0s 19ms/step - loss: 3.0327 - val_loss: 11.7130\n",
      "Epoch 94/200\n",
      "1/1 [==============================] - 0s 17ms/step - loss: 3.0344 - val_loss: 11.7024\n",
      "Epoch 95/200\n",
      "1/1 [==============================] - 0s 18ms/step - loss: 2.8685 - val_loss: 11.6274\n",
      "Epoch 96/200\n",
      "1/1 [==============================] - 0s 17ms/step - loss: 3.0294 - val_loss: 11.6373\n",
      "Epoch 97/200\n",
      "1/1 [==============================] - 0s 16ms/step - loss: 3.0262 - val_loss: 11.6336\n",
      "Epoch 98/200\n",
      "1/1 [==============================] - 0s 17ms/step - loss: 3.0035 - val_loss: 11.6330\n",
      "Epoch 99/200\n",
      "1/1 [==============================] - 0s 17ms/step - loss: 3.0075 - val_loss: 11.6569\n",
      "Epoch 100/200\n",
      "1/1 [==============================] - 0s 16ms/step - loss: 2.9747 - val_loss: 11.7237\n",
      "Epoch 101/200\n",
      "1/1 [==============================] - 0s 6ms/step - loss: 2.9722 - val_loss: 11.7481\n",
      "Epoch 102/200\n",
      "1/1 [==============================] - 0s 17ms/step - loss: 2.8504 - val_loss: 11.6736\n",
      "Epoch 103/200\n",
      "1/1 [==============================] - 0s 16ms/step - loss: 2.9887 - val_loss: 11.6262\n",
      "Epoch 104/200\n",
      "1/1 [==============================] - 0s 17ms/step - loss: 2.8922 - val_loss: 11.6689\n",
      "Epoch 105/200\n",
      "1/1 [==============================] - 0s 6ms/step - loss: 2.8245 - val_loss: 11.6316\n",
      "Epoch 106/200\n",
      "1/1 [==============================] - 0s 16ms/step - loss: 2.9842 - val_loss: 11.6434\n",
      "Epoch 107/200\n",
      "1/1 [==============================] - 0s 15ms/step - loss: 2.9321 - val_loss: 11.7316\n",
      "Epoch 108/200\n",
      "1/1 [==============================] - 0s 18ms/step - loss: 2.8278 - val_loss: 11.7848\n",
      "Epoch 109/200\n",
      "1/1 [==============================] - 0s 17ms/step - loss: 2.8433 - val_loss: 11.6490\n",
      "Epoch 110/200\n",
      "1/1 [==============================] - 0s 16ms/step - loss: 2.9587 - val_loss: 11.6388\n",
      "Epoch 111/200\n",
      "1/1 [==============================] - 0s 17ms/step - loss: 2.9522 - val_loss: 11.7134\n",
      "Epoch 112/200\n",
      "1/1 [==============================] - 0s 17ms/step - loss: 2.9437 - val_loss: 11.7650\n",
      "Epoch 113/200\n",
      "1/1 [==============================] - 0s 16ms/step - loss: 2.9344 - val_loss: 11.7406\n",
      "Epoch 114/200\n",
      "1/1 [==============================] - 0s 17ms/step - loss: 2.9387 - val_loss: 11.7629\n",
      "Epoch 115/200\n",
      "1/1 [==============================] - 0s 17ms/step - loss: 2.8996 - val_loss: 11.7750\n",
      "Epoch 116/200\n",
      "1/1 [==============================] - 0s 16ms/step - loss: 2.8378 - val_loss: 11.7333\n",
      "Epoch 117/200\n",
      "1/1 [==============================] - 0s 17ms/step - loss: 2.9225 - val_loss: 11.6306\n",
      "Epoch 118/200\n",
      "1/1 [==============================] - 0s 16ms/step - loss: 2.9211 - val_loss: 11.6551\n",
      "Epoch 119/200\n",
      "1/1 [==============================] - 0s 17ms/step - loss: 2.9020 - val_loss: 11.7826\n",
      "Epoch 120/200\n",
      "1/1 [==============================] - 0s 17ms/step - loss: 2.8738 - val_loss: 11.8638\n",
      "Epoch 121/200\n",
      "1/1 [==============================] - 0s 17ms/step - loss: 2.9041 - val_loss: 11.9071\n",
      "Epoch 122/200\n",
      "1/1 [==============================] - 0s 16ms/step - loss: 2.7875 - val_loss: 11.9300\n",
      "Epoch 123/200\n",
      "1/1 [==============================] - 0s 19ms/step - loss: 2.8762 - val_loss: 11.9169\n",
      "Epoch 124/200\n",
      "1/1 [==============================] - 0s 16ms/step - loss: 2.8702 - val_loss: 11.8080\n",
      "Epoch 125/200\n",
      "1/1 [==============================] - 0s 16ms/step - loss: 2.8359 - val_loss: 11.6622\n",
      "Epoch 126/200\n",
      "1/1 [==============================] - 0s 16ms/step - loss: 2.8888 - val_loss: 11.6677\n",
      "Epoch 127/200\n",
      "1/1 [==============================] - 0s 16ms/step - loss: 2.8442 - val_loss: 11.7581\n",
      "Epoch 128/200\n",
      "1/1 [==============================] - 0s 17ms/step - loss: 2.8550 - val_loss: 11.8601\n",
      "Epoch 129/200\n",
      "1/1 [==============================] - 0s 5ms/step - loss: 2.8552 - val_loss: 11.8921\n",
      "Epoch 130/200\n",
      "1/1 [==============================] - 0s 16ms/step - loss: 2.8615 - val_loss: 11.8556\n",
      "Epoch 131/200\n",
      "1/1 [==============================] - 0s 17ms/step - loss: 2.8315 - val_loss: 11.7743\n",
      "Epoch 132/200\n",
      "1/1 [==============================] - 0s 17ms/step - loss: 2.8086 - val_loss: 11.6914\n",
      "Epoch 133/200\n",
      "1/1 [==============================] - 0s 17ms/step - loss: 2.8357 - val_loss: 11.7210\n",
      "Epoch 134/200\n",
      "1/1 [==============================] - 0s 16ms/step - loss: 2.8120 - val_loss: 11.7759\n",
      "Epoch 135/200\n",
      "1/1 [==============================] - 0s 17ms/step - loss: 2.8060 - val_loss: 11.8045\n",
      "Epoch 136/200\n",
      "1/1 [==============================] - 0s 17ms/step - loss: 2.8132 - val_loss: 11.8432\n",
      "Epoch 137/200\n",
      "1/1 [==============================] - 0s 5ms/step - loss: 2.8253 - val_loss: 11.8795\n",
      "Epoch 138/200\n",
      "1/1 [==============================] - 0s 16ms/step - loss: 2.8323 - val_loss: 11.8693\n",
      "Epoch 139/200\n",
      "1/1 [==============================] - 0s 16ms/step - loss: 2.8070 - val_loss: 11.8541\n",
      "Epoch 140/200\n",
      "1/1 [==============================] - 0s 17ms/step - loss: 2.7955 - val_loss: 11.8195\n",
      "Epoch 141/200\n",
      "1/1 [==============================] - 0s 17ms/step - loss: 2.7813 - val_loss: 11.7964\n",
      "Epoch 142/200\n",
      "1/1 [==============================] - 0s 16ms/step - loss: 2.8008 - val_loss: 11.7989\n",
      "Epoch 143/200\n",
      "1/1 [==============================] - 0s 15ms/step - loss: 2.7961 - val_loss: 11.8505\n",
      "Epoch 144/200\n",
      "1/1 [==============================] - 0s 23ms/step - loss: 2.8067 - val_loss: 11.9150\n",
      "Epoch 145/200\n",
      "1/1 [==============================] - 0s 16ms/step - loss: 2.7890 - val_loss: 11.9184\n",
      "Epoch 146/200\n",
      "1/1 [==============================] - 0s 17ms/step - loss: 2.7968 - val_loss: 11.8815\n",
      "Epoch 147/200\n",
      "1/1 [==============================] - 0s 6ms/step - loss: 2.7712 - val_loss: 11.8570\n",
      "Epoch 148/200\n",
      "1/1 [==============================] - 0s 16ms/step - loss: 2.7879 - val_loss: 11.8182\n",
      "Epoch 149/200\n",
      "1/1 [==============================] - 0s 16ms/step - loss: 2.7758 - val_loss: 11.8155\n",
      "Epoch 150/200\n",
      "1/1 [==============================] - 0s 17ms/step - loss: 2.6363 - val_loss: 11.8147\n",
      "Epoch 151/200\n",
      "1/1 [==============================] - 0s 16ms/step - loss: 2.7727 - val_loss: 11.8863\n",
      "Epoch 152/200\n",
      "1/1 [==============================] - 0s 17ms/step - loss: 2.7687 - val_loss: 11.8962\n",
      "Epoch 153/200\n",
      "1/1 [==============================] - 0s 16ms/step - loss: 2.7628 - val_loss: 11.8634\n",
      "Epoch 154/200\n",
      "1/1 [==============================] - 0s 17ms/step - loss: 2.7584 - val_loss: 11.8747\n",
      "Epoch 155/200\n",
      "1/1 [==============================] - 0s 17ms/step - loss: 2.7308 - val_loss: 11.8890\n",
      "Epoch 156/200\n",
      "1/1 [==============================] - 0s 16ms/step - loss: 2.7430 - val_loss: 11.8963\n",
      "Epoch 157/200\n",
      "1/1 [==============================] - 0s 16ms/step - loss: 2.7359 - val_loss: 11.8889\n",
      "Epoch 158/200\n",
      "1/1 [==============================] - 0s 17ms/step - loss: 2.7019 - val_loss: 11.8404\n",
      "Epoch 159/200\n",
      "1/1 [==============================] - 0s 17ms/step - loss: 2.7388 - val_loss: 11.7986\n",
      "Epoch 160/200\n",
      "1/1 [==============================] - 0s 16ms/step - loss: 2.7191 - val_loss: 11.8102\n",
      "Epoch 161/200\n",
      "1/1 [==============================] - 0s 17ms/step - loss: 2.7119 - val_loss: 11.8567\n",
      "Epoch 162/200\n",
      "1/1 [==============================] - 0s 17ms/step - loss: 2.7242 - val_loss: 11.8005\n",
      "Epoch 163/200\n",
      "1/1 [==============================] - 0s 17ms/step - loss: 2.7318 - val_loss: 11.7814\n",
      "Epoch 164/200\n",
      "1/1 [==============================] - 0s 5ms/step - loss: 2.6161 - val_loss: 11.8324\n",
      "Epoch 165/200\n",
      "1/1 [==============================] - 0s 17ms/step - loss: 2.7077 - val_loss: 11.8049\n",
      "Epoch 166/200\n",
      "1/1 [==============================] - 0s 15ms/step - loss: 2.7000 - val_loss: 11.8098\n",
      "Epoch 167/200\n",
      "1/1 [==============================] - 0s 18ms/step - loss: 2.7036 - val_loss: 11.8491\n",
      "Epoch 168/200\n",
      "1/1 [==============================] - 0s 16ms/step - loss: 2.7048 - val_loss: 11.8279\n",
      "Epoch 169/200\n",
      "1/1 [==============================] - 0s 15ms/step - loss: 2.6915 - val_loss: 11.7943\n",
      "Epoch 170/200\n",
      "1/1 [==============================] - 0s 17ms/step - loss: 2.6738 - val_loss: 11.7927\n",
      "Epoch 171/200\n",
      "1/1 [==============================] - 0s 19ms/step - loss: 2.6933 - val_loss: 11.8097\n",
      "Epoch 172/200\n",
      "1/1 [==============================] - 0s 16ms/step - loss: 2.6995 - val_loss: 11.8414\n",
      "Epoch 173/200\n",
      "1/1 [==============================] - 0s 16ms/step - loss: 2.6710 - val_loss: 11.8336\n",
      "Epoch 174/200\n",
      "1/1 [==============================] - 0s 17ms/step - loss: 2.6846 - val_loss: 11.7815\n",
      "Epoch 175/200\n",
      "1/1 [==============================] - 0s 17ms/step - loss: 2.6763 - val_loss: 11.6953\n",
      "Epoch 176/200\n",
      "1/1 [==============================] - 0s 4ms/step - loss: 2.6812 - val_loss: 11.7662\n",
      "Epoch 177/200\n",
      "1/1 [==============================] - 0s 16ms/step - loss: 2.6745 - val_loss: 11.8496\n",
      "Epoch 178/200\n",
      "1/1 [==============================] - 0s 17ms/step - loss: 2.6613 - val_loss: 11.8166\n",
      "Epoch 179/200\n",
      "1/1 [==============================] - 0s 17ms/step - loss: 2.6631 - val_loss: 11.8082\n",
      "Epoch 180/200\n",
      "1/1 [==============================] - 0s 16ms/step - loss: 2.6449 - val_loss: 11.9047\n",
      "Epoch 181/200\n",
      "1/1 [==============================] - 0s 16ms/step - loss: 2.6592 - val_loss: 11.9002\n",
      "Epoch 182/200\n",
      "1/1 [==============================] - 0s 14ms/step - loss: 2.6554 - val_loss: 11.7994\n",
      "Epoch 183/200\n",
      "1/1 [==============================] - 0s 17ms/step - loss: 2.6532 - val_loss: 11.8001\n",
      "Epoch 184/200\n",
      "1/1 [==============================] - 0s 17ms/step - loss: 2.6320 - val_loss: 11.9119\n",
      "Epoch 185/200\n",
      "1/1 [==============================] - 0s 4ms/step - loss: 2.6610 - val_loss: 11.8008\n",
      "Epoch 186/200\n",
      "1/1 [==============================] - 0s 16ms/step - loss: 2.6467 - val_loss: 11.7863\n",
      "Epoch 187/200\n",
      "1/1 [==============================] - 0s 17ms/step - loss: 2.5538 - val_loss: 11.8929\n",
      "Epoch 188/200\n",
      "1/1 [==============================] - 0s 19ms/step - loss: 2.6075 - val_loss: 11.8621\n",
      "Epoch 189/200\n",
      "1/1 [==============================] - 0s 15ms/step - loss: 2.6357 - val_loss: 11.7311\n",
      "Epoch 190/200\n",
      "1/1 [==============================] - 0s 16ms/step - loss: 2.6355 - val_loss: 11.7290\n",
      "Epoch 191/200\n",
      "1/1 [==============================] - 0s 17ms/step - loss: 2.5994 - val_loss: 11.7791\n",
      "Epoch 192/200\n",
      "1/1 [==============================] - 0s 17ms/step - loss: 2.6308 - val_loss: 11.7141\n",
      "Epoch 193/200\n",
      "1/1 [==============================] - 0s 17ms/step - loss: 2.6043 - val_loss: 11.7248\n",
      "Epoch 194/200\n",
      "1/1 [==============================] - 0s 16ms/step - loss: 2.6140 - val_loss: 11.7944\n",
      "Epoch 195/200\n",
      "1/1 [==============================] - 0s 16ms/step - loss: 2.6163 - val_loss: 11.7941\n",
      "Epoch 196/200\n",
      "1/1 [==============================] - 0s 17ms/step - loss: 2.5823 - val_loss: 11.6978\n",
      "Epoch 197/200\n",
      "1/1 [==============================] - 0s 16ms/step - loss: 2.6029 - val_loss: 11.6717\n",
      "Epoch 198/200\n",
      "1/1 [==============================] - 0s 17ms/step - loss: 2.5772 - val_loss: 11.7022\n",
      "Epoch 199/200\n",
      "1/1 [==============================] - 0s 16ms/step - loss: 2.5559 - val_loss: 11.7233\n",
      "Epoch 200/200\n",
      "1/1 [==============================] - 0s 17ms/step - loss: 2.5877 - val_loss: 11.7447\n"
     ]
    }
   ],
   "source": [
    "# train_dataset 생성->X, y를 제공\n",
    "hist = model_boston.fit(train_dataset, ### (X_train, y_train) + shuffle + batch_size\n",
    "                        epochs=N_EPOCH, \n",
    "                        validation_data=test_dataset # Dataset을 이용할 경우 validation_split을 사용할 수 없다.\n",
    "                        )"
   ]
  },
  {
   "cell_type": "markdown",
   "metadata": {
    "slideshow": {
     "slide_type": "slide"
    }
   },
   "source": [
    "##### 결과 시각화\n",
    "- 학습 시 epoch별 검증 결과를 시각화한다."
   ]
  },
  {
   "cell_type": "code",
   "execution_count": 15,
   "metadata": {},
   "outputs": [
    {
     "data": {
      "text/plain": [
       "dict_keys(['loss', 'val_loss'])"
      ]
     },
     "execution_count": 15,
     "metadata": {},
     "output_type": "execute_result"
    }
   ],
   "source": [
    "hist.history.keys()"
   ]
  },
  {
   "cell_type": "code",
   "execution_count": 28,
   "metadata": {
    "scrolled": false
   },
   "outputs": [
    {
     "data": {
      "image/png": "[encoded data removed]",
      "text/plain": [
       "<Figure size 640x480 with 1 Axes>"
      ]
     },
     "metadata": {},
     "output_type": "display_data"
    }
   ],
   "source": [
    "# hist.history : 에폭별 검증 결과\n",
    "# hist.epoch : 에폭리스트\n",
    "plt.plot(hist.epoch, hist.history['loss'], label='Train set')\n",
    "plt.plot(hist.epoch, hist.history['val_loss'], label='Validation set')\n",
    "\n",
    "plt.title('에폭별 MSE loss')\n",
    "# plt.ylim(0, 30) # y 값의 범위 0 ~ 30 줄임. (값의변화가 클 때 변화율을 확인)\n",
    "plt.legend()\n",
    "plt.show()\n",
    "\n",
    "# 성능이 개선되는 추세에서 멈췄으므로 epoch을 크게 잡고 학습해야한다.\n",
    "## 모델 fit을 계속할수록, 성능이 좋아진다."
   ]
  },
  {
   "cell_type": "markdown",
   "metadata": {
    "slideshow": {
     "slide_type": "slide"
    }
   },
   "source": [
    "##### 최종 테스트"
   ]
  },
  {
   "cell_type": "code",
   "execution_count": 30,
   "metadata": {},
   "outputs": [
    {
     "name": "stdout",
     "output_type": "stream",
     "text": [
      "3/3 [==============================] - 0s 2ms/step - loss: 11.7447\n"
     ]
    }
   ],
   "source": [
    "loss = model_boston.evaluate(test_dataset)"
   ]
  },
  {
   "cell_type": "code",
   "execution_count": 31,
   "metadata": {},
   "outputs": [
    {
     "data": {
      "text/plain": [
       "11.744736671447754"
      ]
     },
     "execution_count": 31,
     "metadata": {},
     "output_type": "execute_result"
    }
   ],
   "source": [
    "loss"
   ]
  },
  {
   "cell_type": "markdown",
   "metadata": {},
   "source": [
    "Dense units가 처음에 정해지는원리는???\n",
    "\n",
    "model.fit()을 하면할수록 결과값이 더 좋아지는데, 이것은 새롭게 처음부터 학습하는것이 아닌, 이전의 학습 내용을 기억하고 학습하는 것인가??\n"
   ]
  },
  {
   "cell_type": "code",
   "execution_count": null,
   "metadata": {},
   "outputs": [],
   "source": []
  },
  {
   "cell_type": "markdown",
   "metadata": {
    "slideshow": {
     "slide_type": "slide"
    }
   },
   "source": [
    "##### 모델 네트워크 저장"
   ]
  },
  {
   "cell_type": "code",
   "execution_count": 40,
   "metadata": {},
   "outputs": [
    {
     "data": {
      "text/plain": [
       "'C:\\\\workspace\\\\Bootcamp_DeepLearning'"
      ]
     },
     "execution_count": 40,
     "metadata": {},
     "output_type": "execute_result"
    }
   ],
   "source": [
    "import os\n",
    "os.getcwd()"
   ]
  },
  {
   "cell_type": "code",
   "execution_count": 41,
   "metadata": {},
   "outputs": [],
   "source": [
    "# 저장 시, 경로에 한글이 있으면 안됨.\n",
    "\n",
    "path = 'saved_model' # 모든 모델들을 저장할 디렉토리 경로\n",
    "os.makedirs(path, exist_ok=True) # 없으면 디렉토리 생성, 있으면 생성안하고 그대로 사용.\n",
    "saved_dir = os.path.join(path, 'boston_model') # boston dataset을 학습한 모델을 저장할 디렉토리"
   ]
  },
  {
   "cell_type": "code",
   "execution_count": 88,
   "metadata": {},
   "outputs": [
    {
     "data": {
      "text/plain": [
       "'saved_model\\\\boston_model'"
      ]
     },
     "execution_count": 88,
     "metadata": {},
     "output_type": "execute_result"
    }
   ],
   "source": [
    "saved_dir"
   ]
  },
  {
   "cell_type": "code",
   "execution_count": 43,
   "metadata": {
    "scrolled": true
   },
   "outputs": [
    {
     "name": "stdout",
     "output_type": "stream",
     "text": [
      "INFO:tensorflow:Assets written to: saved_model\\boston_model\\assets\n"
     ]
    },
    {
     "name": "stderr",
     "output_type": "stream",
     "text": [
      "INFO:tensorflow:Assets written to: saved_model\\boston_model\\assets\n"
     ]
    }
   ],
   "source": [
    "# 모델 저장 => 저장할 디렉토리를 문자열로 전달\n",
    "model_boston.save(saved_dir)"
   ]
  },
  {
   "cell_type": "markdown",
   "metadata": {
    "slideshow": {
     "slide_type": "slide"
    }
   },
   "source": [
    "##### 새로운 데이터 추론"
   ]
  },
  {
   "cell_type": "code",
   "execution_count": 94,
   "metadata": {},
   "outputs": [
    {
     "name": "stdout",
     "output_type": "stream",
     "text": [
      "3/3 [==============================] - 0s 2ms/step - loss: 11.7447\n"
     ]
    },
    {
     "data": {
      "text/plain": [
       "11.744736671447754"
      ]
     },
     "execution_count": 94,
     "metadata": {},
     "output_type": "execute_result"
    }
   ],
   "source": [
    "# 저장된 모델을 불러와서 추론\n",
    "saved_model = keras.models.load_model(saved_dir) # 모델이 저장된 디렉토리 경로 전달\n",
    "saved_model.evaluate(test_dataset)"
   ]
  },
  {
   "cell_type": "code",
   "execution_count": 95,
   "metadata": {},
   "outputs": [
    {
     "name": "stdout",
     "output_type": "stream",
     "text": [
      "1/1 [==============================] - 0s 41ms/step\n",
      "[[ 8.248606]\n",
      " [17.944342]\n",
      " [21.531223]\n",
      " [30.60721 ]\n",
      " [23.250153]]\n"
     ]
    }
   ],
   "source": [
    "X_new = X_test[:5]\n",
    "# 추론 : model.predict(X)\n",
    "\n",
    "pred = saved_model.predict(X_new)\n",
    "print(pred) # 추론한 y 값."
   ]
  },
  {
   "cell_type": "code",
   "execution_count": 96,
   "metadata": {},
   "outputs": [
    {
     "data": {
      "text/plain": [
       "array([ 7.2, 18.8, 19. , 27. , 22.2])"
      ]
     },
     "execution_count": 96,
     "metadata": {},
     "output_type": "execute_result"
    }
   ],
   "source": [
    "y_test[:5] # 정답 y 값."
   ]
  },
  {
   "cell_type": "code",
   "execution_count": null,
   "metadata": {},
   "outputs": [],
   "source": []
  },
  {
   "cell_type": "code",
   "execution_count": null,
   "metadata": {},
   "outputs": [],
   "source": []
  },
  {
   "cell_type": "code",
   "execution_count": null,
   "metadata": {},
   "outputs": [],
   "source": []
  },
  {
   "cell_type": "code",
   "execution_count": null,
   "metadata": {},
   "outputs": [],
   "source": []
  },
  {
   "cell_type": "markdown",
   "metadata": {
    "slideshow": {
     "slide_type": "slide"
    }
   },
   "source": [
    "# 분류 (Classification)\n",
    "\n",
    "## Fashion MNIST Dataset - 다중분류(Multi-Class Classification) 문제"
   ]
  },
  {
   "cell_type": "markdown",
   "metadata": {
    "slideshow": {
     "slide_type": "fragment"
    }
   },
   "source": [
    "10개의 범주(category)와 70,000개의 흑백 이미지로 구성된 [패션 MNIST](https://github.com/zalandoresearch/fashion-mnist) 데이터셋. \n",
    "이미지는 해상도(28x28 픽셀)가 낮고 다음처럼 개별 의류 품목을 나타낸다:\n",
    "\n",
    "<table>\n",
    "  <tr><td>\n",
    "    <img src=\"https://tensorflow.org/images/fashion-mnist-sprite.png\"\n",
    "         alt=\"Fashion MNIST sprite\"  width=\"600\">\n",
    "  </td></tr>\n",
    "  <tr><td align=\"center\">\n",
    "    <b>그림</b> <a href=\"https://github.com/zalandoresearch/fashion-mnist\">패션-MNIST 샘플</a> (Zalando, MIT License).<br/>&nbsp;\n",
    "  </td></tr>\n",
    "</table>"
   ]
  },
  {
   "cell_type": "markdown",
   "metadata": {
    "slideshow": {
     "slide_type": "fragment"
    }
   },
   "source": [
    "이미지는 28x28 크기이며 Gray scale이다. *레이블*(label)은 0에서 9까지의 정수 배열이다. 아래 표는 이미지에 있는 의류의 **클래스**(class)들이다.\n",
    "\n",
    "<table>\n",
    "  <tr>\n",
    "    <th>레이블</th>\n",
    "    <th>클래스</th>\n",
    "  </tr>\n",
    "  <tr>\n",
    "    <td>0</td>\n",
    "    <td>T-shirt/top</td>\n",
    "  </tr>\n",
    "  <tr>\n",
    "    <td>1</td>\n",
    "    <td>Trousers</td>\n",
    "  </tr>\n",
    "    <tr>\n",
    "    <td>2</td>\n",
    "    <td>Pullover</td>\n",
    "  </tr>\n",
    "    <tr>\n",
    "    <td>3</td>\n",
    "    <td>Dress</td>\n",
    "  </tr>\n",
    "    <tr>\n",
    "    <td>4</td>\n",
    "    <td>Coat</td>\n",
    "  </tr>\n",
    "    <tr>\n",
    "    <td>5</td>\n",
    "    <td>Sandal</td>\n",
    "  </tr>\n",
    "    <tr>\n",
    "    <td>6</td>\n",
    "    <td>Shirt</td>\n",
    "  </tr>\n",
    "    <tr>\n",
    "    <td>7</td>\n",
    "    <td>Sneaker</td>\n",
    "  </tr>\n",
    "    <tr>\n",
    "    <td>8</td>\n",
    "    <td>Bag</td>\n",
    "  </tr>\n",
    "    <tr>\n",
    "    <td>9</td>\n",
    "    <td>Ankle boot</td>\n",
    "  </tr>\n",
    "</table>\n",
    "\n",
    "각 이미지는 하나의 레이블에 매핑되어 있다. 데이터셋에 클래스 이름이 들어있지 않기 때문에 나중에 이미지를 출력할 때 사용하기 위해 별도의 변수를 만들어 저장한다."
   ]
  },
  {
   "cell_type": "code",
   "execution_count": 47,
   "metadata": {},
   "outputs": [],
   "source": [
    "import tensorflow as tf\n",
    "from tensorflow import keras\n",
    "from tensorflow.keras import layers, models, optimizers\n",
    "\n",
    "import numpy as np\n",
    "import matplotlib.pyplot as plt\n",
    "\n",
    "import os\n",
    "import random\n",
    "\n",
    "# seed 값 설정\n",
    "random.seed(0)\n",
    "np.random.seed(0)\n",
    "tf.random.set_seed(0)"
   ]
  },
  {
   "cell_type": "code",
   "execution_count": 48,
   "metadata": {
    "slideshow": {
     "slide_type": "fragment"
    }
   },
   "outputs": [],
   "source": [
    "class_names = np.array(['T-shirt/top', 'Trousers', 'Pullover', 'Dress',\n",
    "                        'Coat', 'Sandal', 'Shirt', 'Sneaker', 'Bag', 'Ankle boot'])"
   ]
  },
  {
   "cell_type": "markdown",
   "metadata": {
    "slideshow": {
     "slide_type": "slide"
    }
   },
   "source": [
    "##### Data 로딩"
   ]
  },
  {
   "cell_type": "code",
   "execution_count": 49,
   "metadata": {},
   "outputs": [
    {
     "name": "stdout",
     "output_type": "stream",
     "text": [
      "Downloading data from https://storage.googleapis.com/tensorflow/tf-keras-datasets/train-labels-idx1-ubyte.gz\n",
      "29515/29515 [==============================] - 0s 0us/step\n",
      "Downloading data from https://storage.googleapis.com/tensorflow/tf-keras-datasets/train-images-idx3-ubyte.gz\n",
      "26421880/26421880 [==============================] - 2s 0us/step\n",
      "Downloading data from https://storage.googleapis.com/tensorflow/tf-keras-datasets/t10k-labels-idx1-ubyte.gz\n",
      "5148/5148 [==============================] - 0s 0s/step\n",
      "Downloading data from https://storage.googleapis.com/tensorflow/tf-keras-datasets/t10k-images-idx3-ubyte.gz\n",
      "4422102/4422102 [==============================] - 0s 0us/step\n"
     ]
    },
    {
     "data": {
      "text/plain": [
       "((60000, 28, 28), (60000,), (10000, 28, 28), (10000,))"
      ]
     },
     "execution_count": 49,
     "metadata": {},
     "output_type": "execute_result"
    }
   ],
   "source": [
    "(train_image, y_train), (test_image, y_test) = keras.datasets.fashion_mnist.load_data()\n",
    "train_image.shape, y_train.shape, test_image.shape, y_test.shape"
   ]
  },
  {
   "cell_type": "code",
   "execution_count": 50,
   "metadata": {
    "scrolled": true
   },
   "outputs": [
    {
     "data": {
      "text/plain": [
       "(array([0, 1, 2, 3, 4, 5, 6, 7, 8, 9], dtype=uint8),\n",
       " array([6000, 6000, 6000, 6000, 6000, 6000, 6000, 6000, 6000, 6000],\n",
       "       dtype=int64))"
      ]
     },
     "execution_count": 50,
     "metadata": {},
     "output_type": "execute_result"
    }
   ],
   "source": [
    "np.unique(y_train, return_counts=True)"
   ]
  },
  {
   "cell_type": "markdown",
   "metadata": {
    "slideshow": {
     "slide_type": "fragment"
    }
   },
   "source": [
    "##### validatation dataset set  분리\n",
    "- Train set을 Train/validation set으로 분리\n",
    "\n",
    "Test set은 위에서 이미 분리된 상태."
   ]
  },
  {
   "cell_type": "code",
   "execution_count": 51,
   "metadata": {},
   "outputs": [
    {
     "data": {
      "text/plain": [
       "((48000, 28, 28), (12000, 28, 28))"
      ]
     },
     "execution_count": 51,
     "metadata": {},
     "output_type": "execute_result"
    }
   ],
   "source": [
    "from sklearn.model_selection import train_test_split\n",
    "train_image, val_image, y_train, y_val = train_test_split(train_image,\n",
    "                                                          y_train, \n",
    "                                                          test_size=0.2, \n",
    "                                                          stratify=y_train, \n",
    "                                                          random_state=0)\n",
    "train_image.shape, val_image.shape"
   ]
  },
  {
   "cell_type": "markdown",
   "metadata": {
    "slideshow": {
     "slide_type": "slide"
    }
   },
   "source": [
    "##### 이미지 확인"
   ]
  },
  {
   "cell_type": "code",
   "execution_count": 52,
   "metadata": {},
   "outputs": [
    {
     "data": {
      "image/png": "[encoded data removed]",
      "text/plain": [
       "<Figure size 700x700 with 15 Axes>"
      ]
     },
     "metadata": {},
     "output_type": "display_data"
    }
   ],
   "source": [
    "cnt = 15  # 확인할 이미지개수 (5배수)\n",
    "plt.figure(figsize=(7,7))\n",
    "for i in range(cnt):\n",
    "    plt.subplot(5, int(cnt/5), i+1) # 5 줄로 나타낼 것이며, 이에 따라 열의 수를 맞춘다.\n",
    "    plt.imshow(train_image[i], cmap='Greys')  # gray: 0-black, 255: white,  Greys: 0-white, 255-black\n",
    "    label = class_names[y_train[i]]\n",
    "    plt.title(label)\n",
    "    \n",
    "plt.tight_layout()\n",
    "plt.show()"
   ]
  },
  {
   "cell_type": "markdown",
   "metadata": {
    "slideshow": {
     "slide_type": "slide"
    }
   },
   "source": [
    "#### 하이퍼파라미터, 변수 설정"
   ]
  },
  {
   "cell_type": "code",
   "execution_count": 53,
   "metadata": {},
   "outputs": [],
   "source": [
    "LEARNING_RATE = 0.001  # 학습률\n",
    "# N_EPOCH = 100          # 에폭수\n",
    "N_EPOCH = 20\n",
    "N_BATCH = 1000         # 배치 사이즈"
   ]
  },
  {
   "cell_type": "markdown",
   "metadata": {
    "slideshow": {
     "slide_type": "fragment"
    }
   },
   "source": [
    "#### X, y  전처리\n",
    "- y값 처리\n",
    "    1. 다중 분류에서 label encoding 형식의 label을 one hot encoding 처리 ==> loss: categorical_crossentropy\n",
    "    2. label encoding 형식의 label을 그대로 모델에 전달. => loss: sparse_categorical_crossentropy\n",
    "        - one hot encoding 처리를 loss가 대신 한다."
   ]
  },
  {
   "cell_type": "markdown",
   "metadata": {
    "slideshow": {
     "slide_type": "fragment"
    }
   },
   "source": [
    "- x값(이미지) 처리\n",
    "    - dtype을 uint8에서 float32로 변환한다.\n",
    "    - 0 ~ 1 정규화. X/255.0으로 나눈다."
   ]
  },
  {
   "cell_type": "code",
   "execution_count": 54,
   "metadata": {},
   "outputs": [],
   "source": [
    "X_train = train_image.astype('float32')/255.0\n",
    "X_val = val_image.astype('float32')/255.0\n",
    "X_test = test_image.astype('float32')/255.0"
   ]
  },
  {
   "cell_type": "code",
   "execution_count": 55,
   "metadata": {},
   "outputs": [
    {
     "name": "stdout",
     "output_type": "stream",
     "text": [
      "0 255\n",
      "0.0 1.0\n"
     ]
    }
   ],
   "source": [
    "print(train_image.min(), train_image.max())\n",
    "print(X_train.min(), X_train.max())"
   ]
  },
  {
   "cell_type": "code",
   "execution_count": 56,
   "metadata": {},
   "outputs": [
    {
     "data": {
      "text/plain": [
       "((48000, 28, 28), (12000, 28, 28), (10000, 28, 28))"
      ]
     },
     "execution_count": 56,
     "metadata": {},
     "output_type": "execute_result"
    }
   ],
   "source": [
    "X_train.shape, X_val.shape, X_test.shape"
   ]
  },
  {
   "cell_type": "markdown",
   "metadata": {
    "slideshow": {
     "slide_type": "slide"
    }
   },
   "source": [
    "##### Dataset 생성"
   ]
  },
  {
   "cell_type": "code",
   "execution_count": 57,
   "metadata": {},
   "outputs": [],
   "source": [
    "train_dataset = tf.data.Dataset.from_tensor_slices((X_train, y_train))\\\n",
    "                               .shuffle(X_train.shape[0]).batch(N_BATCH, drop_remainder=True)\n",
    "\n",
    "val_dataset = tf.data.Dataset.from_tensor_slices((X_val, y_val)).batch(N_BATCH)\n",
    "test_dataset = tf.data.Dataset.from_tensor_slices((X_test, y_test)).batch(N_BATCH)"
   ]
  },
  {
   "cell_type": "code",
   "execution_count": 58,
   "metadata": {},
   "outputs": [
    {
     "data": {
      "text/plain": [
       "(48, 12, 10)"
      ]
     },
     "execution_count": 58,
     "metadata": {},
     "output_type": "execute_result"
    }
   ],
   "source": [
    "# 에폭당 step 수 계산\n",
    "len(train_dataset), len(val_dataset), len(test_dataset)"
   ]
  },
  {
   "cell_type": "markdown",
   "metadata": {
    "slideshow": {
     "slide_type": "slide"
    }
   },
   "source": [
    "##### 모델 생성 및 컴파일"
   ]
  },
  {
   "cell_type": "code",
   "execution_count": 59,
   "metadata": {},
   "outputs": [],
   "source": [
    "def get_model_fashion(lr=0.01):\n",
    "    model = keras.Sequential()\n",
    "    \n",
    "    # input(28,28) => 2차원,\n",
    "    #  Dense layer은 입력으로 1차원 배열을 받는다.\n",
    "    ## 2차원을 1차원으로 변환 : Flatten layer.\n",
    "    model.add(layers.Flatten(input_shape=(28, 28)))\n",
    "    \n",
    "    ### Hidden layer\n",
    "    # Dense Layer의 Unit개수는 점점 줄여나가는 패턴을 사용.\n",
    "    ## 출력 레이어의 unit 개수를 고려해서 Dense unit의 수를 결정한다.\n",
    "    model.add(layers.Dense(256, activation='relu'))\n",
    "    model.add(layers.Dense(128, activation='relu'))\n",
    "    model.add(layers.Dense(64, activation='relu'))\n",
    "    model.add(layers.Dense(32, activation='relu'))\n",
    "    \n",
    "    # output layer - 다중 분류\n",
    "    ## unit 개수 == class 개수(10)\n",
    "    ### activation 함수 : softmax() ==> class 별 확률을 출력하도록 한다.\n",
    "    model.add(layers.Dense(10, activation='softmax', name='output'))\n",
    "    \n",
    "    # 컴파일\n",
    "    # 다중분류 loss함수:\n",
    "#             y가 one hot encoding이 안된 경우: sparse_categorical_crossentropy \n",
    "                                              # (1. y를 원핫인코딩 처리, 2. loss 계산)\n",
    "    \n",
    "#             y를 one hot encoding 한 경우: categorical_crossentropy\n",
    "    model.compile(optimizer=optimizers.Adam(learning_rate=lr), \n",
    "                  loss='sparse_categorical_crossentropy',   \n",
    "                  metrics=['accuracy']\n",
    "                 )\n",
    "    return model"
   ]
  },
  {
   "cell_type": "code",
   "execution_count": 60,
   "metadata": {},
   "outputs": [
    {
     "name": "stdout",
     "output_type": "stream",
     "text": [
      "Model: \"sequential_1\"\n",
      "_________________________________________________________________\n",
      " Layer (type)                Output Shape              Param #   \n",
      "=================================================================\n",
      " flatten (Flatten)           (None, 784)               0         \n",
      "                                                                 \n",
      " dense_4 (Dense)             (None, 256)               200960    \n",
      "                                                                 \n",
      " dense_5 (Dense)             (None, 128)               32896     \n",
      "                                                                 \n",
      " dense_6 (Dense)             (None, 64)                8256      \n",
      "                                                                 \n",
      " dense_7 (Dense)             (None, 32)                2080      \n",
      "                                                                 \n",
      " output (Dense)              (None, 10)                330       \n",
      "                                                                 \n",
      "=================================================================\n",
      "Total params: 244522 (955.16 KB)\n",
      "Trainable params: 244522 (955.16 KB)\n",
      "Non-trainable params: 0 (0.00 Byte)\n",
      "_________________________________________________________________\n"
     ]
    }
   ],
   "source": [
    "model_fashion = get_model_fashion(LEARNING_RATE)\n",
    "model_fashion.summary()"
   ]
  },
  {
   "cell_type": "code",
   "execution_count": 63,
   "metadata": {},
   "outputs": [
    {
     "data": {
      "image/png": "[encoded data removed]",
      "text/plain": [
       "<IPython.core.display.Image object>"
      ]
     },
     "execution_count": 63,
     "metadata": {},
     "output_type": "execute_result"
    }
   ],
   "source": [
    "keras.utils.plot_model(model_fashion, show_shapes=True, to_file='model_fashion.png')"
   ]
  },
  {
   "cell_type": "code",
   "execution_count": 65,
   "metadata": {
    "scrolled": true
   },
   "outputs": [
    {
     "name": "stdout",
     "output_type": "stream",
     "text": [
      "Help on function plot_model in module keras.src.utils.vis_utils:\n",
      "\n",
      "plot_model(model, to_file='model.png', show_shapes=False, show_dtype=False, show_layer_names=True, rankdir='TB', expand_nested=False, dpi=96, layer_range=None, show_layer_activations=False, show_trainable=False)\n",
      "    Converts a Keras model to dot format and save to a file.\n",
      "    \n",
      "    Example:\n",
      "    \n",
      "    ```python\n",
      "    input = tf.keras.Input(shape=(100,), dtype='int32', name='input')\n",
      "    x = tf.keras.layers.Embedding(\n",
      "        output_dim=512, input_dim=10000, input_length=100)(input)\n",
      "    x = tf.keras.layers.LSTM(32)(x)\n",
      "    x = tf.keras.layers.Dense(64, activation='relu')(x)\n",
      "    x = tf.keras.layers.Dense(64, activation='relu')(x)\n",
      "    x = tf.keras.layers.Dense(64, activation='relu')(x)\n",
      "    output = tf.keras.layers.Dense(1, activation='sigmoid', name='output')(x)\n",
      "    model = tf.keras.Model(inputs=[input], outputs=[output])\n",
      "    dot_img_file = '/tmp/model_1.png'\n",
      "    tf.keras.utils.plot_model(model, to_file=dot_img_file, show_shapes=True)\n",
      "    ```\n",
      "    \n",
      "    Args:\n",
      "      model: A Keras model instance\n",
      "      to_file: File name of the plot image.\n",
      "      show_shapes: whether to display shape information.\n",
      "      show_dtype: whether to display layer dtypes.\n",
      "      show_layer_names: whether to display layer names.\n",
      "      rankdir: `rankdir` argument passed to PyDot,\n",
      "          a string specifying the format of the plot: 'TB' creates a vertical\n",
      "            plot; 'LR' creates a horizontal plot.\n",
      "      expand_nested: Whether to expand nested models into clusters.\n",
      "      dpi: Dots per inch.\n",
      "      layer_range: input of `list` containing two `str` items, which is the\n",
      "        starting layer name and ending layer name (both inclusive) indicating\n",
      "        the range of layers for which the plot will be generated. It also\n",
      "        accepts regex patterns instead of exact name. In such case, start\n",
      "        predicate will be the first element it matches to `layer_range[0]` and\n",
      "        the end predicate will be the last element it matches to\n",
      "        `layer_range[1]`. By default `None` which considers all layers of model.\n",
      "        Note that you must pass range such that the resultant subgraph must be\n",
      "        complete.\n",
      "      show_layer_activations: Display layer activations (only for layers that\n",
      "        have an `activation` property).\n",
      "      show_trainable: whether to display if a layer is trainable. Displays 'T'\n",
      "        when the layer is trainable and 'NT' when it is not trainable.\n",
      "    \n",
      "    Raises:\n",
      "      ImportError: if graphviz or pydot are not available.\n",
      "      ValueError: if `plot_model` is called before the model is built.\n",
      "    \n",
      "    Returns:\n",
      "      A Jupyter notebook Image object if Jupyter is installed.\n",
      "      This enables in-line display of the model plots in notebooks.\n",
      "\n"
     ]
    }
   ],
   "source": [
    "help(keras.utils.plot_model)"
   ]
  },
  {
   "cell_type": "markdown",
   "metadata": {
    "slideshow": {
     "slide_type": "slide"
    }
   },
   "source": [
    "##### Train(학습)"
   ]
  },
  {
   "cell_type": "code",
   "execution_count": 66,
   "metadata": {
    "scrolled": true
   },
   "outputs": [
    {
     "name": "stdout",
     "output_type": "stream",
     "text": [
      "Epoch 1/20\n",
      "48/48 [==============================] - 1s 13ms/step - loss: 1.0248 - accuracy: 0.6647 - val_loss: 0.6009 - val_accuracy: 0.7933\n",
      "Epoch 2/20\n",
      "48/48 [==============================] - 1s 13ms/step - loss: 0.5066 - accuracy: 0.8295 - val_loss: 0.4768 - val_accuracy: 0.8303\n",
      "Epoch 3/20\n",
      "48/48 [==============================] - 1s 11ms/step - loss: 0.4376 - accuracy: 0.8487 - val_loss: 0.4193 - val_accuracy: 0.8512\n",
      "Epoch 4/20\n",
      "48/48 [==============================] - 0s 9ms/step - loss: 0.3977 - accuracy: 0.8615 - val_loss: 0.3928 - val_accuracy: 0.8597\n",
      "Epoch 5/20\n",
      "48/48 [==============================] - 0s 9ms/step - loss: 0.3862 - accuracy: 0.8644 - val_loss: 0.3839 - val_accuracy: 0.8614\n",
      "Epoch 6/20\n",
      "48/48 [==============================] - 1s 10ms/step - loss: 0.3639 - accuracy: 0.8709 - val_loss: 0.3663 - val_accuracy: 0.8699\n",
      "Epoch 7/20\n",
      "48/48 [==============================] - 1s 12ms/step - loss: 0.3395 - accuracy: 0.8796 - val_loss: 0.3613 - val_accuracy: 0.8679\n",
      "Epoch 8/20\n",
      "48/48 [==============================] - 1s 12ms/step - loss: 0.3286 - accuracy: 0.8818 - val_loss: 0.3543 - val_accuracy: 0.8692\n",
      "Epoch 9/20\n",
      "48/48 [==============================] - 1s 11ms/step - loss: 0.3131 - accuracy: 0.8878 - val_loss: 0.3390 - val_accuracy: 0.8753\n",
      "Epoch 10/20\n",
      "48/48 [==============================] - 1s 11ms/step - loss: 0.3087 - accuracy: 0.8882 - val_loss: 0.3438 - val_accuracy: 0.8757\n",
      "Epoch 11/20\n",
      "48/48 [==============================] - 1s 9ms/step - loss: 0.2865 - accuracy: 0.8965 - val_loss: 0.3369 - val_accuracy: 0.8775\n",
      "Epoch 12/20\n",
      "48/48 [==============================] - 1s 10ms/step - loss: 0.2820 - accuracy: 0.8978 - val_loss: 0.3199 - val_accuracy: 0.8827\n",
      "Epoch 13/20\n",
      "48/48 [==============================] - 1s 10ms/step - loss: 0.2703 - accuracy: 0.9022 - val_loss: 0.3401 - val_accuracy: 0.8761\n",
      "Epoch 14/20\n",
      "48/48 [==============================] - 0s 9ms/step - loss: 0.2744 - accuracy: 0.8998 - val_loss: 0.3357 - val_accuracy: 0.8808\n",
      "Epoch 15/20\n",
      "48/48 [==============================] - 1s 10ms/step - loss: 0.2534 - accuracy: 0.9082 - val_loss: 0.3102 - val_accuracy: 0.8863\n",
      "Epoch 16/20\n",
      "48/48 [==============================] - 1s 10ms/step - loss: 0.2480 - accuracy: 0.9105 - val_loss: 0.3069 - val_accuracy: 0.8873\n",
      "Epoch 17/20\n",
      "48/48 [==============================] - 0s 9ms/step - loss: 0.2502 - accuracy: 0.9075 - val_loss: 0.3239 - val_accuracy: 0.8815\n",
      "Epoch 18/20\n",
      "48/48 [==============================] - 1s 10ms/step - loss: 0.2427 - accuracy: 0.9103 - val_loss: 0.3296 - val_accuracy: 0.8838\n",
      "Epoch 19/20\n",
      "48/48 [==============================] - 1s 9ms/step - loss: 0.2396 - accuracy: 0.9120 - val_loss: 0.3012 - val_accuracy: 0.8930\n",
      "Epoch 20/20\n",
      "48/48 [==============================] - 1s 11ms/step - loss: 0.2218 - accuracy: 0.9190 - val_loss: 0.3106 - val_accuracy: 0.8896\n"
     ]
    }
   ],
   "source": [
    "hist = model_fashion.fit(train_dataset, epochs=N_EPOCH, validation_data=val_dataset)"
   ]
  },
  {
   "cell_type": "markdown",
   "metadata": {
    "slideshow": {
     "slide_type": "fragment"
    }
   },
   "source": [
    "##### 결과 시각화\n",
    "- 학습 시 epoch별 검증 결과를 시각화한다."
   ]
  },
  {
   "cell_type": "code",
   "execution_count": 67,
   "metadata": {},
   "outputs": [
    {
     "data": {
      "text/plain": [
       "dict_keys(['loss', 'accuracy', 'val_loss', 'val_accuracy'])"
      ]
     },
     "execution_count": 67,
     "metadata": {},
     "output_type": "execute_result"
    }
   ],
   "source": [
    "hist.history.keys()"
   ]
  },
  {
   "cell_type": "code",
   "execution_count": 68,
   "metadata": {},
   "outputs": [
    {
     "data": {
      "text/plain": [
       "[0, 1, 2, 3, 4, 5, 6, 7, 8, 9, 10, 11, 12, 13, 14, 15, 16, 17, 18, 19]"
      ]
     },
     "execution_count": 68,
     "metadata": {},
     "output_type": "execute_result"
    }
   ],
   "source": [
    "hist.epoch"
   ]
  },
  {
   "cell_type": "code",
   "execution_count": 69,
   "metadata": {},
   "outputs": [
    {
     "data": {
      "image/png": "[encoded data removed]",
      "text/plain": [
       "<Figure size 1000x500 with 2 Axes>"
      ]
     },
     "metadata": {},
     "output_type": "display_data"
    }
   ],
   "source": [
    "plt.figure(figsize=(10, 5))\n",
    "plt.subplot(1, 2, 1)\n",
    "plt.plot(hist.epoch, hist.history['loss'], label=\"train\")\n",
    "plt.plot(hist.epoch, hist.history['val_loss'], label='validation')\n",
    "plt.title('Loss')\n",
    "plt.xlabel('에폭수')\n",
    "plt.ylabel('loss')\n",
    "plt.legend()\n",
    "\n",
    "plt.subplot(1, 2, 2)\n",
    "plt.plot(hist.epoch, hist.history['accuracy'], label='train')\n",
    "plt.plot(hist.epoch, hist.history['val_accuracy'], label='validation')\n",
    "plt.title('Accuracy')\n",
    "plt.xlabel('에폭수')\n",
    "plt.ylabel('accuracy')\n",
    "plt.legend()\n",
    "\n",
    "plt.tight_layout()\n",
    "plt.show()"
   ]
  },
  {
   "cell_type": "markdown",
   "metadata": {
    "slideshow": {
     "slide_type": "slide"
    }
   },
   "source": [
    "#### 최종평가"
   ]
  },
  {
   "cell_type": "code",
   "execution_count": 72,
   "metadata": {},
   "outputs": [
    {
     "name": "stdout",
     "output_type": "stream",
     "text": [
      "10/10 [==============================] - 0s 5ms/step - loss: 0.3396 - accuracy: 0.8848\n"
     ]
    }
   ],
   "source": [
    "# test set\n",
    "loss, acc = model_fashion.evaluate(test_dataset)"
   ]
  },
  {
   "cell_type": "code",
   "execution_count": 73,
   "metadata": {},
   "outputs": [
    {
     "name": "stdout",
     "output_type": "stream",
     "text": [
      "0.3395998775959015 , 0.8848000168800354\n"
     ]
    }
   ],
   "source": [
    "print(loss, acc, sep=\" , \")"
   ]
  },
  {
   "cell_type": "markdown",
   "metadata": {
    "slideshow": {
     "slide_type": "fragment"
    }
   },
   "source": [
    "#### 모델저장"
   ]
  },
  {
   "cell_type": "code",
   "execution_count": 74,
   "metadata": {},
   "outputs": [],
   "source": [
    "save_dir_fashion = 'saved_model/fashion_mnist_model'"
   ]
  },
  {
   "cell_type": "code",
   "execution_count": 75,
   "metadata": {
    "scrolled": true
   },
   "outputs": [
    {
     "name": "stdout",
     "output_type": "stream",
     "text": [
      "INFO:tensorflow:Assets written to: saved_model/fashion_mnist_model\\assets\n"
     ]
    },
    {
     "name": "stderr",
     "output_type": "stream",
     "text": [
      "INFO:tensorflow:Assets written to: saved_model/fashion_mnist_model\\assets\n"
     ]
    }
   ],
   "source": [
    "model_fashion.save(save_dir_fashion)"
   ]
  },
  {
   "cell_type": "markdown",
   "metadata": {
    "slideshow": {
     "slide_type": "slide"
    }
   },
   "source": [
    "#### 새로운 데이터 추론"
   ]
  },
  {
   "cell_type": "code",
   "execution_count": 76,
   "metadata": {},
   "outputs": [
    {
     "name": "stdout",
     "output_type": "stream",
     "text": [
      "10/10 [==============================] - 0s 5ms/step - loss: 0.3396 - accuracy: 0.8848\n"
     ]
    },
    {
     "data": {
      "text/plain": [
       "[0.3395998775959015, 0.8848000168800354]"
      ]
     },
     "execution_count": 76,
     "metadata": {},
     "output_type": "execute_result"
    }
   ],
   "source": [
    "# 저장된 모델을 loading해서 추론\n",
    "saved_model_fashion = models.load_model(save_dir_fashion)\n",
    "saved_model_fashion.evaluate(test_dataset)"
   ]
  },
  {
   "cell_type": "code",
   "execution_count": 77,
   "metadata": {},
   "outputs": [
    {
     "data": {
      "text/plain": [
       "(10, 28, 28)"
      ]
     },
     "execution_count": 77,
     "metadata": {},
     "output_type": "execute_result"
    }
   ],
   "source": [
    "new_X = X_test[1000:1010]\n",
    "new_X.shape"
   ]
  },
  {
   "cell_type": "code",
   "execution_count": 78,
   "metadata": {},
   "outputs": [
    {
     "name": "stdout",
     "output_type": "stream",
     "text": [
      "1/1 [==============================] - 0s 48ms/step\n"
     ]
    },
    {
     "data": {
      "text/plain": [
       "(10, 10)"
      ]
     },
     "execution_count": 78,
     "metadata": {},
     "output_type": "execute_result"
    }
   ],
   "source": [
    "pred = saved_model_fashion.predict(new_X)\n",
    "pred.shape"
   ]
  },
  {
   "cell_type": "code",
   "execution_count": 79,
   "metadata": {
    "scrolled": true
   },
   "outputs": [
    {
     "data": {
      "text/plain": [
       "array([[1.7180265e-01, 1.2263822e-05, 2.5423826e-03, 7.6530641e-04,\n",
       "        4.3857744e-05, 2.4784460e-06, 8.2434613e-01, 1.9248737e-06,\n",
       "        4.8138626e-04, 1.7429400e-06],\n",
       "       [4.9867714e-04, 1.8638557e-05, 1.8174433e-04, 9.9799323e-01,\n",
       "        1.8943242e-04, 2.7957485e-09, 1.1046862e-03, 8.1743032e-08,\n",
       "        1.3476891e-05, 7.8046242e-10],\n",
       "       [4.5922442e-07, 1.6927060e-13, 6.6011594e-08, 3.6964111e-14,\n",
       "        8.7437509e-11, 9.9999464e-01, 2.7270816e-10, 1.7250346e-10,\n",
       "        6.9399695e-09, 4.8471193e-06],\n",
       "       [1.5300330e-06, 1.3759702e-11, 1.1212936e-06, 4.3250681e-12,\n",
       "        7.6018452e-08, 9.9999654e-01, 7.6954265e-09, 6.3220462e-10,\n",
       "        5.4679549e-07, 1.6602216e-07],\n",
       "       [1.2195751e-03, 7.7896446e-05, 1.6020221e-01, 5.1458058e-04,\n",
       "        8.4697478e-02, 2.1542231e-05, 7.5284708e-01, 1.2433454e-05,\n",
       "        3.9874250e-04, 8.4851245e-06],\n",
       "       [3.9960712e-02, 1.4827306e-02, 1.7270049e-01, 2.1777573e-01,\n",
       "        3.6943468e-01, 2.9813471e-06, 1.4912346e-01, 3.1693096e-05,\n",
       "        3.6111843e-02, 3.1005613e-05],\n",
       "       [1.2544626e-06, 3.0436640e-09, 1.3861079e-06, 2.8925412e-10,\n",
       "        2.8286783e-07, 9.9999142e-01, 1.6601876e-07, 1.5931768e-07,\n",
       "        5.3219542e-06, 6.3199788e-09],\n",
       "       [2.7192992e-09, 1.1459563e-07, 5.0826632e-10, 1.6595497e-09,\n",
       "        1.4061372e-11, 8.1544686e-06, 8.4679030e-08, 3.5462042e-03,\n",
       "        9.8187945e-07, 9.9644452e-01],\n",
       "       [9.1350444e-02, 5.6613572e-02, 2.1189222e-01, 1.4343944e-01,\n",
       "        4.2072311e-02, 5.6194283e-05, 4.4942743e-01, 8.8948320e-04,\n",
       "        3.2119143e-03, 1.0469665e-03],\n",
       "       [4.2305659e-03, 6.9454854e-04, 1.3160188e-04, 9.9358213e-01,\n",
       "        2.2638841e-04, 3.9297976e-08, 1.1161851e-03, 9.3060045e-08,\n",
       "        1.8159957e-05, 2.8053478e-07]], dtype=float32)"
      ]
     },
     "execution_count": 79,
     "metadata": {},
     "output_type": "execute_result"
    }
   ],
   "source": [
    "pred"
   ]
  },
  {
   "cell_type": "code",
   "execution_count": 80,
   "metadata": {},
   "outputs": [
    {
     "data": {
      "text/plain": [
       "(array([6, 3, 5, 5, 6, 4, 5, 9, 6, 3], dtype=int64),\n",
       " array(['Shirt', 'Dress', 'Sandal', 'Sandal', 'Shirt', 'Coat', 'Sandal',\n",
       "        'Ankle boot', 'Shirt', 'Dress'], dtype='<U11'),\n",
       " array([82.434616, 99.799324, 99.999466, 99.99966 , 75.284706, 36.94347 ,\n",
       "        99.999146, 99.644455, 44.94274 , 99.358215], dtype=float32))"
      ]
     },
     "execution_count": 80,
     "metadata": {},
     "output_type": "execute_result"
    }
   ],
   "source": [
    "# 모델 추론결과에 대한 후처리 작업\n",
    "label = np.argmax(pred, axis=-1)\n",
    "label_name = class_names[label]\n",
    "proba = np.max(pred, axis=-1) \n",
    "\n",
    "## argmax() : max 값의 인덱스 반환\n",
    "## max() : max 값 반환\n",
    "\n",
    "label,  label_name, proba*100"
   ]
  },
  {
   "cell_type": "code",
   "execution_count": 81,
   "metadata": {},
   "outputs": [
    {
     "name": "stdout",
     "output_type": "stream",
     "text": [
      "1. Shirt - 82%\n",
      "2. Dress - 99%\n",
      "3. Sandal - 99%\n",
      "4. Sandal - 99%\n",
      "5. Shirt - 75%\n",
      "6. Coat - 36%\n",
      "7. Sandal - 99%\n",
      "8. Ankle boot - 99%\n",
      "9. Shirt - 44%\n",
      "10. Dress - 99%\n"
     ]
    }
   ],
   "source": [
    "for idx, (n, p) in enumerate(zip(label_name, proba), start=1):\n",
    "    print(f\"{idx}. {n} - {int(p*100)}%\")"
   ]
  },
  {
   "cell_type": "code",
   "execution_count": 83,
   "metadata": {},
   "outputs": [
    {
     "data": {
      "text/plain": [
       "array(['T-shirt/top', 'Dress', 'Sandal', 'Sandal', 'Shirt', 'T-shirt/top',\n",
       "       'Sandal', 'Ankle boot', 'Shirt', 'Dress'], dtype='<U11')"
      ]
     },
     "execution_count": 83,
     "metadata": {},
     "output_type": "execute_result"
    }
   ],
   "source": [
    "class_names[y_test[1000:1010]]"
   ]
  },
  {
   "cell_type": "code",
   "execution_count": null,
   "metadata": {},
   "outputs": [],
   "source": []
  },
  {
   "cell_type": "code",
   "execution_count": null,
   "metadata": {},
   "outputs": [],
   "source": []
  },
  {
   "cell_type": "code",
   "execution_count": null,
   "metadata": {},
   "outputs": [],
   "source": []
  },
  {
   "cell_type": "code",
   "execution_count": null,
   "metadata": {},
   "outputs": [],
   "source": []
  },
  {
   "cell_type": "markdown",
   "metadata": {
    "slideshow": {
     "slide_type": "slide"
    }
   },
   "source": [
    "## 위스콘신 유방암 데이터셋 - 이진분류(Binary Classification) 문제\n",
    "\n",
    "- **이진 분류 문제 처리 모델의 두가지 방법**\n",
    "    1. positive(1)일 확률을 출력하도록 구현\n",
    "        - output layer: units=1, activation='sigmoid'\n",
    "        - loss: binary_crossentropy\n",
    "    2. negative(0)일 확률과 positive(1)일 확률을 출력하도록 구현 => 다중분류 처리 방식으로 해결\n",
    "        - output layer: units=2, activation='softmax', y(정답)은 one hot encoding 처리\n",
    "        - loss: categorical_crossentropy\n",
    "        \n",
    "- 위스콘신 대학교에서 제공한 종양의 악성/양성여부 분류를 위한 데이터셋\n",
    "- Feature\n",
    "    - 종양에 대한 다양한 측정값들\n",
    "- Target의 class\n",
    "    - 0 - malignant(악성종양)\n",
    "    - 1 - benign(양성종양)"
   ]
  },
  {
   "cell_type": "code",
   "execution_count": 12,
   "metadata": {},
   "outputs": [],
   "source": [
    "import tensorflow as tf\n",
    "from tensorflow import keras\n",
    "from tensorflow.keras import layers, models, optimizers\n",
    "\n",
    "from sklearn.datasets import load_breast_cancer\n",
    "from sklearn.model_selection import train_test_split\n",
    "from sklearn.preprocessing import StandardScaler\n",
    "\n",
    "import random\n",
    "import numpy as np\n",
    "import matplotlib.pyplot as plt\n",
    "\n",
    "random.seed(0)\n",
    "np.random.seed(0)\n",
    "tf.random.set_seed(0)"
   ]
  },
  {
   "cell_type": "markdown",
   "metadata": {
    "slideshow": {
     "slide_type": "slide"
    }
   },
   "source": [
    "##### 데이터 로딩, train/validation/test set 나누기"
   ]
  },
  {
   "cell_type": "code",
   "execution_count": 13,
   "metadata": {},
   "outputs": [
    {
     "data": {
      "text/plain": [
       "((569, 30), (569,))"
      ]
     },
     "execution_count": 13,
     "metadata": {},
     "output_type": "execute_result"
    }
   ],
   "source": [
    "X, y = load_breast_cancer(return_X_y=True)\n",
    "X.shape, y.shape"
   ]
  },
  {
   "cell_type": "code",
   "execution_count": null,
   "metadata": {},
   "outputs": [],
   "source": [
    "np.unique(y)"
   ]
  },
  {
   "cell_type": "code",
   "execution_count": null,
   "metadata": {},
   "outputs": [],
   "source": [
    "# Test set 분리\n",
    "X_train, X_test, y_train, y_test = train_test_split(X, y, test_size=0.2, stratify=y, random_state=0)\n",
    "# Train / Validation 분리\n",
    "X_train, X_val, y_train, y_val = train_test_split(X_train, y_train, test_size=0.2, stratify=y_train, random_state=0)"
   ]
  },
  {
   "cell_type": "code",
   "execution_count": null,
   "metadata": {},
   "outputs": [],
   "source": [
    "X_train.shape, X_val.shape, X_test.shape"
   ]
  },
  {
   "cell_type": "markdown",
   "metadata": {
    "slideshow": {
     "slide_type": "slide"
    }
   },
   "source": [
    "#### 하이퍼파라미터, 변수 정의"
   ]
  },
  {
   "cell_type": "code",
   "execution_count": null,
   "metadata": {},
   "outputs": [],
   "source": [
    "LEARNING_RATE = 0.001\n",
    "N_EPOCH = 200\n",
    "N_BATCH = 100\n",
    "N_BATCH_VAL_TEST = 50"
   ]
  },
  {
   "cell_type": "markdown",
   "metadata": {
    "slideshow": {
     "slide_type": "fragment"
    }
   },
   "source": [
    "#### 데이터 전처리\n",
    "- y (label) 처리\n",
    "    - 이진 분류\n",
    "        - 양성의 확률을 출력하도록 모델을 구성하는 경우 그대로 사용.\n",
    "        - 양성일 확률, 음성일 확률을 출력하도록 모델을 구성하는 경우(다중분류 방식으로 처리) one hot encoding 처리한다.\n",
    "- X (feature) 처리\n",
    "    - 문자열(범주형): one hot encoding\n",
    "    - 연속형(수치형): feature scaling"
   ]
  },
  {
   "cell_type": "code",
   "execution_count": null,
   "metadata": {},
   "outputs": [],
   "source": [
    "# Feature scaling\n",
    "scaler = StandardScaler()\n",
    "X_train_scaled = scaler.fit_transform(X_train)\n",
    "X_val_scaled = scaler.transform(X_val)\n",
    "X_test_scaled = scaler.transform(X_test)"
   ]
  },
  {
   "cell_type": "markdown",
   "metadata": {
    "slideshow": {
     "slide_type": "slide"
    }
   },
   "source": [
    "#### Dataset 생성\n"
   ]
  },
  {
   "cell_type": "code",
   "execution_count": null,
   "metadata": {},
   "outputs": [],
   "source": [
    "train_size = X_train_scaled.shape[0]\n",
    "train_dataset = tf.data.Dataset.from_tensor_slices((X_train_scaled, y_train))\\\n",
    "                               .shuffle(train_size).batch(N_BATCH, drop_remainder=True)\n",
    "\n",
    "val_dataset = tf.data.Dataset.from_tensor_slices((X_val_scaled, y_val)).batch(N_BATCH_VAL_TEST)\n",
    "test_dataset = tf.data.Dataset.from_tensor_slices((X_test_scaled, y_test)).batch(N_BATCH_VAL_TEST)"
   ]
  },
  {
   "cell_type": "markdown",
   "metadata": {
    "slideshow": {
     "slide_type": "slide"
    }
   },
   "source": [
    "#### model 생성, 컴파일"
   ]
  },
  {
   "cell_type": "code",
   "execution_count": null,
   "metadata": {},
   "outputs": [],
   "source": [
    "X_train_scaled.shape"
   ]
  },
  {
   "cell_type": "code",
   "execution_count": null,
   "metadata": {},
   "outputs": [],
   "source": [
    "from tensorflow.keras.metrics import Recall, Precision\n",
    "def get_model_cancer(lr=0.01):\n",
    "    model = keras.Sequential()\n",
    "    #Hidden layer\n",
    "    model.add(layers.Dense(32, activation='relu', input_shape=(30, )))\n",
    "    model.add(layers.Dense(16, activation='relu'))\n",
    "    # Output Layer\n",
    "    # 이진분류(양성인가?): unit개수-1개(positive-양성- 확률), activation: \"sigmoid\"\n",
    "    model.add(layers.Dense(1, activation='sigmoid', name='output_layer'))  # Layer이름 규칙: 변수명 규칙과 동일\n",
    "    \n",
    "    # 컴파일 - 이진분류의 loss함수: binary_crossentropy\n",
    "    model.compile(optimizer=optimizers.Adam(learning_rate=lr), \n",
    "                  loss='binary_crossentropy', \n",
    "                  metrics=['accuracy', Recall()])\n",
    "    \n",
    "    return model"
   ]
  },
  {
   "cell_type": "code",
   "execution_count": null,
   "metadata": {},
   "outputs": [],
   "source": [
    "model_cancer = get_model_cancer(LEARNING_RATE)\n",
    "model_cancer.summary()"
   ]
  },
  {
   "cell_type": "code",
   "execution_count": null,
   "metadata": {},
   "outputs": [],
   "source": [
    "keras.utils.plot_model(model_cancer, show_shapes=True, to_file='model_cancer.png')"
   ]
  },
  {
   "cell_type": "markdown",
   "metadata": {
    "slideshow": {
     "slide_type": "slide"
    }
   },
   "source": [
    "#### Train(학습)"
   ]
  },
  {
   "cell_type": "code",
   "execution_count": null,
   "metadata": {},
   "outputs": [],
   "source": [
    "hist = model_cancer.fit(train_dataset, epochs=N_EPOCH, validation_data=val_dataset)"
   ]
  },
  {
   "cell_type": "markdown",
   "metadata": {
    "slideshow": {
     "slide_type": "fragment"
    }
   },
   "source": [
    "#### 결과 시각화"
   ]
  },
  {
   "cell_type": "code",
   "execution_count": null,
   "metadata": {},
   "outputs": [],
   "source": [
    "plt.figure(figsize=(10, 5))\n",
    "plt.subplot(1, 2, 1)\n",
    "plt.plot(hist.epoch, hist.history['loss'], label=\"train\")\n",
    "plt.plot(hist.epoch, hist.history['val_loss'], label='validation')\n",
    "plt.title('Loss')\n",
    "plt.ylim(0, 0.1)\n",
    "plt.xlabel('에폭수')\n",
    "plt.ylabel('loss')\n",
    "plt.legend()\n",
    "\n",
    "plt.subplot(1, 2, 2)\n",
    "plt.plot(hist.epoch, hist.history['accuracy'], label='train')\n",
    "plt.plot(hist.epoch, hist.history['val_accuracy'], label='validation')\n",
    "plt.title('Accuracy')\n",
    "plt.xlabel('에폭수')\n",
    "plt.ylabel('accuracy')\n",
    "plt.legend()\n",
    "\n",
    "plt.tight_layout()\n",
    "plt.show()"
   ]
  },
  {
   "cell_type": "markdown",
   "metadata": {
    "slideshow": {
     "slide_type": "slide"
    }
   },
   "source": [
    "#### 최종평가"
   ]
  },
  {
   "cell_type": "code",
   "execution_count": null,
   "metadata": {},
   "outputs": [],
   "source": [
    "loss, acc, recall = model_cancer.evaluate(test_dataset)\n",
    "print(loss, acc, recall)"
   ]
  },
  {
   "cell_type": "markdown",
   "metadata": {
    "slideshow": {
     "slide_type": "fragment"
    }
   },
   "source": [
    "#### 모델저장"
   ]
  },
  {
   "cell_type": "code",
   "execution_count": null,
   "metadata": {},
   "outputs": [],
   "source": [
    "save_dir_path = 'saved_model/cancer_model'"
   ]
  },
  {
   "cell_type": "code",
   "execution_count": null,
   "metadata": {},
   "outputs": [],
   "source": [
    "model_cancer.save(save_dir_path)"
   ]
  },
  {
   "cell_type": "markdown",
   "metadata": {
    "slideshow": {
     "slide_type": "slide"
    }
   },
   "source": [
    "#### 새로운 데이터 추론"
   ]
  },
  {
   "cell_type": "code",
   "execution_count": null,
   "metadata": {},
   "outputs": [],
   "source": [
    "new_model = get_model_cancer(LEARNING_RATE)\n",
    "new_model.evaluate(test_dataset)"
   ]
  },
  {
   "cell_type": "code",
   "execution_count": null,
   "metadata": {},
   "outputs": [],
   "source": [
    "saved_model = models.load_model(save_dir_path)\n",
    "saved_model.evaluate(test_dataset)"
   ]
  },
  {
   "cell_type": "code",
   "execution_count": null,
   "metadata": {},
   "outputs": [],
   "source": [
    "new_X = X_test_scaled[:10]\n",
    "pred = saved_model.predict(new_X)\n",
    "pred.shape"
   ]
  },
  {
   "cell_type": "code",
   "execution_count": null,
   "metadata": {},
   "outputs": [],
   "source": [
    "print(pred)\n",
    "print(np.round(pred, 3))"
   ]
  },
  {
   "cell_type": "markdown",
   "metadata": {},
   "source": [
    "##### 모델출력결과 후처리"
   ]
  },
  {
   "cell_type": "code",
   "execution_count": null,
   "metadata": {},
   "outputs": [],
   "source": [
    "np.where(pred >= 0.5, '양성종양 - 1', '악성종양 - 0')"
   ]
  },
  {
   "cell_type": "code",
   "execution_count": null,
   "metadata": {},
   "outputs": [],
   "source": [
    "y_test[:10]"
   ]
  },
  {
   "cell_type": "code",
   "execution_count": null,
   "metadata": {},
   "outputs": [],
   "source": []
  }
 ],
 "metadata": {
  "kernelspec": {
   "display_name": "Python 3 (ipykernel)",
   "language": "python",
   "name": "python3"
  },
  "language_info": {
   "codemirror_mode": {
    "name": "ipython",
    "version": 3
   },
   "file_extension": ".py",
   "mimetype": "text/x-python",
   "name": "python",
   "nbconvert_exporter": "python",
   "pygments_lexer": "ipython3",
   "version": "3.10.11"
  },
  "toc": {
   "base_numbering": 1,
   "nav_menu": {},
   "number_sections": false,
   "sideBar": true,
   "skip_h1_title": false,
   "title_cell": "Table of Contents",
   "title_sidebar": "Contents",
   "toc_cell": false,
   "toc_position": {},
   "toc_section_display": true,
   "toc_window_display": false
  },
  "varInspector": {
   "cols": {
    "lenName": 16,
    "lenType": 16,
    "lenVar": 40
   },
   "kernels_config": {
    "python": {
     "delete_cmd_postfix": "",
     "delete_cmd_prefix": "del ",
     "library": "var_list.py",
     "varRefreshCmd": "print(var_dic_list())"
    },
    "r": {
     "delete_cmd_postfix": ") ",
     "delete_cmd_prefix": "rm(",
     "library": "var_list.r",
     "varRefreshCmd": "cat(var_dic_list()) "
    }
   },
   "types_to_exclude": [
    "module",
    "function",
    "builtin_function_or_method",
    "instance",
    "_Feature"
   ],
   "window_display": false
  }
 },
 "nbformat": 4,
 "nbformat_minor": 2
}
