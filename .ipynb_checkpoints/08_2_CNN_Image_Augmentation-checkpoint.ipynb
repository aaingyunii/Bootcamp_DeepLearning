{
 "cells": [
  {
   "cell_type": "markdown",
   "metadata": {
    "colab_type": "text",
    "id": "view-in-github"
   },
   "source": [
    "<a href=\"https://colab.research.google.com/github/aaingyunii/Bootcamp_DeepLearning/blob/main/08_2_CNN_Image_Augmentation.ipynb\" target=\"_parent\"><img src=\"https://colab.research.google.com/assets/colab-badge.svg\" alt=\"Open In Colab\"/></a>"
   ]
  },
  {
   "cell_type": "code",
   "execution_count": null,
   "metadata": {
    "id": "PRU-ig5wKzYI",
    "outputId": "bc175cf5-f978-4303-8f49-7525684576d0"
   },
   "outputs": [
    {
     "name": "stdout",
     "output_type": "stream",
     "text": [
      "Sun Jul 23 23:26:16 2023       \n",
      "+---------------------------------------------------------------------------------------+\n",
      "| NVIDIA-SMI 536.67                 Driver Version: 536.67       CUDA Version: 12.2     |\n",
      "|-----------------------------------------+----------------------+----------------------+\n",
      "| GPU  Name                     TCC/WDDM  | Bus-Id        Disp.A | Volatile Uncorr. ECC |\n",
      "| Fan  Temp   Perf          Pwr:Usage/Cap |         Memory-Usage | GPU-Util  Compute M. |\n",
      "|                                         |                      |               MIG M. |\n",
      "|=========================================+======================+======================|\n",
      "|   0  NVIDIA GeForce GTX 1650      WDDM  | 00000000:01:00.0 Off |                  N/A |\n",
      "| N/A   57C    P8               4W /  50W |      0MiB /  4096MiB |      0%      Default |\n",
      "|                                         |                      |                  N/A |\n",
      "+-----------------------------------------+----------------------+----------------------+\n",
      "                                                                                         \n",
      "+---------------------------------------------------------------------------------------+\n",
      "| Processes:                                                                            |\n",
      "|  GPU   GI   CI        PID   Type   Process name                            GPU Memory |\n",
      "|        ID   ID                                                             Usage      |\n",
      "|=======================================================================================|\n",
      "|  No running processes found                                                           |\n",
      "+---------------------------------------------------------------------------------------+\n"
     ]
    }
   ],
   "source": [
    "!nvidia-smi"
   ]
  },
  {
   "cell_type": "code",
   "execution_count": null,
   "metadata": {
    "id": "nTIapwJfKzYM",
    "outputId": "78847395-e726-41ff-fe76-9b91c398b51f",
    "scrolled": false
   },
   "outputs": [
    {
     "name": "stdout",
     "output_type": "stream",
     "text": [
      "[name: \"/device:CPU:0\"\n",
      "device_type: \"CPU\"\n",
      "memory_limit: 268435456\n",
      "locality {\n",
      "}\n",
      "incarnation: 16587800033330528078\n",
      "xla_global_id: -1\n",
      ", name: \"/device:GPU:0\"\n",
      "device_type: \"GPU\"\n",
      "memory_limit: 2238919476\n",
      "locality {\n",
      "  bus_id: 1\n",
      "  links {\n",
      "  }\n",
      "}\n",
      "incarnation: 16712949378112628891\n",
      "physical_device_desc: \"device: 0, name: NVIDIA GeForce GTX 1650, pci bus id: 0000:01:00.0, compute capability: 7.5\"\n",
      "xla_global_id: 416903419\n",
      "]\n"
     ]
    }
   ],
   "source": [
    "import tensorflow as tf\n",
    "from tensorflow.python.client import device_lib\n",
    "print(device_lib.list_local_devices())"
   ]
  },
  {
   "cell_type": "code",
   "execution_count": null,
   "metadata": {
    "id": "7yYv1MtvKzYN",
    "outputId": "4ac52fe9-c3b2-4035-fc53-d3f16ddf97db"
   },
   "outputs": [
    {
     "data": {
      "text/plain": [
       "'2.10.0'"
      ]
     },
     "execution_count": 5,
     "metadata": {},
     "output_type": "execute_result"
    }
   ],
   "source": [
    "import tensorflow as tf\n",
    "tf.__version__"
   ]
  },
  {
   "cell_type": "markdown",
   "metadata": {
    "id": "N7dzZc_rYrhN"
   },
   "source": [
    "# CNN   small datasets 학습\n"
   ]
  },
  {
   "cell_type": "markdown",
   "metadata": {
    "id": "IZSgQnWLYrhV"
   },
   "source": [
    "- 딥러닝 모델은 대용량 데이터를 학습할 때 좋은 성능이 나온다. 그래서 학습할 Data가 적을 경우 좋은 성능을 내기가 어렵다.\n",
    "  - 딥러닝은 **다양한 패턴의 많은 개수**의 데이터를 통해 feature engineering 과정 없이 원하는 문제를 해결하는 모델이다.\n",
    "- Data가 많지 않아 학습에 어려움이 있을 때 사용 가능한 방법.\n",
    "    1. **Data augmentation 활용**\n",
    "        - <span style=\"background-color:#fff5b1\">기존 데이터를 변경하여 데이터 개수를 늘린다.</span>\n",
    "        - 이미지의 경우 원본 이미지의 색깔, 각도 등을 약간씩 변형한 이미지들을 추가로 만들어 <span style=\"background-color:#fff5b1\">data의 수를 늘린다.</span>\n",
    "        - 이미지는 이런 식의 변경을 통한 data 수 늘리는 것이 다른 유형의 데이터 보다 쉬운편이다.\n",
    "        - Overfitting을 방지하거나 늦출 수 있는 효과를 가져올 수 있다.<br><br>\n",
    "    2. **Pre-trained network의 활용**\n",
    "        - 매우 큰 데이터셋으로 미리 Training한 모델의 파라미터(가중치)를 가져와서 풀려는 문제에 맞게 모델을 재보정해서 사용한다.\n",
    "        - 성능이 좋은 학습된 모델을 사용하므로 적은 데이터에도 좋은 성능을 낼 수있다."
   ]
  },
  {
   "cell_type": "markdown",
   "metadata": {
    "id": "b8vvonb2YrhW"
   },
   "source": [
    "## Data for cats vs. dogs\n",
    "- 2013년 Kaggle의 computer vision competition data 활용 https://www.kaggle.com/c/dogs-vs-cats/data\n",
    "- 개와 고양이를 구분하기 위한 문제로 각 12,500개의 이미지를 포함\n",
    "- Medium-resolution color JPEGs\n",
    "- 25000장의 사진 중 4000장의 cats/dogs 사진(2000 cats, 2000 dogs) 만을 사용하여 학습하여 좋은 모형을 만들어 낼 수 있을까?\n",
    "    - 학습: 2000, 검증: 1000, 테스트: 1000\n",
    "    \n",
    "![cats_vs_dogs_samples](https://s3.amazonaws.com/book.keras.io/img/ch5/cats_vs_dogs_samples.jpg)"
   ]
  },
  {
   "cell_type": "markdown",
   "metadata": {
    "id": "N1mCRLxbKzYQ"
   },
   "source": [
    "## Kaggle 데이터 분석 코드 참고\n",
    "- https://www.kaggle.com/code/uysimty/keras-cnn-dog-or-cat-classification"
   ]
  },
  {
   "cell_type": "markdown",
   "metadata": {
    "id": "Lz3IRzELYrhX"
   },
   "source": [
    "##### 이미지 다운로드\n",
    "- gdown 패키지 : 구글 드라이브의 공유파일 다운로드 패키지    \n",
    "- `pip install gdown`\n",
    "- 코랩에는 설치 되어 있음."
   ]
  },
  {
   "cell_type": "code",
   "execution_count": 1,
   "metadata": {
    "ExecuteTime": {
     "end_time": "2023-07-18T04:23:26.323854Z",
     "start_time": "2023-07-18T04:23:22.669679Z"
    },
    "colab": {
     "base_uri": "https://localhost:8080/"
    },
    "id": "zditZdln7tZN",
    "outputId": "9ee577bd-d653-4298-ffa0-fe4fb5984ccb",
    "scrolled": true
   },
   "outputs": [
    {
     "name": "stdout",
     "output_type": "stream",
     "text": [
      "Requirement already satisfied: gdown in /usr/local/lib/python3.10/dist-packages (4.6.6)\n",
      "Collecting gdown\n",
      "  Downloading gdown-4.7.1-py3-none-any.whl (15 kB)\n",
      "Requirement already satisfied: filelock in /usr/local/lib/python3.10/dist-packages (from gdown) (3.12.2)\n",
      "Requirement already satisfied: requests[socks] in /usr/local/lib/python3.10/dist-packages (from gdown) (2.27.1)\n",
      "Requirement already satisfied: six in /usr/local/lib/python3.10/dist-packages (from gdown) (1.16.0)\n",
      "Requirement already satisfied: tqdm in /usr/local/lib/python3.10/dist-packages (from gdown) (4.65.0)\n",
      "Requirement already satisfied: beautifulsoup4 in /usr/local/lib/python3.10/dist-packages (from gdown) (4.11.2)\n",
      "Requirement already satisfied: soupsieve>1.2 in /usr/local/lib/python3.10/dist-packages (from beautifulsoup4->gdown) (2.4.1)\n",
      "Requirement already satisfied: urllib3<1.27,>=1.21.1 in /usr/local/lib/python3.10/dist-packages (from requests[socks]->gdown) (1.26.16)\n",
      "Requirement already satisfied: certifi>=2017.4.17 in /usr/local/lib/python3.10/dist-packages (from requests[socks]->gdown) (2023.5.7)\n",
      "Requirement already satisfied: charset-normalizer~=2.0.0 in /usr/local/lib/python3.10/dist-packages (from requests[socks]->gdown) (2.0.12)\n",
      "Requirement already satisfied: idna<4,>=2.5 in /usr/local/lib/python3.10/dist-packages (from requests[socks]->gdown) (3.4)\n",
      "Requirement already satisfied: PySocks!=1.5.7,>=1.5.6 in /usr/local/lib/python3.10/dist-packages (from requests[socks]->gdown) (1.7.1)\n",
      "Installing collected packages: gdown\n",
      "  Attempting uninstall: gdown\n",
      "    Found existing installation: gdown 4.6.6\n",
      "    Uninstalling gdown-4.6.6:\n",
      "      Successfully uninstalled gdown-4.6.6\n",
      "Successfully installed gdown-4.7.1\n"
     ]
    }
   ],
   "source": [
    "!pip install gdown --upgrade"
   ]
  },
  {
   "cell_type": "code",
   "execution_count": 1,
   "metadata": {
    "colab": {
     "base_uri": "https://localhost:8080/"
    },
    "id": "HyXN1DXXLGa1",
    "outputId": "3f52149d-f479-4c14-e9f8-c84df625c141"
   },
   "outputs": [
    {
     "name": "stdout",
     "output_type": "stream",
     "text": [
      "Mounted at /content/drive\n"
     ]
    }
   ],
   "source": [
    "from google.colab import drive\n",
    "drive.mount('/content/drive')"
   ]
  },
  {
   "cell_type": "code",
   "execution_count": 2,
   "metadata": {
    "ExecuteTime": {
     "end_time": "2023-07-18T04:23:31.251417Z",
     "start_time": "2023-07-18T04:23:30.964190Z"
    },
    "id": "dvrTkPMS8R5K"
   },
   "outputs": [],
   "source": [
    "import gdown\n",
    "from zipfile import ZipFile # zip 압축 풀기/하기\n",
    "import os\n",
    "\n",
    "def down_extract():\n",
    "    url = 'https://drive.google.com/uc?id=1YIxDL0XJhhAMdScdRUfDgccAqyCw5-ZV'\n",
    "    fname = 'cats_and_dogs_small.zip'   # 다운받아서 저장할 파일 이름.\n",
    "    # 다운로드\n",
    "    gdown.download(url, fname, quiet=False)\n",
    "    # 압축풀기\n",
    "    with ZipFile(fname) as zipFile: # 압축파일의 경로를 넣어서  ZipFile 객체 생성\n",
    "        zipFile.extractall('data/cats_and_dogs_small')  # 압축 풀 디렉토리 넣어서 실행."
   ]
  },
  {
   "cell_type": "code",
   "execution_count": null,
   "metadata": {
    "id": "AIvFfX5GKzYS"
   },
   "outputs": [],
   "source": [
    "# zipFile = ZipFile(fname)\n",
    "# zipFile.extractall(\"...디렉토리\")\n",
    "# zipFile.close()"
   ]
  },
  {
   "cell_type": "code",
   "execution_count": 3,
   "metadata": {
    "ExecuteTime": {
     "end_time": "2023-07-18T04:23:43.465015Z",
     "start_time": "2023-07-18T04:23:32.155134Z"
    },
    "colab": {
     "base_uri": "https://localhost:8080/"
    },
    "id": "NfaqyC9Q-ESz",
    "outputId": "90ca0336-f445-46dd-939c-56f29a940f5c"
   },
   "outputs": [
    {
     "name": "stderr",
     "output_type": "stream",
     "text": [
      "Downloading...\n",
      "From: https://drive.google.com/uc?id=1YIxDL0XJhhAMdScdRUfDgccAqyCw5-ZV\n",
      "To: /content/cats_and_dogs_small.zip\n",
      "100%|██████████| 90.8M/90.8M [00:01<00:00, 49.8MB/s]\n"
     ]
    }
   ],
   "source": [
    "down_extract()"
   ]
  },
  {
   "cell_type": "markdown",
   "metadata": {
    "id": "LwpGLGo1f9F-"
   },
   "source": [
    "# 하이퍼파라미터 정의"
   ]
  },
  {
   "cell_type": "code",
   "execution_count": 26,
   "metadata": {
    "ExecuteTime": {
     "end_time": "2023-07-18T04:24:04.906344Z",
     "start_time": "2023-07-18T04:24:04.891412Z"
    },
    "id": "BkqMob8E7tZQ"
   },
   "outputs": [],
   "source": [
    "LEARNING_RATE = 0.001\n",
    "# N_EPOCH = 1 # GPU 사용X\n",
    "N_EPOCH = 100 # GPU 사용\n",
    "N_BATCH = 100"
   ]
  },
  {
   "cell_type": "markdown",
   "metadata": {
    "id": "2zBEjjWgYrha"
   },
   "source": [
    "## 모델 구현 및 학습\n",
    "\n",
    "- Input: $224 \\times 224$ 픽셀의 RGB layer\n",
    "- Output: cat or dog (binary classification)  \n",
    "- ImageDataGenerator를 이용해 파일시스템에 저장된 이미지 데이터셋을 학습시킨다."
   ]
  },
  {
   "cell_type": "code",
   "execution_count": 5,
   "metadata": {
    "ExecuteTime": {
     "end_time": "2023-07-18T04:24:12.192598Z",
     "start_time": "2023-07-18T04:24:07.309116Z"
    },
    "id": "2Q5QMdVt7tZS"
   },
   "outputs": [],
   "source": [
    "import tensorflow as tf\n",
    "from tensorflow import keras\n",
    "from tensorflow.keras import layers, models, optimizers\n",
    "from tensorflow.keras.preprocessing.image import ImageDataGenerator\n",
    "import os\n",
    "import numpy as np\n",
    "import random\n",
    "\n",
    "random.seed(0)\n",
    "np.random.seed(0)\n",
    "tf.random.set_seed(0)"
   ]
  },
  {
   "cell_type": "code",
   "execution_count": 6,
   "metadata": {
    "ExecuteTime": {
     "end_time": "2023-07-18T04:24:14.455810Z",
     "start_time": "2023-07-18T04:24:14.437248Z"
    },
    "id": "G25uHSQNUi2N"
   },
   "outputs": [],
   "source": [
    "# 모델 생성\n",
    "def get_model():\n",
    "    model = keras.Sequential()\n",
    "\n",
    "    model.add(layers.Conv2D(filters=64, kernel_size=3, padding='same', activation='relu',\n",
    "                            input_shape=(224, 224, 3)))\n",
    "    model.add(layers.MaxPooling2D(padding='same'))\n",
    "\n",
    "    model.add(layers.Conv2D(filters=64, kernel_size=3, padding='same', activation='relu'))\n",
    "    model.add(layers.MaxPooling2D(padding='same'))\n",
    "\n",
    "    model.add(layers.Conv2D(filters=128, kernel_size=3, padding='same', activation='relu'))\n",
    "    model.add(layers.MaxPooling2D(padding='same'))\n",
    "\n",
    "    model.add(layers.Conv2D(filters=128, kernel_size=3, padding='same', activation='relu'))\n",
    "    model.add(layers.MaxPooling2D(padding='same'))\n",
    "\n",
    "    model.add(layers.Conv2D(filters=256, kernel_size=3, padding='same', activation='relu'))\n",
    "    model.add(layers.MaxPooling2D(padding='same'))\n",
    "\n",
    "    model.add(layers.Conv2D(filters=256, kernel_size=3, padding='same', activation='relu'))\n",
    "    model.add(layers.MaxPooling2D(padding='same'))\n",
    "\n",
    "    model.add(layers.Flatten())\n",
    "#     model.add(layers.Dropout(rate=0.5))\n",
    "\n",
    "    # output layer\n",
    "    model.add(layers.Dense(units=1, activation='sigmoid', name='binary_classification_output'))\n",
    "\n",
    "    model.compile(optimizer=optimizers.Adam(learning_rate=LEARNING_RATE),\n",
    "                  loss='binary_crossentropy',\n",
    "                  metrics=['accuracy'])\n",
    "    return model\n"
   ]
  },
  {
   "cell_type": "markdown",
   "metadata": {
    "id": "uwGf8Ao9KzYT"
   },
   "source": [
    "- 해상도가 크면 예측에 대한 성능은 좋아진다. 그러나 용량, 연산 등의 문제점이 있긴하다.\n",
    "- resize 시 너무 작으면 안좋다는 말."
   ]
  },
  {
   "cell_type": "markdown",
   "metadata": {
    "id": "gRGa9ay4eAx6"
   },
   "source": [
    "# ImageDataGenerator 생성"
   ]
  },
  {
   "cell_type": "code",
   "execution_count": 7,
   "metadata": {
    "colab": {
     "base_uri": "https://localhost:8080/",
     "height": 35
    },
    "id": "0lpNogHiKzYU",
    "outputId": "9576372d-2462-4286-f9c8-5464066a3f47"
   },
   "outputs": [
    {
     "data": {
      "application/vnd.google.colaboratory.intrinsic+json": {
       "type": "string"
      },
      "text/plain": [
       "'/content'"
      ]
     },
     "execution_count": 7,
     "metadata": {},
     "output_type": "execute_result"
    }
   ],
   "source": [
    "os.getcwd()"
   ]
  },
  {
   "cell_type": "code",
   "execution_count": 8,
   "metadata": {
    "ExecuteTime": {
     "end_time": "2023-07-18T04:24:17.179271Z",
     "start_time": "2023-07-18T04:24:17.171843Z"
    },
    "id": "56TWLKJxW_uJ"
   },
   "outputs": [],
   "source": [
    "# 데이터셋 디렉토리 경로\n",
    "trainset_dir = 'data/cats_and_dogs_small/train'\n",
    "valset_dir = 'data/cats_and_dogs_small/validation/'\n",
    "testset_dir = 'data/cats_and_dogs_small/test/'"
   ]
  },
  {
   "cell_type": "markdown",
   "metadata": {
    "ExecuteTime": {
     "end_time": "2023-07-18T04:24:18.847011Z",
     "start_time": "2023-07-18T04:24:18.492625Z"
    },
    "id": "UWa-K0cG7tZT",
    "outputId": "779a1013-954f-4b96-c645-18ae2e3afaef"
   },
   "source": [
    "# Image augmentation 적용하지 않음."
   ]
  },
  {
   "cell_type": "code",
   "execution_count": 9,
   "metadata": {
    "ExecuteTime": {
     "end_time": "2023-07-18T04:24:18.847011Z",
     "start_time": "2023-07-18T04:24:18.492625Z"
    },
    "colab": {
     "base_uri": "https://localhost:8080/"
    },
    "id": "4iYuxvIlKzYU",
    "outputId": "c2b0df00-9f64-4440-cc39-cca4e53f9ff9",
    "scrolled": true
   },
   "outputs": [
    {
     "name": "stdout",
     "output_type": "stream",
     "text": [
      "Found 2000 images belonging to 2 classes.\n",
      "Found 1000 images belonging to 2 classes.\n",
      "Found 1000 images belonging to 2 classes.\n"
     ]
    }
   ],
   "source": [
    "train_datagen = ImageDataGenerator(rescale=1./255)\n",
    "test_datagen = ImageDataGenerator(rescale=1./255)\n",
    "val_datagen = ImageDataGenerator(rescale=1./255)\n",
    "\n",
    "# Iterator 생성->raw data파일과 연결.\n",
    "train_iter = train_datagen.flow_from_directory(trainset_dir, # 이미지 데이터셋이 저장된 디렉토리\n",
    "                                               target_size=(224,224), # resize (크기)\n",
    "                                               class_mode='binary', # output(y) 처리방식 - 이진분류 문제\n",
    "                                               batch_size=N_BATCH # 배치크기. 한번에 몇개씩 읽어와서\n",
    "                                                                   # 모델에 주입할 지\n",
    "                                               )\n",
    "\n",
    "val_iter = val_datagen.flow_from_directory(valset_dir, target_size=(224, 224),\n",
    "                                           class_mode='binary', batch_size=N_BATCH)\n",
    "\n",
    "test_iter = test_datagen.flow_from_directory(testset_dir, target_size=(224, 224),\n",
    "                                             class_mode='binary', batch_size=N_BATCH)"
   ]
  },
  {
   "cell_type": "code",
   "execution_count": 10,
   "metadata": {
    "ExecuteTime": {
     "end_time": "2023-07-18T04:24:27.199837Z",
     "start_time": "2023-07-18T04:24:27.180437Z"
    },
    "colab": {
     "base_uri": "https://localhost:8080/"
    },
    "id": "eYyEBXUiZyE_",
    "outputId": "c08e53a2-81da-432e-e3c2-4a31d4db84c4"
   },
   "outputs": [
    {
     "name": "stdout",
     "output_type": "stream",
     "text": [
      "==class index-class name확인\n",
      "{'cats': 0, 'dogs': 1}\n"
     ]
    }
   ],
   "source": [
    "print(\"==class index-class name확인\")\n",
    "print(train_iter.class_indices) # class_indices"
   ]
  },
  {
   "cell_type": "code",
   "execution_count": 18,
   "metadata": {
    "ExecuteTime": {
     "end_time": "2023-07-18T04:24:31.181094Z",
     "start_time": "2023-07-18T04:24:31.173735Z"
    },
    "colab": {
     "base_uri": "https://localhost:8080/"
    },
    "id": "mKatIZUNZ6hO",
    "outputId": "647bb1db-b3e5-4f7a-cd86-77dd3f4fd10f",
    "scrolled": true
   },
   "outputs": [
    {
     "name": "stdout",
     "output_type": "stream",
     "text": [
      "==에폭당 step 수\n",
      "20 10 10\n"
     ]
    }
   ],
   "source": [
    "print('==에폭당 step 수')\n",
    "print(len(train_iter), len(val_iter), len(test_iter))"
   ]
  },
  {
   "cell_type": "code",
   "execution_count": 22,
   "metadata": {
    "colab": {
     "base_uri": "https://localhost:8080/"
    },
    "id": "-hCqVRvFOg1Y",
    "outputId": "61f1c644-8358-40dd-eda4-df0d3c2df1d9"
   },
   "outputs": [
    {
     "data": {
      "text/plain": [
       "(tuple, 2)"
      ]
     },
     "execution_count": 22,
     "metadata": {},
     "output_type": "execute_result"
    }
   ],
   "source": [
    "v = next(train_iter)\n",
    "type(v), len(v) # (이미지 : X,y)"
   ]
  },
  {
   "cell_type": "code",
   "execution_count": 24,
   "metadata": {
    "colab": {
     "base_uri": "https://localhost:8080/"
    },
    "id": "GoxzhgFtOwV_",
    "outputId": "5f84c289-ecec-4f66-f32c-6e1cfe079346"
   },
   "outputs": [
    {
     "data": {
      "text/plain": [
       "(100, 224, 224, 3)"
      ]
     },
     "execution_count": 24,
     "metadata": {},
     "output_type": "execute_result"
    }
   ],
   "source": [
    "v[0].shape # (100, 224, 224, 3) => (batch size, h, w, channel)"
   ]
  },
  {
   "cell_type": "code",
   "execution_count": 25,
   "metadata": {
    "colab": {
     "base_uri": "https://localhost:8080/"
    },
    "id": "BPkobQFzO91P",
    "outputId": "6fa99407-6cb1-4be1-db0a-4d0b33ec51a0"
   },
   "outputs": [
    {
     "data": {
      "text/plain": [
       "(100,)"
      ]
     },
     "execution_count": 25,
     "metadata": {},
     "output_type": "execute_result"
    }
   ],
   "source": [
    "v[1].shape # y : (100,) -> class_mode = 'binary' 양성일 확률 - 1,0"
   ]
  },
  {
   "cell_type": "markdown",
   "metadata": {
    "id": "AIfzRaBOYrhj"
   },
   "source": [
    "\n",
    "##  Model Training(학습)"
   ]
  },
  {
   "cell_type": "markdown",
   "metadata": {
    "id": "T6hzECdwKzYV"
   },
   "source": [
    "#### Colab 사용 & 구글 드라이브 사용"
   ]
  },
  {
   "cell_type": "code",
   "execution_count": 28,
   "metadata": {
    "ExecuteTime": {
     "end_time": "2023-07-18T04:29:29.188091Z",
     "start_time": "2023-07-18T04:29:29.171383Z"
    },
    "id": "kiUlSLsZ7tZU"
   },
   "outputs": [],
   "source": [
    "g_drive_path = '/content/drive/MyDrive/'\n",
    "\n",
    "save_dir_path = os.path.join(g_drive_path,'saved_model', 'cat_dog_model_no_aug')\n",
    "os.makedirs(save_dir_path, exist_ok=True)\n",
    "\n",
    "save_weight_path = os.path.join(save_dir_path, 'ckpt') # 저장할 모델 weight의 파일경로\n",
    "\n",
    "mc_callback = keras.callbacks.ModelCheckpoint(filepath=save_weight_path,\n",
    "                                              save_weights_only=True, # 파라미터만 저장.\n",
    "                                              save_best_only=True,\n",
    "                                              monitor='val_loss',\n",
    "                                              verbose=1)\n",
    "\n",
    "es_callback = keras.callbacks.EarlyStopping(monitor='val_loss', patience=5, verbose=1)"
   ]
  },
  {
   "cell_type": "markdown",
   "metadata": {
    "id": "-x7EWpMBKzYW"
   },
   "source": [
    "### callback 부분 주석처리 후 1 에폭 테스트로 돌리기"
   ]
  },
  {
   "cell_type": "code",
   "execution_count": 29,
   "metadata": {
    "ExecuteTime": {
     "end_time": "2023-07-18T04:31:42.723611Z",
     "start_time": "2023-07-18T04:29:35.235120Z"
    },
    "colab": {
     "base_uri": "https://localhost:8080/"
    },
    "id": "G7s9iKn1cz5t",
    "outputId": "404f677e-8116-45d7-e718-9cc91dbf6e07"
   },
   "outputs": [
    {
     "name": "stdout",
     "output_type": "stream",
     "text": [
      "Epoch 1/100\n",
      "20/20 [==============================] - ETA: 0s - loss: 0.6943 - accuracy: 0.5300\n",
      "Epoch 1: val_loss improved from inf to 0.68767, saving model to /content/drive/MyDrive/saved_model/cat_dog_model_no_aug/ckpt\n",
      "20/20 [==============================] - 17s 722ms/step - loss: 0.6943 - accuracy: 0.5300 - val_loss: 0.6877 - val_accuracy: 0.5240\n",
      "Epoch 2/100\n",
      "20/20 [==============================] - ETA: 0s - loss: 0.6797 - accuracy: 0.5650\n",
      "Epoch 2: val_loss improved from 0.68767 to 0.67276, saving model to /content/drive/MyDrive/saved_model/cat_dog_model_no_aug/ckpt\n",
      "20/20 [==============================] - 15s 742ms/step - loss: 0.6797 - accuracy: 0.5650 - val_loss: 0.6728 - val_accuracy: 0.6010\n",
      "Epoch 3/100\n",
      "20/20 [==============================] - ETA: 0s - loss: 0.6339 - accuracy: 0.6530\n",
      "Epoch 3: val_loss improved from 0.67276 to 0.64955, saving model to /content/drive/MyDrive/saved_model/cat_dog_model_no_aug/ckpt\n",
      "20/20 [==============================] - 14s 705ms/step - loss: 0.6339 - accuracy: 0.6530 - val_loss: 0.6496 - val_accuracy: 0.6470\n",
      "Epoch 4/100\n",
      "20/20 [==============================] - ETA: 0s - loss: 0.5813 - accuracy: 0.7045\n",
      "Epoch 4: val_loss did not improve from 0.64955\n",
      "20/20 [==============================] - 16s 793ms/step - loss: 0.5813 - accuracy: 0.7045 - val_loss: 0.6577 - val_accuracy: 0.6550\n",
      "Epoch 5/100\n",
      "20/20 [==============================] - ETA: 0s - loss: 0.5597 - accuracy: 0.7175\n",
      "Epoch 5: val_loss improved from 0.64955 to 0.61682, saving model to /content/drive/MyDrive/saved_model/cat_dog_model_no_aug/ckpt\n",
      "20/20 [==============================] - 14s 693ms/step - loss: 0.5597 - accuracy: 0.7175 - val_loss: 0.6168 - val_accuracy: 0.6690\n",
      "Epoch 6/100\n",
      "20/20 [==============================] - ETA: 0s - loss: 0.5583 - accuracy: 0.7095\n",
      "Epoch 6: val_loss improved from 0.61682 to 0.59579, saving model to /content/drive/MyDrive/saved_model/cat_dog_model_no_aug/ckpt\n",
      "20/20 [==============================] - 17s 856ms/step - loss: 0.5583 - accuracy: 0.7095 - val_loss: 0.5958 - val_accuracy: 0.6900\n",
      "Epoch 7/100\n",
      "20/20 [==============================] - ETA: 0s - loss: 0.5206 - accuracy: 0.7490\n",
      "Epoch 7: val_loss improved from 0.59579 to 0.57461, saving model to /content/drive/MyDrive/saved_model/cat_dog_model_no_aug/ckpt\n",
      "20/20 [==============================] - 18s 902ms/step - loss: 0.5206 - accuracy: 0.7490 - val_loss: 0.5746 - val_accuracy: 0.7000\n",
      "Epoch 8/100\n",
      "20/20 [==============================] - ETA: 0s - loss: 0.5095 - accuracy: 0.7470\n",
      "Epoch 8: val_loss did not improve from 0.57461\n",
      "20/20 [==============================] - 15s 756ms/step - loss: 0.5095 - accuracy: 0.7470 - val_loss: 0.5815 - val_accuracy: 0.6990\n",
      "Epoch 9/100\n",
      "20/20 [==============================] - ETA: 0s - loss: 0.4716 - accuracy: 0.7795\n",
      "Epoch 9: val_loss did not improve from 0.57461\n",
      "20/20 [==============================] - 14s 702ms/step - loss: 0.4716 - accuracy: 0.7795 - val_loss: 0.5786 - val_accuracy: 0.6940\n",
      "Epoch 10/100\n",
      "20/20 [==============================] - ETA: 0s - loss: 0.4259 - accuracy: 0.8045\n",
      "Epoch 10: val_loss improved from 0.57461 to 0.53091, saving model to /content/drive/MyDrive/saved_model/cat_dog_model_no_aug/ckpt\n",
      "20/20 [==============================] - 15s 746ms/step - loss: 0.4259 - accuracy: 0.8045 - val_loss: 0.5309 - val_accuracy: 0.7410\n",
      "Epoch 11/100\n",
      "20/20 [==============================] - ETA: 0s - loss: 0.3947 - accuracy: 0.8180\n",
      "Epoch 11: val_loss did not improve from 0.53091\n",
      "20/20 [==============================] - 14s 702ms/step - loss: 0.3947 - accuracy: 0.8180 - val_loss: 0.6194 - val_accuracy: 0.7280\n",
      "Epoch 12/100\n",
      "20/20 [==============================] - ETA: 0s - loss: 0.3556 - accuracy: 0.8430\n",
      "Epoch 12: val_loss did not improve from 0.53091\n",
      "20/20 [==============================] - 15s 741ms/step - loss: 0.3556 - accuracy: 0.8430 - val_loss: 0.5669 - val_accuracy: 0.7590\n",
      "Epoch 13/100\n",
      "20/20 [==============================] - ETA: 0s - loss: 0.2911 - accuracy: 0.8685\n",
      "Epoch 13: val_loss did not improve from 0.53091\n",
      "20/20 [==============================] - 14s 699ms/step - loss: 0.2911 - accuracy: 0.8685 - val_loss: 0.5741 - val_accuracy: 0.7600\n",
      "Epoch 14/100\n",
      "20/20 [==============================] - ETA: 0s - loss: 0.2282 - accuracy: 0.8970\n",
      "Epoch 14: val_loss did not improve from 0.53091\n",
      "20/20 [==============================] - 14s 699ms/step - loss: 0.2282 - accuracy: 0.8970 - val_loss: 0.7055 - val_accuracy: 0.7340\n",
      "Epoch 15/100\n",
      "20/20 [==============================] - ETA: 0s - loss: 0.1907 - accuracy: 0.9260\n",
      "Epoch 15: val_loss did not improve from 0.53091\n",
      "20/20 [==============================] - 15s 780ms/step - loss: 0.1907 - accuracy: 0.9260 - val_loss: 0.7092 - val_accuracy: 0.7340\n",
      "Epoch 15: early stopping\n"
     ]
    }
   ],
   "source": [
    "model = get_model()\n",
    "hist = model.fit(train_iter,\n",
    "                 epochs=N_EPOCH,\n",
    "                 steps_per_epoch=len(train_iter),\n",
    "                 validation_data=val_iter,\n",
    "                 validation_steps=len(val_iter),\n",
    "                 callbacks=[mc_callback, es_callback]\n",
    "                 )"
   ]
  },
  {
   "cell_type": "code",
   "execution_count": 30,
   "metadata": {
    "ExecuteTime": {
     "end_time": "2023-07-18T04:32:01.200539Z",
     "start_time": "2023-07-18T04:32:00.410809Z"
    },
    "colab": {
     "base_uri": "https://localhost:8080/",
     "height": 522
    },
    "id": "S9XoQeNDczwi",
    "outputId": "83b97c34-b36f-4a3e-9c93-12361c7944c8"
   },
   "outputs": [
    {
     "data": {
      "image/png": "[encoded data removed]",
      "text/plain": [
       "<Figure size 1000x600 with 1 Axes>"
      ]
     },
     "metadata": {},
     "output_type": "display_data"
    }
   ],
   "source": [
    "import matplotlib.pyplot as plt\n",
    "\n",
    "plt.figure(figsize=(10, 6))\n",
    "plt.plot(hist.epoch, hist.history['loss'], label='train')\n",
    "plt.plot(hist.epoch, hist.history['val_loss'], label='validation')\n",
    "plt.legend()\n",
    "plt.show()"
   ]
  },
  {
   "cell_type": "markdown",
   "metadata": {
    "id": "W7zoPdxDYw_D"
   },
   "source": [
    "##### 저장된 모델 조회"
   ]
  },
  {
   "cell_type": "code",
   "execution_count": 31,
   "metadata": {
    "ExecuteTime": {
     "end_time": "2023-07-18T04:32:28.371451Z",
     "start_time": "2023-07-18T04:32:11.633224Z"
    },
    "colab": {
     "base_uri": "https://localhost:8080/"
    },
    "id": "mIdENT0L7tZV",
    "outputId": "14810af7-b735-414c-94b2-61ec62f4d78d"
   },
   "outputs": [
    {
     "name": "stdout",
     "output_type": "stream",
     "text": [
      "10/10 [==============================] - 5s 511ms/step - loss: 0.6930 - accuracy: 0.4990\n"
     ]
    },
    {
     "data": {
      "text/plain": [
       "[0.6929693222045898, 0.49900001287460327]"
      ]
     },
     "execution_count": 31,
     "metadata": {},
     "output_type": "execute_result"
    }
   ],
   "source": [
    "# weight(파라미터)만 저장.\n",
    "# 모델 생성\n",
    "saved_model1 = get_model()\n",
    "saved_model1.evaluate(test_iter)"
   ]
  },
  {
   "cell_type": "code",
   "execution_count": 32,
   "metadata": {
    "ExecuteTime": {
     "end_time": "2023-07-18T04:32:43.605323Z",
     "start_time": "2023-07-18T04:32:31.314179Z"
    },
    "colab": {
     "base_uri": "https://localhost:8080/"
    },
    "id": "_NU4Zd3ejrRW",
    "outputId": "0daeba03-b105-466e-93a7-97a7d72e63b0"
   },
   "outputs": [
    {
     "name": "stdout",
     "output_type": "stream",
     "text": [
      "10/10 [==============================] - 4s 400ms/step - loss: 0.5287 - accuracy: 0.7400\n"
     ]
    },
    {
     "data": {
      "text/plain": [
       "[0.5286949276924133, 0.7400000095367432]"
      ]
     },
     "execution_count": 32,
     "metadata": {},
     "output_type": "execute_result"
    }
   ],
   "source": [
    "# 새로 생성된 모델에 저장 best wegith 덮어씌우기\n",
    "saved_model1.load_weights(save_weight_path)\n",
    "\n",
    "saved_model1.evaluate(test_iter)"
   ]
  },
  {
   "cell_type": "markdown",
   "metadata": {
    "id": "yPb0Ky5jZ9uU"
   },
   "source": [
    "# 새로운 데이터 추론"
   ]
  },
  {
   "cell_type": "code",
   "execution_count": 33,
   "metadata": {
    "ExecuteTime": {
     "end_time": "2023-07-18T04:33:32.451325Z",
     "start_time": "2023-07-18T04:33:32.442920Z"
    },
    "id": "iOnFXKugllVm"
   },
   "outputs": [],
   "source": [
    "from tensorflow.keras.preprocessing.image import load_img, img_to_array\n",
    "\n",
    "def load_preprocessing(image_path):\n",
    "    \"\"\"\n",
    "    경로의 이미지를 읽어서 전처리(scaling) 한 뒤 반환.\n",
    "    [Parameter]\n",
    "       image_path: str - 변환할 이미지 경로(Path)\n",
    "    [Return]\n",
    "       ndarray: 전처리한 이미지\n",
    "    \"\"\"\n",
    "    raw_img = load_img(image_path, target_size=(224,224))\n",
    "    img_array = img_to_array(raw_img)\n",
    "    img_array = img_array[np.newaxis, ...]\n",
    "    img_array = img_array.astype('float32')/255\n",
    "    return img_array"
   ]
  },
  {
   "cell_type": "code",
   "execution_count": 44,
   "metadata": {
    "ExecuteTime": {
     "end_time": "2023-07-18T04:33:33.479710Z",
     "start_time": "2023-07-18T04:33:33.138076Z"
    },
    "colab": {
     "base_uri": "https://localhost:8080/"
    },
    "id": "swskb-I87tZV",
    "outputId": "512a5634-d4ad-4869-acec-85961b0ddcb5"
   },
   "outputs": [
    {
     "name": "stdout",
     "output_type": "stream",
     "text": [
      "1/1 [==============================] - 0s 45ms/step\n",
      "[[0.9988663]]\n",
      "[['개']]\n"
     ]
    }
   ],
   "source": [
    "new_img_path = 'dog.jpg'\n",
    "# new_img_path = 'dog_3.jpg'\n",
    "# new_img_path = 'cat.jpg'\n",
    "# new_img_path = 'cat_3.jpg'\n",
    "new_X = load_preprocessing(new_img_path)\n",
    "\n",
    "pred = saved_model1.predict(new_X)\n",
    "print(pred)\n",
    "print(np.where(pred>=0.5, \"개\", \"고양이\"))"
   ]
  },
  {
   "cell_type": "markdown",
   "metadata": {
    "id": "9fAwTvdIYrhm"
   },
   "source": [
    "# Image data augmentation 사용\n",
    "\n",
    "- 학습 이미지의 수가 적어서 overfitting이 발생할 가능성을 줄이기 위해 기존 훈련 데이터로부터 그럴듯하게 이미지 변환을 통해서 이미지(데이터)를 늘리는 작업을 Image augmentation\n",
    "- train_set에만 적용, validation, test set에는 적용하지 않는다. (rescaling만 한다.)"
   ]
  },
  {
   "cell_type": "markdown",
   "metadata": {
    "id": "VLlmQOu7WqrP"
   },
   "source": [
    "##### 하이퍼파라미터 정의"
   ]
  },
  {
   "cell_type": "markdown",
   "metadata": {
    "id": "Twoi5hPj7tZW"
   },
   "source": [
    "##### ImageDataGenerator 생성"
   ]
  },
  {
   "cell_type": "code",
   "execution_count": 45,
   "metadata": {
    "ExecuteTime": {
     "end_time": "2023-07-18T04:33:47.643121Z",
     "start_time": "2023-07-18T04:33:47.623864Z"
    },
    "id": "G9Z1V9rq7tZW"
   },
   "outputs": [],
   "source": [
    "# 데이터셋 디렉토리 경로\n",
    "trainset_dir = 'data/cats_and_dogs_small/train'\n",
    "valset_dir = 'data/cats_and_dogs_small/validation/'\n",
    "testset_dir = 'data/cats_and_dogs_small/test/'"
   ]
  },
  {
   "cell_type": "code",
   "execution_count": 46,
   "metadata": {
    "ExecuteTime": {
     "end_time": "2023-07-18T04:33:48.404798Z",
     "start_time": "2023-07-18T04:33:48.394820Z"
    },
    "id": "PoJUgbl4t6wf"
   },
   "outputs": [],
   "source": [
    "# Image Augmentation 적용. ==> Train set 에만 적용.\n",
    "## Image Augmentation을 하는 이유가 Train 할 데이터가 모자라서 하는 것이니\n",
    "### validation, test set에는 할 필요가 없다.\n",
    "#### rescale 값만 똑같이 적용하면 된다.\n",
    "train_datagen2 = ImageDataGenerator(rescale=1./255,\n",
    "                                    rotation_range=40,\n",
    "                                    width_shift_range=0.2,\n",
    "                                    height_shift_range=0.2,\n",
    "                                    zoom_range=0.2,\n",
    "                                    horizontal_flip=True,\n",
    "                                    fill_mode='constant')\n",
    "\n",
    "val_datagen2 = ImageDataGenerator(rescale=1./255)\n",
    "test_datagen2 = ImageDataGenerator(rescale=1./255)"
   ]
  },
  {
   "cell_type": "code",
   "execution_count": 47,
   "metadata": {
    "ExecuteTime": {
     "end_time": "2023-07-18T04:33:50.342886Z",
     "start_time": "2023-07-18T04:33:50.002130Z"
    },
    "colab": {
     "base_uri": "https://localhost:8080/"
    },
    "id": "wZ9YWljTu_jQ",
    "outputId": "82d1a704-1d85-4d11-dd65-5dc23ccdfb17"
   },
   "outputs": [
    {
     "name": "stdout",
     "output_type": "stream",
     "text": [
      "Found 2000 images belonging to 2 classes.\n",
      "Found 1000 images belonging to 2 classes.\n",
      "Found 1000 images belonging to 2 classes.\n"
     ]
    }
   ],
   "source": [
    "train_iter2 = train_datagen2.flow_from_directory(trainset_dir, target_size=(224,224), class_mode='binary',\n",
    "                                                 batch_size=N_BATCH)\n",
    "\n",
    "val_iter2 = val_datagen2.flow_from_directory(valset_dir, target_size=(224,224), class_mode='binary', batch_size=N_BATCH)\n",
    "\n",
    "test_iter2 = test_datagen2.flow_from_directory(testset_dir, target_size=(224,224), class_mode='binary', batch_size=N_BATCH)"
   ]
  },
  {
   "cell_type": "markdown",
   "metadata": {
    "id": "NI8tn-1cWqrR"
   },
   "source": [
    "##### 모델 생성, 컴파일, 학습"
   ]
  },
  {
   "cell_type": "code",
   "execution_count": 49,
   "metadata": {
    "ExecuteTime": {
     "end_time": "2023-07-18T04:36:19.990510Z",
     "start_time": "2023-07-18T04:33:56.547385Z"
    },
    "colab": {
     "base_uri": "https://localhost:8080/"
    },
    "id": "TOdsKmnu7tZX",
    "outputId": "c6bcf659-fee6-4a63-b536-dfdd56afe3c1",
    "scrolled": true
   },
   "outputs": [
    {
     "name": "stdout",
     "output_type": "stream",
     "text": [
      "Epoch 1/100\n",
      "20/20 [==============================] - ETA: 0s - loss: 0.6944 - accuracy: 0.5080\n",
      "Epoch 1: val_loss improved from inf to 0.69291, saving model to /content/drive/MyDrive/saved_model/cat_dog_model_aug\n"
     ]
    },
    {
     "name": "stderr",
     "output_type": "stream",
     "text": [
      "WARNING:absl:Found untraced functions such as _jit_compiled_convolution_op, _jit_compiled_convolution_op, _jit_compiled_convolution_op, _jit_compiled_convolution_op, _jit_compiled_convolution_op while saving (showing 5 of 6). These functions will not be directly callable after loading.\n"
     ]
    },
    {
     "name": "stdout",
     "output_type": "stream",
     "text": [
      "\b\b\b\b\b\b\b\b\b\b\b\b\b\b\b\b\b\b\b\b\b\b\b\b\b\b\b\b\b\b\b\b\b\b\b\b\b\b\b\b\b\b\b\b\b\b\b\b\b\b\b\b\b\b\b\b\b\b\b\b\b\b\b\b\b\b\b\b\b\b\b\b\b\b\b\b\b\b\b\b\b\b\r",
      "20/20 [==============================] - 37s 2s/step - loss: 0.6944 - accuracy: 0.5080 - val_loss: 0.6929 - val_accuracy: 0.5000\n",
      "Epoch 2/100\n",
      "20/20 [==============================] - ETA: 0s - loss: 0.6937 - accuracy: 0.5065\n",
      "Epoch 2: val_loss improved from 0.69291 to 0.69150, saving model to /content/drive/MyDrive/saved_model/cat_dog_model_aug\n"
     ]
    },
    {
     "name": "stderr",
     "output_type": "stream",
     "text": [
      "WARNING:absl:Found untraced functions such as _jit_compiled_convolution_op, _jit_compiled_convolution_op, _jit_compiled_convolution_op, _jit_compiled_convolution_op, _jit_compiled_convolution_op while saving (showing 5 of 6). These functions will not be directly callable after loading.\n"
     ]
    },
    {
     "name": "stdout",
     "output_type": "stream",
     "text": [
      "\b\b\b\b\b\b\b\b\b\b\b\b\b\b\b\b\b\b\b\b\b\b\b\b\b\b\b\b\b\b\b\b\b\b\b\b\b\b\b\b\b\b\b\b\b\b\b\b\b\b\b\b\b\b\b\b\b\b\b\b\b\b\b\b\b\b\b\b\b\b\b\b\b\b\b\b\b\b\b\b\b\b\r",
      "20/20 [==============================] - 34s 2s/step - loss: 0.6937 - accuracy: 0.5065 - val_loss: 0.6915 - val_accuracy: 0.5650\n",
      "Epoch 3/100\n",
      "20/20 [==============================] - ETA: 0s - loss: 0.6925 - accuracy: 0.5040\n",
      "Epoch 3: val_loss improved from 0.69150 to 0.69049, saving model to /content/drive/MyDrive/saved_model/cat_dog_model_aug\n"
     ]
    },
    {
     "name": "stderr",
     "output_type": "stream",
     "text": [
      "WARNING:absl:Found untraced functions such as _jit_compiled_convolution_op, _jit_compiled_convolution_op, _jit_compiled_convolution_op, _jit_compiled_convolution_op, _jit_compiled_convolution_op while saving (showing 5 of 6). These functions will not be directly callable after loading.\n"
     ]
    },
    {
     "name": "stdout",
     "output_type": "stream",
     "text": [
      "\b\b\b\b\b\b\b\b\b\b\b\b\b\b\b\b\b\b\b\b\b\b\b\b\b\b\b\b\b\b\b\b\b\b\b\b\b\b\b\b\b\b\b\b\b\b\b\b\b\b\b\b\b\b\b\b\b\b\b\b\b\b\b\b\b\b\b\b\b\b\b\b\b\b\b\b\b\b\b\b\b\b\r",
      "20/20 [==============================] - 33s 2s/step - loss: 0.6925 - accuracy: 0.5040 - val_loss: 0.6905 - val_accuracy: 0.5310\n",
      "Epoch 4/100\n",
      "20/20 [==============================] - ETA: 0s - loss: 0.6905 - accuracy: 0.5570\n",
      "Epoch 4: val_loss improved from 0.69049 to 0.68385, saving model to /content/drive/MyDrive/saved_model/cat_dog_model_aug\n"
     ]
    },
    {
     "name": "stderr",
     "output_type": "stream",
     "text": [
      "WARNING:absl:Found untraced functions such as _jit_compiled_convolution_op, _jit_compiled_convolution_op, _jit_compiled_convolution_op, _jit_compiled_convolution_op, _jit_compiled_convolution_op while saving (showing 5 of 6). These functions will not be directly callable after loading.\n"
     ]
    },
    {
     "name": "stdout",
     "output_type": "stream",
     "text": [
      "\b\b\b\b\b\b\b\b\b\b\b\b\b\b\b\b\b\b\b\b\b\b\b\b\b\b\b\b\b\b\b\b\b\b\b\b\b\b\b\b\b\b\b\b\b\b\b\b\b\b\b\b\b\b\b\b\b\b\b\b\b\b\b\b\b\b\b\b\b\b\b\b\b\b\b\b\b\b\b\b\b\b\r",
      "20/20 [==============================] - 34s 2s/step - loss: 0.6905 - accuracy: 0.5570 - val_loss: 0.6838 - val_accuracy: 0.5930\n",
      "Epoch 5/100\n",
      "20/20 [==============================] - ETA: 0s - loss: 0.6829 - accuracy: 0.5700\n",
      "Epoch 5: val_loss did not improve from 0.68385\n",
      "20/20 [==============================] - 32s 2s/step - loss: 0.6829 - accuracy: 0.5700 - val_loss: 0.6843 - val_accuracy: 0.5360\n",
      "Epoch 6/100\n",
      "20/20 [==============================] - ETA: 0s - loss: 0.6875 - accuracy: 0.5455\n",
      "Epoch 6: val_loss did not improve from 0.68385\n",
      "20/20 [==============================] - 33s 2s/step - loss: 0.6875 - accuracy: 0.5455 - val_loss: 0.6842 - val_accuracy: 0.5360\n",
      "Epoch 7/100\n",
      "20/20 [==============================] - ETA: 0s - loss: 0.6775 - accuracy: 0.5640\n",
      "Epoch 7: val_loss improved from 0.68385 to 0.65196, saving model to /content/drive/MyDrive/saved_model/cat_dog_model_aug\n"
     ]
    },
    {
     "name": "stderr",
     "output_type": "stream",
     "text": [
      "WARNING:absl:Found untraced functions such as _jit_compiled_convolution_op, _jit_compiled_convolution_op, _jit_compiled_convolution_op, _jit_compiled_convolution_op, _jit_compiled_convolution_op while saving (showing 5 of 6). These functions will not be directly callable after loading.\n"
     ]
    },
    {
     "name": "stdout",
     "output_type": "stream",
     "text": [
      "\b\b\b\b\b\b\b\b\b\b\b\b\b\b\b\b\b\b\b\b\b\b\b\b\b\b\b\b\b\b\b\b\b\b\b\b\b\b\b\b\b\b\b\b\b\b\b\b\b\b\b\b\b\b\b\b\b\b\b\b\b\b\b\b\b\b\b\b\b\b\b\b\b\b\b\b\b\b\b\b\b\b\r",
      "20/20 [==============================] - 34s 2s/step - loss: 0.6775 - accuracy: 0.5640 - val_loss: 0.6520 - val_accuracy: 0.6300\n",
      "Epoch 8/100\n",
      "20/20 [==============================] - ETA: 0s - loss: 0.6650 - accuracy: 0.6055\n",
      "Epoch 8: val_loss improved from 0.65196 to 0.63179, saving model to /content/drive/MyDrive/saved_model/cat_dog_model_aug\n"
     ]
    },
    {
     "name": "stderr",
     "output_type": "stream",
     "text": [
      "WARNING:absl:Found untraced functions such as _jit_compiled_convolution_op, _jit_compiled_convolution_op, _jit_compiled_convolution_op, _jit_compiled_convolution_op, _jit_compiled_convolution_op while saving (showing 5 of 6). These functions will not be directly callable after loading.\n"
     ]
    },
    {
     "name": "stdout",
     "output_type": "stream",
     "text": [
      "\b\b\b\b\b\b\b\b\b\b\b\b\b\b\b\b\b\b\b\b\b\b\b\b\b\b\b\b\b\b\b\b\b\b\b\b\b\b\b\b\b\b\b\b\b\b\b\b\b\b\b\b\b\b\b\b\b\b\b\b\b\b\b\b\b\b\b\b\b\b\b\b\b\b\b\b\b\b\b\b\b\b\r",
      "20/20 [==============================] - 33s 2s/step - loss: 0.6650 - accuracy: 0.6055 - val_loss: 0.6318 - val_accuracy: 0.6500\n",
      "Epoch 9/100\n",
      "20/20 [==============================] - ETA: 0s - loss: 0.6563 - accuracy: 0.6030\n",
      "Epoch 9: val_loss did not improve from 0.63179\n",
      "20/20 [==============================] - 32s 2s/step - loss: 0.6563 - accuracy: 0.6030 - val_loss: 0.6537 - val_accuracy: 0.6200\n",
      "Epoch 10/100\n",
      "20/20 [==============================] - ETA: 0s - loss: 0.6582 - accuracy: 0.6125\n",
      "Epoch 10: val_loss did not improve from 0.63179\n",
      "20/20 [==============================] - 33s 2s/step - loss: 0.6582 - accuracy: 0.6125 - val_loss: 0.6623 - val_accuracy: 0.6030\n",
      "Epoch 11/100\n",
      "20/20 [==============================] - ETA: 0s - loss: 0.6536 - accuracy: 0.6210\n",
      "Epoch 11: val_loss did not improve from 0.63179\n",
      "20/20 [==============================] - 32s 2s/step - loss: 0.6536 - accuracy: 0.6210 - val_loss: 0.6763 - val_accuracy: 0.5910\n",
      "Epoch 12/100\n",
      "20/20 [==============================] - ETA: 0s - loss: 0.6624 - accuracy: 0.5990\n",
      "Epoch 12: val_loss did not improve from 0.63179\n",
      "20/20 [==============================] - 32s 2s/step - loss: 0.6624 - accuracy: 0.5990 - val_loss: 0.6350 - val_accuracy: 0.6720\n",
      "Epoch 13/100\n",
      "20/20 [==============================] - ETA: 0s - loss: 0.6407 - accuracy: 0.6405\n",
      "Epoch 13: val_loss improved from 0.63179 to 0.60354, saving model to /content/drive/MyDrive/saved_model/cat_dog_model_aug\n"
     ]
    },
    {
     "name": "stderr",
     "output_type": "stream",
     "text": [
      "WARNING:absl:Found untraced functions such as _jit_compiled_convolution_op, _jit_compiled_convolution_op, _jit_compiled_convolution_op, _jit_compiled_convolution_op, _jit_compiled_convolution_op while saving (showing 5 of 6). These functions will not be directly callable after loading.\n"
     ]
    },
    {
     "name": "stdout",
     "output_type": "stream",
     "text": [
      "\b\b\b\b\b\b\b\b\b\b\b\b\b\b\b\b\b\b\b\b\b\b\b\b\b\b\b\b\b\b\b\b\b\b\b\b\b\b\b\b\b\b\b\b\b\b\b\b\b\b\b\b\b\b\b\b\b\b\b\b\b\b\b\b\b\b\b\b\b\b\b\b\b\b\b\b\b\b\b\b\b\b\r",
      "20/20 [==============================] - 33s 2s/step - loss: 0.6407 - accuracy: 0.6405 - val_loss: 0.6035 - val_accuracy: 0.6790\n",
      "Epoch 14/100\n",
      "20/20 [==============================] - ETA: 0s - loss: 0.6119 - accuracy: 0.6620\n",
      "Epoch 14: val_loss did not improve from 0.60354\n",
      "20/20 [==============================] - 32s 2s/step - loss: 0.6119 - accuracy: 0.6620 - val_loss: 0.6165 - val_accuracy: 0.6590\n",
      "Epoch 15/100\n",
      "20/20 [==============================] - ETA: 0s - loss: 0.5953 - accuracy: 0.6780\n",
      "Epoch 15: val_loss did not improve from 0.60354\n",
      "20/20 [==============================] - 33s 2s/step - loss: 0.5953 - accuracy: 0.6780 - val_loss: 0.6045 - val_accuracy: 0.6910\n",
      "Epoch 16/100\n",
      "20/20 [==============================] - ETA: 0s - loss: 0.5960 - accuracy: 0.6880\n",
      "Epoch 16: val_loss improved from 0.60354 to 0.58999, saving model to /content/drive/MyDrive/saved_model/cat_dog_model_aug\n"
     ]
    },
    {
     "name": "stderr",
     "output_type": "stream",
     "text": [
      "WARNING:absl:Found untraced functions such as _jit_compiled_convolution_op, _jit_compiled_convolution_op, _jit_compiled_convolution_op, _jit_compiled_convolution_op, _jit_compiled_convolution_op while saving (showing 5 of 6). These functions will not be directly callable after loading.\n"
     ]
    },
    {
     "name": "stdout",
     "output_type": "stream",
     "text": [
      "\b\b\b\b\b\b\b\b\b\b\b\b\b\b\b\b\b\b\b\b\b\b\b\b\b\b\b\b\b\b\b\b\b\b\b\b\b\b\b\b\b\b\b\b\b\b\b\b\b\b\b\b\b\b\b\b\b\b\b\b\b\b\b\b\b\b\b\b\b\b\b\b\b\b\b\b\b\b\b\b\b\b\r",
      "20/20 [==============================] - 35s 2s/step - loss: 0.5960 - accuracy: 0.6880 - val_loss: 0.5900 - val_accuracy: 0.6870\n",
      "Epoch 17/100\n",
      "20/20 [==============================] - ETA: 0s - loss: 0.5872 - accuracy: 0.7035\n",
      "Epoch 17: val_loss improved from 0.58999 to 0.57880, saving model to /content/drive/MyDrive/saved_model/cat_dog_model_aug\n"
     ]
    },
    {
     "name": "stderr",
     "output_type": "stream",
     "text": [
      "WARNING:absl:Found untraced functions such as _jit_compiled_convolution_op, _jit_compiled_convolution_op, _jit_compiled_convolution_op, _jit_compiled_convolution_op, _jit_compiled_convolution_op while saving (showing 5 of 6). These functions will not be directly callable after loading.\n"
     ]
    },
    {
     "name": "stdout",
     "output_type": "stream",
     "text": [
      "\b\b\b\b\b\b\b\b\b\b\b\b\b\b\b\b\b\b\b\b\b\b\b\b\b\b\b\b\b\b\b\b\b\b\b\b\b\b\b\b\b\b\b\b\b\b\b\b\b\b\b\b\b\b\b\b\b\b\b\b\b\b\b\b\b\b\b\b\b\b\b\b\b\b\b\b\b\b\b\b\b\b\r",
      "20/20 [==============================] - 35s 2s/step - loss: 0.5872 - accuracy: 0.7035 - val_loss: 0.5788 - val_accuracy: 0.7040\n",
      "Epoch 18/100\n",
      "20/20 [==============================] - ETA: 0s - loss: 0.5675 - accuracy: 0.7145\n",
      "Epoch 18: val_loss did not improve from 0.57880\n",
      "20/20 [==============================] - 33s 2s/step - loss: 0.5675 - accuracy: 0.7145 - val_loss: 0.5870 - val_accuracy: 0.6960\n",
      "Epoch 19/100\n",
      "20/20 [==============================] - ETA: 0s - loss: 0.5871 - accuracy: 0.6950\n",
      "Epoch 19: val_loss did not improve from 0.57880\n",
      "20/20 [==============================] - 33s 2s/step - loss: 0.5871 - accuracy: 0.6950 - val_loss: 0.5835 - val_accuracy: 0.6950\n",
      "Epoch 20/100\n",
      "20/20 [==============================] - ETA: 0s - loss: 0.5667 - accuracy: 0.7060\n",
      "Epoch 20: val_loss improved from 0.57880 to 0.55369, saving model to /content/drive/MyDrive/saved_model/cat_dog_model_aug\n"
     ]
    },
    {
     "name": "stderr",
     "output_type": "stream",
     "text": [
      "WARNING:absl:Found untraced functions such as _jit_compiled_convolution_op, _jit_compiled_convolution_op, _jit_compiled_convolution_op, _jit_compiled_convolution_op, _jit_compiled_convolution_op while saving (showing 5 of 6). These functions will not be directly callable after loading.\n"
     ]
    },
    {
     "name": "stdout",
     "output_type": "stream",
     "text": [
      "\b\b\b\b\b\b\b\b\b\b\b\b\b\b\b\b\b\b\b\b\b\b\b\b\b\b\b\b\b\b\b\b\b\b\b\b\b\b\b\b\b\b\b\b\b\b\b\b\b\b\b\b\b\b\b\b\b\b\b\b\b\b\b\b\b\b\b\b\b\b\b\b\b\b\b\b\b\b\b\b\b\b\r",
      "20/20 [==============================] - 35s 2s/step - loss: 0.5667 - accuracy: 0.7060 - val_loss: 0.5537 - val_accuracy: 0.7110\n",
      "Epoch 21/100\n",
      "20/20 [==============================] - ETA: 0s - loss: 0.5441 - accuracy: 0.7200\n",
      "Epoch 21: val_loss improved from 0.55369 to 0.53130, saving model to /content/drive/MyDrive/saved_model/cat_dog_model_aug\n"
     ]
    },
    {
     "name": "stderr",
     "output_type": "stream",
     "text": [
      "WARNING:absl:Found untraced functions such as _jit_compiled_convolution_op, _jit_compiled_convolution_op, _jit_compiled_convolution_op, _jit_compiled_convolution_op, _jit_compiled_convolution_op while saving (showing 5 of 6). These functions will not be directly callable after loading.\n"
     ]
    },
    {
     "name": "stdout",
     "output_type": "stream",
     "text": [
      "\b\b\b\b\b\b\b\b\b\b\b\b\b\b\b\b\b\b\b\b\b\b\b\b\b\b\b\b\b\b\b\b\b\b\b\b\b\b\b\b\b\b\b\b\b\b\b\b\b\b\b\b\b\b\b\b\b\b\b\b\b\b\b\b\b\b\b\b\b\b\b\b\b\b\b\b\b\b\b\b\b\b\r",
      "20/20 [==============================] - 34s 2s/step - loss: 0.5441 - accuracy: 0.7200 - val_loss: 0.5313 - val_accuracy: 0.7330\n",
      "Epoch 22/100\n",
      "20/20 [==============================] - ETA: 0s - loss: 0.5360 - accuracy: 0.7360\n",
      "Epoch 22: val_loss did not improve from 0.53130\n",
      "20/20 [==============================] - 33s 2s/step - loss: 0.5360 - accuracy: 0.7360 - val_loss: 0.5515 - val_accuracy: 0.7320\n",
      "Epoch 23/100\n",
      "20/20 [==============================] - ETA: 0s - loss: 0.5499 - accuracy: 0.7165\n",
      "Epoch 23: val_loss did not improve from 0.53130\n",
      "20/20 [==============================] - 32s 2s/step - loss: 0.5499 - accuracy: 0.7165 - val_loss: 0.5781 - val_accuracy: 0.6940\n",
      "Epoch 24/100\n",
      "20/20 [==============================] - ETA: 0s - loss: 0.5284 - accuracy: 0.7385\n",
      "Epoch 24: val_loss did not improve from 0.53130\n",
      "20/20 [==============================] - 32s 2s/step - loss: 0.5284 - accuracy: 0.7385 - val_loss: 0.5423 - val_accuracy: 0.7250\n",
      "Epoch 25/100\n",
      "20/20 [==============================] - ETA: 0s - loss: 0.5256 - accuracy: 0.7370\n",
      "Epoch 25: val_loss did not improve from 0.53130\n",
      "20/20 [==============================] - 33s 2s/step - loss: 0.5256 - accuracy: 0.7370 - val_loss: 0.6190 - val_accuracy: 0.6910\n",
      "Epoch 26/100\n",
      "20/20 [==============================] - ETA: 0s - loss: 0.5040 - accuracy: 0.7580\n",
      "Epoch 26: val_loss did not improve from 0.53130\n",
      "20/20 [==============================] - 32s 2s/step - loss: 0.5040 - accuracy: 0.7580 - val_loss: 0.5358 - val_accuracy: 0.7340\n",
      "Epoch 26: early stopping\n"
     ]
    }
   ],
   "source": [
    "# g_drive_path = '/content/drive/MyDrive'\n",
    "save_dir_path = os.path.join(g_drive_path, \"saved_model\", \"cat_dog_model_aug\")\n",
    "mc_callback2 = keras.callbacks.ModelCheckpoint(save_dir_path, save_best_only=True, monitor='val_loss', verbose=1)\n",
    "es_callback2 = keras.callbacks.EarlyStopping(monitor='val_loss', patience=5, verbose=1)\n",
    "\n",
    "\n",
    "model2 = get_model()\n",
    "\n",
    "hist2 = model2.fit(train_iter2,\n",
    "                   epochs=N_EPOCH,\n",
    "                   steps_per_epoch=len(train_iter2), # 학습 시 1에폭당 step수\n",
    "                                                  ## => 1에폭이 언제 끝나는지를 알려준다.\n",
    "                   validation_data=val_iter2,\n",
    "                   validation_steps=len(val_iter2),  # 검증 시 1에폭당 step수 반드시 지정!\n",
    "                   callbacks=[mc_callback2, es_callback2]\n",
    "                   )"
   ]
  },
  {
   "cell_type": "code",
   "execution_count": 50,
   "metadata": {
    "ExecuteTime": {
     "end_time": "2023-07-18T04:36:24.450526Z",
     "start_time": "2023-07-18T04:36:24.185107Z"
    },
    "colab": {
     "base_uri": "https://localhost:8080/",
     "height": 522
    },
    "id": "AzOroweXyaZ1",
    "outputId": "62a08b3d-8fba-4ada-8eed-c331fbf4fb85"
   },
   "outputs": [
    {
     "data": {
      "image/png": "[encoded data removed]",
      "text/plain": [
       "<Figure size 1000x600 with 1 Axes>"
      ]
     },
     "metadata": {},
     "output_type": "display_data"
    }
   ],
   "source": [
    "import matplotlib.pyplot as plt\n",
    "\n",
    "plt.figure(figsize=(10, 6))\n",
    "plt.plot(hist2.epoch, hist2.history['loss'], label='train')\n",
    "plt.plot(hist2.epoch, hist2.history['val_loss'], label='validation')\n",
    "plt.legend()\n",
    "plt.show()"
   ]
  },
  {
   "cell_type": "markdown",
   "metadata": {
    "id": "i_dlXsnp7tZX"
   },
   "source": [
    "##### 저장된 모델 Loading 후 평가(사용)"
   ]
  },
  {
   "cell_type": "code",
   "execution_count": 51,
   "metadata": {
    "ExecuteTime": {
     "end_time": "2023-07-18T04:36:47.885459Z",
     "start_time": "2023-07-18T04:36:47.146297Z"
    },
    "id": "dVJuQ_DIaXIW"
   },
   "outputs": [],
   "source": [
    "from tensorflow.keras import models\n",
    "from tensorflow.keras.preprocessing.image import load_img, img_to_array\n",
    "\n",
    "saved_model2 = models.load_model(save_dir_path)"
   ]
  },
  {
   "cell_type": "markdown",
   "metadata": {
    "id": "o4sSoGQXlJKX"
   },
   "source": [
    "##### 새로운데이터 추론"
   ]
  },
  {
   "cell_type": "code",
   "execution_count": 52,
   "metadata": {
    "ExecuteTime": {
     "end_time": "2023-07-18T04:36:51.551558Z",
     "start_time": "2023-07-18T04:36:51.545307Z"
    },
    "id": "rIzZvNi67tZX"
   },
   "outputs": [],
   "source": [
    "import numpy as np\n",
    "def load_preprocessing_image(path):\n",
    "    raw_img = load_img(path, target_size=(224, 224))  #이미지 읽어오기\n",
    "    img_array = img_to_array(raw_img)\n",
    "    img_array = img_array[np.newaxis, ...]\n",
    "    img_array = img_array.astype('float32')/255\n",
    "    return img_array"
   ]
  },
  {
   "cell_type": "code",
   "execution_count": 56,
   "metadata": {
    "ExecuteTime": {
     "end_time": "2023-07-18T04:36:56.339252Z",
     "start_time": "2023-07-18T04:36:56.099066Z"
    },
    "colab": {
     "base_uri": "https://localhost:8080/"
    },
    "id": "Q_RxaHUlbef8",
    "outputId": "e9ff931e-a8e8-45a6-bd50-219f59a5ef29"
   },
   "outputs": [
    {
     "name": "stdout",
     "output_type": "stream",
     "text": [
      "1/1 [==============================] - 0s 36ms/step\n",
      "[0.99968135] ['개']\n"
     ]
    }
   ],
   "source": [
    "img_path = 'dog.jpg'\n",
    "new_img_path = 'dog_3.jpg'\n",
    "new_img_path = 'cat.jpg'\n",
    "new_img_path = 'cat_3.jpg'\n",
    "data = load_preprocessing_image(img_path)\n",
    "# data.shape\n",
    "pred = saved_model2.predict(data)\n",
    "pred_label = np.where(pred[0]>=0.5, \"개\", \"고양이\")\n",
    "print(pred[0], pred_label)\n"
   ]
  },
  {
   "cell_type": "code",
   "execution_count": null,
   "metadata": {
    "id": "odl9nZ7VKzYe"
   },
   "outputs": [],
   "source": []
  }
 ],
 "metadata": {
  "accelerator": "GPU",
  "colab": {
   "gpuType": "T4",
   "include_colab_link": true,
   "provenance": []
  },
  "kernelspec": {
   "display_name": "Python 3 (ipykernel)",
   "language": "python",
   "name": "python3"
  },
  "language_info": {
   "codemirror_mode": {
    "name": "ipython",
    "version": 3
   },
   "file_extension": ".py",
   "mimetype": "text/x-python",
   "name": "python",
   "nbconvert_exporter": "python",
   "pygments_lexer": "ipython3",
   "version": "3.10.11"
  },
  "toc": {
   "base_numbering": 1,
   "nav_menu": {},
   "number_sections": false,
   "sideBar": true,
   "skip_h1_title": false,
   "title_cell": "Table of Contents",
   "title_sidebar": "Contents",
   "toc_cell": false,
   "toc_position": {},
   "toc_section_display": true,
   "toc_window_display": false
  },
  "varInspector": {
   "cols": {
    "lenName": 16,
    "lenType": 16,
    "lenVar": 40
   },
   "kernels_config": {
    "python": {
     "delete_cmd_postfix": "",
     "delete_cmd_prefix": "del ",
     "library": "var_list.py",
     "varRefreshCmd": "print(var_dic_list())"
    },
    "r": {
     "delete_cmd_postfix": ") ",
     "delete_cmd_prefix": "rm(",
     "library": "var_list.r",
     "varRefreshCmd": "cat(var_dic_list()) "
    }
   },
   "types_to_exclude": [
    "module",
    "function",
    "builtin_function_or_method",
    "instance",
    "_Feature"
   ],
   "window_display": false
  }
 },
 "nbformat": 4,
 "nbformat_minor": 1
}
