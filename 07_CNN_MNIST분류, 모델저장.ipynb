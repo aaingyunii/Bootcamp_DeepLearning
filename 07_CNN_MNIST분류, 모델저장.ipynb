{
 "cells": [
  {
   "cell_type": "markdown",
   "metadata": {
    "id": "n1-HdRR266M6"
   },
   "source": [
    "# Convolutional Neural Network 구현\n",
    "\n",
    "- mnist 손글씨 data를 이용하여 CNN을 학습하고 MLP와 결과와 비교 해본다."
   ]
  },
  {
   "cell_type": "markdown",
   "metadata": {
    "id": "C-ud-t_Z2oYA"
   },
   "source": [
    "##### 학습결과 시각화 함수 정의"
   ]
  },
  {
   "cell_type": "code",
   "execution_count": null,
   "metadata": {
    "executionInfo": {
     "elapsed": 5733,
     "status": "ok",
     "timestamp": 1677129189822,
     "user": {
      "displayName": "encore엔코아",
      "userId": "03488190351334320755"
     },
     "user_tz": -540
    },
    "id": "Nzw3Qr_g6CZZ"
   },
   "outputs": [],
   "source": [
    "import tensorflow as tf\n",
    "from tensorflow import keras \n",
    "from tensorflow.keras import layers, models\n",
    "\n",
    "import numpy as np \n",
    "import matplotlib.pyplot as plt \n",
    "\n",
    "import os\n",
    "import random\n",
    "\n",
    "random.seed(0)\n",
    "np.random.seed(0)\n",
    "tf.random.set_seed(0)\n",
    "\n",
    "print(tf.__version__)"
   ]
  },
  {
   "cell_type": "code",
   "execution_count": null,
   "metadata": {
    "executionInfo": {
     "elapsed": 351,
     "status": "ok",
     "timestamp": 1677129194437,
     "user": {
      "displayName": "encore엔코아",
      "userId": "03488190351334320755"
     },
     "user_tz": -540
    },
    "id": "Er-mHeMB7Ad2"
   },
   "outputs": [],
   "source": [
    "# 결과 시각화 함수\n",
    "def plot_result(hist, loss_min=None, loss_max=None):\n",
    "    plt.figure(figsize=(10, 5))\n",
    "    plt.subplot(1,2,1)\n",
    "    plt.plot(hist.epoch, hist.history['loss'], label='Train Loss')\n",
    "    plt.plot(hist.epoch, hist.history['val_loss'], label='Validation Loss')\n",
    "    plt.title(\"Loss\")\n",
    "    if loss_min!=None and loss_max!=None:\n",
    "        plt.ylim(loss_min, loss_max)\n",
    "    plt.legend()\n",
    "\n",
    "    plt.subplot(1,2,2)\n",
    "    plt.plot(hist.epoch, hist.history['accuracy'], label='Train Accuracy')\n",
    "    plt.plot(hist.epoch, hist.history['val_accuracy'], label='Validation Accuracy')\n",
    "    plt.title(\"Accuracy\")\n",
    "    plt.legend()\n",
    "\n",
    "    plt.tight_layout()\n",
    "    plt.show()"
   ]
  },
  {
   "cell_type": "markdown",
   "metadata": {
    "id": "RVqiCTcL2oYB"
   },
   "source": [
    "# mnist CNN 적용"
   ]
  },
  {
   "cell_type": "markdown",
   "metadata": {
    "id": "NHxtx1Aj2oYB"
   },
   "source": [
    "##### data loading"
   ]
  },
  {
   "cell_type": "code",
   "execution_count": null,
   "metadata": {
    "colab": {
     "base_uri": "https://localhost:8080/"
    },
    "executionInfo": {
     "elapsed": 2150,
     "status": "ok",
     "timestamp": 1677129203138,
     "user": {
      "displayName": "encore엔코아",
      "userId": "03488190351334320755"
     },
     "user_tz": -540
    },
    "id": "B-IEKUGp2oYC",
    "outputId": "ced2e9b0-1a9b-4372-f86a-9100d9e192eb"
   },
   "outputs": [],
   "source": [
    "(train_image, train_label), (test_image, test_label) = keras.datasets.mnist.load_data()\n",
    "train_image.shape, test_image.shape"
   ]
  },
  {
   "cell_type": "markdown",
   "metadata": {
    "id": "RPf3VwR12oYD"
   },
   "source": [
    "##### 전처리, Dataset 생성\n",
    "- X\n",
    "    - uint8을 float32 타입으로 변경.\n",
    "    - pixcel값 정규화: 0 ~ 1\n",
    "    - Gray scale에 channel 축이 없는 경우 dummy 축을 늘려준다.\n",
    "        - 영상처리 convolution layer(Conv2D)는 입력으로 3차원 (height, width, channel) 배열을 받는다.\n",
    "- Y: onehot encoding"
   ]
  },
  {
   "cell_type": "code",
   "execution_count": null,
   "metadata": {
    "colab": {
     "base_uri": "https://localhost:8080/"
    },
    "executionInfo": {
     "elapsed": 4,
     "status": "ok",
     "timestamp": 1677129206565,
     "user": {
      "displayName": "encore엔코아",
      "userId": "03488190351334320755"
     },
     "user_tz": -540
    },
    "id": "Jkac8vUv2oYE",
    "outputId": "3ad1194f-f0fb-4470-ffdf-9457ff7bf0e1"
   },
   "outputs": [],
   "source": [
    "# input 전처리\n",
    "X_train = train_image.astype('float32')/255\n",
    "X_train = X_train[..., np.newaxis]\n",
    "\n",
    "X_test = test_image.astype('float32')/255\n",
    "X_test = X_test[..., np.newaxis]\n",
    "\n",
    "print(X_train.dtype, X_test.dtype)\n",
    "print(X_train.shape, X_test.shape)"
   ]
  },
  {
   "cell_type": "code",
   "execution_count": null,
   "metadata": {
    "colab": {
     "base_uri": "https://localhost:8080/"
    },
    "executionInfo": {
     "elapsed": 364,
     "status": "ok",
     "timestamp": 1677129210757,
     "user": {
      "displayName": "encore엔코아",
      "userId": "03488190351334320755"
     },
     "user_tz": -540
    },
    "id": "N8mvckbr-GUi",
    "outputId": "63f8d41a-4afa-4429-a3f5-c729d829a1f8"
   },
   "outputs": [],
   "source": [
    "# output 전처리 -> OneHot Encoding\n",
    "y_train = keras.utils.to_categorical(train_label)\n",
    "y_test = keras.utils.to_categorical(test_label)\n",
    "\n",
    "print(train_label.shape, y_train.shape)\n",
    "print(test_label.shape, y_test.shape)"
   ]
  },
  {
   "cell_type": "markdown",
   "metadata": {
    "id": "K69KSUQ02oYC"
   },
   "source": [
    "##### 하이퍼파라미터, 변수 설정"
   ]
  },
  {
   "cell_type": "code",
   "execution_count": null,
   "metadata": {
    "executionInfo": {
     "elapsed": 346,
     "status": "ok",
     "timestamp": 1677129213481,
     "user": {
      "displayName": "encore엔코아",
      "userId": "03488190351334320755"
     },
     "user_tz": -540
    },
    "id": "kkFMeoiwD3-0"
   },
   "outputs": [],
   "source": [
    "LEARNING_RATE = 0.001\n",
    "N_EPOCH = 20\n",
    "N_BATCH = 1000\n",
    "\n",
    "N_TRAIN = X_train.shape[0]"
   ]
  },
  {
   "cell_type": "markdown",
   "metadata": {
    "ExecuteTime": {
     "end_time": "2021-04-22T04:45:59.913389Z",
     "start_time": "2021-04-22T04:45:59.848393Z"
    },
    "executionInfo": {
     "elapsed": 6617,
     "status": "ok",
     "timestamp": 1619080623697,
     "user": {
      "displayName": "김성환",
      "photoUrl": "https://lh3.googleusercontent.com/a-/AOh14GjqNkeEG8Sp5Fmsq56VZoiRsSxwUXmtH2Mb14M3YQA=s64",
      "userId": "02802166581970122576"
     },
     "user_tz": -540
    },
    "id": "gCrtqoUC66NJ"
   },
   "source": [
    "###### Dataset 생성"
   ]
  },
  {
   "cell_type": "code",
   "execution_count": null,
   "metadata": {
    "executionInfo": {
     "elapsed": 298,
     "status": "ok",
     "timestamp": 1677129613559,
     "user": {
      "displayName": "encore엔코아",
      "userId": "03488190351334320755"
     },
     "user_tz": -540
    },
    "id": "RBs14KZR2oYH"
   },
   "outputs": [],
   "source": [
    "train_dataset = tf.data.Dataset.from_tensor_slices((X_train, y_train))\\\n",
    "                               .shuffle(N_TRAIN)\\\n",
    "                               .batch(N_BATCH, drop_remainder=True)\n",
    "test_dataset = tf.data.Dataset.from_tensor_slices((X_test, y_test)).batch(N_BATCH)"
   ]
  },
  {
   "cell_type": "markdown",
   "metadata": {
    "id": "WlIp6IOQ2oYH"
   },
   "source": [
    "## Model(Network) 정의\n",
    "- Feature Extraction(backbone):Convolution Layer\n",
    "    - block: Convolution + MaxPooling Layer\n",
    "    - size(height, width) 는 줄이고 channel은 늘리는 방향으로 Layer들을 쌓는다.\n",
    "    - convolution\n",
    "        - size: 3 X 3\n",
    "        - strides: 1\n",
    "    - max pooling\n",
    "        - size: 2 X 2\n",
    "        - strides: 2\n",
    "        - 위와 같이 지정해 input의 size를 절반으로 줄인다. \n",
    "- 분류기\n",
    "    - Dense Layer 사용        \n",
    "    - Flatten을 먼저 해야 한다. (Conv의 output-feature map- 3차원 배열)\n"
   ]
  },
  {
   "cell_type": "code",
   "execution_count": null,
   "metadata": {
    "colab": {
     "base_uri": "https://localhost:8080/"
    },
    "executionInfo": {
     "elapsed": 4,
     "status": "ok",
     "timestamp": 1677129323816,
     "user": {
      "displayName": "encore엔코아",
      "userId": "03488190351334320755"
     },
     "user_tz": -540
    },
    "id": "qqjP2slE2oYI",
    "outputId": "35e73ef7-4b3d-4b6b-ac91-af9b18a40994"
   },
   "outputs": [],
   "source": [
    "def get_mnist_cnn_model(lr=0.01):\n",
    "    model = keras.Sequential()\n",
    "    # Input Layer\n",
    "    model.add(layers.InputLayer(input_shape=(28, 28, 1)))\n",
    "\n",
    "    # Feature Extractor -> Convolution Block (Conv + MaxPool) 으로 정의\n",
    "    model.add(layers.Conv2D(filters=16,\n",
    "                           kernel_size=(3,3),\n",
    "                           strides=(1,1),\n",
    "                           padding='same',\n",
    "                           activation='relu'\n",
    "                           ))\n",
    "    \n",
    "    model.add(layers.MaxPooling2D(pool_size=(2, 2),\n",
    "                                  strides=(2, 2),\n",
    "                                  padding=\"same\"\n",
    "                                  ))\n",
    "\n",
    "    model.add(layers.Conv2D(filters=32, kernel_size=3, padding='same', activation='relu'))\n",
    "    model.add(layers.MaxPooling2D(padding='same'))\n",
    "\n",
    "    model.add(layers.Conv2D(filters=64, kernel_size=3, padding='same', activation='relu'))\n",
    "    model.add(layers.MaxPooling2D(padding='same'))\n",
    "\n",
    "    model.add(layers.Flatten())\n",
    "    \n",
    "    model.add(layers.Dropout(0.3))\n",
    "    model.add(layers.Dense(units=256, activation='relu'))\n",
    "    \n",
    "    # 출력 Layer\n",
    "    model.add(layers.Dropout(0.3))\n",
    "    model.add(layers.Dense(units=10, activation='softmax', name='output_layer'))\n",
    "\n",
    "    # 컴파일 \n",
    "    model.compile(optimizer=keras.optimizers.Adam(lr), loss='categorical_crossentropy', metrics=['accuracy'])\n",
    "\n",
    "    return model"
   ]
  },
  {
   "cell_type": "markdown",
   "metadata": {
    "id": "aMuzFWvr2oYJ"
   },
   "source": [
    "##### 모델 생성 및 확인"
   ]
  },
  {
   "cell_type": "code",
   "execution_count": null,
   "metadata": {
    "colab": {
     "base_uri": "https://localhost:8080/"
    },
    "executionInfo": {
     "elapsed": 851,
     "status": "ok",
     "timestamp": 1677121395528,
     "user": {
      "displayName": "encore엔코아",
      "userId": "03488190351334320755"
     },
     "user_tz": -540
    },
    "id": "7EV6NOtw2oYJ",
    "outputId": "8ae97353-0444-45ce-dd1f-805334b8caf5"
   },
   "outputs": [],
   "source": [
    "model = get_mnist_cnn_model(LEARNING_RATE)\n",
    "model.summary()"
   ]
  },
  {
   "cell_type": "markdown",
   "metadata": {
    "id": "F9AIJx-E2oYK"
   },
   "source": [
    "##### 학습"
   ]
  },
  {
   "cell_type": "code",
   "execution_count": null,
   "metadata": {
    "colab": {
     "base_uri": "https://localhost:8080/"
    },
    "executionInfo": {
     "elapsed": 35923,
     "status": "ok",
     "timestamp": 1677121434909,
     "user": {
      "displayName": "encore엔코아",
      "userId": "03488190351334320755"
     },
     "user_tz": -540
    },
    "id": "BB7XgjxANwVL",
    "outputId": "35a62fb2-5ba1-44e7-88a5-c5add9ac51aa"
   },
   "outputs": [],
   "source": [
    "hist = model.fit(train_dataset, \n",
    "                 epochs=N_EPOCH, \n",
    "                 validation_data=test_dataset)"
   ]
  },
  {
   "cell_type": "markdown",
   "metadata": {
    "id": "u-4E5kw42oYK"
   },
   "source": [
    "##### 결과시각화"
   ]
  },
  {
   "cell_type": "code",
   "execution_count": null,
   "metadata": {
    "colab": {
     "base_uri": "https://localhost:8080/",
     "height": 369
    },
    "executionInfo": {
     "elapsed": 846,
     "status": "ok",
     "timestamp": 1677122576743,
     "user": {
      "displayName": "encore엔코아",
      "userId": "03488190351334320755"
     },
     "user_tz": -540
    },
    "id": "RjDiueR0Sw0-",
    "outputId": "b17a8cf3-c6a1-4da8-89d6-d0b74f31f53a"
   },
   "outputs": [],
   "source": [
    "plot_result(hist, 0, 0.05)"
   ]
  },
  {
   "cell_type": "markdown",
   "metadata": {
    "id": "McS8jw052oYK"
   },
   "source": [
    "##### 최종검증"
   ]
  },
  {
   "cell_type": "code",
   "execution_count": null,
   "metadata": {
    "colab": {
     "base_uri": "https://localhost:8080/"
    },
    "executionInfo": {
     "elapsed": 3,
     "status": "ok",
     "timestamp": 1677122641775,
     "user": {
      "displayName": "encore엔코아",
      "userId": "03488190351334320755"
     },
     "user_tz": -540
    },
    "id": "UI3todYn2oYK",
    "outputId": "be41b28d-adee-4e01-d14e-de2f803db719"
   },
   "outputs": [],
   "source": [
    "loss, acc = model.evaluate(test_dataset)\n",
    "print(f\"최종평가 결과: loss-{loss}, accuracy-{acc}\")"
   ]
  },
  {
   "cell_type": "markdown",
   "metadata": {
    "id": "2BZDV0UE2oYK"
   },
   "source": [
    "## prediction error가 발생한 data 확인\n",
    "- test dataset으로 예측한 결과중 틀린 것들을 확인해 본다."
   ]
  },
  {
   "cell_type": "code",
   "execution_count": null,
   "metadata": {
    "colab": {
     "base_uri": "https://localhost:8080/"
    },
    "executionInfo": {
     "elapsed": 1397,
     "status": "ok",
     "timestamp": 1677122729008,
     "user": {
      "displayName": "encore엔코아",
      "userId": "03488190351334320755"
     },
     "user_tz": -540
    },
    "id": "wAyRtAbI2oYL",
    "outputId": "1d910447-0737-4f28-cd79-e77684d8cb36"
   },
   "outputs": [],
   "source": [
    "pred = model.predict(X_test)\n",
    "pred.shape"
   ]
  },
  {
   "cell_type": "code",
   "execution_count": null,
   "metadata": {
    "colab": {
     "base_uri": "https://localhost:8080/"
    },
    "executionInfo": {
     "elapsed": 2,
     "status": "ok",
     "timestamp": 1677122776322,
     "user": {
      "displayName": "encore엔코아",
      "userId": "03488190351334320755"
     },
     "user_tz": -540
    },
    "id": "6vpozgruThkT",
    "outputId": "983af19c-d74e-4d36-bd0c-d6620db71bb7"
   },
   "outputs": [],
   "source": [
    "label = np.argmax(pred, axis=-1)\n",
    "print(label.shape)"
   ]
  },
  {
   "cell_type": "code",
   "execution_count": null,
   "metadata": {
    "colab": {
     "base_uri": "https://localhost:8080/"
    },
    "executionInfo": {
     "elapsed": 2,
     "status": "ok",
     "timestamp": 1677122977275,
     "user": {
      "displayName": "encore엔코아",
      "userId": "03488190351334320755"
     },
     "user_tz": -540
    },
    "id": "-Nt-5ucLTheu",
    "outputId": "a1a60fa0-5904-4812-aab6-8f33fd8eda43"
   },
   "outputs": [],
   "source": [
    "# 모델이 추론한 결과중 정답과 다른 것의 index를 조회\n",
    "fail_idx = np.where(test_label  != label)[0]\n",
    "fail_idx.size"
   ]
  },
  {
   "cell_type": "markdown",
   "metadata": {
    "id": "rBOAGoGW2oYL"
   },
   "source": [
    "##### confusion matrix 확인"
   ]
  },
  {
   "cell_type": "code",
   "execution_count": null,
   "metadata": {
    "colab": {
     "base_uri": "https://localhost:8080/",
     "height": 580
    },
    "executionInfo": {
     "elapsed": 711,
     "status": "ok",
     "timestamp": 1677123172637,
     "user": {
      "displayName": "encore엔코아",
      "userId": "03488190351334320755"
     },
     "user_tz": -540
    },
    "id": "Xqv-_Jkk2oYL",
    "outputId": "4b83f624-f7c2-426d-c715-b395d188bfcb"
   },
   "outputs": [],
   "source": [
    "from sklearn.metrics import confusion_matrix, ConfusionMatrixDisplay\n",
    "\n",
    "plt.figure(figsize=(10,10))\n",
    "ax = plt.gca()\n",
    "\n",
    "cm = confusion_matrix(test_label, label)\n",
    "dis = ConfusionMatrixDisplay(cm)\n",
    "dis.plot(cmap=\"Blues\", ax=ax)\n",
    "plt.show()"
   ]
  },
  {
   "cell_type": "code",
   "execution_count": null,
   "metadata": {
    "colab": {
     "base_uri": "https://localhost:8080/",
     "height": 1000
    },
    "executionInfo": {
     "elapsed": 4904,
     "status": "ok",
     "timestamp": 1677123673257,
     "user": {
      "displayName": "encore엔코아",
      "userId": "03488190351334320755"
     },
     "user_tz": -540
    },
    "id": "VYyhZxb9Vrzh",
    "outputId": "5efaa21c-5620-4af6-d54c-eebd4f2ffde3"
   },
   "outputs": [],
   "source": [
    "# 틀린 이미지들 중 일부 시각화\n",
    "plt.figure(figsize=(20, 20))\n",
    "rows = int(np.ceil(fail_idx.size/10))\n",
    "\n",
    "for i in range(int(fail_idx.size)):\n",
    "    error_idx = fail_idx[i]\n",
    "    pred_label = label[error_idx]\n",
    "    true_label = test_label[error_idx]\n",
    "    img = test_image[error_idx]\n",
    "\n",
    "    plt.subplot(10, rows, i+1)\n",
    "    plt.imshow(img, cmap=\"gray\")\n",
    "    plt.title(f\"True: {true_label}, Pred: {pred_label}\")\n",
    "    plt.axis('off')\n",
    "\n",
    "plt.tight_layout()\n",
    "plt.show()\n"
   ]
  },
  {
   "cell_type": "markdown",
   "metadata": {},
   "source": [
    "## 최종평가"
   ]
  },
  {
   "cell_type": "code",
   "execution_count": null,
   "metadata": {
    "colab": {
     "base_uri": "https://localhost:8080/"
    },
    "executionInfo": {
     "elapsed": 12003,
     "status": "ok",
     "timestamp": 1677129637658,
     "user": {
      "displayName": "encore엔코아",
      "userId": "03488190351334320755"
     },
     "user_tz": -540
    },
    "id": "SP0EqN2btZOp",
    "outputId": "282f73ef-691f-4d59-ad5c-4b9c041603e5"
   },
   "outputs": [],
   "source": [
    "saved_model.evaluate(test_dataset)"
   ]
  },
  {
   "cell_type": "code",
   "execution_count": null,
   "metadata": {
    "id": "mTTrqNGDtZMF"
   },
   "outputs": [],
   "source": []
  },
  {
   "cell_type": "markdown",
   "metadata": {
    "id": "RJUQJSEp66NR"
   },
   "source": [
    "# 딥러닝 모델 저장\n",
    "\n",
    "- **무엇을 저장할 지**\n",
    "    1. Train이 끝난 모델의 파라미터만 저장\n",
    "    1. 모델 구조와 파라미터 모두 저장\n",
    "\n",
    "- **저장시점**\n",
    "    1. Train 완료된 모델을 저장\n",
    "    1. Callback을 이용해 Train 도중 가장 성능이 좋은 시점의 모델을 저장"
   ]
  },
  {
   "cell_type": "markdown",
   "metadata": {
    "id": "2ARCyjDW66NR"
   },
   "source": [
    "## 텐서플로 저장 파일 타입\n",
    "- checkpoint \n",
    "    - 모델의 weight를 저장하기 위한 타입\n",
    "- SavedModel \n",
    "    - 모델의 구조와 파라미터들을 모두 저장하는 타입"
   ]
  },
  {
   "cell_type": "markdown",
   "metadata": {
    "id": "6bAN1wPG66NS"
   },
   "source": [
    "## 학습한 Weight (파라미터) 저장 및 불러오기\n",
    "- 가중치를 저장하여 나중에 재학습 없이 학습된 가중치를 사용할 수 있다.\n",
    "- 저장\n",
    "    - `model.save_weights(\"저장경로\")`\n",
    "- 불러오기\n",
    "    - `model.load_weights('불러올경로')`\n",
    "- 저장형식\n",
    "    - Tensorflow Checkpoint (기본방식)\n",
    "    - HDF5\n",
    "        - `save_weights(.., save_format='h5')`\n",
    "        - 또는 파일 확장자를 h5로 지정한다."
   ]
  },
  {
   "cell_type": "code",
   "execution_count": null,
   "metadata": {
    "colab": {
     "base_uri": "https://localhost:8080/"
    },
    "executionInfo": {
     "elapsed": 956,
     "status": "ok",
     "timestamp": 1677130395170,
     "user": {
      "displayName": "encore엔코아",
      "userId": "03488190351334320755"
     },
     "user_tz": -540
    },
    "id": "WAJn5zIWwEeS",
    "outputId": "b829e81c-3b00-440d-fa2c-e2fcae3a3fcb"
   },
   "outputs": [],
   "source": [
    "# 저장할 디렉토리 생성\n",
    "import os\n",
    "SAVE_ROOT_PATH = \"/content/drive/MyDrive/Colab Notebooks\"\n",
    "SAVE_MODEL_PATH = os.path.join(SAVE_ROOT_PATH, 'saved_models')\n",
    "os.makedirs(SAVE_MODEL_PATH, exist_ok=True)\n",
    "print(os.path.isdir(SAVE_MODEL_PATH))"
   ]
  },
  {
   "cell_type": "code",
   "execution_count": null,
   "metadata": {
    "executionInfo": {
     "elapsed": 308,
     "status": "ok",
     "timestamp": 1677130691104,
     "user": {
      "displayName": "encore엔코아",
      "userId": "03488190351334320755"
     },
     "user_tz": -540
    },
    "id": "lL0l0g1OwEbb"
   },
   "outputs": [],
   "source": [
    "# MODEL의 파라미터들만 저장. => model.save_weight(저장파일경로)\n",
    "MNIST_WEIGHTS_DIR_PATH = os.path.join(SAVE_MODEL_PATH, 'mnist_cnn_weights')\n",
    "os.makedirs(MNIST_WEIGHTS_DIR_PATH, exist_ok=True)\n",
    "MNIST_WEIGHTS_FILE_PATH = os.path.join(MNIST_WEIGHTS_DIR_PATH, 'ckpt')"
   ]
  },
  {
   "cell_type": "code",
   "execution_count": null,
   "metadata": {
    "executionInfo": {
     "elapsed": 663,
     "status": "ok",
     "timestamp": 1677130732114,
     "user": {
      "displayName": "encore엔코아",
      "userId": "03488190351334320755"
     },
     "user_tz": -540
    },
    "id": "vLVg0PUnwEY7"
   },
   "outputs": [],
   "source": [
    "saved_model.save_weights(MNIST_WEIGHTS_FILE_PATH)"
   ]
  },
  {
   "cell_type": "code",
   "execution_count": null,
   "metadata": {
    "colab": {
     "base_uri": "https://localhost:8080/"
    },
    "executionInfo": {
     "elapsed": 1119,
     "status": "ok",
     "timestamp": 1677130924656,
     "user": {
      "displayName": "encore엔코아",
      "userId": "03488190351334320755"
     },
     "user_tz": -540
    },
    "id": "OUFveR452oYL",
    "outputId": "cc2bf11b-dc2f-46e2-9a32-85894823746c"
   },
   "outputs": [],
   "source": [
    "# 저장된 WEIGHT를 LOADING해서 모델을 RESTORE\n",
    "# 1. 모델을 생성\n",
    "saved_model2 = get_mnist_cnn_model(LEARNING_RATE)\n",
    "saved_model2.evaluate(test_dataset)"
   ]
  },
  {
   "cell_type": "code",
   "execution_count": null,
   "metadata": {
    "colab": {
     "base_uri": "https://localhost:8080/"
    },
    "executionInfo": {
     "elapsed": 305,
     "status": "ok",
     "timestamp": 1677131019462,
     "user": {
      "displayName": "encore엔코아",
      "userId": "03488190351334320755"
     },
     "user_tz": -540
    },
    "id": "n8OM18UAyf3d",
    "outputId": "76c0e6e4-47bc-487e-f62d-bada25150a39"
   },
   "outputs": [],
   "source": [
    "#2. 생성한 모델에 읽어온(loading) weight를 덮어씌운다.\n",
    "saved_model2.load_weights(MNIST_WEIGHTS_FILE_PATH)\n",
    "saved_model2.evaluate(test_dataset)"
   ]
  },
  {
   "cell_type": "markdown",
   "metadata": {
    "id": "shNUg6al66NV"
   },
   "source": [
    "## 전체 모델 저장하고 불러오기\n",
    "- https://www.tensorflow.org/guide/keras/save_and_serialize?hl=ko\n",
    "- 저장\n",
    "    - `model.save('저장할디렉토리')`\n",
    "        - 저장할 파일경로가 아니라 **디렉토리 경로를** 지정한다.\n",
    "- 불러오기\n",
    "    - `tf.keras.models.load_model('저장된디렉토리')`\n",
    "- 저장 형식\n",
    "    - Tensorflow **SavedModel** 형식(기본방식)\n",
    "        - 모델 아키텍처 및 훈련 구성(옵티마이저, 손실 및 메트릭 포함)은 saved_model.pb 에 저장된다.\n",
    "        - 파라미터는 variables/ 디렉토리에 저장된다.\n",
    "        - https://www.tensorflow.org/guide/saved_model?hl=ko#the_savedmodel_format_on_disk\n",
    "    - HDF5 형식\n",
    "        - `save(..., save_format='h5')` \n",
    "        - 또는 파일의 확장자를 h5로 지정한다."
   ]
  },
  {
   "cell_type": "code",
   "execution_count": null,
   "metadata": {
    "executionInfo": {
     "elapsed": 2,
     "status": "ok",
     "timestamp": 1677132397272,
     "user": {
      "displayName": "encore엔코아",
      "userId": "03488190351334320755"
     },
     "user_tz": -540
    },
    "id": "AGLHkxkR2oYM"
   },
   "outputs": [],
   "source": [
    "MNIST_MODEL_PATH = os.path.join(SAVE_MODEL_PATH, 'mnist_model') "
   ]
  },
  {
   "cell_type": "code",
   "execution_count": null,
   "metadata": {
    "colab": {
     "base_uri": "https://localhost:8080/"
    },
    "executionInfo": {
     "elapsed": 1486,
     "status": "ok",
     "timestamp": 1677132418610,
     "user": {
      "displayName": "encore엔코아",
      "userId": "03488190351334320755"
     },
     "user_tz": -540
    },
    "id": "JY2GZnWN4Yhg",
    "outputId": "4262bc97-b1a7-4590-850b-11f8d2061bef"
   },
   "outputs": [],
   "source": [
    "saved_model.save(MNIST_MODEL_PATH)"
   ]
  },
  {
   "cell_type": "code",
   "execution_count": null,
   "metadata": {
    "colab": {
     "base_uri": "https://localhost:8080/"
    },
    "executionInfo": {
     "elapsed": 1949,
     "status": "ok",
     "timestamp": 1677132590937,
     "user": {
      "displayName": "encore엔코아",
      "userId": "03488190351334320755"
     },
     "user_tz": -540
    },
    "id": "20Padgkk4Ye2",
    "outputId": "1370d03d-74de-404e-a1e8-785ed32cfbdb"
   },
   "outputs": [],
   "source": [
    "saved_model3 = tf.keras.models.load_model(MNIST_MODEL_PATH)\n",
    "saved_model3.evaluate(test_dataset)"
   ]
  },
  {
   "cell_type": "code",
   "execution_count": null,
   "metadata": {
    "id": "I6XW9TWX4Ybx"
   },
   "outputs": [],
   "source": []
  },
  {
   "cell_type": "markdown",
   "metadata": {
    "id": "7xgQxAU666NZ"
   },
   "source": [
    "## Callback을 사용한 모델 저장 및 Early Stopping\n",
    "- callback은 학습하는 도중 특정 이벤트 발생시 호출되는 다양한 함수를 제공하여 자동화 처리를 지원한다. (cf: 프로그래밍의 콜백함수)\n",
    "- Keras는 학습하는 도중 호출되는 다양한 콜백 클래스들을 제공한다.\n",
    "    - https://www.tensorflow.org/api_docs/python/tf/keras/callbacks\n",
    "- ### ModelCheckpoint\n",
    "    - 각 epoch 마다 학습한 모델과 weight(또는 weight만)를 저장한다. \n",
    "    - 지정한 평가지표(예:validation loss)가 가장 좋을 때 모델과 weight만 저장할 수 있다.\n",
    "    - 주요 파라미터\n",
    "        - `save_weights_only=True`: True: 파라미터(weight)만 저장한다. False: 모델구조와 파라미터 모두 저장한다.\n",
    "        - `save_best_only=True`: 학습중 성능이 개선될 때만 저장한다. (False:기본값 - 모든 에폭마다 저장한다.)\n",
    "- ### EarlyStopping\n",
    "    - Validation set에 대한 평가지표가  더 이상 개선되지 않을 때 학습을 자동으로 멈추는 callback\n",
    "    - 주요 파라미터\n",
    "        - `monitor`: 모니터링할 평가지표 지정. (ex: accuracy)\n",
    "        - `patience`: epoch 수 지정. validation 평가 지표가 개선이 안되더라도 지정한 epoch만큼 반복한다. 지정한 epoch만큼 반복 후에도 개선이 되지 않으면 중단한다. \n",
    "\n",
    "- **callback 객체들을 리스트로 묶은 뒤 fit()의 callbacks 매개변수에 전달한다.**"
   ]
  },
  {
   "cell_type": "code",
   "execution_count": null,
   "metadata": {
    "executionInfo": {
     "elapsed": 333,
     "status": "ok",
     "timestamp": 1677133924031,
     "user": {
      "displayName": "encore엔코아",
      "userId": "03488190351334320755"
     },
     "user_tz": -540
    },
    "id": "CQJLX0Hn2oYM"
   },
   "outputs": [],
   "source": [
    "#  모델생성\n",
    "model2 = get_mnist_cnn_model(LEARNING_RATE)"
   ]
  },
  {
   "cell_type": "code",
   "execution_count": null,
   "metadata": {
    "colab": {
     "base_uri": "https://localhost:8080/"
    },
    "executionInfo": {
     "elapsed": 77197,
     "status": "ok",
     "timestamp": 1677134003694,
     "user": {
      "displayName": "encore엔코아",
      "userId": "03488190351334320755"
     },
     "user_tz": -540
    },
    "id": "RZCr_SL-63EB",
    "outputId": "098d686b-31f3-465d-dbca-b12e8b162e25"
   },
   "outputs": [],
   "source": [
    "# CALLBACK \n",
    "SAVE_PATH = os.path.join(SAVE_MODEL_PATH, 'MNIST_MODEL_CALLBACK_{epoch:04d}')\n",
    "mc_callback = keras.callbacks.ModelCheckpoint(filepath=SAVE_PATH,\n",
    "                                              save_best_only=True,\n",
    "                                              monitor='val_loss',\n",
    "                                              verbose=1\n",
    "                                              )\n",
    "\n",
    "early_stop_callback = keras.callbacks.EarlyStopping(monitor='val_loss',\n",
    "                                                    patience=5,\n",
    "                                                    verbose=1\n",
    "                                                    )\n",
    "\n",
    "hist = model2.fit(train_dataset, epochs=100, validation_data=test_dataset, \n",
    "                  callbacks=[mc_callback, early_stop_callback])"
   ]
  },
  {
   "cell_type": "code",
   "execution_count": null,
   "metadata": {
    "colab": {
     "base_uri": "https://localhost:8080/"
    },
    "executionInfo": {
     "elapsed": 1296,
     "status": "ok",
     "timestamp": 1677134184774,
     "user": {
      "displayName": "encore엔코아",
      "userId": "03488190351334320755"
     },
     "user_tz": -540
    },
    "id": "Z8BpUWEd63Bb",
    "outputId": "0a35f1da-05ca-474a-bfcd-0d27477b2a2f"
   },
   "outputs": [],
   "source": [
    "# 저장된 모델을 loading\n",
    "saved_model4 = models.load_model(\"/content/drive/MyDrive/Colab Notebooks/saved_models/MNIST_MODEL_CALLBACK_0035\")\n",
    "saved_model4.evaluate(test_dataset)\n"
   ]
  },
  {
   "cell_type": "code",
   "execution_count": null,
   "metadata": {
    "colab": {
     "base_uri": "https://localhost:8080/"
    },
    "executionInfo": {
     "elapsed": 38559,
     "status": "ok",
     "timestamp": 1677134503518,
     "user": {
      "displayName": "encore엔코아",
      "userId": "03488190351334320755"
     },
     "user_tz": -540
    },
    "id": "xNWLymyH62_H",
    "outputId": "68d0269b-de40-4756-ccb9-d4c27314f5b9"
   },
   "outputs": [],
   "source": [
    "# weight 만 저장하도록 callback 설정\n",
    "model4 = get_mnist_cnn_model(LEARNING_RATE)\n",
    "\n",
    "SAVE_PATH = os.path.join(SAVE_MODEL_PATH, 'MNIST_WEIGHTS_CALLBACK/ckpt')\n",
    "mc_callback = keras.callbacks.ModelCheckpoint(filepath=SAVE_PATH,\n",
    "                                              save_best_only=True,\n",
    "                                              monitor='val_loss',\n",
    "                                              verbose=1,\n",
    "                                              save_weights_only=True,\n",
    "                                              )\n",
    "\n",
    "early_stop_callback = keras.callbacks.EarlyStopping(monitor='val_loss',\n",
    "                                                    patience=5,\n",
    "                                                    verbose=1\n",
    "                                                    )\n",
    "\n",
    "hist = model4.fit(train_dataset, epochs=100, validation_data=test_dataset, \n",
    "                  callbacks=[mc_callback, early_stop_callback])"
   ]
  },
  {
   "cell_type": "code",
   "execution_count": null,
   "metadata": {
    "colab": {
     "base_uri": "https://localhost:8080/"
    },
    "executionInfo": {
     "elapsed": 314,
     "status": "ok",
     "timestamp": 1677134616159,
     "user": {
      "displayName": "encore엔코아",
      "userId": "03488190351334320755"
     },
     "user_tz": -540
    },
    "id": "g2dAyNdj628L",
    "outputId": "06cf36ea-cc23-4ce1-aacc-2168c076aa7b"
   },
   "outputs": [],
   "source": [
    "saved_model5 = get_mnist_cnn_model(LEARNING_RATE)\n",
    "saved_model5.load_weights(SAVE_PATH)"
   ]
  },
  {
   "cell_type": "code",
   "execution_count": null,
   "metadata": {
    "colab": {
     "base_uri": "https://localhost:8080/"
    },
    "executionInfo": {
     "elapsed": 661,
     "status": "ok",
     "timestamp": 1677134631159,
     "user": {
      "displayName": "encore엔코아",
      "userId": "03488190351334320755"
     },
     "user_tz": -540
    },
    "id": "F8xUPDUuA1vb",
    "outputId": "7f839e18-4f33-4450-8602-0b861dc54cc4"
   },
   "outputs": [],
   "source": [
    "saved_model5.evaluate(test_dataset)"
   ]
  },
  {
   "cell_type": "code",
   "execution_count": null,
   "metadata": {
    "id": "8w4t4lna2oYM"
   },
   "outputs": [],
   "source": []
  }
 ],
 "metadata": {
  "accelerator": "GPU",
  "colab": {
   "collapsed_sections": [
    "2ARCyjDW66NR"
   ],
   "provenance": []
  },
  "gpuClass": "standard",
  "kernelspec": {
   "display_name": "Python 3 (ipykernel)",
   "language": "python",
   "name": "python3"
  },
  "language_info": {
   "codemirror_mode": {
    "name": "ipython",
    "version": 3
   },
   "file_extension": ".py",
   "mimetype": "text/x-python",
   "name": "python",
   "nbconvert_exporter": "python",
   "pygments_lexer": "ipython3",
   "version": "3.10.12"
  },
  "toc": {
   "base_numbering": 1,
   "nav_menu": {},
   "number_sections": true,
   "sideBar": true,
   "skip_h1_title": false,
   "title_cell": "Table of Contents",
   "title_sidebar": "Contents",
   "toc_cell": false,
   "toc_position": {},
   "toc_section_display": true,
   "toc_window_display": false
  },
  "varInspector": {
   "cols": {
    "lenName": 16,
    "lenType": 16,
    "lenVar": 40
   },
   "kernels_config": {
    "python": {
     "delete_cmd_postfix": "",
     "delete_cmd_prefix": "del ",
     "library": "var_list.py",
     "varRefreshCmd": "print(var_dic_list())"
    },
    "r": {
     "delete_cmd_postfix": ") ",
     "delete_cmd_prefix": "rm(",
     "library": "var_list.r",
     "varRefreshCmd": "cat(var_dic_list()) "
    }
   },
   "types_to_exclude": [
    "module",
    "function",
    "builtin_function_or_method",
    "instance",
    "_Feature"
   ],
   "window_display": false
  }
 },
 "nbformat": 4,
 "nbformat_minor": 1
}
